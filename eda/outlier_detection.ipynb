{
 "cells": [
  {
   "cell_type": "code",
   "execution_count": 1,
   "id": "f68fa666",
   "metadata": {},
   "outputs": [],
   "source": [
    "import pandas as pd\n",
    "from pandas import DataFrame\n",
    "import numpy as np\n",
    "import matplotlib.pyplot as plt"
   ]
  },
  {
   "cell_type": "code",
   "execution_count": 2,
   "id": "a4049a22",
   "metadata": {},
   "outputs": [],
   "source": [
    "# Import train data\n",
    "ne_train = pd.read_csv(\"/Users/Huey.ts/Desktop/STAT_390/data/ne_train.csv\")\n",
    "s_train = pd.read_csv(\"/Users/Huey.ts/Desktop/STAT_390/data/s_train.csv\")\n",
    "\n",
    "# Import test data\n",
    "ne_test = pd.read_csv(\"/Users/Huey.ts/Desktop/STAT_390/data/ne_test.csv\")\n",
    "s_test = pd.read_csv(\"/Users/Huey.ts/Desktop/STAT_390/data/s_test.csv\")"
   ]
  },
  {
   "cell_type": "markdown",
   "id": "cc4b45d8",
   "metadata": {},
   "source": [
    "# Normality Test\n",
    "- If data is normally distributed --> detect outliers for normal distributions\n",
    "- If not --> detect outliers for skewed distributions\n",
    "- Both NE and S are not normally distributed"
   ]
  },
  {
   "cell_type": "code",
   "execution_count": 3,
   "id": "6d9b629d",
   "metadata": {},
   "outputs": [
    {
     "data": {
      "text/plain": [
       "(array([44., 40., 17.,  9.,  8., 10.,  8.,  5.,  8.,  2.]),\n",
       " array([3.0000e+00, 2.1760e+03, 4.3490e+03, 6.5220e+03, 8.6950e+03,\n",
       "        1.0868e+04, 1.3041e+04, 1.5214e+04, 1.7387e+04, 1.9560e+04,\n",
       "        2.1733e+04]),\n",
       " <BarContainer object of 10 artists>)"
      ]
     },
     "execution_count": 3,
     "metadata": {},
     "output_type": "execute_result"
    },
    {
     "data": {
      "image/png": "[encoded data removed]",
      "text/plain": [
       "<Figure size 640x480 with 1 Axes>"
      ]
     },
     "metadata": {},
     "output_type": "display_data"
    }
   ],
   "source": [
    "plt.hist(ne_train.covid_19_confirmed_cases)"
   ]
  },
  {
   "cell_type": "code",
   "execution_count": 4,
   "id": "3c7abf96",
   "metadata": {},
   "outputs": [
    {
     "data": {
      "text/plain": [
       "(array([29., 55., 23.,  7.,  3.,  5.,  4.,  8., 11.,  6.]),\n",
       " array([1.00000e+00, 3.22590e+03, 6.45080e+03, 9.67570e+03, 1.29006e+04,\n",
       "        1.61255e+04, 1.93504e+04, 2.25753e+04, 2.58002e+04, 2.90251e+04,\n",
       "        3.22500e+04]),\n",
       " <BarContainer object of 10 artists>)"
      ]
     },
     "execution_count": 4,
     "metadata": {},
     "output_type": "execute_result"
    },
    {
     "data": {
      "image/png": "[encoded data removed]",
      "text/plain": [
       "<Figure size 640x480 with 1 Axes>"
      ]
     },
     "metadata": {},
     "output_type": "display_data"
    }
   ],
   "source": [
    "plt.hist(s_train.covid_19_confirmed_cases)"
   ]
  },
  {
   "cell_type": "markdown",
   "id": "d7dbcb90",
   "metadata": {},
   "source": [
    "# Outlier Detection\n",
    "- Use Inter-Quartile Range (IQR) proximity rule\n",
    "    - The data points that fall below Q1 – 1.5 IQR or above the third quartile Q3 + 1.5 IQR are outliers\n",
    "    - IQR = Q3 – Q1\n",
    "- NE: 1.3% of data is outliers --> not significant\n",
    "- S: 15.2% of data is outliers --> could be significant\n",
    "    - Must keep in mind that there are only 151 instances in the train sets"
   ]
  },
  {
   "cell_type": "code",
   "execution_count": 17,
   "id": "20706df6",
   "metadata": {},
   "outputs": [],
   "source": [
    "def detect_outliers(data, col):\n",
    "    Q3 = np.quantile(data[col], 0.75)\n",
    "    Q1 = np.quantile(data[col], 0.25)\n",
    "    IQR = Q3 - Q1\n",
    "    \n",
    "    lower_range = Q1 - 1.5 * IQR\n",
    "    upper_range = Q3 + 1.5 * IQR\n",
    "    \n",
    "    outliers = [x for x in data[col] if (\n",
    "        (x < lower_range) or (x > upper_range))]\n",
    "    \n",
    "    return len(outliers)/data.shape[0]*100"
   ]
  },
  {
   "cell_type": "code",
   "execution_count": 18,
   "id": "ef278f70",
   "metadata": {},
   "outputs": [
    {
     "data": {
      "text/plain": [
       "1.3245033112582782"
      ]
     },
     "execution_count": 18,
     "metadata": {},
     "output_type": "execute_result"
    }
   ],
   "source": [
    "detect_outliers(ne_train, \"covid_19_confirmed_cases\")"
   ]
  },
  {
   "cell_type": "code",
   "execution_count": 19,
   "id": "8c91fb28",
   "metadata": {},
   "outputs": [
    {
     "data": {
      "text/plain": [
       "15.2317880794702"
      ]
     },
     "execution_count": 19,
     "metadata": {},
     "output_type": "execute_result"
    }
   ],
   "source": [
    "detect_outliers(s_train, \"covid_19_confirmed_cases\")"
   ]
  },
  {
   "cell_type": "code",
   "execution_count": null,
   "id": "366c7244",
   "metadata": {},
   "outputs": [],
   "source": []
  }
 ],
 "metadata": {
  "kernelspec": {
   "display_name": "tf",
   "language": "python",
   "name": "tensorflow"
  },
  "language_info": {
   "codemirror_mode": {
    "name": "ipython",
    "version": 3
   },
   "file_extension": ".py",
   "mimetype": "text/x-python",
   "name": "python",
   "nbconvert_exporter": "python",
   "pygments_lexer": "ipython3",
   "version": "3.10.12"
  }
 },
 "nbformat": 4,
 "nbformat_minor": 5
}
