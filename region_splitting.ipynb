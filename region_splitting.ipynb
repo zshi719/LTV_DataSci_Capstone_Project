{
 "cells": [
  {
   "cell_type": "code",
   "execution_count": null,
   "id": "initial_id",
   "metadata": {
    "collapsed": true
   },
   "outputs": [],
   "source": [
    "import pandas as pd\n",
    "import seaborn as sns\n",
    "import warnings\n",
    "sns.set(style=\"whitegrid\", palette=\"muted\", font_scale=1)\n",
    "import matplotlib.pyplot as plt\n",
    "from statsmodels.tsa.stattools import adfuller\n",
    "from statsmodels.graphics.tsaplots import plot_acf, plot_pacf\n",
    "from statsmodels.tsa.arima.model import ARIMA\n",
    "from pmdarima.arima import auto_arima\n",
    "warnings.filterwarnings('ignore')"
   ]
  },
  {
   "cell_type": "code",
   "execution_count": null,
   "outputs": [],
   "source": [
    "df_train = pd.read_csv('~/Downloads/imputed_data/train.csv', index_col='date', infer_datetime_format=True)\n",
    "df = df_train\n",
    "df.index = pd.to_datetime(df.index)\n",
    "df['day'] = df.index.day\n",
    "df['month'] = df.index.month"
   ],
   "metadata": {
    "collapsed": false
   },
   "id": "edc2649db738af15"
  },
  {
   "cell_type": "code",
   "execution_count": null,
   "outputs": [],
   "source": [
    "df_test = pd.read_csv('~/Downloads/imputed_data/train.csv', index_col='date', infer_datetime_format=True)\n",
    "df = df_test\n",
    "df.index = pd.to_datetime(df.index)\n",
    "df['day'] = df.index.day\n",
    "df['month'] = df.index.month"
   ],
   "metadata": {
    "collapsed": false
   },
   "id": "26f242283fcfafe4"
  },
  {
   "cell_type": "code",
   "execution_count": null,
   "outputs": [],
   "source": [
    "regions = {\n",
    "    'West': ['Washington', 'Oregon', 'Idaho', 'Montana', 'Wyoming', 'Arizona', 'New Mexico', 'Oklahoma', 'Texas'],\n",
    "    'Southwest': ['California', 'Nevada', 'Utah', 'Colorado'],\n",
    "    'Midwest': ['Illinois', 'Indiana', 'Iowa', 'Kansas', 'Michigan', 'Minnesota',\n",
    "                'Missouri', 'Nebraska', 'North Dakota', 'Ohio', 'South Dakota', 'Wisconsin'],\n",
    "    'South': ['Alabama', 'Arkansas', 'Delaware', 'Florida', 'Georgia', 'Kentucky',\n",
    "              'Louisiana', 'Maryland', 'Mississippi', 'North Carolina', 'South Carolina',\n",
    "              'Tennessee', 'Virginia', 'West Virginia'],\n",
    "    'NewEngland': ['Connecticut', 'Maine', 'Massachusetts', 'New Hampshire', 'Rhode Island', 'Vermont', 'New York', 'New Jersey', 'Pennsylvania'],\n",
    "    'Utopia': ['Alaska', 'Hawaii']\n",
    "}"
   ],
   "metadata": {
    "collapsed": false
   },
   "id": "b0b2434a0d4f00e9"
  },
  {
   "cell_type": "code",
   "execution_count": null,
   "outputs": [],
   "source": [
    "# Create separate dataframes for each region and set 'date' as the index\n",
    "West = df[df['state_name'].isin(regions['West'])]\n",
    "Southwest = df[df['state_name'].isin(regions['Southwest'])]\n",
    "Midwest = df[df['state_name'].isin(regions['Midwest'])]\n",
    "NewEngland = df[df['state_name'].isin(regions['NewEngland'])]\n",
    "South = df[df['state_name'].isin(regions['South'])]\n",
    "Utopia = df[df['state_name'].isin(regions['Utopia'])]"
   ],
   "metadata": {
    "collapsed": false
   },
   "id": "ba4dce478cf1eaad"
  },
  {
   "cell_type": "code",
   "execution_count": null,
   "outputs": [],
   "source": [
    "# print the number of observations for each region\n",
    "print('West: ', West.shape[0])\n",
    "print('Southwest: ', Southwest.shape[0])\n",
    "print('Midwest: ', Midwest.shape[0])\n",
    "print('NewEngland: ', NewEngland.shape[0])\n",
    "print('South: ', South.shape[0])"
   ],
   "metadata": {
    "collapsed": false
   },
   "id": "b1fe5378ebb720eb"
  },
  {
   "cell_type": "code",
   "execution_count": null,
   "outputs": [],
   "source": [
    "# store to csv\n",
    "# West.to_csv('~/Downloads/imputed_data/West.csv')\n",
    "# Southwest.to_csv('~/Downloads/imputed_data/Southwest.csv')\n",
    "# Midwest.to_csv('~/Downloads/imputed_data/Midwest.csv')\n",
    "# NewEngland.to_csv('~/Downloads/imputed_data/NewEngland.csv')\n",
    "# South.to_csv('~/Downloads/imputed_data/South.csv')\n",
    "# Utopia.to_csv('~/Downloads/imputed_data/Utopia.csv')"
   ],
   "metadata": {
    "collapsed": false
   },
   "id": "30f30f8d7e261ac9"
  },
  {
   "cell_type": "code",
   "execution_count": null,
   "outputs": [],
   "source": [
    "def aggregate_monthly(df):\n",
    "    monthly_df = df.groupby([df.year, df.month]).agg({'covid_19_confirmed_cases':'sum'}).reset_index()\n",
    "    monthly_df.columns = ['Year', 'Month', 'Monthly_Confirmed_Cases']\n",
    "    monthly_df['Date'] = pd.to_datetime(monthly_df[['Year', 'Month']].assign(DAY=1))\n",
    "    monthly_df = monthly_df.set_index('Date')\n",
    "    return monthly_df\n",
    "\n",
    "def aggregate_weekly(df):\n",
    "    weekly_df = df.groupby([df.year, df.month, df.week]).agg({'covid_19_confirmed_cases':'sum'}).reset_index()\n",
    "    weekly_df.columns = ['Year', 'Month', 'Week', 'Weekly_Confirmed_Cases', '']\n",
    "    weekly_df['Date'] = pd.to_datetime(weekly_df[['Year', 'Month', 'Week']].assign(DAY=1))\n",
    "    weekly_df = weekly_df.set_index('Date')\n",
    "    return weekly_df    "
   ],
   "metadata": {
    "collapsed": false
   },
   "id": "859d080cc1b57dcf"
  }
 ],
 "metadata": {
  "kernelspec": {
   "display_name": "Python 3",
   "language": "python",
   "name": "python3"
  },
  "language_info": {
   "codemirror_mode": {
    "name": "ipython",
    "version": 2
   },
   "file_extension": ".py",
   "mimetype": "text/x-python",
   "name": "python",
   "nbconvert_exporter": "python",
   "pygments_lexer": "ipython2",
   "version": "2.7.6"
  }
 },
 "nbformat": 4,
 "nbformat_minor": 5
}
