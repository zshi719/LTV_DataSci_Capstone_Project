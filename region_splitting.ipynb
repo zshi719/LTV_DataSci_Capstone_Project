{
 "cells": [
  {
   "cell_type": "code",
   "execution_count": 47,
   "id": "initial_id",
   "metadata": {
    "collapsed": true,
    "ExecuteTime": {
     "end_time": "2023-10-23T23:31:26.595054Z",
     "start_time": "2023-10-23T23:31:26.592857Z"
    }
   },
   "outputs": [],
   "source": [
    "import pandas as pd\n",
    "import seaborn as sns\n",
    "import warnings\n",
    "sns.set(style=\"whitegrid\", palette=\"muted\", font_scale=1)\n",
    "import matplotlib.pyplot as plt\n",
    "from statsmodels.tsa.stattools import adfuller\n",
    "from statsmodels.graphics.tsaplots import plot_acf, plot_pacf\n",
    "from statsmodels.tsa.arima.model import ARIMA\n",
    "from pmdarima.arima import auto_arima\n",
    "warnings.filterwarnings('ignore')"
   ]
  },
  {
   "cell_type": "code",
   "execution_count": 70,
   "outputs": [],
   "source": [
    "df = pd.read_csv('~/Downloads/imputed_data/train.csv', index_col='date', infer_datetime_format=True)\n",
    "df.index = pd.to_datetime(df.index)\n",
    "df['day'] = df.index.day\n",
    "df['month'] = df.index.month"
   ],
   "metadata": {
    "collapsed": false,
    "ExecuteTime": {
     "end_time": "2023-10-23T23:34:58.918837Z",
     "start_time": "2023-10-23T23:34:57.862601Z"
    }
   },
   "id": "edc2649db738af15"
  },
  {
   "cell_type": "code",
   "execution_count": 75,
   "outputs": [],
   "source": [
    "regions = {\n",
    "    'West': ['Washington', 'Oregon', 'Idaho', 'Montana', 'Wyoming', 'Arizona', 'New Mexico', 'Oklahoma', 'Texas'],\n",
    "    'Southwest': ['California', 'Nevada', 'Utah', 'Colorado'],\n",
    "    'Midwest': ['Illinois', 'Indiana', 'Iowa', 'Kansas', 'Michigan', 'Minnesota',\n",
    "                'Missouri', 'Nebraska', 'North Dakota', 'Ohio', 'South Dakota', 'Wisconsin'],\n",
    "    'South': ['Alabama', 'Arkansas', 'Delaware', 'Florida', 'Georgia', 'Kentucky',\n",
    "              'Louisiana', 'Maryland', 'Mississippi', 'North Carolina', 'South Carolina',\n",
    "              'Tennessee', 'Virginia', 'West Virginia'],\n",
    "    'NewEngland': ['Connecticut', 'Maine', 'Massachusetts', 'New Hampshire', 'Rhode Island', 'Vermont', 'New York', 'New Jersey', 'Pennsylvania'],\n",
    "    'Utopia': ['Alaska', 'Hawaii']\n",
    "}"
   ],
   "metadata": {
    "collapsed": false,
    "ExecuteTime": {
     "end_time": "2023-10-23T23:36:05.538955Z",
     "start_time": "2023-10-23T23:36:05.533813Z"
    }
   },
   "id": "b0b2434a0d4f00e9"
  },
  {
   "cell_type": "code",
   "execution_count": 73,
   "outputs": [],
   "source": [
    "# Create separate dataframes for each region and set 'date' as the index\n",
    "West = df[df['state_name'].isin(regions['West'])]\n",
    "Southwest = df[df['state_name'].isin(regions['Southwest'])]\n",
    "Midwest = df[df['state_name'].isin(regions['Midwest'])]\n",
    "NewEngland = df[df['state_name'].isin(regions['NewEngland'])]\n",
    "South = df[df['state_name'].isin(regions['South'])]\n",
    "Utopia = df[df['state_name'].isin(regions['Utopia'])]"
   ],
   "metadata": {
    "collapsed": false,
    "ExecuteTime": {
     "end_time": "2023-10-23T23:35:19.015131Z",
     "start_time": "2023-10-23T23:35:18.916032Z"
    }
   },
   "id": "ba4dce478cf1eaad"
  },
  {
   "cell_type": "code",
   "execution_count": 62,
   "outputs": [
    {
     "name": "stdout",
     "output_type": "stream",
     "text": [
      "West:  72962\n",
      "Southwest:  23493\n",
      "Midwest:  152036\n",
      "NewEngland:  37627\n",
      "South:  158912\n"
     ]
    }
   ],
   "source": [
    "# print the number of observations for each region\n",
    "print('West: ', West.shape[0])\n",
    "print('Southwest: ', Southwest.shape[0])\n",
    "print('Midwest: ', Midwest.shape[0])\n",
    "print('NewEngland: ', NewEngland.shape[0])\n",
    "print('South: ', South.shape[0])"
   ],
   "metadata": {
    "collapsed": false,
    "ExecuteTime": {
     "end_time": "2023-10-23T23:33:21.838595Z",
     "start_time": "2023-10-23T23:33:21.834990Z"
    }
   },
   "id": "b1fe5378ebb720eb"
  },
  {
   "cell_type": "code",
   "execution_count": 76,
   "outputs": [],
   "source": [
    "# store to csv\n",
    "West.to_csv('~/Downloads/imputed_data/West.csv')\n",
    "Southwest.to_csv('~/Downloads/imputed_data/Southwest.csv')\n",
    "Midwest.to_csv('~/Downloads/imputed_data/Midwest.csv')\n",
    "NewEngland.to_csv('~/Downloads/imputed_data/NewEngland.csv')\n",
    "South.to_csv('~/Downloads/imputed_data/South.csv')\n",
    "Utopia.to_csv('~/Downloads/imputed_data/Utopia.csv')"
   ],
   "metadata": {
    "collapsed": false,
    "ExecuteTime": {
     "start_time": "2023-10-23T23:37:16.890666Z"
    }
   },
   "id": "30f30f8d7e261ac9"
  },
  {
   "cell_type": "code",
   "execution_count": null,
   "outputs": [],
   "source": [
    "# plot an "
   ],
   "metadata": {
    "collapsed": false
   },
   "id": "4540bd585a67ffb8"
  },
  {
   "cell_type": "code",
   "execution_count": null,
   "outputs": [],
   "source": [
    "def aggregate_monthly(df):\n",
    "    monthly_df = df.groupby([df.year, df.month]).agg({'covid_19_confirmed_cases':'sum'}).reset_index()\n",
    "    monthly_df.columns = ['Year', 'Month', 'Monthly_Confirmed_Cases']\n",
    "    monthly_df['Date'] = pd.to_datetime(monthly_df[['Year', 'Month']].assign(DAY=1))\n",
    "    monthly_df = monthly_df.set_index('Date')\n",
    "    return monthly_df\n",
    "\n",
    "def aggregate_weekly(df):\n",
    "    weekly_df = df.groupby([df.year, df.month, df.week]).agg({'covid_19_confirmed_cases':'sum'}).reset_index()\n",
    "    weekly_df.columns = ['Year', 'Month', 'Week', 'Weekly_Confirmed_Cases', '']\n",
    "    weekly_df['Date'] = pd.to_datetime(weekly_df[['Year', 'Month', 'Week']].assign(DAY=1))\n",
    "    weekly_df = weekly_df.set_index('Date')\n",
    "    return weekly_df    "
   ],
   "metadata": {
    "collapsed": false
   },
   "id": "859d080cc1b57dcf"
  },
  {
   "cell_type": "code",
   "execution_count": null,
   "outputs": [],
   "source": [],
   "metadata": {
    "collapsed": false
   },
   "id": "c196899446e2ce4a"
  }
 ],
 "metadata": {
  "kernelspec": {
   "display_name": "Python 3",
   "language": "python",
   "name": "python3"
  },
  "language_info": {
   "codemirror_mode": {
    "name": "ipython",
    "version": 2
   },
   "file_extension": ".py",
   "mimetype": "text/x-python",
   "name": "python",
   "nbconvert_exporter": "python",
   "pygments_lexer": "ipython2",
   "version": "2.7.6"
  }
 },
 "nbformat": 4,
 "nbformat_minor": 5
}
