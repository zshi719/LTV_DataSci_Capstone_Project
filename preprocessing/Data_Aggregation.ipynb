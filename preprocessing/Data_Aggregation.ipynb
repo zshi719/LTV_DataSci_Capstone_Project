{
 "cells": [
  {
   "cell_type": "code",
   "execution_count": 1,
   "id": "492bb75d",
   "metadata": {},
   "outputs": [],
   "source": [
    "import pandas as pd\n",
    "import numpy as np\n",
    "import holidays\n",
    "import zipfile\n",
    "from sklearn.pipeline import Pipeline\n",
    "from sklearn.preprocessing import StandardScaler, OneHotEncoder\n",
    "from sklearn.compose import ColumnTransformer"
   ]
  },
  {
   "cell_type": "code",
   "execution_count": 3,
   "id": "b81493de",
   "metadata": {},
   "outputs": [],
   "source": [
    "raw_data = pd.read_csv(\"../data/us-covid-raw-data.csv\")"
   ]
  },
  {
   "cell_type": "markdown",
   "id": "293dbafd",
   "metadata": {},
   "source": [
    "# Split data by regions"
   ]
  },
  {
   "cell_type": "code",
   "execution_count": 4,
   "id": "e4be6dfe",
   "metadata": {},
   "outputs": [],
   "source": [
    "regions = {\n",
    "    'South': ['Alabama', 'Arkansas', 'Delaware', 'Florida', 'Georgia', 'Kentucky',\n",
    "              'Louisiana', 'Maryland', 'Mississippi', 'North Carolina', 'South Carolina',\n",
    "              'Tennessee', 'Virginia', 'West Virginia'],\n",
    "    'NewEngland': ['Connecticut', 'Maine', 'Massachusetts', 'New Hampshire', 'Rhode Island', 'Vermont', 'New York',\n",
    "                   'New Jersey', 'Pennsylvania']}"
   ]
  },
  {
   "cell_type": "code",
   "execution_count": 5,
   "id": "cff3d142",
   "metadata": {},
   "outputs": [],
   "source": [
    "NewEngland = raw_data[raw_data['state_name'].isin(regions['NewEngland'])]\n",
    "South = raw_data[raw_data['state_name'].isin(regions['South'])]"
   ]
  },
  {
   "cell_type": "markdown",
   "id": "4b63c242",
   "metadata": {},
   "source": [
    "# Aggregate data by county\n",
    "- confirmed_cases --> sum\n",
    "- numerical columns --> mean\n",
    "- categorical columns --> mode"
   ]
  },
  {
   "cell_type": "code",
   "execution_count": 917,
   "id": "a32ba8eb",
   "metadata": {},
   "outputs": [
    {
     "name": "stderr",
     "output_type": "stream",
     "text": [
      "/var/folders/47/fwys2xf93ng018yvjrnr0hmm0000gn/T/ipykernel_17474/3792810479.py:1: SettingWithCopyWarning: \n",
      "A value is trying to be set on a copy of a slice from a DataFrame\n",
      "\n",
      "See the caveats in the documentation: https://pandas.pydata.org/pandas-docs/stable/user_guide/indexing.html#returning-a-view-versus-a-copy\n",
      "  NewEngland.drop(columns = [\"county_name\", \"state_fips\", \"state_name\", \"covid_19_deaths\"], inplace = True)\n",
      "/var/folders/47/fwys2xf93ng018yvjrnr0hmm0000gn/T/ipykernel_17474/3792810479.py:2: SettingWithCopyWarning: \n",
      "A value is trying to be set on a copy of a slice from a DataFrame\n",
      "\n",
      "See the caveats in the documentation: https://pandas.pydata.org/pandas-docs/stable/user_guide/indexing.html#returning-a-view-versus-a-copy\n",
      "  South.drop(columns = [\"county_name\", \"state_fips\", \"state_name\", \"covid_19_deaths\"], inplace = True)\n"
     ]
    }
   ],
   "source": [
    "NewEngland.drop(columns = [\"county_name\", \"state_fips\", \"state_name\", \"covid_19_deaths\"], inplace = True)\n",
    "South.drop(columns = [\"county_name\", \"state_fips\", \"state_name\", \"covid_19_deaths\"], inplace = True)"
   ]
  },
  {
   "cell_type": "code",
   "execution_count": 918,
   "id": "ffbadc1c",
   "metadata": {},
   "outputs": [],
   "source": [
    "num_cols = NewEngland._get_numeric_data().columns.tolist()\n",
    "cat_cols = [i for i in NewEngland.columns if i not in num_cols]\n",
    "cases_cols = [\"date\", \"covid_19_confirmed_cases\"]"
   ]
  },
  {
   "cell_type": "code",
   "execution_count": 919,
   "id": "aa470a76",
   "metadata": {},
   "outputs": [],
   "source": [
    "num_cols.insert(0, \"date\")\n",
    "num_cols.remove(\"covid_19_confirmed_cases\")\n",
    "num_cols.remove(\"county_fips\")"
   ]
  },
  {
   "cell_type": "code",
   "execution_count": 920,
   "id": "71f97dce",
   "metadata": {},
   "outputs": [],
   "source": [
    "NewEngland_num = NewEngland.loc[:, num_cols]\n",
    "NewEngland_cat = NewEngland.loc[:, cat_cols]\n",
    "NewEngland_cases = NewEngland.loc[:, cases_cols]"
   ]
  },
  {
   "cell_type": "code",
   "execution_count": 921,
   "id": "5abf558a",
   "metadata": {},
   "outputs": [],
   "source": [
    "South_num = South.loc[:, num_cols]\n",
    "South_cat = South.loc[:, cat_cols]\n",
    "South_cases = South.loc[:, cases_cols]"
   ]
  },
  {
   "cell_type": "markdown",
   "id": "bceb7451",
   "metadata": {},
   "source": [
    "## Numerical Columns"
   ]
  },
  {
   "cell_type": "code",
   "execution_count": 922,
   "id": "a71968cd",
   "metadata": {},
   "outputs": [],
   "source": [
    "NewEngland_num = NewEngland_num.groupby([\"date\"]).mean()"
   ]
  },
  {
   "cell_type": "code",
   "execution_count": 923,
   "id": "b3cce425",
   "metadata": {},
   "outputs": [],
   "source": [
    "South_num = South_num.groupby([\"date\"]).mean()"
   ]
  },
  {
   "cell_type": "code",
   "execution_count": 924,
   "id": "c7321b22",
   "metadata": {},
   "outputs": [],
   "source": [
    "South_num = South_num.fillna(value = 0)"
   ]
  },
  {
   "cell_type": "markdown",
   "id": "8c5820b8",
   "metadata": {},
   "source": [
    "## Categorical Columns"
   ]
  },
  {
   "cell_type": "code",
   "execution_count": 925,
   "id": "9b1906b4",
   "metadata": {},
   "outputs": [],
   "source": [
    "NewEngland_cat = NewEngland_cat.fillna(value = \"F\")\n",
    "South_cat = South_cat.fillna(value = \"F\")"
   ]
  },
  {
   "cell_type": "code",
   "execution_count": 926,
   "id": "6e7d5c1e",
   "metadata": {},
   "outputs": [],
   "source": [
    "NewEngland_cat = NewEngland_cat.groupby([\"date\"]).agg(pd.Series.mode)"
   ]
  },
  {
   "cell_type": "code",
   "execution_count": 927,
   "id": "dc348adc",
   "metadata": {},
   "outputs": [],
   "source": [
    "South_cat = South_cat.groupby([\"date\"]).agg(pd.Series.mode)"
   ]
  },
  {
   "cell_type": "code",
   "execution_count": 928,
   "id": "c1b3e62d",
   "metadata": {},
   "outputs": [],
   "source": [
    "NewEngland_cat[\"social_distancing_total_grade\"][\"04/09/20\"] = \"C\"\n",
    "NewEngland_cat[\"social_distancing_total_grade\"][\"04/21/20\"] = \"C\"\n",
    "NewEngland_cat[\"social_distancing_total_grade\"][\"05/31/20\"] = \"D\"\n",
    "\n",
    "NewEngland_cat[\"social_distancing_encounters_grade\"][\"03/25/20\"] = \"A\"\n",
    "NewEngland_cat[\"social_distancing_encounters_grade\"][\"03/28/20\"] = \"A\"\n",
    "NewEngland_cat[\"social_distancing_encounters_grade\"][\"05/03/20\"] = \"A\""
   ]
  },
  {
   "cell_type": "markdown",
   "id": "9b84f756",
   "metadata": {},
   "source": [
    "## Confirmed Cases Column"
   ]
  },
  {
   "cell_type": "code",
   "execution_count": 929,
   "id": "41ca23f6",
   "metadata": {},
   "outputs": [],
   "source": [
    "NewEngland_cases = NewEngland_cases.groupby([\"date\"]).sum()"
   ]
  },
  {
   "cell_type": "code",
   "execution_count": 930,
   "id": "b919a51a",
   "metadata": {},
   "outputs": [],
   "source": [
    "South_cases = South_cases.groupby([\"date\"]).sum()"
   ]
  },
  {
   "cell_type": "markdown",
   "id": "63cc47cf",
   "metadata": {},
   "source": [
    "# Merge data by regions"
   ]
  },
  {
   "cell_type": "code",
   "execution_count": 931,
   "id": "11e0a423",
   "metadata": {},
   "outputs": [],
   "source": [
    "NewEngland = NewEngland_cases.merge(NewEngland_num, left_index = True, right_index = True)"
   ]
  },
  {
   "cell_type": "code",
   "execution_count": 932,
   "id": "80b70e24",
   "metadata": {},
   "outputs": [],
   "source": [
    "NewEngland = NewEngland.merge(NewEngland_cat, left_index = True, right_index = True)"
   ]
  },
  {
   "cell_type": "code",
   "execution_count": 933,
   "id": "e4e895fc",
   "metadata": {},
   "outputs": [],
   "source": [
    "South = South_cases.merge(South_num, left_index = True, right_index = True)"
   ]
  },
  {
   "cell_type": "code",
   "execution_count": 934,
   "id": "d7476885",
   "metadata": {},
   "outputs": [],
   "source": [
    "South = South.merge(South_cat, left_index = True, right_index = True)"
   ]
  },
  {
   "cell_type": "code",
   "execution_count": 935,
   "id": "398c8936",
   "metadata": {},
   "outputs": [],
   "source": [
    "NewEngland.index = pd.to_datetime(NewEngland.index, format = \"%m/%d/%y\") \n",
    "South.index = pd.to_datetime(South.index, format = \"%m/%d/%y\")"
   ]
  },
  {
   "cell_type": "markdown",
   "id": "959c36ed",
   "metadata": {},
   "source": [
    "# Train-Test Split"
   ]
  },
  {
   "cell_type": "code",
   "execution_count": 936,
   "id": "c6d8ac07",
   "metadata": {},
   "outputs": [],
   "source": [
    "NewEngland_train = NewEngland.iloc[:191,:]\n",
    "NewEngland_test = NewEngland.iloc[191:,:]\n",
    "South_train = South.iloc[:191,:]\n",
    "South_test = South.iloc[191:,:]"
   ]
  },
  {
   "cell_type": "markdown",
   "id": "01782e04",
   "metadata": {},
   "source": [
    "# Feature Engineering\n",
    "- Time-based features\n",
    "    - Weekends\n",
    "- Lagged variable\n",
    "- Moving window statistics"
   ]
  },
  {
   "cell_type": "code",
   "execution_count": 937,
   "id": "4a86f532",
   "metadata": {},
   "outputs": [],
   "source": [
    "def is_weekend(d):\n",
    "  return d.weekday() > 4"
   ]
  },
  {
   "cell_type": "code",
   "execution_count": 938,
   "id": "dc74cb31",
   "metadata": {},
   "outputs": [],
   "source": [
    "def feature_engineering(df):\n",
    "    df = df.assign(weekend = [is_weekend(i) for i in df.index.to_list()])\n",
    "    df[\"weekend\"].replace({False: 0, True: 1}, inplace=True)\n",
    "    \n",
    "    df[\"lagged_covid_19_confirmed_cases_15\"] = df[\"covid_19_confirmed_cases\"].shift(15)\n",
    "    df[\"lagged_covid_19_confirmed_cases_30\"] = df[\"covid_19_confirmed_cases\"].shift(30)\n",
    "    df[\"lagged_covid_19_confirmed_cases_45\"] = df[\"covid_19_confirmed_cases\"].shift(45)\n",
    "    \n",
    "    df[\"rolling_covid_19_confirmed_cases_15\"] = df[\"covid_19_confirmed_cases\"].rolling(15).mean()\n",
    "    df[\"rolling_covid_19_confirmed_cases_30\"] = df[\"covid_19_confirmed_cases\"].rolling(30).mean()\n",
    "    df[\"rolling_covid_19_confirmed_cases_45\"] = df[\"covid_19_confirmed_cases\"].rolling(45).mean()\n",
    "    \n",
    "    df.fillna(0, inplace = True)\n",
    "    \n",
    "    return df"
   ]
  },
  {
   "cell_type": "code",
   "execution_count": 939,
   "id": "b5e4079e",
   "metadata": {},
   "outputs": [],
   "source": [
    "NewEngland_train = feature_engineering(NewEngland_train)\n",
    "NewEngland_test = feature_engineering(NewEngland_test)"
   ]
  },
  {
   "cell_type": "code",
   "execution_count": 940,
   "id": "98487522",
   "metadata": {},
   "outputs": [],
   "source": [
    "South_train = feature_engineering(South_train)\n",
    "South_test = feature_engineering(South_test)"
   ]
  },
  {
   "cell_type": "markdown",
   "id": "1364d140",
   "metadata": {},
   "source": [
    "# Data Preprocessing\n",
    "- scaling numerical columns\n",
    "- one-hot-encode categorical columns"
   ]
  },
  {
   "cell_type": "code",
   "execution_count": 941,
   "id": "3c450fc0",
   "metadata": {},
   "outputs": [],
   "source": [
    "num_cols = NewEngland_train._get_numeric_data().columns.to_list()\n",
    "cat_cols = [i for i in NewEngland_train.columns if i not in num_cols]"
   ]
  },
  {
   "cell_type": "code",
   "execution_count": 942,
   "id": "40dc3a80",
   "metadata": {},
   "outputs": [],
   "source": [
    "num_cols.remove(\"covid_19_confirmed_cases\")"
   ]
  },
  {
   "cell_type": "code",
   "execution_count": 943,
   "id": "5099f2dc",
   "metadata": {},
   "outputs": [],
   "source": [
    "def scale_encode(dfs):\n",
    "    cat_pipeline = Pipeline([(\"encoding\", OneHotEncoder())])\n",
    "    num_pipeline = Pipeline([(\"scaling\", StandardScaler())])\n",
    "    \n",
    "    full_pipeline = ColumnTransformer([\n",
    "                    (\"cat\", cat_pipeline, cat_cols),\n",
    "                    (\"num\", num_pipeline, num_cols)\n",
    "    ])\n",
    "    \n",
    "    train_preprocessed = full_pipeline.fit_transform(dfs[0])\n",
    "    test_preprocessed = full_pipeline.transform(dfs[1])\n",
    "    \n",
    "    column_names = full_pipeline.get_feature_names_out()\n",
    "    \n",
    "    train = pd.DataFrame(train_preprocessed, columns = column_names, index = dfs[0].index)\n",
    "    test = pd.DataFrame(test_preprocessed, columns = column_names, index = dfs[1].index)\n",
    "    \n",
    "    return train, test"
   ]
  },
  {
   "cell_type": "code",
   "execution_count": 944,
   "id": "786c6745",
   "metadata": {},
   "outputs": [],
   "source": [
    "NEW_train = scale_encode([NewEngland_train, NewEngland_test])[0].merge(NewEngland_train.loc[:,\"covid_19_confirmed_cases\"],left_index=True, right_index=True)\n",
    "NEW_test = scale_encode([NewEngland_train, NewEngland_test])[1].merge(NewEngland_test.loc[:,\"covid_19_confirmed_cases\"],left_index=True, right_index=True)\n",
    "\n",
    "S_train = scale_encode([South_train, South_test])[0].merge(South_train.loc[:,\"covid_19_confirmed_cases\"],left_index=True, right_index=True)\n",
    "S_test = scale_encode([South_train, South_test])[1].merge(South_test.loc[:,\"covid_19_confirmed_cases\"],left_index=True, right_index=True)"
   ]
  },
  {
   "cell_type": "markdown",
   "id": "149707d0",
   "metadata": {},
   "source": [
    "# Export to CSV"
   ]
  },
  {
   "cell_type": "code",
   "execution_count": 945,
   "id": "99322e4f",
   "metadata": {},
   "outputs": [],
   "source": [
    "NEW_train.to_csv(\"/Users/Huey.ts/Desktop/STAT_390/data/ne_train.csv\")\n",
    "NEW_test.to_csv(\"/Users/Huey.ts/Desktop/STAT_390/data/ne_test.csv\")\n",
    "S_train.to_csv(\"/Users/Huey.ts/Desktop/STAT_390/data/s_train.csv\")\n",
    "S_test.to_csv(\"/Users/Huey.ts/Desktop/STAT_390/data/s_test.csv\")"
   ]
  }
 ],
 "metadata": {
  "kernelspec": {
   "display_name": "tf",
   "language": "python",
   "name": "tensorflow"
  },
  "language_info": {
   "codemirror_mode": {
    "name": "ipython",
    "version": 3
   },
   "file_extension": ".py",
   "mimetype": "text/x-python",
   "name": "python",
   "nbconvert_exporter": "python",
   "pygments_lexer": "ipython3",
   "version": "3.10.12"
  }
 },
 "nbformat": 4,
 "nbformat_minor": 5
}
