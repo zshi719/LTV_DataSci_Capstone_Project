{
 "cells": [
  {
   "cell_type": "code",
   "execution_count": 1,
   "id": "d8345bba",
   "metadata": {},
   "outputs": [],
   "source": [
    "import pandas as pd\n",
    "import numpy as np\n",
    "import matplotlib.pyplot as plt\n",
    "\n",
    "from keras.models import Sequential\n",
    "from keras import Model\n",
    "from keras.layers import Dense, InputLayer, Dropout, Input, SimpleRNN, LSTM, GRU\n",
    "from keras.callbacks import EarlyStopping\n",
    "from keras.utils import set_random_seed, to_categorical\n",
    "from keras.initializers import HeNormal"
   ]
  },
  {
   "cell_type": "code",
   "execution_count": 2,
   "id": "b4862275",
   "metadata": {},
   "outputs": [],
   "source": [
    "# Import train data\n",
    "ne_train = pd.read_csv(\"/Users/Huey.ts/Desktop/STAT_390/data/ne_train.csv\")\n",
    "s_train = pd.read_csv(\"/Users/Huey.ts/Desktop/STAT_390/data/s_train.csv\")\n",
    "\n",
    "# Import test data\n",
    "ne_test = pd.read_csv(\"/Users/Huey.ts/Desktop/STAT_390/data/ne_test.csv\")\n",
    "s_test = pd.read_csv(\"/Users/Huey.ts/Desktop/STAT_390/data/s_test.csv\")"
   ]
  },
  {
   "cell_type": "markdown",
   "id": "919a48a2",
   "metadata": {},
   "source": [
    "# LSTM Models\n",
    "- Seq-to-one models\n",
    "- Regression problem"
   ]
  },
  {
   "cell_type": "markdown",
   "id": "86497e1b",
   "metadata": {},
   "source": [
    "## Data Windowing"
   ]
  },
  {
   "cell_type": "code",
   "execution_count": null,
   "id": "75d15b71",
   "metadata": {},
   "outputs": [],
   "source": []
  },
  {
   "cell_type": "markdown",
   "id": "df8c2be7",
   "metadata": {},
   "source": [
    "## New England Model"
   ]
  },
  {
   "cell_type": "code",
   "execution_count": 4,
   "id": "63e5908b",
   "metadata": {},
   "outputs": [],
   "source": [
    "ne_train_y = ne_train.date\n",
    "ne_train_X = ne_train.drop(columns = [\"date\"])"
   ]
  },
  {
   "cell_type": "code",
   "execution_count": 7,
   "id": "a581ea6a",
   "metadata": {},
   "outputs": [],
   "source": [
    "ne_test_y = ne_test.date\n",
    "ne_test_X = ne_test.drop(columns = [\"date\"])"
   ]
  },
  {
   "cell_type": "code",
   "execution_count": 8,
   "id": "280942be",
   "metadata": {},
   "outputs": [],
   "source": [
    "ne_train_X = np.array(ne_train_X)\n",
    "ne_test_X = np.array(ne_test_X)"
   ]
  },
  {
   "cell_type": "code",
   "execution_count": 9,
   "id": "9c289bc2",
   "metadata": {},
   "outputs": [],
   "source": [
    "ne_train_X = ne_train_X.reshape(ne_train_X.shape[0], ne_train_X.shape[1], 1)\n",
    "ne_test_X = ne_test_X.reshape(ne_test_X.shape[0], ne_test_X.shape[1], 1)"
   ]
  },
  {
   "cell_type": "code",
   "execution_count": null,
   "id": "66bbd212",
   "metadata": {},
   "outputs": [],
   "source": [
    "model = Sequential()\n",
    "model.add(LSTM(4, input_shape=(1, look_back)))\n",
    "model.add(Dense(1))\n",
    "model.compile(loss='mean_squared_error', optimizer='adam')\n",
    "model.fit(trainX, trainY, epochs=100, batch_size=1, verbose=2)"
   ]
  }
 ],
 "metadata": {
  "kernelspec": {
   "display_name": "tf",
   "language": "python",
   "name": "tensorflow"
  },
  "language_info": {
   "codemirror_mode": {
    "name": "ipython",
    "version": 3
   },
   "file_extension": ".py",
   "mimetype": "text/x-python",
   "name": "python",
   "nbconvert_exporter": "python",
   "pygments_lexer": "ipython3",
   "version": "3.10.12"
  }
 },
 "nbformat": 4,
 "nbformat_minor": 5
}
