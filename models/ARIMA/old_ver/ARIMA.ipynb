{
 "cells": [
  {
   "cell_type": "code",
   "execution_count": 460,
   "id": "initial_id",
   "metadata": {
    "collapsed": true,
    "ExecuteTime": {
     "end_time": "2023-10-25T04:22:38.452114Z",
     "start_time": "2023-10-25T04:22:38.449048Z"
    }
   },
   "outputs": [],
   "source": [
    "import pandas as pd\n",
    "import seaborn as sns\n",
    "import warnings\n",
    "sns.set(style=\"whitegrid\", palette=\"pastel\", color_codes=True)\n",
    "import matplotlib.pyplot as plt\n",
    "from statsmodels.tsa.stattools import adfuller\n",
    "from statsmodels.graphics.tsaplots import plot_acf, plot_pacf\n",
    "from statsmodels.tsa.arima.model import ARIMA\n",
    "from pmdarima.arima import auto_arima\n",
    "warnings.filterwarnings('ignore')"
   ]
  },
  {
   "cell_type": "code",
   "execution_count": 408,
   "outputs": [],
   "source": [
    "region = ['Midwest', 'South', 'NewEngland']"
   ],
   "metadata": {
    "collapsed": false,
    "ExecuteTime": {
     "end_time": "2023-10-25T04:12:30.251615Z",
     "start_time": "2023-10-25T04:12:30.247905Z"
    }
   },
   "id": "c067a3212a32cfe5"
  },
  {
   "cell_type": "code",
   "execution_count": 409,
   "outputs": [],
   "source": [
    "# function to filter columns \n",
    "def filter_col(raw_df):\n",
    "    raw_df = raw_df[raw_df.columns.drop(list(raw_df.filter(regex='grade_')))]\n",
    "    raw_df = raw_df[raw_df.columns.drop(list(raw_df.filter(regex='age_')))]\n",
    "    raw_df = raw_df[raw_df.columns.drop(list(raw_df.filter(regex='rolling_')))]\n",
    "    raw_df = raw_df[raw_df.columns.drop(list(raw_df.filter(regex='lagged_')))]\n",
    "    raw_df = raw_df[raw_df.columns.drop(list(raw_df.filter(regex='cat_')))]\n",
    "    raw_df = raw_df[raw_df.columns.drop(list(raw_df.filter(regex='diploma_')))]\n",
    "    raw_df = raw_df[raw_df.columns.drop(list(raw_df.filter(regex='college_')))]\n",
    "    final = raw_df.rename(columns=lambda x: x.replace('num__', ''))\n",
    "    return final\n",
    "\n",
    "for r in region:\n",
    "    # read and store as data frame\n",
    "    df = pd.read_csv(f'/Users/victoriashi/Downloads/region_data/region_train/{r}.csv', parse_dates=True, index_col='date')\n",
    "     #unload to global environment using the region name\n",
    "    df = filter_col(df)\n",
    "    df.drop(columns = ['county_fips', 'state_fips', 'county_name', 'state_name','day', 'month', 'daily_state_test'], inplace=True)\n",
    "    globals()[r] = df"
   ],
   "metadata": {
    "collapsed": false,
    "ExecuteTime": {
     "end_time": "2023-10-25T04:12:35.588809Z",
     "start_time": "2023-10-25T04:12:33.718809Z"
    }
   },
   "id": "877e9ae8889be2fe"
  }
 ],
 "metadata": {
  "kernelspec": {
   "display_name": "Python 3",
   "language": "python",
   "name": "python3"
  },
  "language_info": {
   "codemirror_mode": {
    "name": "ipython",
    "version": 2
   },
   "file_extension": ".py",
   "mimetype": "text/x-python",
   "name": "python",
   "nbconvert_exporter": "python",
   "pygments_lexer": "ipython2",
   "version": "2.7.6"
  }
 },
 "nbformat": 4,
 "nbformat_minor": 5
}
