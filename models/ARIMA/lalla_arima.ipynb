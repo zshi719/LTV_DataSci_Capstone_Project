{
 "cells": [
  {
   "cell_type": "code",
   "execution_count": 15,
   "id": "06f244cd",
   "metadata": {},
   "outputs": [],
   "source": [
    "import pandas as pd\n",
    "from pandas import DataFrame\n",
    "import numpy as np\n",
    "import matplotlib.pyplot as plt\n",
    "import statsmodels.api as sm\n",
    "from statsmodels.tsa.stattools import adfuller, kpss\n",
    "from statsmodels.graphics import tsaplots\n",
    "from statsmodels.tsa.arima.model import ARIMA\n",
    "from sklearn.metrics import mean_absolute_error, mean_squared_error\n",
    "from statsmodels.graphics.tsaplots import plot_acf, plot_pacf"
   ]
  },
  {
   "cell_type": "code",
   "execution_count": 57,
   "id": "4db53175",
   "metadata": {},
   "outputs": [],
   "source": [
    "ne_train = pd.read_csv('ne_train (1).csv')\n",
    "s_train = pd.read_csv('s_train.csv')\n",
    "ne_test = pd.read_csv('ne_test.csv')\n",
    "s_test = pd.read_csv('s_test.csv')"
   ]
  },
  {
   "cell_type": "code",
   "execution_count": 58,
   "id": "158bd2bd",
   "metadata": {},
   "outputs": [],
   "source": [
    "ne_train = pd.merge(ne_train.date, ne_train[\"covid_19_confirmed_cases\"], \n",
    "                                left_index=True, right_index=True)\n",
    "ne_test = pd.merge(ne_test.date, ne_test[\"covid_19_confirmed_cases\"], \n",
    "                                left_index=True, right_index=True)\n",
    "\n",
    "s_train = pd.merge(s_train.date, s_train[\"covid_19_confirmed_cases\"], \n",
    "                                left_index=True, right_index=True)\n",
    "s_test = pd.merge(s_test.date, s_test[\"covid_19_confirmed_cases\"], \n",
    "                                left_index=True, right_index=True)"
   ]
  },
  {
   "cell_type": "code",
   "execution_count": 59,
   "id": "a0c608ac",
   "metadata": {},
   "outputs": [],
   "source": [
    "ne_train['cases_shifted'] = ne_train['covid_19_confirmed_cases'].shift(1)\n",
    "s_train['cases_shifted'] = s_train['covid_19_confirmed_cases'].shift(1)"
   ]
  },
  {
   "cell_type": "code",
   "execution_count": 60,
   "id": "18069156",
   "metadata": {},
   "outputs": [],
   "source": [
    "ne_train.set_index(\"date\", inplace = True)\n",
    "ne_test.set_index(\"date\", inplace = True)"
   ]
  },
  {
   "cell_type": "markdown",
   "id": "6ac7f1f2",
   "metadata": {},
   "source": [
    "# ARIMA Model - NE"
   ]
  },
  {
   "cell_type": "code",
   "execution_count": 61,
   "id": "f5f6e4ec",
   "metadata": {},
   "outputs": [
    {
     "name": "stdout",
     "output_type": "stream",
     "text": [
      "ADF Statistic: -2.6006703984315087\n",
      "p-value: 0.09285878886366933\n",
      "Critical Values:\n",
      "   1%: -3.4776006742422374\n",
      "   5%: -2.882265832283648\n",
      "   10%: -2.5778219289774156\n"
     ]
    }
   ],
   "source": [
    "result = adfuller(ne_train['covid_19_confirmed_cases'])\n",
    "print(f'ADF Statistic: {result[0]}')\n",
    "print(f'p-value: {result[1]}')\n",
    "print('Critical Values:')\n",
    "for key, value in result[4].items():\n",
    "    print(f'   {key}: {value}')"
   ]
  },
  {
   "cell_type": "code",
   "execution_count": 62,
   "id": "19d32e32",
   "metadata": {},
   "outputs": [],
   "source": [
    "if result[1] > 0.05:\n",
    "    ne_train['covid_19_confirmed_cases'] = ne_train['covid_19_confirmed_cases'].diff().dropna()"
   ]
  },
  {
   "cell_type": "code",
   "execution_count": 64,
   "id": "980bb033",
   "metadata": {},
   "outputs": [],
   "source": [
    "p = 1 \n",
    "q = 1 "
   ]
  },
  {
   "cell_type": "code",
   "execution_count": 66,
   "id": "8cf3d936",
   "metadata": {},
   "outputs": [
    {
     "name": "stderr",
     "output_type": "stream",
     "text": [
      "/Users/lalla-aichaadouim/opt/anaconda3/lib/python3.9/site-packages/statsmodels/tsa/base/tsa_model.py:471: ValueWarning: No frequency information was provided, so inferred frequency D will be used.\n",
      "  self._init_dates(dates, freq)\n",
      "/Users/lalla-aichaadouim/opt/anaconda3/lib/python3.9/site-packages/statsmodels/tsa/base/tsa_model.py:471: ValueWarning: No frequency information was provided, so inferred frequency D will be used.\n",
      "  self._init_dates(dates, freq)\n",
      "/Users/lalla-aichaadouim/opt/anaconda3/lib/python3.9/site-packages/statsmodels/tsa/base/tsa_model.py:471: ValueWarning: No frequency information was provided, so inferred frequency D will be used.\n",
      "  self._init_dates(dates, freq)\n",
      "/Users/lalla-aichaadouim/opt/anaconda3/lib/python3.9/site-packages/statsmodels/tsa/statespace/sarimax.py:966: UserWarning: Non-stationary starting autoregressive parameters found. Using zeros as starting parameters.\n",
      "  warn('Non-stationary starting autoregressive parameters'\n",
      "/Users/lalla-aichaadouim/opt/anaconda3/lib/python3.9/site-packages/statsmodels/tsa/statespace/sarimax.py:978: UserWarning: Non-invertible starting MA parameters found. Using zeros as starting parameters.\n",
      "  warn('Non-invertible starting MA parameters found.'\n"
     ]
    }
   ],
   "source": [
    "ne_model = ARIMA(ne_train['cases_shifted'], order=(p, 1, q))\n",
    "ne_results = ne_model.fit()"
   ]
  },
  {
   "cell_type": "code",
   "execution_count": 68,
   "id": "21341d54",
   "metadata": {},
   "outputs": [
    {
     "data": {
      "text/html": [
       "<table class=\"simpletable\">\n",
       "<caption>SARIMAX Results</caption>\n",
       "<tr>\n",
       "  <th>Dep. Variable:</th>     <td>cases_shifted</td>  <th>  No. Observations:  </th>    <td>151</td>   \n",
       "</tr>\n",
       "<tr>\n",
       "  <th>Model:</th>            <td>ARIMA(1, 1, 1)</td>  <th>  Log Likelihood     </th> <td>-1299.507</td>\n",
       "</tr>\n",
       "<tr>\n",
       "  <th>Date:</th>            <td>Fri, 10 Nov 2023</td> <th>  AIC                </th> <td>2605.015</td> \n",
       "</tr>\n",
       "<tr>\n",
       "  <th>Time:</th>                <td>15:58:04</td>     <th>  BIC                </th> <td>2614.047</td> \n",
       "</tr>\n",
       "<tr>\n",
       "  <th>Sample:</th>             <td>03-02-2020</td>    <th>  HQIC               </th> <td>2608.684</td> \n",
       "</tr>\n",
       "<tr>\n",
       "  <th></th>                   <td>- 07-30-2020</td>   <th>                     </th>     <td> </td>    \n",
       "</tr>\n",
       "<tr>\n",
       "  <th>Covariance Type:</th>        <td>opg</td>       <th>                     </th>     <td> </td>    \n",
       "</tr>\n",
       "</table>\n",
       "<table class=\"simpletable\">\n",
       "<tr>\n",
       "     <td></td>       <th>coef</th>     <th>std err</th>      <th>z</th>      <th>P>|z|</th>  <th>[0.025</th>    <th>0.975]</th>  \n",
       "</tr>\n",
       "<tr>\n",
       "  <th>ar.L1</th>  <td>   -0.3324</td> <td>    0.948</td> <td>   -0.351</td> <td> 0.726</td> <td>   -2.189</td> <td>    1.525</td>\n",
       "</tr>\n",
       "<tr>\n",
       "  <th>ma.L1</th>  <td>    0.3780</td> <td>    0.930</td> <td>    0.406</td> <td> 0.684</td> <td>   -1.445</td> <td>    2.201</td>\n",
       "</tr>\n",
       "<tr>\n",
       "  <th>sigma2</th> <td> 1.966e+06</td> <td> 1.13e+05</td> <td>   17.320</td> <td> 0.000</td> <td> 1.74e+06</td> <td> 2.19e+06</td>\n",
       "</tr>\n",
       "</table>\n",
       "<table class=\"simpletable\">\n",
       "<tr>\n",
       "  <th>Ljung-Box (L1) (Q):</th>     <td>0.03</td> <th>  Jarque-Bera (JB):  </th> <td>281.53</td>\n",
       "</tr>\n",
       "<tr>\n",
       "  <th>Prob(Q):</th>                <td>0.86</td> <th>  Prob(JB):          </th>  <td>0.00</td> \n",
       "</tr>\n",
       "<tr>\n",
       "  <th>Heteroskedasticity (H):</th> <td>0.06</td> <th>  Skew:              </th>  <td>0.53</td> \n",
       "</tr>\n",
       "<tr>\n",
       "  <th>Prob(H) (two-sided):</th>    <td>0.00</td> <th>  Kurtosis:          </th>  <td>9.63</td> \n",
       "</tr>\n",
       "</table><br/><br/>Warnings:<br/>[1] Covariance matrix calculated using the outer product of gradients (complex-step)."
      ],
      "text/plain": [
       "<class 'statsmodels.iolib.summary.Summary'>\n",
       "\"\"\"\n",
       "                               SARIMAX Results                                \n",
       "==============================================================================\n",
       "Dep. Variable:          cases_shifted   No. Observations:                  151\n",
       "Model:                 ARIMA(1, 1, 1)   Log Likelihood               -1299.507\n",
       "Date:                Fri, 10 Nov 2023   AIC                           2605.015\n",
       "Time:                        15:58:04   BIC                           2614.047\n",
       "Sample:                    03-02-2020   HQIC                          2608.684\n",
       "                         - 07-30-2020                                         \n",
       "Covariance Type:                  opg                                         \n",
       "==============================================================================\n",
       "                 coef    std err          z      P>|z|      [0.025      0.975]\n",
       "------------------------------------------------------------------------------\n",
       "ar.L1         -0.3324      0.948     -0.351      0.726      -2.189       1.525\n",
       "ma.L1          0.3780      0.930      0.406      0.684      -1.445       2.201\n",
       "sigma2      1.966e+06   1.13e+05     17.320      0.000    1.74e+06    2.19e+06\n",
       "===================================================================================\n",
       "Ljung-Box (L1) (Q):                   0.03   Jarque-Bera (JB):               281.53\n",
       "Prob(Q):                              0.86   Prob(JB):                         0.00\n",
       "Heteroskedasticity (H):               0.06   Skew:                             0.53\n",
       "Prob(H) (two-sided):                  0.00   Kurtosis:                         9.63\n",
       "===================================================================================\n",
       "\n",
       "Warnings:\n",
       "[1] Covariance matrix calculated using the outer product of gradients (complex-step).\n",
       "\"\"\""
      ]
     },
     "execution_count": 68,
     "metadata": {},
     "output_type": "execute_result"
    }
   ],
   "source": [
    "ne_results.summary()"
   ]
  },
  {
   "cell_type": "code",
   "execution_count": null,
   "id": "cb3a4d57",
   "metadata": {},
   "outputs": [],
   "source": []
  }
 ],
 "metadata": {
  "kernelspec": {
   "display_name": "Python 3 (ipykernel)",
   "language": "python",
   "name": "python3"
  },
  "language_info": {
   "codemirror_mode": {
    "name": "ipython",
    "version": 3
   },
   "file_extension": ".py",
   "mimetype": "text/x-python",
   "name": "python",
   "nbconvert_exporter": "python",
   "pygments_lexer": "ipython3",
   "version": "3.9.12"
  }
 },
 "nbformat": 4,
 "nbformat_minor": 5
}
