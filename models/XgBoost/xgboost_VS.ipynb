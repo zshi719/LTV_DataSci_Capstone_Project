{
 "cells": [
  {
   "cell_type": "raw",
   "source": [
    "---\n",
    "author: Victoria Shi\n",
    "number-sections: false\n",
    "format: \n",
    "  html:\n",
    "    toc: true\n",
    "    toc-title: Contents\n",
    "    self-contained: true\n",
    "    font-size: 100%\n",
    "    code-fold: true\n",
    "    toc-depth: 4\n",
    "    mainfont: Arial\n",
    "jupyter: python3\n",
    "---"
   ],
   "metadata": {
    "collapsed": false
   }
  },
  {
   "cell_type": "code",
   "execution_count": 6,
   "outputs": [],
   "source": [
    "import os\n",
    "import warnings\n",
    "\n",
    "\n",
    "ch = os.path.dirname(os.getcwd())\n",
    "\n",
    "import pandas as pd\n",
    "from sklearn.preprocessing import MinMaxScaler\n",
    "\n",
    "warnings.filterwarnings(\"ignore\")\n",
    "import seaborn as sns\n",
    "\n",
    "sns.set(palette='pastel', style=\"white\")\n",
    "import warnings\n",
    "\n",
    "warnings.filterwarnings(\"ignore\")\n",
    "import matplotlib.pyplot as plt\n",
    "\n",
    "plt.rcParams['axes.grid'] = False\n",
    "# display 4 \n",
    "# decimal places\n",
    "pd.set_option('display.float_format', lambda x: '%.4f' % x)\n",
    "pd.set_option('display.width', 12)\n",
    "pd.set_option('display.max_colwidth', 12)\n",
    "pd.set_option('display.expand_frame_repr', False)\n",
    "\n",
    "pd.set_option('display.precision', 6)\n",
    "plt.rcParams['axes.grid'] = False\n",
    "#deasonal and trend\n",
    "from statsmodels.tsa.seasonal import seasonal_decompose\n",
    "import pandas as pd\n",
    "import numpy as np\n",
    "import warnings\n",
    "from statsmodels.tsa.arima.model import ARIMA\n",
    "from statsmodels.tsa.stattools import adfuller\n",
    "\n",
    "warnings.filterwarnings(\"ignore\")\n",
    "import matplotlib.pyplot as plt\n",
    "from sklearn.metrics import mean_squared_error, r2_score,mean_absolute_error\n",
    "\n",
    "\n",
    "# time series decomposition\n",
    "def plot_decomposition(df, col, freq):\n",
    "    # multiplicative decomposition\n",
    "    result_mul = seasonal_decompose(df[col], model='multiplicative', extrapolate_trend='freq')\n",
    "    # Additive Decomposition\n",
    "    result_add = seasonal_decompose(df[col], model='additive', extrapolate_trend='freq')\n",
    "    # Plot\n",
    "    plt.rcParams.update({'figure.figsize': (12, 5)})\n",
    "    result_mul.plot().suptitle('Multiplicative Decompose', fontsize=10)\n",
    "    result_add.plot().suptitle('Additive Decompose', fontsize=10)\n",
    "    plt.show()\n",
    "\n",
    "def show_performance(y_true, y_pred, model=\"TimeSeries\"):\n",
    "    # model name later used as the column name to aggrae the performance\n",
    "    name = model\n",
    "    mae = mean_absolute_error(y_true, y_pred)\n",
    "    mse = mean_squared_error(y_true, y_pred)\n",
    "    rmse = np.sqrt(mse)\n",
    "    r2 = r2_score(y_true, y_pred)\n",
    "    # data frame to store the performance\n",
    "    df_performance = pd.DataFrame([[name, mae, mse, rmse, r2]], columns=['model', 'mae', 'mse', 'rmse', 'r2'])\n",
    "    return df_performance\n",
    "\n",
    "import matplotlib.dates as mdates\n",
    "# plot the predictions\n",
    "def show_predictions(modelname):\n",
    "    # model diagnostics\n",
    "    try:\n",
    "        model.plot_diagnostics(figsize=(16, 8))\n",
    "        plt.show()\n",
    "    except:\n",
    "        print(\"{} model does not have plot_diagnostics method\".format(modelname))\n",
    "\n",
    "    fig, ax = plt.subplots(1, 2, figsize=(16, 5))\n",
    "    plt.suptitle(modelname, fontsize=15)\n",
    "    display(df_test_ne.head(5))\n",
    "    fig.subplots_adjust(wspace=0.1)\n",
    "    ax[0].plot(df_train_ne['date'], df_train_ne['confirmed'], label='Train')\n",
    "    ax[0].plot(df_test_ne['date'], df_test_ne['confirmed'], label='Test')\n",
    "    ax[0].plot(df_test_ne['date'], df_test_ne['Predictions'], label='Predictions')\n",
    "    ax[0].set_title(f'Prediction ({modelname})')\n",
    "    ax[0].set_xlabel('Date')\n",
    "    ax[1].set_ylabel('# Confirmed Cases')\n",
    "    ax[0].legend()\n",
    "    # plot 2 only predictions\n",
    "    ax[1].plot(df_test_ne['date'], df_test_ne['confirmed'], label='Test')\n",
    "    ax[1].plot(df_test_ne['date'], df_test_ne['Predictions'], label='Predictions')\n",
    "    ax[1].set_title('Prediction on Test Only')\n",
    "    ax[1].xaxis.set_major_locator(plt.MultipleLocator(7))\n",
    "    ax[1].set_xlabel('Date')\n",
    "    ax[1].set_ylabel('# Confirmed Cases')\n",
    "    # convert year-month-day to month-day\n",
    "    \n",
    "    ax[1].xaxis.set_major_formatter(mdates.DateFormatter('%m-%d'))\n",
    "\n",
    "    ax[1].set_ylabel('')\n",
    "    ax[1].legend()\n",
    "    plt.show()"
   ],
   "metadata": {
    "collapsed": false,
    "ExecuteTime": {
     "end_time": "2023-12-08T20:38:00.407632Z",
     "start_time": "2023-12-08T20:38:00.399778Z"
    }
   }
  },
  {
   "cell_type": "code",
   "execution_count": 7,
   "metadata": {
    "execution": {
     "iopub.execute_input": "2023-11-20T17:02:52.057977Z",
     "iopub.status.busy": "2023-11-20T17:02:52.057624Z",
     "iopub.status.idle": "2023-11-20T17:03:21.709298Z",
     "shell.execute_reply": "2023-11-20T17:03:21.708451Z",
     "shell.execute_reply.started": "2023-11-20T17:02:52.057944Z"
    },
    "ExecuteTime": {
     "end_time": "2023-12-08T20:38:01.010472Z",
     "start_time": "2023-12-08T20:38:00.793728Z"
    }
   },
   "outputs": [
    {
     "ename": "FileNotFoundError",
     "evalue": "[Errno 2] No such file or directory: 'ne_train.csv'",
     "output_type": "error",
     "traceback": [
      "\u001B[0;31m---------------------------------------------------------------------------\u001B[0m",
      "\u001B[0;31mFileNotFoundError\u001B[0m                         Traceback (most recent call last)",
      "Cell \u001B[0;32mIn[7], line 2\u001B[0m\n\u001B[1;32m      1\u001B[0m path \u001B[38;5;241m=\u001B[39m \u001B[38;5;124m'\u001B[39m\u001B[38;5;124m'\u001B[39m\n\u001B[0;32m----> 2\u001B[0m df_train_ne \u001B[38;5;241m=\u001B[39m \u001B[43mpd\u001B[49m\u001B[38;5;241;43m.\u001B[39;49m\u001B[43mread_csv\u001B[49m\u001B[43m(\u001B[49m\u001B[43mpath\u001B[49m\u001B[43m \u001B[49m\u001B[38;5;241;43m+\u001B[39;49m\u001B[43m \u001B[49m\u001B[38;5;124;43m'\u001B[39;49m\u001B[38;5;124;43mne_train.csv\u001B[39;49m\u001B[38;5;124;43m'\u001B[39;49m\u001B[43m,\u001B[49m\u001B[43m \u001B[49m\u001B[43mindex_col\u001B[49m\u001B[38;5;241;43m=\u001B[39;49m\u001B[38;5;241;43m0\u001B[39;49m\u001B[43m)\u001B[49m\u001B[38;5;241m.\u001B[39miloc[\u001B[38;5;241m39\u001B[39m:, :]\n\u001B[1;32m      3\u001B[0m df_test_ne \u001B[38;5;241m=\u001B[39m pd\u001B[38;5;241m.\u001B[39mread_csv(path \u001B[38;5;241m+\u001B[39m \u001B[38;5;124m'\u001B[39m\u001B[38;5;124mne_test.csv\u001B[39m\u001B[38;5;124m'\u001B[39m, index_col\u001B[38;5;241m=\u001B[39m\u001B[38;5;241m0\u001B[39m)\n\u001B[1;32m      4\u001B[0m df_train_ne\u001B[38;5;241m.\u001B[39mhead()\n",
      "File \u001B[0;32m~/anaconda3/lib/python3.11/site-packages/pandas/io/parsers/readers.py:948\u001B[0m, in \u001B[0;36mread_csv\u001B[0;34m(filepath_or_buffer, sep, delimiter, header, names, index_col, usecols, dtype, engine, converters, true_values, false_values, skipinitialspace, skiprows, skipfooter, nrows, na_values, keep_default_na, na_filter, verbose, skip_blank_lines, parse_dates, infer_datetime_format, keep_date_col, date_parser, date_format, dayfirst, cache_dates, iterator, chunksize, compression, thousands, decimal, lineterminator, quotechar, quoting, doublequote, escapechar, comment, encoding, encoding_errors, dialect, on_bad_lines, delim_whitespace, low_memory, memory_map, float_precision, storage_options, dtype_backend)\u001B[0m\n\u001B[1;32m    935\u001B[0m kwds_defaults \u001B[38;5;241m=\u001B[39m _refine_defaults_read(\n\u001B[1;32m    936\u001B[0m     dialect,\n\u001B[1;32m    937\u001B[0m     delimiter,\n\u001B[0;32m   (...)\u001B[0m\n\u001B[1;32m    944\u001B[0m     dtype_backend\u001B[38;5;241m=\u001B[39mdtype_backend,\n\u001B[1;32m    945\u001B[0m )\n\u001B[1;32m    946\u001B[0m kwds\u001B[38;5;241m.\u001B[39mupdate(kwds_defaults)\n\u001B[0;32m--> 948\u001B[0m \u001B[38;5;28;01mreturn\u001B[39;00m \u001B[43m_read\u001B[49m\u001B[43m(\u001B[49m\u001B[43mfilepath_or_buffer\u001B[49m\u001B[43m,\u001B[49m\u001B[43m \u001B[49m\u001B[43mkwds\u001B[49m\u001B[43m)\u001B[49m\n",
      "File \u001B[0;32m~/anaconda3/lib/python3.11/site-packages/pandas/io/parsers/readers.py:611\u001B[0m, in \u001B[0;36m_read\u001B[0;34m(filepath_or_buffer, kwds)\u001B[0m\n\u001B[1;32m    608\u001B[0m _validate_names(kwds\u001B[38;5;241m.\u001B[39mget(\u001B[38;5;124m\"\u001B[39m\u001B[38;5;124mnames\u001B[39m\u001B[38;5;124m\"\u001B[39m, \u001B[38;5;28;01mNone\u001B[39;00m))\n\u001B[1;32m    610\u001B[0m \u001B[38;5;66;03m# Create the parser.\u001B[39;00m\n\u001B[0;32m--> 611\u001B[0m parser \u001B[38;5;241m=\u001B[39m \u001B[43mTextFileReader\u001B[49m\u001B[43m(\u001B[49m\u001B[43mfilepath_or_buffer\u001B[49m\u001B[43m,\u001B[49m\u001B[43m \u001B[49m\u001B[38;5;241;43m*\u001B[39;49m\u001B[38;5;241;43m*\u001B[39;49m\u001B[43mkwds\u001B[49m\u001B[43m)\u001B[49m\n\u001B[1;32m    613\u001B[0m \u001B[38;5;28;01mif\u001B[39;00m chunksize \u001B[38;5;129;01mor\u001B[39;00m iterator:\n\u001B[1;32m    614\u001B[0m     \u001B[38;5;28;01mreturn\u001B[39;00m parser\n",
      "File \u001B[0;32m~/anaconda3/lib/python3.11/site-packages/pandas/io/parsers/readers.py:1448\u001B[0m, in \u001B[0;36mTextFileReader.__init__\u001B[0;34m(self, f, engine, **kwds)\u001B[0m\n\u001B[1;32m   1445\u001B[0m     \u001B[38;5;28mself\u001B[39m\u001B[38;5;241m.\u001B[39moptions[\u001B[38;5;124m\"\u001B[39m\u001B[38;5;124mhas_index_names\u001B[39m\u001B[38;5;124m\"\u001B[39m] \u001B[38;5;241m=\u001B[39m kwds[\u001B[38;5;124m\"\u001B[39m\u001B[38;5;124mhas_index_names\u001B[39m\u001B[38;5;124m\"\u001B[39m]\n\u001B[1;32m   1447\u001B[0m \u001B[38;5;28mself\u001B[39m\u001B[38;5;241m.\u001B[39mhandles: IOHandles \u001B[38;5;241m|\u001B[39m \u001B[38;5;28;01mNone\u001B[39;00m \u001B[38;5;241m=\u001B[39m \u001B[38;5;28;01mNone\u001B[39;00m\n\u001B[0;32m-> 1448\u001B[0m \u001B[38;5;28mself\u001B[39m\u001B[38;5;241m.\u001B[39m_engine \u001B[38;5;241m=\u001B[39m \u001B[38;5;28;43mself\u001B[39;49m\u001B[38;5;241;43m.\u001B[39;49m\u001B[43m_make_engine\u001B[49m\u001B[43m(\u001B[49m\u001B[43mf\u001B[49m\u001B[43m,\u001B[49m\u001B[43m \u001B[49m\u001B[38;5;28;43mself\u001B[39;49m\u001B[38;5;241;43m.\u001B[39;49m\u001B[43mengine\u001B[49m\u001B[43m)\u001B[49m\n",
      "File \u001B[0;32m~/anaconda3/lib/python3.11/site-packages/pandas/io/parsers/readers.py:1705\u001B[0m, in \u001B[0;36mTextFileReader._make_engine\u001B[0;34m(self, f, engine)\u001B[0m\n\u001B[1;32m   1703\u001B[0m     \u001B[38;5;28;01mif\u001B[39;00m \u001B[38;5;124m\"\u001B[39m\u001B[38;5;124mb\u001B[39m\u001B[38;5;124m\"\u001B[39m \u001B[38;5;129;01mnot\u001B[39;00m \u001B[38;5;129;01min\u001B[39;00m mode:\n\u001B[1;32m   1704\u001B[0m         mode \u001B[38;5;241m+\u001B[39m\u001B[38;5;241m=\u001B[39m \u001B[38;5;124m\"\u001B[39m\u001B[38;5;124mb\u001B[39m\u001B[38;5;124m\"\u001B[39m\n\u001B[0;32m-> 1705\u001B[0m \u001B[38;5;28mself\u001B[39m\u001B[38;5;241m.\u001B[39mhandles \u001B[38;5;241m=\u001B[39m \u001B[43mget_handle\u001B[49m\u001B[43m(\u001B[49m\n\u001B[1;32m   1706\u001B[0m \u001B[43m    \u001B[49m\u001B[43mf\u001B[49m\u001B[43m,\u001B[49m\n\u001B[1;32m   1707\u001B[0m \u001B[43m    \u001B[49m\u001B[43mmode\u001B[49m\u001B[43m,\u001B[49m\n\u001B[1;32m   1708\u001B[0m \u001B[43m    \u001B[49m\u001B[43mencoding\u001B[49m\u001B[38;5;241;43m=\u001B[39;49m\u001B[38;5;28;43mself\u001B[39;49m\u001B[38;5;241;43m.\u001B[39;49m\u001B[43moptions\u001B[49m\u001B[38;5;241;43m.\u001B[39;49m\u001B[43mget\u001B[49m\u001B[43m(\u001B[49m\u001B[38;5;124;43m\"\u001B[39;49m\u001B[38;5;124;43mencoding\u001B[39;49m\u001B[38;5;124;43m\"\u001B[39;49m\u001B[43m,\u001B[49m\u001B[43m \u001B[49m\u001B[38;5;28;43;01mNone\u001B[39;49;00m\u001B[43m)\u001B[49m\u001B[43m,\u001B[49m\n\u001B[1;32m   1709\u001B[0m \u001B[43m    \u001B[49m\u001B[43mcompression\u001B[49m\u001B[38;5;241;43m=\u001B[39;49m\u001B[38;5;28;43mself\u001B[39;49m\u001B[38;5;241;43m.\u001B[39;49m\u001B[43moptions\u001B[49m\u001B[38;5;241;43m.\u001B[39;49m\u001B[43mget\u001B[49m\u001B[43m(\u001B[49m\u001B[38;5;124;43m\"\u001B[39;49m\u001B[38;5;124;43mcompression\u001B[39;49m\u001B[38;5;124;43m\"\u001B[39;49m\u001B[43m,\u001B[49m\u001B[43m \u001B[49m\u001B[38;5;28;43;01mNone\u001B[39;49;00m\u001B[43m)\u001B[49m\u001B[43m,\u001B[49m\n\u001B[1;32m   1710\u001B[0m \u001B[43m    \u001B[49m\u001B[43mmemory_map\u001B[49m\u001B[38;5;241;43m=\u001B[39;49m\u001B[38;5;28;43mself\u001B[39;49m\u001B[38;5;241;43m.\u001B[39;49m\u001B[43moptions\u001B[49m\u001B[38;5;241;43m.\u001B[39;49m\u001B[43mget\u001B[49m\u001B[43m(\u001B[49m\u001B[38;5;124;43m\"\u001B[39;49m\u001B[38;5;124;43mmemory_map\u001B[39;49m\u001B[38;5;124;43m\"\u001B[39;49m\u001B[43m,\u001B[49m\u001B[43m \u001B[49m\u001B[38;5;28;43;01mFalse\u001B[39;49;00m\u001B[43m)\u001B[49m\u001B[43m,\u001B[49m\n\u001B[1;32m   1711\u001B[0m \u001B[43m    \u001B[49m\u001B[43mis_text\u001B[49m\u001B[38;5;241;43m=\u001B[39;49m\u001B[43mis_text\u001B[49m\u001B[43m,\u001B[49m\n\u001B[1;32m   1712\u001B[0m \u001B[43m    \u001B[49m\u001B[43merrors\u001B[49m\u001B[38;5;241;43m=\u001B[39;49m\u001B[38;5;28;43mself\u001B[39;49m\u001B[38;5;241;43m.\u001B[39;49m\u001B[43moptions\u001B[49m\u001B[38;5;241;43m.\u001B[39;49m\u001B[43mget\u001B[49m\u001B[43m(\u001B[49m\u001B[38;5;124;43m\"\u001B[39;49m\u001B[38;5;124;43mencoding_errors\u001B[39;49m\u001B[38;5;124;43m\"\u001B[39;49m\u001B[43m,\u001B[49m\u001B[43m \u001B[49m\u001B[38;5;124;43m\"\u001B[39;49m\u001B[38;5;124;43mstrict\u001B[39;49m\u001B[38;5;124;43m\"\u001B[39;49m\u001B[43m)\u001B[49m\u001B[43m,\u001B[49m\n\u001B[1;32m   1713\u001B[0m \u001B[43m    \u001B[49m\u001B[43mstorage_options\u001B[49m\u001B[38;5;241;43m=\u001B[39;49m\u001B[38;5;28;43mself\u001B[39;49m\u001B[38;5;241;43m.\u001B[39;49m\u001B[43moptions\u001B[49m\u001B[38;5;241;43m.\u001B[39;49m\u001B[43mget\u001B[49m\u001B[43m(\u001B[49m\u001B[38;5;124;43m\"\u001B[39;49m\u001B[38;5;124;43mstorage_options\u001B[39;49m\u001B[38;5;124;43m\"\u001B[39;49m\u001B[43m,\u001B[49m\u001B[43m \u001B[49m\u001B[38;5;28;43;01mNone\u001B[39;49;00m\u001B[43m)\u001B[49m\u001B[43m,\u001B[49m\n\u001B[1;32m   1714\u001B[0m \u001B[43m\u001B[49m\u001B[43m)\u001B[49m\n\u001B[1;32m   1715\u001B[0m \u001B[38;5;28;01massert\u001B[39;00m \u001B[38;5;28mself\u001B[39m\u001B[38;5;241m.\u001B[39mhandles \u001B[38;5;129;01mis\u001B[39;00m \u001B[38;5;129;01mnot\u001B[39;00m \u001B[38;5;28;01mNone\u001B[39;00m\n\u001B[1;32m   1716\u001B[0m f \u001B[38;5;241m=\u001B[39m \u001B[38;5;28mself\u001B[39m\u001B[38;5;241m.\u001B[39mhandles\u001B[38;5;241m.\u001B[39mhandle\n",
      "File \u001B[0;32m~/anaconda3/lib/python3.11/site-packages/pandas/io/common.py:863\u001B[0m, in \u001B[0;36mget_handle\u001B[0;34m(path_or_buf, mode, encoding, compression, memory_map, is_text, errors, storage_options)\u001B[0m\n\u001B[1;32m    858\u001B[0m \u001B[38;5;28;01melif\u001B[39;00m \u001B[38;5;28misinstance\u001B[39m(handle, \u001B[38;5;28mstr\u001B[39m):\n\u001B[1;32m    859\u001B[0m     \u001B[38;5;66;03m# Check whether the filename is to be opened in binary mode.\u001B[39;00m\n\u001B[1;32m    860\u001B[0m     \u001B[38;5;66;03m# Binary mode does not support 'encoding' and 'newline'.\u001B[39;00m\n\u001B[1;32m    861\u001B[0m     \u001B[38;5;28;01mif\u001B[39;00m ioargs\u001B[38;5;241m.\u001B[39mencoding \u001B[38;5;129;01mand\u001B[39;00m \u001B[38;5;124m\"\u001B[39m\u001B[38;5;124mb\u001B[39m\u001B[38;5;124m\"\u001B[39m \u001B[38;5;129;01mnot\u001B[39;00m \u001B[38;5;129;01min\u001B[39;00m ioargs\u001B[38;5;241m.\u001B[39mmode:\n\u001B[1;32m    862\u001B[0m         \u001B[38;5;66;03m# Encoding\u001B[39;00m\n\u001B[0;32m--> 863\u001B[0m         handle \u001B[38;5;241m=\u001B[39m \u001B[38;5;28;43mopen\u001B[39;49m\u001B[43m(\u001B[49m\n\u001B[1;32m    864\u001B[0m \u001B[43m            \u001B[49m\u001B[43mhandle\u001B[49m\u001B[43m,\u001B[49m\n\u001B[1;32m    865\u001B[0m \u001B[43m            \u001B[49m\u001B[43mioargs\u001B[49m\u001B[38;5;241;43m.\u001B[39;49m\u001B[43mmode\u001B[49m\u001B[43m,\u001B[49m\n\u001B[1;32m    866\u001B[0m \u001B[43m            \u001B[49m\u001B[43mencoding\u001B[49m\u001B[38;5;241;43m=\u001B[39;49m\u001B[43mioargs\u001B[49m\u001B[38;5;241;43m.\u001B[39;49m\u001B[43mencoding\u001B[49m\u001B[43m,\u001B[49m\n\u001B[1;32m    867\u001B[0m \u001B[43m            \u001B[49m\u001B[43merrors\u001B[49m\u001B[38;5;241;43m=\u001B[39;49m\u001B[43merrors\u001B[49m\u001B[43m,\u001B[49m\n\u001B[1;32m    868\u001B[0m \u001B[43m            \u001B[49m\u001B[43mnewline\u001B[49m\u001B[38;5;241;43m=\u001B[39;49m\u001B[38;5;124;43m\"\u001B[39;49m\u001B[38;5;124;43m\"\u001B[39;49m\u001B[43m,\u001B[49m\n\u001B[1;32m    869\u001B[0m \u001B[43m        \u001B[49m\u001B[43m)\u001B[49m\n\u001B[1;32m    870\u001B[0m     \u001B[38;5;28;01melse\u001B[39;00m:\n\u001B[1;32m    871\u001B[0m         \u001B[38;5;66;03m# Binary mode\u001B[39;00m\n\u001B[1;32m    872\u001B[0m         handle \u001B[38;5;241m=\u001B[39m \u001B[38;5;28mopen\u001B[39m(handle, ioargs\u001B[38;5;241m.\u001B[39mmode)\n",
      "\u001B[0;31mFileNotFoundError\u001B[0m: [Errno 2] No such file or directory: 'ne_train.csv'"
     ]
    }
   ],
   "source": [
    "path = ''\n",
    "df_train_ne = pd.read_csv(path + 'ne_train.csv', index_col=0).iloc[39:, :]\n",
    "df_test_ne = pd.read_csv(path + 'ne_test.csv', index_col=0)\n",
    "df_train_ne.head()"
   ]
  },
  {
   "cell_type": "code",
   "execution_count": 4,
   "outputs": [
    {
     "name": "stdout",
     "output_type": "stream",
     "text": [
      "(152, 29)\n",
      "(48, 29)\n"
     ]
    }
   ],
   "source": [
    "df_train_ne['date'] = pd.to_datetime(df_train_ne.date)\n",
    "df_test_ne['date'] = pd.to_datetime(df_test_ne.date)\n",
    "print(df_train_ne.shape)\n",
    "print(df_test_ne.shape)\n",
    "df_all_ne = pd.concat([df_train_ne[['date', 'confirmed']], df_test_ne[['date', 'confirmed']]])"
   ],
   "metadata": {
    "collapsed": false,
    "ExecuteTime": {
     "end_time": "2023-12-08T19:51:25.826111Z",
     "start_time": "2023-12-08T19:51:25.795267Z"
    }
   }
  },
  {
   "cell_type": "code",
   "execution_count": 5,
   "metadata": {
    "execution": {
     "iopub.execute_input": "2023-11-20T17:03:52.960928Z",
     "iopub.status.busy": "2023-11-20T17:03:52.960594Z",
     "iopub.status.idle": "2023-11-20T17:03:53.729294Z",
     "shell.execute_reply": "2023-11-20T17:03:53.728240Z",
     "shell.execute_reply.started": "2023-11-20T17:03:52.960898Z"
    },
    "ExecuteTime": {
     "end_time": "2023-12-08T19:51:25.916871Z",
     "start_time": "2023-12-08T19:51:25.907140Z"
    }
   },
   "outputs": [
    {
     "data": {
      "text/plain": "39    2020-03-01\n40    2020-03-02\n41    2020-03-03\n42    2020-03-04\n43    2020-03-05\n         ...    \n186   2020-07-26\n187   2020-07-27\n188   2020-07-28\n189   2020-07-29\n190   2020-07-30\nName: date, Length: 152, dtype: datetime64[ns]"
     },
     "execution_count": 5,
     "metadata": {},
     "output_type": "execute_result"
    }
   ],
   "source": [
    "pd.to_datetime(df_train_ne.date)"
   ]
  },
  {
   "cell_type": "code",
   "execution_count": 6,
   "outputs": [
    {
     "data": {
      "text/plain": "39       1.0000\n40       3.0000\n41       3.0000\n42       9.0000\n43      14.0000\n         ...   \n186   2226.0000\n187   2403.0000\n188   2562.0000\n189   3666.0000\n190   2464.0000\nName: confirmed, Length: 152, dtype: float64"
     },
     "execution_count": 6,
     "metadata": {},
     "output_type": "execute_result"
    }
   ],
   "source": [
    "df_train_ne['confirmed']"
   ],
   "metadata": {
    "collapsed": false,
    "ExecuteTime": {
     "end_time": "2023-12-08T19:51:26.071771Z",
     "start_time": "2023-12-08T19:51:26.054910Z"
    }
   }
  },
  {
   "cell_type": "markdown",
   "source": [
    "For all we start form the first non-zero day."
   ],
   "metadata": {
    "collapsed": false
   }
  },
  {
   "cell_type": "markdown",
   "source": [
    "## C. Prophet (Univariate) Model"
   ],
   "metadata": {
    "collapsed": false
   }
  },
  {
   "cell_type": "code",
   "execution_count": 1,
   "outputs": [
    {
     "ename": "NameError",
     "evalue": "name 'df_all_ne' is not defined",
     "output_type": "error",
     "traceback": [
      "\u001B[0;31m---------------------------------------------------------------------------\u001B[0m",
      "\u001B[0;31mNameError\u001B[0m                                 Traceback (most recent call last)",
      "Cell \u001B[0;32mIn[1], line 2\u001B[0m\n\u001B[1;32m      1\u001B[0m \u001B[38;5;66;03m#df_all_ne['date'] = pd.to_datetime(df_1301['Date'])\u001B[39;00m\n\u001B[0;32m----> 2\u001B[0m df_all_ne[\u001B[38;5;124m'\u001B[39m\u001B[38;5;124mDayOfWeek\u001B[39m\u001B[38;5;124m'\u001B[39m] \u001B[38;5;241m=\u001B[39m \u001B[43mdf_all_ne\u001B[49m[\u001B[38;5;124m'\u001B[39m\u001B[38;5;124mdate\u001B[39m\u001B[38;5;124m'\u001B[39m]\u001B[38;5;241m.\u001B[39mdt\u001B[38;5;241m.\u001B[39mdayofweek\u001B[38;5;241m.\u001B[39mastype(\u001B[38;5;28mint\u001B[39m)\n\u001B[1;32m      3\u001B[0m df_all_ne[\u001B[38;5;124m'\u001B[39m\u001B[38;5;124mDayOfMonth\u001B[39m\u001B[38;5;124m'\u001B[39m] \u001B[38;5;241m=\u001B[39m df_all_ne[\u001B[38;5;124m'\u001B[39m\u001B[38;5;124mdate\u001B[39m\u001B[38;5;124m'\u001B[39m]\u001B[38;5;241m.\u001B[39mdt\u001B[38;5;241m.\u001B[39mday\u001B[38;5;241m.\u001B[39mastype(\u001B[38;5;28mint\u001B[39m)\n\u001B[1;32m      4\u001B[0m df_all_ne[\u001B[38;5;124m'\u001B[39m\u001B[38;5;124mDayOfYear\u001B[39m\u001B[38;5;124m'\u001B[39m] \u001B[38;5;241m=\u001B[39m df_all_ne[\u001B[38;5;124m'\u001B[39m\u001B[38;5;124mdate\u001B[39m\u001B[38;5;124m'\u001B[39m]\u001B[38;5;241m.\u001B[39mdt\u001B[38;5;241m.\u001B[39mdayofyear\u001B[38;5;241m.\u001B[39mastype(\u001B[38;5;28mint\u001B[39m)\n",
      "\u001B[0;31mNameError\u001B[0m: name 'df_all_ne' is not defined"
     ]
    }
   ],
   "source": [
    "\n",
    "\n",
    "\n",
    "\n",
    "\n",
    "#df_all_ne['date'] = pd.to_datetime(df_1301['Date'])\n",
    "df_all_ne['DayOfWeek'] = df_all_ne['date'].dt.dayofweek.astype(int)\n",
    "df_all_ne['DayOfMonth'] = df_all_ne['date'].dt.day.astype(int)\n",
    "df_all_ne['DayOfYear'] = df_all_ne['date'].dt.dayofyear.astype(int)\n",
    "df_all_ne['WeekOfYear'] = df_all_ne['date'].dt.isocalendar().week.astype(int)\n",
    "df_all_ne['Month'] = df_all_ne['date'].dt.month.astype(int)\n",
    "df_all_ne['Year'] = df_all_ne['date'].dt.year.astype(int)\n",
    "\n",
    "# 滞后特征\n",
    "for lag in range(1, 6):\n",
    "    df_all_ne[f'lag_{lag}'] = df_all_ne['confirmed'].shift(lag)\n",
    "\n",
    "# 滑动窗口统计量\n",
    "df_all_ne['rolling_mean_7'] = df_all_ne['confirmed'].rolling(window=7).mean()\n",
    "df_all_ne['rolling_max_7'] = df_all_ne['confirmed'].rolling(window=7).max()\n",
    "df_all_ne['rolling_min_7'] = df_all_ne['confirmed'].rolling(window=7).min()\n",
    "df_all_ne['rolling_mean_30'] = df_all_ne['confirmed'].rolling(window=30).mean()\n",
    "df_all_ne['rolling_max_30'] = df_all_ne['confirmed'].rolling(window=30).max()\n",
    "df_all_ne['rolling_min_30'] = df_all_ne['confirmed'].rolling(window=30).min()\n",
    "\n",
    "df_all_ne.dropna(inplace=True)\n",
    "\n",
    "train = df_all_ne.iloc[:-48, :]\n",
    "test = df_all_ne.iloc[-48:, :]\n",
    "\n",
    "X_train = train.drop(['date', 'confirmed'], axis=1)\n",
    "y_train = train['confirmed']\n",
    "X_test = test.drop(['date', 'confirmed'], axis=1)\n",
    "\n",
    "X_train.head()"
   ],
   "metadata": {
    "collapsed": false,
    "ExecuteTime": {
     "end_time": "2023-12-08T20:37:39.518921Z",
     "start_time": "2023-12-08T20:37:39.033434Z"
    }
   }
  },
  {
   "cell_type": "code",
   "execution_count": 8,
   "outputs": [],
   "source": [
    "df_test_ne['Predictions'] = forecast['yhat'].tail(len(df_test_ne)).values"
   ],
   "metadata": {
    "collapsed": false,
    "ExecuteTime": {
     "end_time": "2023-12-08T19:51:27.195413Z",
     "start_time": "2023-12-08T19:51:27.180211Z"
    }
   }
  },
  {
   "cell_type": "code",
   "execution_count": 8,
   "outputs": [],
   "source": [],
   "metadata": {
    "collapsed": false,
    "ExecuteTime": {
     "end_time": "2023-12-08T19:51:27.195482Z",
     "start_time": "2023-12-08T19:51:27.185239Z"
    }
   }
  },
  {
   "cell_type": "code",
   "execution_count": 9,
   "outputs": [
    {
     "name": "stdout",
     "output_type": "stream",
     "text": [
      "Prophet Univariate model does not have plot_diagnostics method\n"
     ]
    },
    {
     "data": {
      "text/plain": "        date  daily_state_test  precipitation  temperature  total_population  female_percent    area  population_density  latitude  longitude  ...  passenger_load_ratio  meat_plants  median_household_income  percent_insured  gdp_per_capita  immigrant_student_ratio  weekend  confirmed   death  Predictions\n0 2020-07-31       1.7296            0.4544         1.2957      -0.0000            0.0000    -0.0000       0.0000           0.0000     0.0000  ...      -0.0000                0.0000      -0.0000                   0.0000           0.0000         -0.0000              -0.6278  3056.0000 -0.0000    3497.9335\n1 2020-08-01       1.6165           -0.5741         1.2906      -0.0000            0.0000    -0.0000       0.0000           0.0000     0.0000  ...      -0.0000                0.0000      -0.0000                   0.0000           0.0000         -0.0000               1.5928  2495.0000 -0.0000    3312.6121\n2 2020-08-02       1.3099            0.2383         1.4505      -0.0000            0.0000    -0.0000       0.0000           0.0000     0.0000  ...      -0.0000                0.0000      -0.0000                   0.0000           0.0000         -0.0000               1.5928  1949.0000 -0.0000    2208.3194\n3 2020-08-03       1.0575           -0.1046         1.4905      -0.0000            0.0000    -0.0000       0.0000           0.0000     0.0000  ...      -0.0000                0.0000      -0.0000                   0.0000           0.0000         -0.0000              -0.6278  1999.0000 -0.0000    2222.9339\n4 2020-08-04       1.3862            1.6186         1.3582      -0.0000            0.0000    -0.0000       0.0000           0.0000     0.0000  ...      -0.0000                0.0000      -0.0000                   0.0000           0.0000         -0.0000              -0.6278  2093.0000 -0.0000    2012.0776\n\n[5 rows x 30 columns]",
      "text/html": "<div>\n<style scoped>\n    .dataframe tbody tr th:only-of-type {\n        vertical-align: middle;\n    }\n\n    .dataframe tbody tr th {\n        vertical-align: top;\n    }\n\n    .dataframe thead th {\n        text-align: right;\n    }\n</style>\n<table border=\"1\" class=\"dataframe\">\n  <thead>\n    <tr style=\"text-align: right;\">\n      <th></th>\n      <th>date</th>\n      <th>daily_state_test</th>\n      <th>precipitation</th>\n      <th>temperature</th>\n      <th>total_population</th>\n      <th>female_percent</th>\n      <th>area</th>\n      <th>population_density</th>\n      <th>latitude</th>\n      <th>longitude</th>\n      <th>...</th>\n      <th>passenger_load_ratio</th>\n      <th>meat_plants</th>\n      <th>median_household_income</th>\n      <th>percent_insured</th>\n      <th>gdp_per_capita</th>\n      <th>immigrant_student_ratio</th>\n      <th>weekend</th>\n      <th>confirmed</th>\n      <th>death</th>\n      <th>Predictions</th>\n    </tr>\n  </thead>\n  <tbody>\n    <tr>\n      <th>0</th>\n      <td>2020-07-31</td>\n      <td>1.7296</td>\n      <td>0.4544</td>\n      <td>1.2957</td>\n      <td>-0.0000</td>\n      <td>0.0000</td>\n      <td>-0.0000</td>\n      <td>0.0000</td>\n      <td>0.0000</td>\n      <td>0.0000</td>\n      <td>...</td>\n      <td>-0.0000</td>\n      <td>0.0000</td>\n      <td>-0.0000</td>\n      <td>0.0000</td>\n      <td>0.0000</td>\n      <td>-0.0000</td>\n      <td>-0.6278</td>\n      <td>3056.0000</td>\n      <td>-0.0000</td>\n      <td>3497.9335</td>\n    </tr>\n    <tr>\n      <th>1</th>\n      <td>2020-08-01</td>\n      <td>1.6165</td>\n      <td>-0.5741</td>\n      <td>1.2906</td>\n      <td>-0.0000</td>\n      <td>0.0000</td>\n      <td>-0.0000</td>\n      <td>0.0000</td>\n      <td>0.0000</td>\n      <td>0.0000</td>\n      <td>...</td>\n      <td>-0.0000</td>\n      <td>0.0000</td>\n      <td>-0.0000</td>\n      <td>0.0000</td>\n      <td>0.0000</td>\n      <td>-0.0000</td>\n      <td>1.5928</td>\n      <td>2495.0000</td>\n      <td>-0.0000</td>\n      <td>3312.6121</td>\n    </tr>\n    <tr>\n      <th>2</th>\n      <td>2020-08-02</td>\n      <td>1.3099</td>\n      <td>0.2383</td>\n      <td>1.4505</td>\n      <td>-0.0000</td>\n      <td>0.0000</td>\n      <td>-0.0000</td>\n      <td>0.0000</td>\n      <td>0.0000</td>\n      <td>0.0000</td>\n      <td>...</td>\n      <td>-0.0000</td>\n      <td>0.0000</td>\n      <td>-0.0000</td>\n      <td>0.0000</td>\n      <td>0.0000</td>\n      <td>-0.0000</td>\n      <td>1.5928</td>\n      <td>1949.0000</td>\n      <td>-0.0000</td>\n      <td>2208.3194</td>\n    </tr>\n    <tr>\n      <th>3</th>\n      <td>2020-08-03</td>\n      <td>1.0575</td>\n      <td>-0.1046</td>\n      <td>1.4905</td>\n      <td>-0.0000</td>\n      <td>0.0000</td>\n      <td>-0.0000</td>\n      <td>0.0000</td>\n      <td>0.0000</td>\n      <td>0.0000</td>\n      <td>...</td>\n      <td>-0.0000</td>\n      <td>0.0000</td>\n      <td>-0.0000</td>\n      <td>0.0000</td>\n      <td>0.0000</td>\n      <td>-0.0000</td>\n      <td>-0.6278</td>\n      <td>1999.0000</td>\n      <td>-0.0000</td>\n      <td>2222.9339</td>\n    </tr>\n    <tr>\n      <th>4</th>\n      <td>2020-08-04</td>\n      <td>1.3862</td>\n      <td>1.6186</td>\n      <td>1.3582</td>\n      <td>-0.0000</td>\n      <td>0.0000</td>\n      <td>-0.0000</td>\n      <td>0.0000</td>\n      <td>0.0000</td>\n      <td>0.0000</td>\n      <td>...</td>\n      <td>-0.0000</td>\n      <td>0.0000</td>\n      <td>-0.0000</td>\n      <td>0.0000</td>\n      <td>0.0000</td>\n      <td>-0.0000</td>\n      <td>-0.6278</td>\n      <td>2093.0000</td>\n      <td>-0.0000</td>\n      <td>2012.0776</td>\n    </tr>\n  </tbody>\n</table>\n<p>5 rows × 30 columns</p>\n</div>"
     },
     "metadata": {},
     "output_type": "display_data"
    },
    {
     "data": {
      "text/plain": "<Figure size 1600x500 with 2 Axes>",
      "image/png": "[encoded data removed]"
     },
     "metadata": {},
     "output_type": "display_data"
    }
   ],
   "source": [
    "show_predictions('Prophet Univariate')"
   ],
   "metadata": {
    "collapsed": false,
    "ExecuteTime": {
     "end_time": "2023-12-08T19:51:28.486749Z",
     "start_time": "2023-12-08T19:51:27.906718Z"
    }
   }
  },
  {
   "cell_type": "code",
   "execution_count": 10,
   "outputs": [
    {
     "name": "stdout",
     "output_type": "stream",
     "text": [
      "Prophet Univariate model does not have plot_diagnostics method\n"
     ]
    },
    {
     "data": {
      "text/plain": "        date  daily_state_test  precipitation  temperature  total_population  female_percent    area  population_density  latitude  longitude  ...  passenger_load_ratio  meat_plants  median_household_income  percent_insured  gdp_per_capita  immigrant_student_ratio  weekend  confirmed   death  Predictions\n0 2020-07-31       1.7296            0.4544         1.2957      -0.0000            0.0000    -0.0000       0.0000           0.0000     0.0000  ...      -0.0000                0.0000      -0.0000                   0.0000           0.0000         -0.0000              -0.6278  3056.0000 -0.0000    3497.9335\n1 2020-08-01       1.6165           -0.5741         1.2906      -0.0000            0.0000    -0.0000       0.0000           0.0000     0.0000  ...      -0.0000                0.0000      -0.0000                   0.0000           0.0000         -0.0000               1.5928  2495.0000 -0.0000    3312.6121\n2 2020-08-02       1.3099            0.2383         1.4505      -0.0000            0.0000    -0.0000       0.0000           0.0000     0.0000  ...      -0.0000                0.0000      -0.0000                   0.0000           0.0000         -0.0000               1.5928  1949.0000 -0.0000    2208.3194\n3 2020-08-03       1.0575           -0.1046         1.4905      -0.0000            0.0000    -0.0000       0.0000           0.0000     0.0000  ...      -0.0000                0.0000      -0.0000                   0.0000           0.0000         -0.0000              -0.6278  1999.0000 -0.0000    2222.9339\n4 2020-08-04       1.3862            1.6186         1.3582      -0.0000            0.0000    -0.0000       0.0000           0.0000     0.0000  ...      -0.0000                0.0000      -0.0000                   0.0000           0.0000         -0.0000              -0.6278  2093.0000 -0.0000    2012.0776\n\n[5 rows x 30 columns]",
      "text/html": "<div>\n<style scoped>\n    .dataframe tbody tr th:only-of-type {\n        vertical-align: middle;\n    }\n\n    .dataframe tbody tr th {\n        vertical-align: top;\n    }\n\n    .dataframe thead th {\n        text-align: right;\n    }\n</style>\n<table border=\"1\" class=\"dataframe\">\n  <thead>\n    <tr style=\"text-align: right;\">\n      <th></th>\n      <th>date</th>\n      <th>daily_state_test</th>\n      <th>precipitation</th>\n      <th>temperature</th>\n      <th>total_population</th>\n      <th>female_percent</th>\n      <th>area</th>\n      <th>population_density</th>\n      <th>latitude</th>\n      <th>longitude</th>\n      <th>...</th>\n      <th>passenger_load_ratio</th>\n      <th>meat_plants</th>\n      <th>median_household_income</th>\n      <th>percent_insured</th>\n      <th>gdp_per_capita</th>\n      <th>immigrant_student_ratio</th>\n      <th>weekend</th>\n      <th>confirmed</th>\n      <th>death</th>\n      <th>Predictions</th>\n    </tr>\n  </thead>\n  <tbody>\n    <tr>\n      <th>0</th>\n      <td>2020-07-31</td>\n      <td>1.7296</td>\n      <td>0.4544</td>\n      <td>1.2957</td>\n      <td>-0.0000</td>\n      <td>0.0000</td>\n      <td>-0.0000</td>\n      <td>0.0000</td>\n      <td>0.0000</td>\n      <td>0.0000</td>\n      <td>...</td>\n      <td>-0.0000</td>\n      <td>0.0000</td>\n      <td>-0.0000</td>\n      <td>0.0000</td>\n      <td>0.0000</td>\n      <td>-0.0000</td>\n      <td>-0.6278</td>\n      <td>3056.0000</td>\n      <td>-0.0000</td>\n      <td>3497.9335</td>\n    </tr>\n    <tr>\n      <th>1</th>\n      <td>2020-08-01</td>\n      <td>1.6165</td>\n      <td>-0.5741</td>\n      <td>1.2906</td>\n      <td>-0.0000</td>\n      <td>0.0000</td>\n      <td>-0.0000</td>\n      <td>0.0000</td>\n      <td>0.0000</td>\n      <td>0.0000</td>\n      <td>...</td>\n      <td>-0.0000</td>\n      <td>0.0000</td>\n      <td>-0.0000</td>\n      <td>0.0000</td>\n      <td>0.0000</td>\n      <td>-0.0000</td>\n      <td>1.5928</td>\n      <td>2495.0000</td>\n      <td>-0.0000</td>\n      <td>3312.6121</td>\n    </tr>\n    <tr>\n      <th>2</th>\n      <td>2020-08-02</td>\n      <td>1.3099</td>\n      <td>0.2383</td>\n      <td>1.4505</td>\n      <td>-0.0000</td>\n      <td>0.0000</td>\n      <td>-0.0000</td>\n      <td>0.0000</td>\n      <td>0.0000</td>\n      <td>0.0000</td>\n      <td>...</td>\n      <td>-0.0000</td>\n      <td>0.0000</td>\n      <td>-0.0000</td>\n      <td>0.0000</td>\n      <td>0.0000</td>\n      <td>-0.0000</td>\n      <td>1.5928</td>\n      <td>1949.0000</td>\n      <td>-0.0000</td>\n      <td>2208.3194</td>\n    </tr>\n    <tr>\n      <th>3</th>\n      <td>2020-08-03</td>\n      <td>1.0575</td>\n      <td>-0.1046</td>\n      <td>1.4905</td>\n      <td>-0.0000</td>\n      <td>0.0000</td>\n      <td>-0.0000</td>\n      <td>0.0000</td>\n      <td>0.0000</td>\n      <td>0.0000</td>\n      <td>...</td>\n      <td>-0.0000</td>\n      <td>0.0000</td>\n      <td>-0.0000</td>\n      <td>0.0000</td>\n      <td>0.0000</td>\n      <td>-0.0000</td>\n      <td>-0.6278</td>\n      <td>1999.0000</td>\n      <td>-0.0000</td>\n      <td>2222.9339</td>\n    </tr>\n    <tr>\n      <th>4</th>\n      <td>2020-08-04</td>\n      <td>1.3862</td>\n      <td>1.6186</td>\n      <td>1.3582</td>\n      <td>-0.0000</td>\n      <td>0.0000</td>\n      <td>-0.0000</td>\n      <td>0.0000</td>\n      <td>0.0000</td>\n      <td>0.0000</td>\n      <td>...</td>\n      <td>-0.0000</td>\n      <td>0.0000</td>\n      <td>-0.0000</td>\n      <td>0.0000</td>\n      <td>0.0000</td>\n      <td>-0.0000</td>\n      <td>-0.6278</td>\n      <td>2093.0000</td>\n      <td>-0.0000</td>\n      <td>2012.0776</td>\n    </tr>\n  </tbody>\n</table>\n<p>5 rows × 30 columns</p>\n</div>"
     },
     "metadata": {},
     "output_type": "display_data"
    },
    {
     "data": {
      "text/plain": "<Figure size 1600x500 with 2 Axes>",
      "image/png": "[encoded data removed]"
     },
     "metadata": {},
     "output_type": "display_data"
    },
    {
     "data": {
      "text/plain": "         model      mae          mse      rmse      r2\n0  Prophet ... 952.1189 1169722.7093 1081.5372 -3.1065",
      "text/html": "<div>\n<style scoped>\n    .dataframe tbody tr th:only-of-type {\n        vertical-align: middle;\n    }\n\n    .dataframe tbody tr th {\n        vertical-align: top;\n    }\n\n    .dataframe thead th {\n        text-align: right;\n    }\n</style>\n<table border=\"1\" class=\"dataframe\">\n  <thead>\n    <tr style=\"text-align: right;\">\n      <th></th>\n      <th>model</th>\n      <th>mae</th>\n      <th>mse</th>\n      <th>rmse</th>\n      <th>r2</th>\n    </tr>\n  </thead>\n  <tbody>\n    <tr>\n      <th>0</th>\n      <td>Prophet ...</td>\n      <td>952.1189</td>\n      <td>1169722.7093</td>\n      <td>1081.5372</td>\n      <td>-3.1065</td>\n    </tr>\n  </tbody>\n</table>\n</div>"
     },
     "execution_count": 10,
     "metadata": {},
     "output_type": "execute_result"
    }
   ],
   "source": [
    "forecast = predictions\n",
    "show_predictions('Prophet Univariate')\n",
    "prop_u = show_performance(df_test_ne['confirmed'], predictions, \"Prophet Univariate\")\n",
    "prop_u"
   ],
   "metadata": {
    "collapsed": false,
    "ExecuteTime": {
     "end_time": "2023-12-08T19:51:28.879008Z",
     "start_time": "2023-12-08T19:51:28.486144Z"
    }
   }
  },
  {
   "cell_type": "code",
   "execution_count": 11,
   "outputs": [
    {
     "data": {
      "text/plain": "<Figure size 640x480 with 1 Axes>",
      "image/png": "[encoded data removed]"
     },
     "metadata": {},
     "output_type": "display_data"
    }
   ],
   "source": [
    "\n",
    "plt.plot(df_train_ne['date'], df_train_ne['confirmed'], label='Train')\n",
    "plt.plot(df_test_ne['date'], df_test_ne['confirmed'], label='Test')\n",
    "plt.plot(df_test_ne['date'], df_test_ne['Predictions'], label='Predictions')\n",
    "plt.title('Covid confirmed Prediction (Prophet Univariate)')\n",
    "plt.xlabel('Date')\n",
    "plt.ylabel('Confirmed')\n",
    "plt.legend()\n",
    "plt.show()\n",
    "\n"
   ],
   "metadata": {
    "collapsed": false,
    "ExecuteTime": {
     "end_time": "2023-12-08T19:51:29.114648Z",
     "start_time": "2023-12-08T19:51:28.886463Z"
    }
   }
  },
  {
   "cell_type": "code",
   "execution_count": 12,
   "outputs": [],
   "source": [
    "uni_p = show_performance(df_test_ne['confirmed'], forecast, \"Prophet Univariate\")"
   ],
   "metadata": {
    "collapsed": false,
    "ExecuteTime": {
     "end_time": "2023-12-08T19:51:29.131404Z",
     "start_time": "2023-12-08T19:51:29.117466Z"
    }
   }
  },
  {
   "cell_type": "code",
   "execution_count": 13,
   "outputs": [
    {
     "data": {
      "text/plain": "         model      mae          mse      rmse      r2\n0  Prophet ... 952.1189 1169722.7093 1081.5372 -3.1065",
      "text/html": "<div>\n<style scoped>\n    .dataframe tbody tr th:only-of-type {\n        vertical-align: middle;\n    }\n\n    .dataframe tbody tr th {\n        vertical-align: top;\n    }\n\n    .dataframe thead th {\n        text-align: right;\n    }\n</style>\n<table border=\"1\" class=\"dataframe\">\n  <thead>\n    <tr style=\"text-align: right;\">\n      <th></th>\n      <th>model</th>\n      <th>mae</th>\n      <th>mse</th>\n      <th>rmse</th>\n      <th>r2</th>\n    </tr>\n  </thead>\n  <tbody>\n    <tr>\n      <th>0</th>\n      <td>Prophet ...</td>\n      <td>952.1189</td>\n      <td>1169722.7093</td>\n      <td>1081.5372</td>\n      <td>-3.1065</td>\n    </tr>\n  </tbody>\n</table>\n</div>"
     },
     "execution_count": 13,
     "metadata": {},
     "output_type": "execute_result"
    }
   ],
   "source": [
    "uni_p"
   ],
   "metadata": {
    "collapsed": false,
    "ExecuteTime": {
     "end_time": "2023-12-08T19:51:29.131951Z",
     "start_time": "2023-12-08T19:51:29.123280Z"
    }
   }
  },
  {
   "cell_type": "markdown",
   "metadata": {},
   "source": [
    "## Prophet (Multivariate) Model\n"
   ]
  },
  {
   "cell_type": "code",
   "execution_count": 13,
   "outputs": [],
   "source": [],
   "metadata": {
    "collapsed": false,
    "ExecuteTime": {
     "end_time": "2023-12-08T19:51:29.445429Z",
     "start_time": "2023-12-08T19:51:29.425410Z"
    }
   }
  },
  {
   "cell_type": "code",
   "execution_count": 14,
   "outputs": [
    {
     "data": {
      "text/plain": "Index(['date',\n       'daily_state_test',\n       'precipitation',\n       'temperature',\n       'total_population',\n       'female_percent',\n       'area',\n       'population_density',\n       'latitude',\n       'longitude',\n       'hospital_beds_ratio',\n       'ventilator_capacity_ratio',\n       'icu_beds_ratio',\n       'houses_density',\n       'less_than_high_school_diploma',\n       'percent_smokers',\n       'percent_diabetes',\n       'Religious_congregation_ratio',\n       'political_party',\n       'airport_distance',\n       'passenger_load_ratio',\n       'meat_plants',\n       'median_household_income',\n       'percent_insured',\n       'gdp_per_capita',\n       'immigrant_student_ratio',\n       'weekend',\n       'confirmed',\n       'death'],\n      dtype='object')"
     },
     "execution_count": 14,
     "metadata": {},
     "output_type": "execute_result"
    }
   ],
   "source": [
    "# all features\n",
    "df_train_ne = pd.read_csv(path + 'ne_train.csv', index_col=0).iloc[39:, :]\n",
    "# all feature naeme \n",
    "df_train_ne.columns"
   ],
   "metadata": {
    "collapsed": false,
    "ExecuteTime": {
     "end_time": "2023-12-08T19:51:29.875567Z",
     "start_time": "2023-12-08T19:51:29.861299Z"
    }
   }
  },
  {
   "cell_type": "code",
   "execution_count": 15,
   "outputs": [
    {
     "name": "stdout",
     "output_type": "stream",
     "text": [
      "(152, 29)\n",
      "(48, 30)\n"
     ]
    }
   ],
   "source": [
    "df_train_ne['date'] = pd.to_datetime(df_train_ne.date)\n",
    "df_test_ne['date'] = pd.to_datetime(df_test_ne.date)\n",
    "print(df_train_ne.shape)\n",
    "print(df_test_ne.shape)"
   ],
   "metadata": {
    "collapsed": false,
    "ExecuteTime": {
     "end_time": "2023-12-08T19:51:30.112579Z",
     "start_time": "2023-12-08T19:51:30.096479Z"
    }
   }
  },
  {
   "cell_type": "code",
   "execution_count": 16,
   "outputs": [
    {
     "name": "stderr",
     "output_type": "stream",
     "text": [
      "13:51:30 - cmdstanpy - INFO - Chain [1] start processing\n",
      "13:51:30 - cmdstanpy - INFO - Chain [1] done processing\n"
     ]
    }
   ],
   "source": [
    "\n",
    "df_Prop = df_train_ne.rename(columns={'date': 'ds', 'confirmed': 'y'})\n",
    "\n",
    "model = Prophet(changepoint_prior_scale=0.3,\n",
    "                yearly_seasonality=False,\n",
    "                weekly_seasonality=True,\n",
    "                daily_seasonality=False,\n",
    "                seasonality_prior_scale=2.0,\n",
    "                interval_width=0.95)\n",
    "\n",
    "model.add_regressor('daily_state_test')\n",
    "model.add_regressor('precipitation')\n",
    "model.add_regressor('temperature')\n",
    "\n",
    "model.fit(df_Prop)\n",
    "\n",
    "future = model.make_future_dataframe(periods=48)"
   ],
   "metadata": {
    "collapsed": false,
    "ExecuteTime": {
     "end_time": "2023-12-08T19:51:30.430071Z",
     "start_time": "2023-12-08T19:51:30.306953Z"
    }
   }
  },
  {
   "cell_type": "code",
   "execution_count": 17,
   "outputs": [
    {
     "data": {
      "text/plain": "            ds\n0   2020-03-01\n1   2020-03-02\n2   2020-03-03\n3   2020-03-04\n4   2020-03-05\n..         ...\n195 2020-09-12\n196 2020-09-13\n197 2020-09-14\n198 2020-09-15\n199 2020-09-16\n\n[200 rows x 1 columns]",
      "text/html": "<div>\n<style scoped>\n    .dataframe tbody tr th:only-of-type {\n        vertical-align: middle;\n    }\n\n    .dataframe tbody tr th {\n        vertical-align: top;\n    }\n\n    .dataframe thead th {\n        text-align: right;\n    }\n</style>\n<table border=\"1\" class=\"dataframe\">\n  <thead>\n    <tr style=\"text-align: right;\">\n      <th></th>\n      <th>ds</th>\n    </tr>\n  </thead>\n  <tbody>\n    <tr>\n      <th>0</th>\n      <td>2020-03-01</td>\n    </tr>\n    <tr>\n      <th>1</th>\n      <td>2020-03-02</td>\n    </tr>\n    <tr>\n      <th>2</th>\n      <td>2020-03-03</td>\n    </tr>\n    <tr>\n      <th>3</th>\n      <td>2020-03-04</td>\n    </tr>\n    <tr>\n      <th>4</th>\n      <td>2020-03-05</td>\n    </tr>\n    <tr>\n      <th>...</th>\n      <td>...</td>\n    </tr>\n    <tr>\n      <th>195</th>\n      <td>2020-09-12</td>\n    </tr>\n    <tr>\n      <th>196</th>\n      <td>2020-09-13</td>\n    </tr>\n    <tr>\n      <th>197</th>\n      <td>2020-09-14</td>\n    </tr>\n    <tr>\n      <th>198</th>\n      <td>2020-09-15</td>\n    </tr>\n    <tr>\n      <th>199</th>\n      <td>2020-09-16</td>\n    </tr>\n  </tbody>\n</table>\n<p>200 rows × 1 columns</p>\n</div>"
     },
     "execution_count": 17,
     "metadata": {},
     "output_type": "execute_result"
    }
   ],
   "source": [
    "future"
   ],
   "metadata": {
    "collapsed": false,
    "ExecuteTime": {
     "end_time": "2023-12-08T19:51:30.627171Z",
     "start_time": "2023-12-08T19:51:30.534551Z"
    }
   }
  },
  {
   "cell_type": "code",
   "execution_count": 18,
   "outputs": [
    {
     "data": {
      "text/plain": "           ds  daily_state_test  precipitation  temperature\n39 2020-03-01      -1.1878           -0.6853        -1.5469\n40 2020-03-02      -1.1877           -0.6761        -1.2903\n41 2020-03-03      -1.1874           -0.4916        -0.5324\n42 2020-03-04      -1.1876            0.3569        -0.2444\n43 2020-03-05      -1.1851           -0.6554        -0.5916",
      "text/html": "<div>\n<style scoped>\n    .dataframe tbody tr th:only-of-type {\n        vertical-align: middle;\n    }\n\n    .dataframe tbody tr th {\n        vertical-align: top;\n    }\n\n    .dataframe thead th {\n        text-align: right;\n    }\n</style>\n<table border=\"1\" class=\"dataframe\">\n  <thead>\n    <tr style=\"text-align: right;\">\n      <th></th>\n      <th>ds</th>\n      <th>daily_state_test</th>\n      <th>precipitation</th>\n      <th>temperature</th>\n    </tr>\n  </thead>\n  <tbody>\n    <tr>\n      <th>39</th>\n      <td>2020-03-01</td>\n      <td>-1.1878</td>\n      <td>-0.6853</td>\n      <td>-1.5469</td>\n    </tr>\n    <tr>\n      <th>40</th>\n      <td>2020-03-02</td>\n      <td>-1.1877</td>\n      <td>-0.6761</td>\n      <td>-1.2903</td>\n    </tr>\n    <tr>\n      <th>41</th>\n      <td>2020-03-03</td>\n      <td>-1.1874</td>\n      <td>-0.4916</td>\n      <td>-0.5324</td>\n    </tr>\n    <tr>\n      <th>42</th>\n      <td>2020-03-04</td>\n      <td>-1.1876</td>\n      <td>0.3569</td>\n      <td>-0.2444</td>\n    </tr>\n    <tr>\n      <th>43</th>\n      <td>2020-03-05</td>\n      <td>-1.1851</td>\n      <td>-0.6554</td>\n      <td>-0.5916</td>\n    </tr>\n  </tbody>\n</table>\n</div>"
     },
     "execution_count": 18,
     "metadata": {},
     "output_type": "execute_result"
    }
   ],
   "source": [
    "\n",
    "variables = pd.concat([df_train_ne[['date', 'daily_state_test', 'precipitation', 'temperature']],\n",
    "                       df_test_ne[['date', 'daily_state_test', 'precipitation', 'temperature']]])\n",
    "variables.rename(columns={'date': 'ds', 'confirmed': 'y'}, inplace=True)\n",
    "variables.head()"
   ],
   "metadata": {
    "collapsed": false,
    "ExecuteTime": {
     "end_time": "2023-12-08T19:51:30.890019Z",
     "start_time": "2023-12-08T19:51:30.734307Z"
    }
   }
  },
  {
   "cell_type": "code",
   "execution_count": 19,
   "outputs": [
    {
     "name": "stderr",
     "output_type": "stream",
     "text": [
      "13:51:30 - cmdstanpy - INFO - Chain [1] start processing\n",
      "13:51:31 - cmdstanpy - INFO - Chain [1] done processing\n"
     ]
    }
   ],
   "source": [
    "\n",
    "\n",
    "from sklearn.metrics import mean_absolute_error\n",
    "\n",
    "df_Prop = df_train_ne.rename(columns={'date': 'ds', 'confirmed': 'y'})\n",
    "\n",
    "model = Prophet(changepoint_prior_scale=0.3, \n",
    "                yearly_seasonality=False,\n",
    "                weekly_seasonality=True,\n",
    "                daily_seasonality=False, \n",
    "                seasonality_prior_scale=2.0, \n",
    "                interval_width=0.95) \n",
    "\n",
    "model.fit(df_Prop)\n",
    "\n",
    "future = model.make_future_dataframe(periods=48)\n"
   ],
   "metadata": {
    "collapsed": false,
    "ExecuteTime": {
     "end_time": "2023-12-08T19:51:31.190630Z",
     "start_time": "2023-12-08T19:51:30.939870Z"
    }
   }
  },
  {
   "cell_type": "code",
   "execution_count": 20,
   "outputs": [
    {
     "data": {
      "text/plain": "  0%|          | 0/8 [00:00<?, ?it/s]",
      "application/vnd.jupyter.widget-view+json": {
       "version_major": 2,
       "version_minor": 0,
       "model_id": "c3188d779a244c679cef4f38e9e6d3de"
      }
     },
     "metadata": {},
     "output_type": "display_data"
    },
    {
     "name": "stderr",
     "output_type": "stream",
     "text": [
      "13:51:31 - cmdstanpy - INFO - Chain [1] start processing\n",
      "13:51:31 - cmdstanpy - INFO - Chain [1] done processing\n",
      "13:51:31 - cmdstanpy - INFO - Chain [1] start processing\n",
      "13:51:31 - cmdstanpy - INFO - Chain [1] done processing\n",
      "13:51:31 - cmdstanpy - INFO - Chain [1] start processing\n",
      "13:51:32 - cmdstanpy - INFO - Chain [1] done processing\n",
      "13:51:32 - cmdstanpy - INFO - Chain [1] start processing\n",
      "13:51:32 - cmdstanpy - INFO - Chain [1] done processing\n",
      "13:51:33 - cmdstanpy - INFO - Chain [1] start processing\n",
      "13:51:33 - cmdstanpy - INFO - Chain [1] done processing\n",
      "13:51:33 - cmdstanpy - INFO - Chain [1] start processing\n",
      "13:51:33 - cmdstanpy - INFO - Chain [1] done processing\n",
      "13:51:33 - cmdstanpy - INFO - Chain [1] start processing\n",
      "13:51:33 - cmdstanpy - INFO - Chain [1] done processing\n",
      "13:51:33 - cmdstanpy - INFO - Chain [1] start processing\n",
      "13:51:33 - cmdstanpy - INFO - Chain [1] done processing\n"
     ]
    },
    {
     "data": {
      "text/plain": "          ds       yhat  yhat_lower  yhat_upper          y     cutoff\n0 2020-04-10 21847.6637  19692.0735  23969.4285 19243.0000 2020-04-09\n1 2020-04-11 22610.4403  20364.2931  24637.2003 18124.0000 2020-04-09\n2 2020-04-12 21726.7211  19369.2296  24003.4773 15802.0000 2020-04-09\n3 2020-04-13 23072.5923  20806.2914  25263.6357 13295.0000 2020-04-09\n4 2020-04-14 23382.8441  20911.3787  25701.6159 14806.0000 2020-04-09",
      "text/html": "<div>\n<style scoped>\n    .dataframe tbody tr th:only-of-type {\n        vertical-align: middle;\n    }\n\n    .dataframe tbody tr th {\n        vertical-align: top;\n    }\n\n    .dataframe thead th {\n        text-align: right;\n    }\n</style>\n<table border=\"1\" class=\"dataframe\">\n  <thead>\n    <tr style=\"text-align: right;\">\n      <th></th>\n      <th>ds</th>\n      <th>yhat</th>\n      <th>yhat_lower</th>\n      <th>yhat_upper</th>\n      <th>y</th>\n      <th>cutoff</th>\n    </tr>\n  </thead>\n  <tbody>\n    <tr>\n      <th>0</th>\n      <td>2020-04-10</td>\n      <td>21847.6637</td>\n      <td>19692.0735</td>\n      <td>23969.4285</td>\n      <td>19243.0000</td>\n      <td>2020-04-09</td>\n    </tr>\n    <tr>\n      <th>1</th>\n      <td>2020-04-11</td>\n      <td>22610.4403</td>\n      <td>20364.2931</td>\n      <td>24637.2003</td>\n      <td>18124.0000</td>\n      <td>2020-04-09</td>\n    </tr>\n    <tr>\n      <th>2</th>\n      <td>2020-04-12</td>\n      <td>21726.7211</td>\n      <td>19369.2296</td>\n      <td>24003.4773</td>\n      <td>15802.0000</td>\n      <td>2020-04-09</td>\n    </tr>\n    <tr>\n      <th>3</th>\n      <td>2020-04-13</td>\n      <td>23072.5923</td>\n      <td>20806.2914</td>\n      <td>25263.6357</td>\n      <td>13295.0000</td>\n      <td>2020-04-09</td>\n    </tr>\n    <tr>\n      <th>4</th>\n      <td>2020-04-14</td>\n      <td>23382.8441</td>\n      <td>20911.3787</td>\n      <td>25701.6159</td>\n      <td>14806.0000</td>\n      <td>2020-04-09</td>\n    </tr>\n  </tbody>\n</table>\n</div>"
     },
     "execution_count": 20,
     "metadata": {},
     "output_type": "execute_result"
    }
   ],
   "source": [
    "# fine tune  Prophet  withcross validation\n",
    "from prophet.diagnostics import cross_validation\n",
    "df_cv = cross_validation(model, initial='30 days', period='15 days', horizon = '7 days')\n",
    "df_cv.head()"
   ],
   "metadata": {
    "collapsed": false,
    "ExecuteTime": {
     "end_time": "2023-12-08T19:51:33.337863Z",
     "start_time": "2023-12-08T19:51:31.130115Z"
    }
   }
  },
  {
   "cell_type": "code",
   "execution_count": 21,
   "outputs": [
    {
     "data": {
      "text/plain": "           ds       yhat  yhat_lower  yhat_upper          y     cutoff\n0  2020-04-10 21847.6637  19692.0735  23969.4285 19243.0000 2020-04-09\n1  2020-04-11 22610.4403  20364.2931  24637.2003 18124.0000 2020-04-09\n2  2020-04-12 21726.7211  19369.2296  24003.4773 15802.0000 2020-04-09\n3  2020-04-13 23072.5923  20806.2914  25263.6357 13295.0000 2020-04-09\n4  2020-04-14 23382.8441  20911.3787  25701.6159 14806.0000 2020-04-09\n5  2020-04-15 24797.9018  22425.0436  27126.0743 18105.0000 2020-04-09\n6  2020-04-16 25593.5852  23317.6917  27925.9888 17986.0000 2020-04-09\n7  2020-04-25 14505.7105  12125.8419  17034.8033 18781.0000 2020-04-24\n8  2020-04-26 12714.3369  10293.8169  15283.0229 13025.0000 2020-04-24\n9  2020-04-27 12627.9560  10216.9770  14898.4212  9563.0000 2020-04-24\n10 2020-04-28 12251.9817   9704.7021  14691.3702  9623.0000 2020-04-24\n11 2020-04-29 13385.0328  10640.4340  16066.9058 11338.0000 2020-04-24\n12 2020-04-30 13514.8407  10747.5113  16343.6602 12038.0000 2020-04-24\n13 2020-05-01 13986.6282  10784.6598  17040.6325 11381.0000 2020-04-24\n14 2020-05-10  5192.3346   2810.2035   7682.3617  6627.0000 2020-05-09\n15 2020-05-11  4352.8793   1617.5688   7098.8568  6273.0000 2020-05-09\n16 2020-05-12  3839.0604   1220.7468   6335.5547  4784.0000 2020-05-09\n17 2020-05-13  4722.1275   2217.0172   7564.5783  5868.0000 2020-05-09\n18 2020-05-14  4850.5239   2210.5218   7761.8451  6804.0000 2020-05-09\n19 2020-05-15  4861.6588   1882.1504   7644.6101  6891.0000 2020-05-09\n20 2020-05-16  4181.1454   1373.8196   7024.2528  6699.0000 2020-05-09\n21 2020-05-25  2881.0925    575.8473   5224.2890  3816.0000 2020-05-24\n22 2020-05-26  2470.0529     73.2598   5014.2289  3123.0000 2020-05-24\n23 2020-05-27  3636.9672   1026.3861   6014.6139  3680.0000 2020-05-24\n24 2020-05-28  4005.9957   1391.4057   6491.3165  4798.0000 2020-05-24\n25 2020-05-29  4237.1591   1792.0293   6691.9102  4317.0000 2020-05-24\n26 2020-05-30  3820.4571   1122.7916   6591.4096  4174.0000 2020-05-24\n27 2020-05-31  1944.3325   -941.8196   4993.8865  3587.0000 2020-05-24\n28 2020-06-09  1239.5220  -1198.9521   3638.1834  1928.0000 2020-06-08\n29 2020-06-10  2298.9062    -73.8604   4664.6852  2162.0000 2020-06-08\n30 2020-06-11  2722.9376    249.8827   5119.9688  2372.0000 2020-06-08\n31 2020-06-12  2963.7635    230.3980   5538.6856  2593.0000 2020-06-08\n32 2020-06-13  2680.0836     -9.2356   5272.0081  2557.0000 2020-06-08\n33 2020-06-14  1040.1236  -1735.0665   3867.3353  1667.0000 2020-06-08\n34 2020-06-15   822.3987  -2047.8093   3709.8369  1823.0000 2020-06-08\n35 2020-06-24  1181.2371  -1121.1636   3492.6598  1510.0000 2020-06-23\n36 2020-06-25  1607.2616   -761.1590   3971.4476  2081.0000 2020-06-23\n37 2020-06-26  1841.8311   -446.3051   4397.1122  2181.0000 2020-06-23\n38 2020-06-27  1616.8069   -805.4444   4133.8131  2198.0000 2020-06-23\n39 2020-06-28   139.9908  -2170.2876   2583.7577  1822.0000 2020-06-23\n40 2020-06-29    -4.8285  -2513.6556   2506.5401  1522.0000 2020-06-23\n41 2020-06-30  -488.2442  -2981.0900   2228.9468  1854.0000 2020-06-23\n42 2020-07-09  2281.8116     15.9260   4366.8964  2560.0000 2020-07-08\n43 2020-07-10  2617.2034    410.4937   4895.5706  2462.0000 2020-07-08\n44 2020-07-11  2437.6367    249.5932   4736.0616  2248.0000 2020-07-08\n45 2020-07-12  1174.7466  -1081.5479   3373.8467  1811.0000 2020-07-08\n46 2020-07-13  1107.5552  -1317.7709   3505.6938  1715.0000 2020-07-08\n47 2020-07-14   789.0206  -1824.5965   3245.1453  2596.0000 2020-07-08\n48 2020-07-15  1659.4501   -749.1696   4434.6779  2537.0000 2020-07-08\n49 2020-07-24  3145.5066    915.9500   5211.9051  3391.0000 2020-07-23\n50 2020-07-25  2982.7070    739.6223   5103.4686  2694.0000 2020-07-23\n51 2020-07-26  1832.6562   -284.8301   3991.7132  2226.0000 2020-07-23\n52 2020-07-27  1820.7171   -413.3027   4018.5479  2403.0000 2020-07-23\n53 2020-07-28  1573.0540   -739.6141   3865.0093  2562.0000 2020-07-23\n54 2020-07-29  2404.5046     43.4383   4899.3598  3666.0000 2020-07-23\n55 2020-07-30  2894.1149    560.9478   5580.7097  2464.0000 2020-07-23",
      "text/html": "<div>\n<style scoped>\n    .dataframe tbody tr th:only-of-type {\n        vertical-align: middle;\n    }\n\n    .dataframe tbody tr th {\n        vertical-align: top;\n    }\n\n    .dataframe thead th {\n        text-align: right;\n    }\n</style>\n<table border=\"1\" class=\"dataframe\">\n  <thead>\n    <tr style=\"text-align: right;\">\n      <th></th>\n      <th>ds</th>\n      <th>yhat</th>\n      <th>yhat_lower</th>\n      <th>yhat_upper</th>\n      <th>y</th>\n      <th>cutoff</th>\n    </tr>\n  </thead>\n  <tbody>\n    <tr>\n      <th>0</th>\n      <td>2020-04-10</td>\n      <td>21847.6637</td>\n      <td>19692.0735</td>\n      <td>23969.4285</td>\n      <td>19243.0000</td>\n      <td>2020-04-09</td>\n    </tr>\n    <tr>\n      <th>1</th>\n      <td>2020-04-11</td>\n      <td>22610.4403</td>\n      <td>20364.2931</td>\n      <td>24637.2003</td>\n      <td>18124.0000</td>\n      <td>2020-04-09</td>\n    </tr>\n    <tr>\n      <th>2</th>\n      <td>2020-04-12</td>\n      <td>21726.7211</td>\n      <td>19369.2296</td>\n      <td>24003.4773</td>\n      <td>15802.0000</td>\n      <td>2020-04-09</td>\n    </tr>\n    <tr>\n      <th>3</th>\n      <td>2020-04-13</td>\n      <td>23072.5923</td>\n      <td>20806.2914</td>\n      <td>25263.6357</td>\n      <td>13295.0000</td>\n      <td>2020-04-09</td>\n    </tr>\n    <tr>\n      <th>4</th>\n      <td>2020-04-14</td>\n      <td>23382.8441</td>\n      <td>20911.3787</td>\n      <td>25701.6159</td>\n      <td>14806.0000</td>\n      <td>2020-04-09</td>\n    </tr>\n    <tr>\n      <th>5</th>\n      <td>2020-04-15</td>\n      <td>24797.9018</td>\n      <td>22425.0436</td>\n      <td>27126.0743</td>\n      <td>18105.0000</td>\n      <td>2020-04-09</td>\n    </tr>\n    <tr>\n      <th>6</th>\n      <td>2020-04-16</td>\n      <td>25593.5852</td>\n      <td>23317.6917</td>\n      <td>27925.9888</td>\n      <td>17986.0000</td>\n      <td>2020-04-09</td>\n    </tr>\n    <tr>\n      <th>7</th>\n      <td>2020-04-25</td>\n      <td>14505.7105</td>\n      <td>12125.8419</td>\n      <td>17034.8033</td>\n      <td>18781.0000</td>\n      <td>2020-04-24</td>\n    </tr>\n    <tr>\n      <th>8</th>\n      <td>2020-04-26</td>\n      <td>12714.3369</td>\n      <td>10293.8169</td>\n      <td>15283.0229</td>\n      <td>13025.0000</td>\n      <td>2020-04-24</td>\n    </tr>\n    <tr>\n      <th>9</th>\n      <td>2020-04-27</td>\n      <td>12627.9560</td>\n      <td>10216.9770</td>\n      <td>14898.4212</td>\n      <td>9563.0000</td>\n      <td>2020-04-24</td>\n    </tr>\n    <tr>\n      <th>10</th>\n      <td>2020-04-28</td>\n      <td>12251.9817</td>\n      <td>9704.7021</td>\n      <td>14691.3702</td>\n      <td>9623.0000</td>\n      <td>2020-04-24</td>\n    </tr>\n    <tr>\n      <th>11</th>\n      <td>2020-04-29</td>\n      <td>13385.0328</td>\n      <td>10640.4340</td>\n      <td>16066.9058</td>\n      <td>11338.0000</td>\n      <td>2020-04-24</td>\n    </tr>\n    <tr>\n      <th>12</th>\n      <td>2020-04-30</td>\n      <td>13514.8407</td>\n      <td>10747.5113</td>\n      <td>16343.6602</td>\n      <td>12038.0000</td>\n      <td>2020-04-24</td>\n    </tr>\n    <tr>\n      <th>13</th>\n      <td>2020-05-01</td>\n      <td>13986.6282</td>\n      <td>10784.6598</td>\n      <td>17040.6325</td>\n      <td>11381.0000</td>\n      <td>2020-04-24</td>\n    </tr>\n    <tr>\n      <th>14</th>\n      <td>2020-05-10</td>\n      <td>5192.3346</td>\n      <td>2810.2035</td>\n      <td>7682.3617</td>\n      <td>6627.0000</td>\n      <td>2020-05-09</td>\n    </tr>\n    <tr>\n      <th>15</th>\n      <td>2020-05-11</td>\n      <td>4352.8793</td>\n      <td>1617.5688</td>\n      <td>7098.8568</td>\n      <td>6273.0000</td>\n      <td>2020-05-09</td>\n    </tr>\n    <tr>\n      <th>16</th>\n      <td>2020-05-12</td>\n      <td>3839.0604</td>\n      <td>1220.7468</td>\n      <td>6335.5547</td>\n      <td>4784.0000</td>\n      <td>2020-05-09</td>\n    </tr>\n    <tr>\n      <th>17</th>\n      <td>2020-05-13</td>\n      <td>4722.1275</td>\n      <td>2217.0172</td>\n      <td>7564.5783</td>\n      <td>5868.0000</td>\n      <td>2020-05-09</td>\n    </tr>\n    <tr>\n      <th>18</th>\n      <td>2020-05-14</td>\n      <td>4850.5239</td>\n      <td>2210.5218</td>\n      <td>7761.8451</td>\n      <td>6804.0000</td>\n      <td>2020-05-09</td>\n    </tr>\n    <tr>\n      <th>19</th>\n      <td>2020-05-15</td>\n      <td>4861.6588</td>\n      <td>1882.1504</td>\n      <td>7644.6101</td>\n      <td>6891.0000</td>\n      <td>2020-05-09</td>\n    </tr>\n    <tr>\n      <th>20</th>\n      <td>2020-05-16</td>\n      <td>4181.1454</td>\n      <td>1373.8196</td>\n      <td>7024.2528</td>\n      <td>6699.0000</td>\n      <td>2020-05-09</td>\n    </tr>\n    <tr>\n      <th>21</th>\n      <td>2020-05-25</td>\n      <td>2881.0925</td>\n      <td>575.8473</td>\n      <td>5224.2890</td>\n      <td>3816.0000</td>\n      <td>2020-05-24</td>\n    </tr>\n    <tr>\n      <th>22</th>\n      <td>2020-05-26</td>\n      <td>2470.0529</td>\n      <td>73.2598</td>\n      <td>5014.2289</td>\n      <td>3123.0000</td>\n      <td>2020-05-24</td>\n    </tr>\n    <tr>\n      <th>23</th>\n      <td>2020-05-27</td>\n      <td>3636.9672</td>\n      <td>1026.3861</td>\n      <td>6014.6139</td>\n      <td>3680.0000</td>\n      <td>2020-05-24</td>\n    </tr>\n    <tr>\n      <th>24</th>\n      <td>2020-05-28</td>\n      <td>4005.9957</td>\n      <td>1391.4057</td>\n      <td>6491.3165</td>\n      <td>4798.0000</td>\n      <td>2020-05-24</td>\n    </tr>\n    <tr>\n      <th>25</th>\n      <td>2020-05-29</td>\n      <td>4237.1591</td>\n      <td>1792.0293</td>\n      <td>6691.9102</td>\n      <td>4317.0000</td>\n      <td>2020-05-24</td>\n    </tr>\n    <tr>\n      <th>26</th>\n      <td>2020-05-30</td>\n      <td>3820.4571</td>\n      <td>1122.7916</td>\n      <td>6591.4096</td>\n      <td>4174.0000</td>\n      <td>2020-05-24</td>\n    </tr>\n    <tr>\n      <th>27</th>\n      <td>2020-05-31</td>\n      <td>1944.3325</td>\n      <td>-941.8196</td>\n      <td>4993.8865</td>\n      <td>3587.0000</td>\n      <td>2020-05-24</td>\n    </tr>\n    <tr>\n      <th>28</th>\n      <td>2020-06-09</td>\n      <td>1239.5220</td>\n      <td>-1198.9521</td>\n      <td>3638.1834</td>\n      <td>1928.0000</td>\n      <td>2020-06-08</td>\n    </tr>\n    <tr>\n      <th>29</th>\n      <td>2020-06-10</td>\n      <td>2298.9062</td>\n      <td>-73.8604</td>\n      <td>4664.6852</td>\n      <td>2162.0000</td>\n      <td>2020-06-08</td>\n    </tr>\n    <tr>\n      <th>30</th>\n      <td>2020-06-11</td>\n      <td>2722.9376</td>\n      <td>249.8827</td>\n      <td>5119.9688</td>\n      <td>2372.0000</td>\n      <td>2020-06-08</td>\n    </tr>\n    <tr>\n      <th>31</th>\n      <td>2020-06-12</td>\n      <td>2963.7635</td>\n      <td>230.3980</td>\n      <td>5538.6856</td>\n      <td>2593.0000</td>\n      <td>2020-06-08</td>\n    </tr>\n    <tr>\n      <th>32</th>\n      <td>2020-06-13</td>\n      <td>2680.0836</td>\n      <td>-9.2356</td>\n      <td>5272.0081</td>\n      <td>2557.0000</td>\n      <td>2020-06-08</td>\n    </tr>\n    <tr>\n      <th>33</th>\n      <td>2020-06-14</td>\n      <td>1040.1236</td>\n      <td>-1735.0665</td>\n      <td>3867.3353</td>\n      <td>1667.0000</td>\n      <td>2020-06-08</td>\n    </tr>\n    <tr>\n      <th>34</th>\n      <td>2020-06-15</td>\n      <td>822.3987</td>\n      <td>-2047.8093</td>\n      <td>3709.8369</td>\n      <td>1823.0000</td>\n      <td>2020-06-08</td>\n    </tr>\n    <tr>\n      <th>35</th>\n      <td>2020-06-24</td>\n      <td>1181.2371</td>\n      <td>-1121.1636</td>\n      <td>3492.6598</td>\n      <td>1510.0000</td>\n      <td>2020-06-23</td>\n    </tr>\n    <tr>\n      <th>36</th>\n      <td>2020-06-25</td>\n      <td>1607.2616</td>\n      <td>-761.1590</td>\n      <td>3971.4476</td>\n      <td>2081.0000</td>\n      <td>2020-06-23</td>\n    </tr>\n    <tr>\n      <th>37</th>\n      <td>2020-06-26</td>\n      <td>1841.8311</td>\n      <td>-446.3051</td>\n      <td>4397.1122</td>\n      <td>2181.0000</td>\n      <td>2020-06-23</td>\n    </tr>\n    <tr>\n      <th>38</th>\n      <td>2020-06-27</td>\n      <td>1616.8069</td>\n      <td>-805.4444</td>\n      <td>4133.8131</td>\n      <td>2198.0000</td>\n      <td>2020-06-23</td>\n    </tr>\n    <tr>\n      <th>39</th>\n      <td>2020-06-28</td>\n      <td>139.9908</td>\n      <td>-2170.2876</td>\n      <td>2583.7577</td>\n      <td>1822.0000</td>\n      <td>2020-06-23</td>\n    </tr>\n    <tr>\n      <th>40</th>\n      <td>2020-06-29</td>\n      <td>-4.8285</td>\n      <td>-2513.6556</td>\n      <td>2506.5401</td>\n      <td>1522.0000</td>\n      <td>2020-06-23</td>\n    </tr>\n    <tr>\n      <th>41</th>\n      <td>2020-06-30</td>\n      <td>-488.2442</td>\n      <td>-2981.0900</td>\n      <td>2228.9468</td>\n      <td>1854.0000</td>\n      <td>2020-06-23</td>\n    </tr>\n    <tr>\n      <th>42</th>\n      <td>2020-07-09</td>\n      <td>2281.8116</td>\n      <td>15.9260</td>\n      <td>4366.8964</td>\n      <td>2560.0000</td>\n      <td>2020-07-08</td>\n    </tr>\n    <tr>\n      <th>43</th>\n      <td>2020-07-10</td>\n      <td>2617.2034</td>\n      <td>410.4937</td>\n      <td>4895.5706</td>\n      <td>2462.0000</td>\n      <td>2020-07-08</td>\n    </tr>\n    <tr>\n      <th>44</th>\n      <td>2020-07-11</td>\n      <td>2437.6367</td>\n      <td>249.5932</td>\n      <td>4736.0616</td>\n      <td>2248.0000</td>\n      <td>2020-07-08</td>\n    </tr>\n    <tr>\n      <th>45</th>\n      <td>2020-07-12</td>\n      <td>1174.7466</td>\n      <td>-1081.5479</td>\n      <td>3373.8467</td>\n      <td>1811.0000</td>\n      <td>2020-07-08</td>\n    </tr>\n    <tr>\n      <th>46</th>\n      <td>2020-07-13</td>\n      <td>1107.5552</td>\n      <td>-1317.7709</td>\n      <td>3505.6938</td>\n      <td>1715.0000</td>\n      <td>2020-07-08</td>\n    </tr>\n    <tr>\n      <th>47</th>\n      <td>2020-07-14</td>\n      <td>789.0206</td>\n      <td>-1824.5965</td>\n      <td>3245.1453</td>\n      <td>2596.0000</td>\n      <td>2020-07-08</td>\n    </tr>\n    <tr>\n      <th>48</th>\n      <td>2020-07-15</td>\n      <td>1659.4501</td>\n      <td>-749.1696</td>\n      <td>4434.6779</td>\n      <td>2537.0000</td>\n      <td>2020-07-08</td>\n    </tr>\n    <tr>\n      <th>49</th>\n      <td>2020-07-24</td>\n      <td>3145.5066</td>\n      <td>915.9500</td>\n      <td>5211.9051</td>\n      <td>3391.0000</td>\n      <td>2020-07-23</td>\n    </tr>\n    <tr>\n      <th>50</th>\n      <td>2020-07-25</td>\n      <td>2982.7070</td>\n      <td>739.6223</td>\n      <td>5103.4686</td>\n      <td>2694.0000</td>\n      <td>2020-07-23</td>\n    </tr>\n    <tr>\n      <th>51</th>\n      <td>2020-07-26</td>\n      <td>1832.6562</td>\n      <td>-284.8301</td>\n      <td>3991.7132</td>\n      <td>2226.0000</td>\n      <td>2020-07-23</td>\n    </tr>\n    <tr>\n      <th>52</th>\n      <td>2020-07-27</td>\n      <td>1820.7171</td>\n      <td>-413.3027</td>\n      <td>4018.5479</td>\n      <td>2403.0000</td>\n      <td>2020-07-23</td>\n    </tr>\n    <tr>\n      <th>53</th>\n      <td>2020-07-28</td>\n      <td>1573.0540</td>\n      <td>-739.6141</td>\n      <td>3865.0093</td>\n      <td>2562.0000</td>\n      <td>2020-07-23</td>\n    </tr>\n    <tr>\n      <th>54</th>\n      <td>2020-07-29</td>\n      <td>2404.5046</td>\n      <td>43.4383</td>\n      <td>4899.3598</td>\n      <td>3666.0000</td>\n      <td>2020-07-23</td>\n    </tr>\n    <tr>\n      <th>55</th>\n      <td>2020-07-30</td>\n      <td>2894.1149</td>\n      <td>560.9478</td>\n      <td>5580.7097</td>\n      <td>2464.0000</td>\n      <td>2020-07-23</td>\n    </tr>\n  </tbody>\n</table>\n</div>"
     },
     "execution_count": 21,
     "metadata": {},
     "output_type": "execute_result"
    }
   ],
   "source": [
    "df_cv"
   ],
   "metadata": {
    "collapsed": false,
    "ExecuteTime": {
     "end_time": "2023-12-08T19:51:33.356405Z",
     "start_time": "2023-12-08T19:51:33.344967Z"
    }
   }
  },
  {
   "cell_type": "code",
   "execution_count": 22,
   "outputs": [
    {
     "data": {
      "text/plain": "  horizon          mse      rmse       mae   mape  mdape  smape  coverage\n0  1 days 3589304.1494 1894.5459 1348.8061 0.1975 0.2171 0.2218    0.7500\n1  2 days 3086059.0885 1756.7183 1053.0908 0.1560 0.1581 0.1651    0.8750\n2  3 days 5727489.0891 2393.2173 1406.3421 0.1836 0.1661 0.1755    0.7500\n3  4 days 13209034.... 3634.4235 2064.3680 0.2963 0.2534 0.2893    0.7500\n4  5 days 10720793.... 3274.2623 2007.3347 0.3471 0.3207 0.4549    0.8750\n5  6 days 7349991.9786 2711.0869 1971.8508 0.4114 0.3569 0.6010    0.8750\n6  7 days 10143125.... 3184.8274 2378.0307 0.4773 0.3994 0.6183    0.8750",
      "text/html": "<div>\n<style scoped>\n    .dataframe tbody tr th:only-of-type {\n        vertical-align: middle;\n    }\n\n    .dataframe tbody tr th {\n        vertical-align: top;\n    }\n\n    .dataframe thead th {\n        text-align: right;\n    }\n</style>\n<table border=\"1\" class=\"dataframe\">\n  <thead>\n    <tr style=\"text-align: right;\">\n      <th></th>\n      <th>horizon</th>\n      <th>mse</th>\n      <th>rmse</th>\n      <th>mae</th>\n      <th>mape</th>\n      <th>mdape</th>\n      <th>smape</th>\n      <th>coverage</th>\n    </tr>\n  </thead>\n  <tbody>\n    <tr>\n      <th>0</th>\n      <td>1 days</td>\n      <td>3589304.1494</td>\n      <td>1894.5459</td>\n      <td>1348.8061</td>\n      <td>0.1975</td>\n      <td>0.2171</td>\n      <td>0.2218</td>\n      <td>0.7500</td>\n    </tr>\n    <tr>\n      <th>1</th>\n      <td>2 days</td>\n      <td>3086059.0885</td>\n      <td>1756.7183</td>\n      <td>1053.0908</td>\n      <td>0.1560</td>\n      <td>0.1581</td>\n      <td>0.1651</td>\n      <td>0.8750</td>\n    </tr>\n    <tr>\n      <th>2</th>\n      <td>3 days</td>\n      <td>5727489.0891</td>\n      <td>2393.2173</td>\n      <td>1406.3421</td>\n      <td>0.1836</td>\n      <td>0.1661</td>\n      <td>0.1755</td>\n      <td>0.7500</td>\n    </tr>\n    <tr>\n      <th>3</th>\n      <td>4 days</td>\n      <td>13209034....</td>\n      <td>3634.4235</td>\n      <td>2064.3680</td>\n      <td>0.2963</td>\n      <td>0.2534</td>\n      <td>0.2893</td>\n      <td>0.7500</td>\n    </tr>\n    <tr>\n      <th>4</th>\n      <td>5 days</td>\n      <td>10720793....</td>\n      <td>3274.2623</td>\n      <td>2007.3347</td>\n      <td>0.3471</td>\n      <td>0.3207</td>\n      <td>0.4549</td>\n      <td>0.8750</td>\n    </tr>\n    <tr>\n      <th>5</th>\n      <td>6 days</td>\n      <td>7349991.9786</td>\n      <td>2711.0869</td>\n      <td>1971.8508</td>\n      <td>0.4114</td>\n      <td>0.3569</td>\n      <td>0.6010</td>\n      <td>0.8750</td>\n    </tr>\n    <tr>\n      <th>6</th>\n      <td>7 days</td>\n      <td>10143125....</td>\n      <td>3184.8274</td>\n      <td>2378.0307</td>\n      <td>0.4773</td>\n      <td>0.3994</td>\n      <td>0.6183</td>\n      <td>0.8750</td>\n    </tr>\n  </tbody>\n</table>\n</div>"
     },
     "execution_count": 22,
     "metadata": {},
     "output_type": "execute_result"
    }
   ],
   "source": [
    "# get the best\n",
    "from prophet.diagnostics import performance_metrics\n",
    "df_p = performance_metrics(df_cv)\n",
    "df_p"
   ],
   "metadata": {
    "collapsed": false,
    "ExecuteTime": {
     "end_time": "2023-12-08T19:51:33.565588Z",
     "start_time": "2023-12-08T19:51:33.374085Z"
    }
   }
  },
  {
   "cell_type": "code",
   "execution_count": 23,
   "outputs": [
    {
     "data": {
      "text/plain": "<Figure size 1200x1500 with 6 Axes>",
      "image/png": "[encoded data removed]"
     },
     "metadata": {},
     "output_type": "display_data"
    }
   ],
   "source": [
    "# plot the performance\n",
    "from prophet.plot import plot_cross_validation_metric\n",
    "# six subplots\n",
    "fig, ax = plt.subplots(3, 2, figsize=(12, 15))\n",
    "# plot 1\n",
    "plot_cross_validation_metric(df_cv, metric='mae', ax=ax[0, 0])\n",
    "ax[0, 0].set_title('MAE')\n",
    "ax[0, 0].set_xlabel('Date')\n",
    "ax[0, 0].set_ylabel('MAE')\n",
    "# plot 2\n",
    "plot_cross_validation_metric(df_cv, metric='rmse', ax=ax[0, 1])\n",
    "ax[0, 1].set_title('RMSE')\n",
    "ax[0, 1].set_xlabel('Date')\n",
    "ax[0, 1].set_ylabel('RMSE')\n",
    "# plot 3\n",
    "plot_cross_validation_metric(df_cv, metric='mse', ax=ax[1, 0])\n",
    "ax[1, 0].set_title('MSE')\n",
    "ax[1, 0].set_xlabel('Date')\n",
    "\n",
    "ax[1, 0].set_ylabel('MSE')\n",
    "# plot 4\n",
    "plot_cross_validation_metric(df_cv, metric='mape', ax=ax[1, 1])\n",
    "ax[1, 1].set_title('MAPE')\n",
    "ax[1, 1].set_xlabel('Date')\n",
    "ax[1, 1].set_ylabel('MAPE')\n",
    "# plot 5\n",
    "plot_cross_validation_metric(df_cv, metric='mdape', ax=ax[2, 0])\n",
    "ax[2, 0].set_title('MDAPE')\n",
    "ax[2, 0].set_xlabel('Date')\n",
    "ax[2, 0].set_ylabel('MDAPE')\n",
    "# plot 6\n",
    "plot_cross_validation_metric(df_cv, metric='coverage', ax=ax[2, 1])\n",
    "ax[2, 1].set_title('Coverage')\n",
    "ax[2, 1].set_xlabel('Date')\n",
    "ax[2, 1].set_ylabel('Coverage')\n",
    "plt.show()"
   ],
   "metadata": {
    "collapsed": false,
    "ExecuteTime": {
     "end_time": "2023-12-08T19:51:34.392638Z",
     "start_time": "2023-12-08T19:51:33.403843Z"
    }
   }
  },
  {
   "cell_type": "code",
   "execution_count": 40,
   "outputs": [
    {
     "name": "stderr",
     "output_type": "stream",
     "text": [
      "13:58:06 - cmdstanpy - INFO - Chain [1] start processing\n",
      "13:58:06 - cmdstanpy - INFO - Chain [1] done processing\n"
     ]
    },
    {
     "data": {
      "text/plain": "  0%|          | 0/3 [00:00<?, ?it/s]",
      "application/vnd.jupyter.widget-view+json": {
       "version_major": 2,
       "version_minor": 0,
       "model_id": "bb179f263cae417db622e8bc40c8b90d"
      }
     },
     "metadata": {},
     "output_type": "display_data"
    },
    {
     "name": "stderr",
     "output_type": "stream",
     "text": [
      "13:58:06 - cmdstanpy - INFO - Chain [1] start processing\n",
      "13:58:08 - cmdstanpy - INFO - Chain [1] done processing\n",
      "13:58:08 - cmdstanpy - INFO - Chain [1] start processing\n",
      "13:58:08 - cmdstanpy - INFO - Chain [1] done processing\n",
      "13:58:08 - cmdstanpy - INFO - Chain [1] start processing\n",
      "13:58:08 - cmdstanpy - INFO - Chain [1] done processing\n",
      "13:58:08 - cmdstanpy - INFO - Chain [1] start processing\n",
      "13:58:08 - cmdstanpy - INFO - Chain [1] done processing\n",
      "Seasonality has period of 365.25 days which is larger than initial window. Consider increasing initial.\n"
     ]
    },
    {
     "name": "stdout",
     "output_type": "stream",
     "text": [
      "  horizon          mse      rmse       mae   mape  mdape  smape  coverage\n",
      "0  1 days 2260459.8151 1503.4826 1307.7072 0.5103 0.5915 0.7727    0.6667\n"
     ]
    },
    {
     "data": {
      "text/plain": "  0%|          | 0/3 [00:00<?, ?it/s]",
      "application/vnd.jupyter.widget-view+json": {
       "version_major": 2,
       "version_minor": 0,
       "model_id": "bfdaf705e6294b21adb4d21c4ee63337"
      }
     },
     "metadata": {},
     "output_type": "display_data"
    },
    {
     "name": "stderr",
     "output_type": "stream",
     "text": [
      "13:58:08 - cmdstanpy - INFO - Chain [1] start processing\n",
      "13:58:08 - cmdstanpy - INFO - Chain [1] done processing\n",
      "13:58:08 - cmdstanpy - INFO - Chain [1] start processing\n",
      "13:58:08 - cmdstanpy - INFO - Chain [1] done processing\n",
      "13:58:08 - cmdstanpy - INFO - Chain [1] start processing\n",
      "13:58:08 - cmdstanpy - INFO - Chain [1] done processing\n",
      "13:58:08 - cmdstanpy - INFO - Chain [1] start processing\n",
      "13:58:08 - cmdstanpy - INFO - Chain [1] done processing\n"
     ]
    },
    {
     "name": "stdout",
     "output_type": "stream",
     "text": [
      "  horizon          mse      rmse       mae   mape  mdape  smape  coverage\n",
      "0  1 days 3121087.9552 1766.6601 1506.2243 0.5619 0.7223 0.6177    0.6667\n"
     ]
    },
    {
     "data": {
      "text/plain": "  0%|          | 0/3 [00:00<?, ?it/s]",
      "application/vnd.jupyter.widget-view+json": {
       "version_major": 2,
       "version_minor": 0,
       "model_id": "d4c8c619b9da4737a41c2b8c69da0e2d"
      }
     },
     "metadata": {},
     "output_type": "display_data"
    },
    {
     "name": "stderr",
     "output_type": "stream",
     "text": [
      "13:58:08 - cmdstanpy - INFO - Chain [1] start processing\n",
      "13:58:09 - cmdstanpy - INFO - Chain [1] done processing\n",
      "13:58:09 - cmdstanpy - INFO - Chain [1] start processing\n",
      "13:58:09 - cmdstanpy - INFO - Chain [1] done processing\n",
      "13:58:09 - cmdstanpy - INFO - Chain [1] start processing\n",
      "13:58:09 - cmdstanpy - INFO - Chain [1] done processing\n",
      "13:58:09 - cmdstanpy - INFO - Chain [1] start processing\n",
      "13:58:09 - cmdstanpy - INFO - Chain [1] done processing\n",
      "Seasonality has period of 365.25 days which is larger than initial window. Consider increasing initial.\n"
     ]
    },
    {
     "name": "stdout",
     "output_type": "stream",
     "text": [
      "  horizon          mse      rmse       mae   mape  mdape  smape  coverage\n",
      "0  1 days 2177937.3361 1475.7836 1299.4154 0.5103 0.5732 0.7721    0.6667\n"
     ]
    },
    {
     "data": {
      "text/plain": "  0%|          | 0/3 [00:00<?, ?it/s]",
      "application/vnd.jupyter.widget-view+json": {
       "version_major": 2,
       "version_minor": 0,
       "model_id": "846183758f5c4230a63bba4996e6be55"
      }
     },
     "metadata": {},
     "output_type": "display_data"
    },
    {
     "name": "stderr",
     "output_type": "stream",
     "text": [
      "13:58:09 - cmdstanpy - INFO - Chain [1] start processing\n",
      "13:58:10 - cmdstanpy - INFO - Chain [1] done processing\n",
      "13:58:10 - cmdstanpy - INFO - Chain [1] start processing\n",
      "13:58:10 - cmdstanpy - INFO - Chain [1] done processing\n",
      "13:58:10 - cmdstanpy - INFO - Chain [1] start processing\n",
      "13:58:10 - cmdstanpy - INFO - Chain [1] done processing\n",
      "13:58:10 - cmdstanpy - INFO - Chain [1] start processing\n",
      "13:58:10 - cmdstanpy - INFO - Chain [1] done processing\n"
     ]
    },
    {
     "name": "stdout",
     "output_type": "stream",
     "text": [
      "  horizon          mse      rmse       mae   mape  mdape  smape  coverage\n",
      "0  1 days 5359662.3484 2315.0945 1886.2982 0.7504 0.9232 0.8515    0.3333\n"
     ]
    },
    {
     "data": {
      "text/plain": "  0%|          | 0/3 [00:00<?, ?it/s]",
      "application/vnd.jupyter.widget-view+json": {
       "version_major": 2,
       "version_minor": 0,
       "model_id": "1fc2bba33d454240a45e2f636950269b"
      }
     },
     "metadata": {},
     "output_type": "display_data"
    },
    {
     "name": "stderr",
     "output_type": "stream",
     "text": [
      "13:58:10 - cmdstanpy - INFO - Chain [1] start processing\n",
      "13:58:11 - cmdstanpy - INFO - Chain [1] done processing\n",
      "13:58:11 - cmdstanpy - INFO - Chain [1] start processing\n",
      "13:58:11 - cmdstanpy - INFO - Chain [1] done processing\n",
      "13:58:11 - cmdstanpy - INFO - Chain [1] start processing\n",
      "13:58:11 - cmdstanpy - INFO - Chain [1] done processing\n",
      "13:58:11 - cmdstanpy - INFO - Chain [1] start processing\n",
      "13:58:11 - cmdstanpy - INFO - Chain [1] done processing\n",
      "Seasonality has period of 365.25 days which is larger than initial window. Consider increasing initial.\n"
     ]
    },
    {
     "name": "stdout",
     "output_type": "stream",
     "text": [
      "  horizon          mse      rmse       mae   mape  mdape  smape  coverage\n",
      "0  1 days 2161753.1723 1470.2902 1282.1160 0.5049 0.5734 0.7661    0.6667\n"
     ]
    },
    {
     "data": {
      "text/plain": "  0%|          | 0/3 [00:00<?, ?it/s]",
      "application/vnd.jupyter.widget-view+json": {
       "version_major": 2,
       "version_minor": 0,
       "model_id": "d9b3e858f1904d9892cca56f0c1e1805"
      }
     },
     "metadata": {},
     "output_type": "display_data"
    },
    {
     "name": "stderr",
     "output_type": "stream",
     "text": [
      "13:58:11 - cmdstanpy - INFO - Chain [1] start processing\n",
      "13:58:11 - cmdstanpy - INFO - Chain [1] done processing\n",
      "13:58:12 - cmdstanpy - INFO - Chain [1] start processing\n",
      "13:58:12 - cmdstanpy - INFO - Chain [1] done processing\n",
      "13:58:12 - cmdstanpy - INFO - Chain [1] start processing\n",
      "13:58:12 - cmdstanpy - INFO - Chain [1] done processing\n",
      "13:58:12 - cmdstanpy - INFO - Chain [1] start processing\n",
      "13:58:12 - cmdstanpy - INFO - Chain [1] done processing\n"
     ]
    },
    {
     "name": "stdout",
     "output_type": "stream",
     "text": [
      "  horizon          mse      rmse       mae   mape  mdape  smape  coverage\n",
      "0  1 days 6279323.8154 2505.8579 2054.9587 0.7859 1.0265 0.9569    0.6667\n"
     ]
    },
    {
     "data": {
      "text/plain": "  0%|          | 0/3 [00:00<?, ?it/s]",
      "application/vnd.jupyter.widget-view+json": {
       "version_major": 2,
       "version_minor": 0,
       "model_id": "aba08910b1e246a2b0445d7388385f27"
      }
     },
     "metadata": {},
     "output_type": "display_data"
    },
    {
     "name": "stderr",
     "output_type": "stream",
     "text": [
      "13:58:12 - cmdstanpy - INFO - Chain [1] start processing\n",
      "13:58:12 - cmdstanpy - INFO - Chain [1] done processing\n",
      "13:58:13 - cmdstanpy - INFO - Chain [1] start processing\n",
      "13:58:13 - cmdstanpy - INFO - Chain [1] done processing\n",
      "13:58:13 - cmdstanpy - INFO - Chain [1] start processing\n",
      "13:58:13 - cmdstanpy - INFO - Chain [1] done processing\n",
      "13:58:13 - cmdstanpy - INFO - Chain [1] start processing\n",
      "13:58:13 - cmdstanpy - INFO - Chain [1] done processing\n",
      "Seasonality has period of 365.25 days which is larger than initial window. Consider increasing initial.\n"
     ]
    },
    {
     "name": "stdout",
     "output_type": "stream",
     "text": [
      "  horizon          mse      rmse       mae   mape  mdape  smape  coverage\n",
      "0  1 days 2239413.7213 1496.4671 1307.6096 0.5075 0.5894 0.7597    0.6667\n"
     ]
    },
    {
     "data": {
      "text/plain": "  0%|          | 0/3 [00:00<?, ?it/s]",
      "application/vnd.jupyter.widget-view+json": {
       "version_major": 2,
       "version_minor": 0,
       "model_id": "e04c6649f658469bb4d70c5e356c2b00"
      }
     },
     "metadata": {},
     "output_type": "display_data"
    },
    {
     "name": "stderr",
     "output_type": "stream",
     "text": [
      "13:58:13 - cmdstanpy - INFO - Chain [1] start processing\n",
      "13:58:13 - cmdstanpy - INFO - Chain [1] done processing\n",
      "13:58:13 - cmdstanpy - INFO - Chain [1] start processing\n",
      "13:58:13 - cmdstanpy - INFO - Chain [1] done processing\n",
      "13:58:13 - cmdstanpy - INFO - Chain [1] start processing\n",
      "13:58:13 - cmdstanpy - INFO - Chain [1] done processing\n",
      "13:58:13 - cmdstanpy - INFO - Chain [1] start processing\n",
      "13:58:13 - cmdstanpy - INFO - Chain [1] done processing\n"
     ]
    },
    {
     "name": "stdout",
     "output_type": "stream",
     "text": [
      "  horizon          mse      rmse       mae   mape  mdape  smape  coverage\n",
      "0  1 days 5890189.1675 2426.9712 1958.2858 0.7610 0.9885 0.9288    0.6667\n"
     ]
    },
    {
     "data": {
      "text/plain": "  0%|          | 0/3 [00:00<?, ?it/s]",
      "application/vnd.jupyter.widget-view+json": {
       "version_major": 2,
       "version_minor": 0,
       "model_id": "bdca52100d324d4aa2d4eb86ce892f29"
      }
     },
     "metadata": {},
     "output_type": "display_data"
    },
    {
     "name": "stderr",
     "output_type": "stream",
     "text": [
      "13:58:13 - cmdstanpy - INFO - Chain [1] start processing\n",
      "13:58:14 - cmdstanpy - INFO - Chain [1] done processing\n",
      "13:58:14 - cmdstanpy - INFO - Chain [1] start processing\n",
      "13:58:14 - cmdstanpy - INFO - Chain [1] done processing\n",
      "13:58:14 - cmdstanpy - INFO - Chain [1] start processing\n",
      "13:58:14 - cmdstanpy - INFO - Chain [1] done processing\n",
      "13:58:14 - cmdstanpy - INFO - Chain [1] start processing\n",
      "13:58:14 - cmdstanpy - INFO - Chain [1] done processing\n",
      "Seasonality has period of 365.25 days which is larger than initial window. Consider increasing initial.\n"
     ]
    },
    {
     "name": "stdout",
     "output_type": "stream",
     "text": [
      "  horizon          mse      rmse       mae   mape  mdape  smape  coverage\n",
      "0  1 days 2260459.8151 1503.4826 1307.7072 0.5103 0.5915 0.7727    1.0000\n"
     ]
    },
    {
     "data": {
      "text/plain": "  0%|          | 0/3 [00:00<?, ?it/s]",
      "application/vnd.jupyter.widget-view+json": {
       "version_major": 2,
       "version_minor": 0,
       "model_id": "747d091195bc442a86a4edafa8b0c1a5"
      }
     },
     "metadata": {},
     "output_type": "display_data"
    },
    {
     "name": "stderr",
     "output_type": "stream",
     "text": [
      "13:58:14 - cmdstanpy - INFO - Chain [1] start processing\n",
      "13:58:15 - cmdstanpy - INFO - Chain [1] done processing\n",
      "13:58:15 - cmdstanpy - INFO - Chain [1] start processing\n",
      "13:58:15 - cmdstanpy - INFO - Chain [1] done processing\n",
      "13:58:15 - cmdstanpy - INFO - Chain [1] start processing\n",
      "13:58:15 - cmdstanpy - INFO - Chain [1] done processing\n",
      "13:58:15 - cmdstanpy - INFO - Chain [1] start processing\n",
      "13:58:15 - cmdstanpy - INFO - Chain [1] done processing\n"
     ]
    },
    {
     "name": "stdout",
     "output_type": "stream",
     "text": [
      "  horizon          mse      rmse       mae   mape  mdape  smape  coverage\n",
      "0  1 days 3121087.9552 1766.6601 1506.2243 0.5619 0.7223 0.6177    0.6667\n"
     ]
    },
    {
     "data": {
      "text/plain": "  0%|          | 0/3 [00:00<?, ?it/s]",
      "application/vnd.jupyter.widget-view+json": {
       "version_major": 2,
       "version_minor": 0,
       "model_id": "687b3b9369f7486d9d976f193587ad5a"
      }
     },
     "metadata": {},
     "output_type": "display_data"
    },
    {
     "name": "stderr",
     "output_type": "stream",
     "text": [
      "13:58:15 - cmdstanpy - INFO - Chain [1] start processing\n",
      "13:58:16 - cmdstanpy - INFO - Chain [1] done processing\n",
      "13:58:16 - cmdstanpy - INFO - Chain [1] start processing\n",
      "13:58:16 - cmdstanpy - INFO - Chain [1] done processing\n",
      "13:58:16 - cmdstanpy - INFO - Chain [1] start processing\n",
      "13:58:16 - cmdstanpy - INFO - Chain [1] done processing\n",
      "13:58:16 - cmdstanpy - INFO - Chain [1] start processing\n",
      "13:58:16 - cmdstanpy - INFO - Chain [1] done processing\n",
      "Seasonality has period of 365.25 days which is larger than initial window. Consider increasing initial.\n"
     ]
    },
    {
     "name": "stdout",
     "output_type": "stream",
     "text": [
      "  horizon          mse      rmse       mae   mape  mdape  smape  coverage\n",
      "0  1 days 2177937.3361 1475.7836 1299.4154 0.5103 0.5732 0.7721    1.0000\n"
     ]
    },
    {
     "data": {
      "text/plain": "  0%|          | 0/3 [00:00<?, ?it/s]",
      "application/vnd.jupyter.widget-view+json": {
       "version_major": 2,
       "version_minor": 0,
       "model_id": "2bd9f26366fc44ada71399679a3e5ef8"
      }
     },
     "metadata": {},
     "output_type": "display_data"
    },
    {
     "name": "stderr",
     "output_type": "stream",
     "text": [
      "13:58:16 - cmdstanpy - INFO - Chain [1] start processing\n",
      "13:58:16 - cmdstanpy - INFO - Chain [1] done processing\n",
      "13:58:16 - cmdstanpy - INFO - Chain [1] start processing\n",
      "13:58:16 - cmdstanpy - INFO - Chain [1] done processing\n",
      "13:58:16 - cmdstanpy - INFO - Chain [1] start processing\n",
      "13:58:16 - cmdstanpy - INFO - Chain [1] done processing\n",
      "13:58:16 - cmdstanpy - INFO - Chain [1] start processing\n",
      "13:58:16 - cmdstanpy - INFO - Chain [1] done processing\n"
     ]
    },
    {
     "name": "stdout",
     "output_type": "stream",
     "text": [
      "  horizon          mse      rmse       mae   mape  mdape  smape  coverage\n",
      "0  1 days 5359662.3484 2315.0945 1886.2982 0.7504 0.9232 0.8515    0.6667\n"
     ]
    },
    {
     "data": {
      "text/plain": "  0%|          | 0/3 [00:00<?, ?it/s]",
      "application/vnd.jupyter.widget-view+json": {
       "version_major": 2,
       "version_minor": 0,
       "model_id": "accc57a7b22542d49a009e3acb13ccbb"
      }
     },
     "metadata": {},
     "output_type": "display_data"
    },
    {
     "name": "stderr",
     "output_type": "stream",
     "text": [
      "13:58:16 - cmdstanpy - INFO - Chain [1] start processing\n",
      "13:58:17 - cmdstanpy - INFO - Chain [1] done processing\n",
      "13:58:17 - cmdstanpy - INFO - Chain [1] start processing\n",
      "13:58:17 - cmdstanpy - INFO - Chain [1] done processing\n",
      "13:58:17 - cmdstanpy - INFO - Chain [1] start processing\n",
      "13:58:17 - cmdstanpy - INFO - Chain [1] done processing\n",
      "13:58:17 - cmdstanpy - INFO - Chain [1] start processing\n",
      "13:58:17 - cmdstanpy - INFO - Chain [1] done processing\n",
      "Seasonality has period of 365.25 days which is larger than initial window. Consider increasing initial.\n"
     ]
    },
    {
     "name": "stdout",
     "output_type": "stream",
     "text": [
      "  horizon          mse      rmse       mae   mape  mdape  smape  coverage\n",
      "0  1 days 2161753.1723 1470.2902 1282.1160 0.5049 0.5734 0.7661    1.0000\n"
     ]
    },
    {
     "data": {
      "text/plain": "  0%|          | 0/3 [00:00<?, ?it/s]",
      "application/vnd.jupyter.widget-view+json": {
       "version_major": 2,
       "version_minor": 0,
       "model_id": "0c2b5f285e914fd88f4d4b51ee2d1c40"
      }
     },
     "metadata": {},
     "output_type": "display_data"
    },
    {
     "name": "stderr",
     "output_type": "stream",
     "text": [
      "13:58:17 - cmdstanpy - INFO - Chain [1] start processing\n",
      "13:58:18 - cmdstanpy - INFO - Chain [1] done processing\n",
      "13:58:18 - cmdstanpy - INFO - Chain [1] start processing\n",
      "13:58:18 - cmdstanpy - INFO - Chain [1] done processing\n",
      "13:58:18 - cmdstanpy - INFO - Chain [1] start processing\n",
      "13:58:18 - cmdstanpy - INFO - Chain [1] done processing\n",
      "13:58:18 - cmdstanpy - INFO - Chain [1] start processing\n",
      "13:58:18 - cmdstanpy - INFO - Chain [1] done processing\n"
     ]
    },
    {
     "name": "stdout",
     "output_type": "stream",
     "text": [
      "  horizon          mse      rmse       mae   mape  mdape  smape  coverage\n",
      "0  1 days 6279323.8154 2505.8579 2054.9587 0.7859 1.0265 0.9569    0.6667\n"
     ]
    },
    {
     "data": {
      "text/plain": "  0%|          | 0/3 [00:00<?, ?it/s]",
      "application/vnd.jupyter.widget-view+json": {
       "version_major": 2,
       "version_minor": 0,
       "model_id": "eb24583ccba64a6aa84f275eb92f16d9"
      }
     },
     "metadata": {},
     "output_type": "display_data"
    },
    {
     "name": "stderr",
     "output_type": "stream",
     "text": [
      "13:58:18 - cmdstanpy - INFO - Chain [1] start processing\n",
      "13:58:18 - cmdstanpy - INFO - Chain [1] done processing\n",
      "13:58:18 - cmdstanpy - INFO - Chain [1] start processing\n",
      "13:58:18 - cmdstanpy - INFO - Chain [1] done processing\n",
      "13:58:18 - cmdstanpy - INFO - Chain [1] start processing\n",
      "13:58:18 - cmdstanpy - INFO - Chain [1] done processing\n",
      "13:58:19 - cmdstanpy - INFO - Chain [1] start processing\n",
      "13:58:19 - cmdstanpy - INFO - Chain [1] done processing\n",
      "Seasonality has period of 365.25 days which is larger than initial window. Consider increasing initial.\n"
     ]
    },
    {
     "name": "stdout",
     "output_type": "stream",
     "text": [
      "  horizon          mse      rmse       mae   mape  mdape  smape  coverage\n",
      "0  1 days 2239413.7213 1496.4671 1307.6096 0.5075 0.5894 0.7597    1.0000\n"
     ]
    },
    {
     "data": {
      "text/plain": "  0%|          | 0/3 [00:00<?, ?it/s]",
      "application/vnd.jupyter.widget-view+json": {
       "version_major": 2,
       "version_minor": 0,
       "model_id": "be52288bb2c64f988fa70f086af32e36"
      }
     },
     "metadata": {},
     "output_type": "display_data"
    },
    {
     "name": "stderr",
     "output_type": "stream",
     "text": [
      "13:58:19 - cmdstanpy - INFO - Chain [1] start processing\n",
      "13:58:19 - cmdstanpy - INFO - Chain [1] done processing\n",
      "13:58:19 - cmdstanpy - INFO - Chain [1] start processing\n",
      "13:58:19 - cmdstanpy - INFO - Chain [1] done processing\n",
      "13:58:19 - cmdstanpy - INFO - Chain [1] start processing\n",
      "13:58:19 - cmdstanpy - INFO - Chain [1] done processing\n",
      "13:58:19 - cmdstanpy - INFO - Chain [1] start processing\n",
      "13:58:19 - cmdstanpy - INFO - Chain [1] done processing\n"
     ]
    },
    {
     "name": "stdout",
     "output_type": "stream",
     "text": [
      "  horizon          mse      rmse       mae   mape  mdape  smape  coverage\n",
      "0  1 days 5890189.1675 2426.9712 1958.2858 0.7610 0.9885 0.9288    0.6667\n"
     ]
    },
    {
     "data": {
      "text/plain": "  0%|          | 0/3 [00:00<?, ?it/s]",
      "application/vnd.jupyter.widget-view+json": {
       "version_major": 2,
       "version_minor": 0,
       "model_id": "d156a50c671746279a1aaae12fcc2710"
      }
     },
     "metadata": {},
     "output_type": "display_data"
    },
    {
     "name": "stderr",
     "output_type": "stream",
     "text": [
      "13:58:19 - cmdstanpy - INFO - Chain [1] start processing\n",
      "13:58:20 - cmdstanpy - INFO - Chain [1] done processing\n",
      "13:58:20 - cmdstanpy - INFO - Chain [1] start processing\n",
      "13:58:20 - cmdstanpy - INFO - Chain [1] done processing\n",
      "13:58:20 - cmdstanpy - INFO - Chain [1] start processing\n",
      "13:58:20 - cmdstanpy - INFO - Chain [1] done processing\n",
      "13:58:20 - cmdstanpy - INFO - Chain [1] start processing\n",
      "13:58:20 - cmdstanpy - INFO - Chain [1] done processing\n",
      "Seasonality has period of 365.25 days which is larger than initial window. Consider increasing initial.\n"
     ]
    },
    {
     "name": "stdout",
     "output_type": "stream",
     "text": [
      "  horizon          mse      rmse       mae   mape  mdape  smape  coverage\n",
      "0  1 days 2260459.8151 1503.4826 1307.7072 0.5103 0.5915 0.7727    1.0000\n"
     ]
    },
    {
     "data": {
      "text/plain": "  0%|          | 0/3 [00:00<?, ?it/s]",
      "application/vnd.jupyter.widget-view+json": {
       "version_major": 2,
       "version_minor": 0,
       "model_id": "f05eebe25c4240c0bfdc7ddf21806796"
      }
     },
     "metadata": {},
     "output_type": "display_data"
    },
    {
     "name": "stderr",
     "output_type": "stream",
     "text": [
      "13:58:20 - cmdstanpy - INFO - Chain [1] start processing\n",
      "13:58:20 - cmdstanpy - INFO - Chain [1] done processing\n",
      "13:58:20 - cmdstanpy - INFO - Chain [1] start processing\n",
      "13:58:20 - cmdstanpy - INFO - Chain [1] done processing\n",
      "13:58:20 - cmdstanpy - INFO - Chain [1] start processing\n",
      "13:58:20 - cmdstanpy - INFO - Chain [1] done processing\n",
      "13:58:20 - cmdstanpy - INFO - Chain [1] start processing\n",
      "13:58:21 - cmdstanpy - INFO - Chain [1] done processing\n"
     ]
    },
    {
     "name": "stdout",
     "output_type": "stream",
     "text": [
      "  horizon          mse      rmse       mae   mape  mdape  smape  coverage\n",
      "0  1 days 3121087.9552 1766.6601 1506.2243 0.5619 0.7223 0.6177    1.0000\n"
     ]
    },
    {
     "data": {
      "text/plain": "  0%|          | 0/3 [00:00<?, ?it/s]",
      "application/vnd.jupyter.widget-view+json": {
       "version_major": 2,
       "version_minor": 0,
       "model_id": "4c23efceff1449f6a3752ae46f816697"
      }
     },
     "metadata": {},
     "output_type": "display_data"
    },
    {
     "name": "stderr",
     "output_type": "stream",
     "text": [
      "13:58:21 - cmdstanpy - INFO - Chain [1] start processing\n",
      "13:58:21 - cmdstanpy - INFO - Chain [1] done processing\n",
      "13:58:21 - cmdstanpy - INFO - Chain [1] start processing\n",
      "13:58:21 - cmdstanpy - INFO - Chain [1] done processing\n",
      "13:58:21 - cmdstanpy - INFO - Chain [1] start processing\n",
      "13:58:21 - cmdstanpy - INFO - Chain [1] done processing\n",
      "13:58:21 - cmdstanpy - INFO - Chain [1] start processing\n",
      "13:58:21 - cmdstanpy - INFO - Chain [1] done processing\n",
      "Seasonality has period of 365.25 days which is larger than initial window. Consider increasing initial.\n"
     ]
    },
    {
     "name": "stdout",
     "output_type": "stream",
     "text": [
      "  horizon          mse      rmse       mae   mape  mdape  smape  coverage\n",
      "0  1 days 2177937.3361 1475.7836 1299.4154 0.5103 0.5732 0.7721    1.0000\n"
     ]
    },
    {
     "data": {
      "text/plain": "  0%|          | 0/3 [00:00<?, ?it/s]",
      "application/vnd.jupyter.widget-view+json": {
       "version_major": 2,
       "version_minor": 0,
       "model_id": "62d145fe2245493fac5e7c6e9c7c6ee4"
      }
     },
     "metadata": {},
     "output_type": "display_data"
    },
    {
     "name": "stderr",
     "output_type": "stream",
     "text": [
      "13:58:21 - cmdstanpy - INFO - Chain [1] start processing\n",
      "13:58:22 - cmdstanpy - INFO - Chain [1] done processing\n",
      "13:58:22 - cmdstanpy - INFO - Chain [1] start processing\n",
      "13:58:22 - cmdstanpy - INFO - Chain [1] done processing\n",
      "13:58:22 - cmdstanpy - INFO - Chain [1] start processing\n",
      "13:58:22 - cmdstanpy - INFO - Chain [1] done processing\n",
      "13:58:22 - cmdstanpy - INFO - Chain [1] start processing\n",
      "13:58:22 - cmdstanpy - INFO - Chain [1] done processing\n"
     ]
    },
    {
     "name": "stdout",
     "output_type": "stream",
     "text": [
      "  horizon          mse      rmse       mae   mape  mdape  smape  coverage\n",
      "0  1 days 5359662.3484 2315.0945 1886.2982 0.7504 0.9232 0.8515    0.6667\n"
     ]
    },
    {
     "data": {
      "text/plain": "  0%|          | 0/3 [00:00<?, ?it/s]",
      "application/vnd.jupyter.widget-view+json": {
       "version_major": 2,
       "version_minor": 0,
       "model_id": "24b7fd7228634cba825491272554544e"
      }
     },
     "metadata": {},
     "output_type": "display_data"
    },
    {
     "name": "stderr",
     "output_type": "stream",
     "text": [
      "13:58:22 - cmdstanpy - INFO - Chain [1] start processing\n",
      "13:58:23 - cmdstanpy - INFO - Chain [1] done processing\n",
      "13:58:23 - cmdstanpy - INFO - Chain [1] start processing\n",
      "13:58:23 - cmdstanpy - INFO - Chain [1] done processing\n",
      "13:58:23 - cmdstanpy - INFO - Chain [1] start processing\n",
      "13:58:23 - cmdstanpy - INFO - Chain [1] done processing\n",
      "13:58:23 - cmdstanpy - INFO - Chain [1] start processing\n",
      "13:58:23 - cmdstanpy - INFO - Chain [1] done processing\n",
      "Seasonality has period of 365.25 days which is larger than initial window. Consider increasing initial.\n"
     ]
    },
    {
     "name": "stdout",
     "output_type": "stream",
     "text": [
      "  horizon          mse      rmse       mae   mape  mdape  smape  coverage\n",
      "0  1 days 2161753.1723 1470.2902 1282.1160 0.5049 0.5734 0.7661    1.0000\n"
     ]
    },
    {
     "data": {
      "text/plain": "  0%|          | 0/3 [00:00<?, ?it/s]",
      "application/vnd.jupyter.widget-view+json": {
       "version_major": 2,
       "version_minor": 0,
       "model_id": "08cd0613539f4d838ea3d9ffecf05111"
      }
     },
     "metadata": {},
     "output_type": "display_data"
    },
    {
     "name": "stderr",
     "output_type": "stream",
     "text": [
      "13:58:23 - cmdstanpy - INFO - Chain [1] start processing\n",
      "13:58:23 - cmdstanpy - INFO - Chain [1] done processing\n",
      "13:58:23 - cmdstanpy - INFO - Chain [1] start processing\n",
      "13:58:23 - cmdstanpy - INFO - Chain [1] done processing\n",
      "13:58:23 - cmdstanpy - INFO - Chain [1] start processing\n",
      "13:58:23 - cmdstanpy - INFO - Chain [1] done processing\n",
      "13:58:23 - cmdstanpy - INFO - Chain [1] start processing\n",
      "13:58:24 - cmdstanpy - INFO - Chain [1] done processing\n"
     ]
    },
    {
     "name": "stdout",
     "output_type": "stream",
     "text": [
      "  horizon          mse      rmse       mae   mape  mdape  smape  coverage\n",
      "0  1 days 6279323.8154 2505.8579 2054.9587 0.7859 1.0265 0.9569    0.6667\n"
     ]
    },
    {
     "data": {
      "text/plain": "  0%|          | 0/3 [00:00<?, ?it/s]",
      "application/vnd.jupyter.widget-view+json": {
       "version_major": 2,
       "version_minor": 0,
       "model_id": "e6ba5022ed064f628ef271d6661b342b"
      }
     },
     "metadata": {},
     "output_type": "display_data"
    },
    {
     "name": "stderr",
     "output_type": "stream",
     "text": [
      "13:58:24 - cmdstanpy - INFO - Chain [1] start processing\n",
      "13:58:24 - cmdstanpy - INFO - Chain [1] done processing\n",
      "13:58:24 - cmdstanpy - INFO - Chain [1] start processing\n",
      "13:58:24 - cmdstanpy - INFO - Chain [1] done processing\n",
      "13:58:24 - cmdstanpy - INFO - Chain [1] start processing\n",
      "13:58:24 - cmdstanpy - INFO - Chain [1] done processing\n",
      "13:58:24 - cmdstanpy - INFO - Chain [1] start processing\n",
      "13:58:24 - cmdstanpy - INFO - Chain [1] done processing\n",
      "Seasonality has period of 365.25 days which is larger than initial window. Consider increasing initial.\n"
     ]
    },
    {
     "name": "stdout",
     "output_type": "stream",
     "text": [
      "  horizon          mse      rmse       mae   mape  mdape  smape  coverage\n",
      "0  1 days 2239413.7213 1496.4671 1307.6096 0.5075 0.5894 0.7597    1.0000\n"
     ]
    },
    {
     "data": {
      "text/plain": "  0%|          | 0/3 [00:00<?, ?it/s]",
      "application/vnd.jupyter.widget-view+json": {
       "version_major": 2,
       "version_minor": 0,
       "model_id": "b2c458eebe874335bea90837f789b73d"
      }
     },
     "metadata": {},
     "output_type": "display_data"
    },
    {
     "name": "stderr",
     "output_type": "stream",
     "text": [
      "13:58:24 - cmdstanpy - INFO - Chain [1] start processing\n",
      "13:58:24 - cmdstanpy - INFO - Chain [1] done processing\n",
      "13:58:25 - cmdstanpy - INFO - Chain [1] start processing\n",
      "13:58:25 - cmdstanpy - INFO - Chain [1] done processing\n",
      "13:58:25 - cmdstanpy - INFO - Chain [1] start processing\n",
      "13:58:25 - cmdstanpy - INFO - Chain [1] done processing\n",
      "13:58:25 - cmdstanpy - INFO - Chain [1] start processing\n",
      "13:58:25 - cmdstanpy - INFO - Chain [1] done processing\n"
     ]
    },
    {
     "name": "stdout",
     "output_type": "stream",
     "text": [
      "  horizon          mse      rmse       mae   mape  mdape  smape  coverage\n",
      "0  1 days 5890189.1675 2426.9712 1958.2858 0.7610 0.9885 0.9288    0.6667\n"
     ]
    },
    {
     "data": {
      "text/plain": "  0%|          | 0/3 [00:00<?, ?it/s]",
      "application/vnd.jupyter.widget-view+json": {
       "version_major": 2,
       "version_minor": 0,
       "model_id": "01498e7546bc46238b4e2160bfe400d4"
      }
     },
     "metadata": {},
     "output_type": "display_data"
    },
    {
     "name": "stderr",
     "output_type": "stream",
     "text": [
      "13:58:25 - cmdstanpy - INFO - Chain [1] start processing\n",
      "13:58:25 - cmdstanpy - INFO - Chain [1] done processing\n",
      "13:58:25 - cmdstanpy - INFO - Chain [1] start processing\n",
      "13:58:25 - cmdstanpy - INFO - Chain [1] done processing\n",
      "13:58:26 - cmdstanpy - INFO - Chain [1] start processing\n",
      "13:58:26 - cmdstanpy - INFO - Chain [1] done processing\n",
      "13:58:26 - cmdstanpy - INFO - Chain [1] start processing\n",
      "13:58:26 - cmdstanpy - INFO - Chain [1] done processing\n",
      "Seasonality has period of 365.25 days which is larger than initial window. Consider increasing initial.\n"
     ]
    },
    {
     "name": "stdout",
     "output_type": "stream",
     "text": [
      "  horizon          mse      rmse       mae   mape  mdape  smape  coverage\n",
      "0  1 days 2285644.3082 1511.8347 1319.2634 0.5171 0.5915 0.7909    0.6667\n"
     ]
    },
    {
     "data": {
      "text/plain": "  0%|          | 0/3 [00:00<?, ?it/s]",
      "application/vnd.jupyter.widget-view+json": {
       "version_major": 2,
       "version_minor": 0,
       "model_id": "d5f7310e4e2b495c8d91f8842e3ab7eb"
      }
     },
     "metadata": {},
     "output_type": "display_data"
    },
    {
     "name": "stderr",
     "output_type": "stream",
     "text": [
      "13:58:26 - cmdstanpy - INFO - Chain [1] start processing\n",
      "13:58:26 - cmdstanpy - INFO - Chain [1] done processing\n",
      "13:58:26 - cmdstanpy - INFO - Chain [1] start processing\n",
      "13:58:26 - cmdstanpy - INFO - Chain [1] done processing\n",
      "13:58:26 - cmdstanpy - INFO - Chain [1] start processing\n",
      "13:58:26 - cmdstanpy - INFO - Chain [1] done processing\n",
      "13:58:26 - cmdstanpy - INFO - Chain [1] start processing\n",
      "13:58:26 - cmdstanpy - INFO - Chain [1] done processing\n"
     ]
    },
    {
     "name": "stdout",
     "output_type": "stream",
     "text": [
      "  horizon          mse      rmse       mae   mape  mdape  smape  coverage\n",
      "0  1 days 4531655.9578 2128.7686 2066.0537 0.8111 0.7238 0.7586    0.3333\n"
     ]
    },
    {
     "data": {
      "text/plain": "  0%|          | 0/3 [00:00<?, ?it/s]",
      "application/vnd.jupyter.widget-view+json": {
       "version_major": 2,
       "version_minor": 0,
       "model_id": "b0788cb08c0d43568098ad55ecfacd15"
      }
     },
     "metadata": {},
     "output_type": "display_data"
    },
    {
     "name": "stderr",
     "output_type": "stream",
     "text": [
      "13:58:26 - cmdstanpy - INFO - Chain [1] start processing\n",
      "13:58:27 - cmdstanpy - INFO - Chain [1] done processing\n",
      "13:58:27 - cmdstanpy - INFO - Chain [1] start processing\n",
      "13:58:27 - cmdstanpy - INFO - Chain [1] done processing\n",
      "13:58:27 - cmdstanpy - INFO - Chain [1] start processing\n",
      "13:58:27 - cmdstanpy - INFO - Chain [1] done processing\n",
      "13:58:28 - cmdstanpy - INFO - Chain [1] start processing\n",
      "13:58:28 - cmdstanpy - INFO - Chain [1] done processing\n",
      "Seasonality has period of 365.25 days which is larger than initial window. Consider increasing initial.\n"
     ]
    },
    {
     "name": "stdout",
     "output_type": "stream",
     "text": [
      "  horizon          mse      rmse       mae   mape  mdape  smape  coverage\n",
      "0  1 days 2209104.3619 1486.3056 1283.2643 0.4996 0.5882 0.7499    0.6667\n"
     ]
    },
    {
     "data": {
      "text/plain": "  0%|          | 0/3 [00:00<?, ?it/s]",
      "application/vnd.jupyter.widget-view+json": {
       "version_major": 2,
       "version_minor": 0,
       "model_id": "b0924b3723784125b46a6a0a645d7218"
      }
     },
     "metadata": {},
     "output_type": "display_data"
    },
    {
     "name": "stderr",
     "output_type": "stream",
     "text": [
      "13:58:28 - cmdstanpy - INFO - Chain [1] start processing\n",
      "13:58:28 - cmdstanpy - INFO - Chain [1] done processing\n",
      "13:58:28 - cmdstanpy - INFO - Chain [1] start processing\n",
      "13:58:28 - cmdstanpy - INFO - Chain [1] done processing\n",
      "13:58:28 - cmdstanpy - INFO - Chain [1] start processing\n",
      "13:58:28 - cmdstanpy - INFO - Chain [1] done processing\n",
      "13:58:28 - cmdstanpy - INFO - Chain [1] start processing\n",
      "13:58:28 - cmdstanpy - INFO - Chain [1] done processing\n"
     ]
    },
    {
     "name": "stdout",
     "output_type": "stream",
     "text": [
      "  horizon          mse      rmse       mae   mape  mdape  smape  coverage\n",
      "0  1 days 4504421.1270 2122.3622 1626.3220 0.5656 0.6734 0.7697    0.6667\n"
     ]
    },
    {
     "data": {
      "text/plain": "  0%|          | 0/3 [00:00<?, ?it/s]",
      "application/vnd.jupyter.widget-view+json": {
       "version_major": 2,
       "version_minor": 0,
       "model_id": "ffeeb246e3ed47e7bcd65c5ba5da3566"
      }
     },
     "metadata": {},
     "output_type": "display_data"
    },
    {
     "name": "stderr",
     "output_type": "stream",
     "text": [
      "13:58:28 - cmdstanpy - INFO - Chain [1] start processing\n",
      "13:58:29 - cmdstanpy - INFO - Chain [1] done processing\n",
      "13:58:29 - cmdstanpy - INFO - Chain [1] start processing\n",
      "13:58:29 - cmdstanpy - INFO - Chain [1] done processing\n",
      "13:58:29 - cmdstanpy - INFO - Chain [1] start processing\n",
      "13:58:29 - cmdstanpy - INFO - Chain [1] done processing\n",
      "13:58:29 - cmdstanpy - INFO - Chain [1] start processing\n",
      "13:58:29 - cmdstanpy - INFO - Chain [1] done processing\n",
      "Seasonality has period of 365.25 days which is larger than initial window. Consider increasing initial.\n"
     ]
    },
    {
     "name": "stdout",
     "output_type": "stream",
     "text": [
      "  horizon          mse      rmse       mae   mape  mdape  smape  coverage\n",
      "0  1 days 2315322.1571 1521.6183 1341.2579 0.5256 0.5916 0.8058    0.6667\n"
     ]
    },
    {
     "data": {
      "text/plain": "  0%|          | 0/3 [00:00<?, ?it/s]",
      "application/vnd.jupyter.widget-view+json": {
       "version_major": 2,
       "version_minor": 0,
       "model_id": "d67d815e1efa4747b9979fabea7da384"
      }
     },
     "metadata": {},
     "output_type": "display_data"
    },
    {
     "name": "stderr",
     "output_type": "stream",
     "text": [
      "13:58:29 - cmdstanpy - INFO - Chain [1] start processing\n",
      "13:58:30 - cmdstanpy - INFO - Chain [1] done processing\n",
      "13:58:30 - cmdstanpy - INFO - Chain [1] start processing\n",
      "13:58:30 - cmdstanpy - INFO - Chain [1] done processing\n",
      "13:58:30 - cmdstanpy - INFO - Chain [1] start processing\n",
      "13:58:30 - cmdstanpy - INFO - Chain [1] done processing\n",
      "13:58:30 - cmdstanpy - INFO - Chain [1] start processing\n",
      "13:58:30 - cmdstanpy - INFO - Chain [1] done processing\n"
     ]
    },
    {
     "name": "stdout",
     "output_type": "stream",
     "text": [
      "  horizon          mse      rmse       mae   mape  mdape  smape  coverage\n",
      "0  1 days 6158204.9232 2481.5731 2035.4452 0.7751 1.0192 0.9542    0.6667\n"
     ]
    },
    {
     "data": {
      "text/plain": "  0%|          | 0/3 [00:00<?, ?it/s]",
      "application/vnd.jupyter.widget-view+json": {
       "version_major": 2,
       "version_minor": 0,
       "model_id": "3b1fba20593a40ca9601820b233f9565"
      }
     },
     "metadata": {},
     "output_type": "display_data"
    },
    {
     "name": "stderr",
     "output_type": "stream",
     "text": [
      "13:58:30 - cmdstanpy - INFO - Chain [1] start processing\n",
      "13:58:31 - cmdstanpy - INFO - Chain [1] done processing\n",
      "13:58:31 - cmdstanpy - INFO - Chain [1] start processing\n",
      "13:58:31 - cmdstanpy - INFO - Chain [1] done processing\n",
      "13:58:31 - cmdstanpy - INFO - Chain [1] start processing\n",
      "13:58:31 - cmdstanpy - INFO - Chain [1] done processing\n",
      "13:58:31 - cmdstanpy - INFO - Chain [1] start processing\n",
      "13:58:31 - cmdstanpy - INFO - Chain [1] done processing\n",
      "Seasonality has period of 365.25 days which is larger than initial window. Consider increasing initial.\n"
     ]
    },
    {
     "name": "stdout",
     "output_type": "stream",
     "text": [
      "  horizon          mse      rmse       mae   mape  mdape  smape  coverage\n",
      "0  1 days 2266146.0733 1505.3724 1317.2059 0.5123 0.5915 0.7717    0.6667\n"
     ]
    },
    {
     "data": {
      "text/plain": "  0%|          | 0/3 [00:00<?, ?it/s]",
      "application/vnd.jupyter.widget-view+json": {
       "version_major": 2,
       "version_minor": 0,
       "model_id": "f5f2de6a7cf042329e3ed2320dd5ea1c"
      }
     },
     "metadata": {},
     "output_type": "display_data"
    },
    {
     "name": "stderr",
     "output_type": "stream",
     "text": [
      "13:58:31 - cmdstanpy - INFO - Chain [1] start processing\n",
      "13:58:31 - cmdstanpy - INFO - Chain [1] done processing\n",
      "13:58:31 - cmdstanpy - INFO - Chain [1] start processing\n",
      "13:58:31 - cmdstanpy - INFO - Chain [1] done processing\n",
      "13:58:31 - cmdstanpy - INFO - Chain [1] start processing\n",
      "13:58:31 - cmdstanpy - INFO - Chain [1] done processing\n",
      "13:58:32 - cmdstanpy - INFO - Chain [1] start processing\n",
      "13:58:32 - cmdstanpy - INFO - Chain [1] done processing\n"
     ]
    },
    {
     "name": "stdout",
     "output_type": "stream",
     "text": [
      "  horizon          mse      rmse       mae   mape  mdape  smape  coverage\n",
      "0  1 days 5836132.6239 2415.8089 2050.7721 0.7829 0.9773 0.9420    0.3333\n"
     ]
    },
    {
     "data": {
      "text/plain": "  0%|          | 0/3 [00:00<?, ?it/s]",
      "application/vnd.jupyter.widget-view+json": {
       "version_major": 2,
       "version_minor": 0,
       "model_id": "38cb28adfb3b45ec95098ae52edd428f"
      }
     },
     "metadata": {},
     "output_type": "display_data"
    },
    {
     "name": "stderr",
     "output_type": "stream",
     "text": [
      "13:58:32 - cmdstanpy - INFO - Chain [1] start processing\n",
      "13:58:32 - cmdstanpy - INFO - Chain [1] done processing\n",
      "13:58:32 - cmdstanpy - INFO - Chain [1] start processing\n",
      "13:58:32 - cmdstanpy - INFO - Chain [1] done processing\n",
      "13:58:33 - cmdstanpy - INFO - Chain [1] start processing\n",
      "13:58:33 - cmdstanpy - INFO - Chain [1] done processing\n",
      "13:58:33 - cmdstanpy - INFO - Chain [1] start processing\n",
      "13:58:33 - cmdstanpy - INFO - Chain [1] done processing\n",
      "Seasonality has period of 365.25 days which is larger than initial window. Consider increasing initial.\n"
     ]
    },
    {
     "name": "stdout",
     "output_type": "stream",
     "text": [
      "  horizon          mse      rmse       mae   mape  mdape  smape  coverage\n",
      "0  1 days 2285644.3082 1511.8347 1319.2634 0.5171 0.5915 0.7909    1.0000\n"
     ]
    },
    {
     "data": {
      "text/plain": "  0%|          | 0/3 [00:00<?, ?it/s]",
      "application/vnd.jupyter.widget-view+json": {
       "version_major": 2,
       "version_minor": 0,
       "model_id": "68818b1010ec4778aed180fa2c36fdf9"
      }
     },
     "metadata": {},
     "output_type": "display_data"
    },
    {
     "name": "stderr",
     "output_type": "stream",
     "text": [
      "13:58:33 - cmdstanpy - INFO - Chain [1] start processing\n",
      "13:58:33 - cmdstanpy - INFO - Chain [1] done processing\n",
      "13:58:33 - cmdstanpy - INFO - Chain [1] start processing\n",
      "13:58:33 - cmdstanpy - INFO - Chain [1] done processing\n",
      "13:58:33 - cmdstanpy - INFO - Chain [1] start processing\n",
      "13:58:33 - cmdstanpy - INFO - Chain [1] done processing\n",
      "13:58:33 - cmdstanpy - INFO - Chain [1] start processing\n",
      "13:58:33 - cmdstanpy - INFO - Chain [1] done processing\n"
     ]
    },
    {
     "name": "stdout",
     "output_type": "stream",
     "text": [
      "  horizon          mse      rmse       mae   mape  mdape  smape  coverage\n",
      "0  1 days 4531655.9578 2128.7686 2066.0537 0.8111 0.7238 0.7586    0.6667\n"
     ]
    },
    {
     "data": {
      "text/plain": "  0%|          | 0/3 [00:00<?, ?it/s]",
      "application/vnd.jupyter.widget-view+json": {
       "version_major": 2,
       "version_minor": 0,
       "model_id": "0237227446e8435cac374ca91f3d9bed"
      }
     },
     "metadata": {},
     "output_type": "display_data"
    },
    {
     "name": "stderr",
     "output_type": "stream",
     "text": [
      "13:58:33 - cmdstanpy - INFO - Chain [1] start processing\n",
      "13:58:34 - cmdstanpy - INFO - Chain [1] done processing\n",
      "13:58:34 - cmdstanpy - INFO - Chain [1] start processing\n",
      "13:58:34 - cmdstanpy - INFO - Chain [1] done processing\n",
      "13:58:34 - cmdstanpy - INFO - Chain [1] start processing\n",
      "13:58:34 - cmdstanpy - INFO - Chain [1] done processing\n",
      "13:58:35 - cmdstanpy - INFO - Chain [1] start processing\n",
      "13:58:35 - cmdstanpy - INFO - Chain [1] done processing\n",
      "Seasonality has period of 365.25 days which is larger than initial window. Consider increasing initial.\n"
     ]
    },
    {
     "name": "stdout",
     "output_type": "stream",
     "text": [
      "  horizon          mse      rmse       mae   mape  mdape  smape  coverage\n",
      "0  1 days 2209104.3619 1486.3056 1283.2643 0.4996 0.5882 0.7499    1.0000\n"
     ]
    },
    {
     "data": {
      "text/plain": "  0%|          | 0/3 [00:00<?, ?it/s]",
      "application/vnd.jupyter.widget-view+json": {
       "version_major": 2,
       "version_minor": 0,
       "model_id": "8ad667ac04764c5fb26577c6883d4df5"
      }
     },
     "metadata": {},
     "output_type": "display_data"
    },
    {
     "name": "stderr",
     "output_type": "stream",
     "text": [
      "13:58:35 - cmdstanpy - INFO - Chain [1] start processing\n",
      "13:58:35 - cmdstanpy - INFO - Chain [1] done processing\n",
      "13:58:35 - cmdstanpy - INFO - Chain [1] start processing\n",
      "13:58:35 - cmdstanpy - INFO - Chain [1] done processing\n",
      "13:58:35 - cmdstanpy - INFO - Chain [1] start processing\n",
      "13:58:35 - cmdstanpy - INFO - Chain [1] done processing\n",
      "13:58:35 - cmdstanpy - INFO - Chain [1] start processing\n",
      "13:58:35 - cmdstanpy - INFO - Chain [1] done processing\n"
     ]
    },
    {
     "name": "stdout",
     "output_type": "stream",
     "text": [
      "  horizon          mse      rmse       mae   mape  mdape  smape  coverage\n",
      "0  1 days 4504421.1270 2122.3622 1626.3220 0.5656 0.6734 0.7697    0.6667\n"
     ]
    },
    {
     "data": {
      "text/plain": "  0%|          | 0/3 [00:00<?, ?it/s]",
      "application/vnd.jupyter.widget-view+json": {
       "version_major": 2,
       "version_minor": 0,
       "model_id": "9f09c6f217b748e3b54139adcde6ebd0"
      }
     },
     "metadata": {},
     "output_type": "display_data"
    },
    {
     "name": "stderr",
     "output_type": "stream",
     "text": [
      "13:58:35 - cmdstanpy - INFO - Chain [1] start processing\n",
      "13:58:36 - cmdstanpy - INFO - Chain [1] done processing\n",
      "13:58:36 - cmdstanpy - INFO - Chain [1] start processing\n",
      "13:58:36 - cmdstanpy - INFO - Chain [1] done processing\n",
      "13:58:36 - cmdstanpy - INFO - Chain [1] start processing\n",
      "13:58:36 - cmdstanpy - INFO - Chain [1] done processing\n",
      "13:58:36 - cmdstanpy - INFO - Chain [1] start processing\n",
      "13:58:36 - cmdstanpy - INFO - Chain [1] done processing\n",
      "Seasonality has period of 365.25 days which is larger than initial window. Consider increasing initial.\n"
     ]
    },
    {
     "name": "stdout",
     "output_type": "stream",
     "text": [
      "  horizon          mse      rmse       mae   mape  mdape  smape  coverage\n",
      "0  1 days 2315322.1571 1521.6183 1341.2579 0.5256 0.5916 0.8058    1.0000\n"
     ]
    },
    {
     "data": {
      "text/plain": "  0%|          | 0/3 [00:00<?, ?it/s]",
      "application/vnd.jupyter.widget-view+json": {
       "version_major": 2,
       "version_minor": 0,
       "model_id": "60739a84235e4e029fb5985c08a4105b"
      }
     },
     "metadata": {},
     "output_type": "display_data"
    },
    {
     "name": "stderr",
     "output_type": "stream",
     "text": [
      "13:58:36 - cmdstanpy - INFO - Chain [1] start processing\n",
      "13:58:36 - cmdstanpy - INFO - Chain [1] done processing\n",
      "13:58:36 - cmdstanpy - INFO - Chain [1] start processing\n",
      "13:58:36 - cmdstanpy - INFO - Chain [1] done processing\n",
      "13:58:36 - cmdstanpy - INFO - Chain [1] start processing\n",
      "13:58:36 - cmdstanpy - INFO - Chain [1] done processing\n",
      "13:58:37 - cmdstanpy - INFO - Chain [1] start processing\n",
      "13:58:37 - cmdstanpy - INFO - Chain [1] done processing\n"
     ]
    },
    {
     "name": "stdout",
     "output_type": "stream",
     "text": [
      "  horizon          mse      rmse       mae   mape  mdape  smape  coverage\n",
      "0  1 days 6158204.9232 2481.5731 2035.4452 0.7751 1.0192 0.9542    0.6667\n"
     ]
    },
    {
     "data": {
      "text/plain": "  0%|          | 0/3 [00:00<?, ?it/s]",
      "application/vnd.jupyter.widget-view+json": {
       "version_major": 2,
       "version_minor": 0,
       "model_id": "2854136725284c888690cb439ce4ada3"
      }
     },
     "metadata": {},
     "output_type": "display_data"
    },
    {
     "name": "stderr",
     "output_type": "stream",
     "text": [
      "13:58:37 - cmdstanpy - INFO - Chain [1] start processing\n",
      "13:58:37 - cmdstanpy - INFO - Chain [1] done processing\n",
      "13:58:37 - cmdstanpy - INFO - Chain [1] start processing\n",
      "13:58:37 - cmdstanpy - INFO - Chain [1] done processing\n",
      "13:58:38 - cmdstanpy - INFO - Chain [1] start processing\n",
      "13:58:38 - cmdstanpy - INFO - Chain [1] done processing\n",
      "13:58:38 - cmdstanpy - INFO - Chain [1] start processing\n",
      "13:58:38 - cmdstanpy - INFO - Chain [1] done processing\n",
      "Seasonality has period of 365.25 days which is larger than initial window. Consider increasing initial.\n"
     ]
    },
    {
     "name": "stdout",
     "output_type": "stream",
     "text": [
      "  horizon          mse      rmse       mae   mape  mdape  smape  coverage\n",
      "0  1 days 2266146.0733 1505.3724 1317.2059 0.5123 0.5915 0.7717    1.0000\n"
     ]
    },
    {
     "data": {
      "text/plain": "  0%|          | 0/3 [00:00<?, ?it/s]",
      "application/vnd.jupyter.widget-view+json": {
       "version_major": 2,
       "version_minor": 0,
       "model_id": "62540a3e38294139826a6b8c7aeaf919"
      }
     },
     "metadata": {},
     "output_type": "display_data"
    },
    {
     "name": "stderr",
     "output_type": "stream",
     "text": [
      "13:58:38 - cmdstanpy - INFO - Chain [1] start processing\n",
      "13:58:38 - cmdstanpy - INFO - Chain [1] done processing\n",
      "13:58:38 - cmdstanpy - INFO - Chain [1] start processing\n",
      "13:58:38 - cmdstanpy - INFO - Chain [1] done processing\n",
      "13:58:38 - cmdstanpy - INFO - Chain [1] start processing\n",
      "13:58:38 - cmdstanpy - INFO - Chain [1] done processing\n",
      "13:58:38 - cmdstanpy - INFO - Chain [1] start processing\n",
      "13:58:38 - cmdstanpy - INFO - Chain [1] done processing\n"
     ]
    },
    {
     "name": "stdout",
     "output_type": "stream",
     "text": [
      "  horizon          mse      rmse       mae   mape  mdape  smape  coverage\n",
      "0  1 days 5836132.6239 2415.8089 2050.7721 0.7829 0.9773 0.9420    0.6667\n"
     ]
    },
    {
     "data": {
      "text/plain": "  0%|          | 0/3 [00:00<?, ?it/s]",
      "application/vnd.jupyter.widget-view+json": {
       "version_major": 2,
       "version_minor": 0,
       "model_id": "5d44314673e9440487df4231a1a967b7"
      }
     },
     "metadata": {},
     "output_type": "display_data"
    },
    {
     "name": "stderr",
     "output_type": "stream",
     "text": [
      "13:58:38 - cmdstanpy - INFO - Chain [1] start processing\n",
      "13:58:39 - cmdstanpy - INFO - Chain [1] done processing\n",
      "13:58:39 - cmdstanpy - INFO - Chain [1] start processing\n",
      "13:58:39 - cmdstanpy - INFO - Chain [1] done processing\n",
      "13:58:39 - cmdstanpy - INFO - Chain [1] start processing\n",
      "13:58:39 - cmdstanpy - INFO - Chain [1] done processing\n",
      "13:58:40 - cmdstanpy - INFO - Chain [1] start processing\n",
      "13:58:40 - cmdstanpy - INFO - Chain [1] done processing\n",
      "Seasonality has period of 365.25 days which is larger than initial window. Consider increasing initial.\n"
     ]
    },
    {
     "name": "stdout",
     "output_type": "stream",
     "text": [
      "  horizon          mse      rmse       mae   mape  mdape  smape  coverage\n",
      "0  1 days 2285644.3082 1511.8347 1319.2634 0.5171 0.5915 0.7909    1.0000\n"
     ]
    },
    {
     "data": {
      "text/plain": "  0%|          | 0/3 [00:00<?, ?it/s]",
      "application/vnd.jupyter.widget-view+json": {
       "version_major": 2,
       "version_minor": 0,
       "model_id": "650d56e973054248ba471b5a5975a4d3"
      }
     },
     "metadata": {},
     "output_type": "display_data"
    },
    {
     "name": "stderr",
     "output_type": "stream",
     "text": [
      "13:58:40 - cmdstanpy - INFO - Chain [1] start processing\n",
      "13:58:40 - cmdstanpy - INFO - Chain [1] done processing\n",
      "13:58:40 - cmdstanpy - INFO - Chain [1] start processing\n",
      "13:58:40 - cmdstanpy - INFO - Chain [1] done processing\n",
      "13:58:40 - cmdstanpy - INFO - Chain [1] start processing\n",
      "13:58:40 - cmdstanpy - INFO - Chain [1] done processing\n",
      "13:58:40 - cmdstanpy - INFO - Chain [1] start processing\n",
      "13:58:40 - cmdstanpy - INFO - Chain [1] done processing\n"
     ]
    },
    {
     "name": "stdout",
     "output_type": "stream",
     "text": [
      "  horizon          mse      rmse       mae   mape  mdape  smape  coverage\n",
      "0  1 days 4531655.9578 2128.7686 2066.0537 0.8111 0.7238 0.7586    1.0000\n"
     ]
    },
    {
     "data": {
      "text/plain": "  0%|          | 0/3 [00:00<?, ?it/s]",
      "application/vnd.jupyter.widget-view+json": {
       "version_major": 2,
       "version_minor": 0,
       "model_id": "eb4f7eea88c444b4a8dbecb2c2bd6fea"
      }
     },
     "metadata": {},
     "output_type": "display_data"
    },
    {
     "name": "stderr",
     "output_type": "stream",
     "text": [
      "13:58:40 - cmdstanpy - INFO - Chain [1] start processing\n",
      "13:58:41 - cmdstanpy - INFO - Chain [1] done processing\n",
      "13:58:41 - cmdstanpy - INFO - Chain [1] start processing\n",
      "13:58:41 - cmdstanpy - INFO - Chain [1] done processing\n",
      "13:58:41 - cmdstanpy - INFO - Chain [1] start processing\n",
      "13:58:41 - cmdstanpy - INFO - Chain [1] done processing\n",
      "13:58:41 - cmdstanpy - INFO - Chain [1] start processing\n",
      "13:58:41 - cmdstanpy - INFO - Chain [1] done processing\n",
      "Seasonality has period of 365.25 days which is larger than initial window. Consider increasing initial.\n"
     ]
    },
    {
     "name": "stdout",
     "output_type": "stream",
     "text": [
      "  horizon          mse      rmse       mae   mape  mdape  smape  coverage\n",
      "0  1 days 2209104.3619 1486.3056 1283.2643 0.4996 0.5882 0.7499    1.0000\n"
     ]
    },
    {
     "data": {
      "text/plain": "  0%|          | 0/3 [00:00<?, ?it/s]",
      "application/vnd.jupyter.widget-view+json": {
       "version_major": 2,
       "version_minor": 0,
       "model_id": "f3650a9bcb9d44b5a926c07cd8f407fd"
      }
     },
     "metadata": {},
     "output_type": "display_data"
    },
    {
     "name": "stderr",
     "output_type": "stream",
     "text": [
      "13:58:41 - cmdstanpy - INFO - Chain [1] start processing\n",
      "13:58:42 - cmdstanpy - INFO - Chain [1] done processing\n",
      "13:58:42 - cmdstanpy - INFO - Chain [1] start processing\n",
      "13:58:42 - cmdstanpy - INFO - Chain [1] done processing\n",
      "13:58:42 - cmdstanpy - INFO - Chain [1] start processing\n",
      "13:58:42 - cmdstanpy - INFO - Chain [1] done processing\n",
      "13:58:42 - cmdstanpy - INFO - Chain [1] start processing\n",
      "13:58:42 - cmdstanpy - INFO - Chain [1] done processing\n"
     ]
    },
    {
     "name": "stdout",
     "output_type": "stream",
     "text": [
      "  horizon          mse      rmse       mae   mape  mdape  smape  coverage\n",
      "0  1 days 4504421.1270 2122.3622 1626.3220 0.5656 0.6734 0.7697    0.6667\n"
     ]
    },
    {
     "data": {
      "text/plain": "  0%|          | 0/3 [00:00<?, ?it/s]",
      "application/vnd.jupyter.widget-view+json": {
       "version_major": 2,
       "version_minor": 0,
       "model_id": "56e6f7020cc2441798967347098e5c87"
      }
     },
     "metadata": {},
     "output_type": "display_data"
    },
    {
     "name": "stderr",
     "output_type": "stream",
     "text": [
      "13:58:42 - cmdstanpy - INFO - Chain [1] start processing\n",
      "13:58:43 - cmdstanpy - INFO - Chain [1] done processing\n",
      "13:58:43 - cmdstanpy - INFO - Chain [1] start processing\n",
      "13:58:43 - cmdstanpy - INFO - Chain [1] done processing\n",
      "13:58:43 - cmdstanpy - INFO - Chain [1] start processing\n",
      "13:58:43 - cmdstanpy - INFO - Chain [1] done processing\n",
      "13:58:43 - cmdstanpy - INFO - Chain [1] start processing\n",
      "13:58:43 - cmdstanpy - INFO - Chain [1] done processing\n",
      "Seasonality has period of 365.25 days which is larger than initial window. Consider increasing initial.\n"
     ]
    },
    {
     "name": "stdout",
     "output_type": "stream",
     "text": [
      "  horizon          mse      rmse       mae   mape  mdape  smape  coverage\n",
      "0  1 days 2315322.1571 1521.6183 1341.2579 0.5256 0.5916 0.8058    1.0000\n"
     ]
    },
    {
     "data": {
      "text/plain": "  0%|          | 0/3 [00:00<?, ?it/s]",
      "application/vnd.jupyter.widget-view+json": {
       "version_major": 2,
       "version_minor": 0,
       "model_id": "f132ef88412e4028afd3c317405efc6f"
      }
     },
     "metadata": {},
     "output_type": "display_data"
    },
    {
     "name": "stderr",
     "output_type": "stream",
     "text": [
      "13:58:43 - cmdstanpy - INFO - Chain [1] start processing\n",
      "13:58:43 - cmdstanpy - INFO - Chain [1] done processing\n",
      "13:58:43 - cmdstanpy - INFO - Chain [1] start processing\n",
      "13:58:43 - cmdstanpy - INFO - Chain [1] done processing\n",
      "13:58:43 - cmdstanpy - INFO - Chain [1] start processing\n",
      "13:58:44 - cmdstanpy - INFO - Chain [1] done processing\n",
      "13:58:44 - cmdstanpy - INFO - Chain [1] start processing\n",
      "13:58:44 - cmdstanpy - INFO - Chain [1] done processing\n"
     ]
    },
    {
     "name": "stdout",
     "output_type": "stream",
     "text": [
      "  horizon          mse      rmse       mae   mape  mdape  smape  coverage\n",
      "0  1 days 6158204.9232 2481.5731 2035.4452 0.7751 1.0192 0.9542    0.6667\n"
     ]
    },
    {
     "data": {
      "text/plain": "  0%|          | 0/3 [00:00<?, ?it/s]",
      "application/vnd.jupyter.widget-view+json": {
       "version_major": 2,
       "version_minor": 0,
       "model_id": "75140a0adfab484aab9e7b8feeea0592"
      }
     },
     "metadata": {},
     "output_type": "display_data"
    },
    {
     "name": "stderr",
     "output_type": "stream",
     "text": [
      "13:58:44 - cmdstanpy - INFO - Chain [1] start processing\n",
      "13:58:44 - cmdstanpy - INFO - Chain [1] done processing\n",
      "13:58:44 - cmdstanpy - INFO - Chain [1] start processing\n",
      "13:58:44 - cmdstanpy - INFO - Chain [1] done processing\n",
      "13:58:45 - cmdstanpy - INFO - Chain [1] start processing\n",
      "13:58:45 - cmdstanpy - INFO - Chain [1] done processing\n",
      "13:58:45 - cmdstanpy - INFO - Chain [1] start processing\n",
      "13:58:45 - cmdstanpy - INFO - Chain [1] done processing\n",
      "Seasonality has period of 365.25 days which is larger than initial window. Consider increasing initial.\n"
     ]
    },
    {
     "name": "stdout",
     "output_type": "stream",
     "text": [
      "  horizon          mse      rmse       mae   mape  mdape  smape  coverage\n",
      "0  1 days 2266146.0733 1505.3724 1317.2059 0.5123 0.5915 0.7717    1.0000\n"
     ]
    },
    {
     "data": {
      "text/plain": "  0%|          | 0/3 [00:00<?, ?it/s]",
      "application/vnd.jupyter.widget-view+json": {
       "version_major": 2,
       "version_minor": 0,
       "model_id": "4febe4da187f448da84537d06b9571fe"
      }
     },
     "metadata": {},
     "output_type": "display_data"
    },
    {
     "name": "stderr",
     "output_type": "stream",
     "text": [
      "13:58:45 - cmdstanpy - INFO - Chain [1] start processing\n",
      "13:58:45 - cmdstanpy - INFO - Chain [1] done processing\n",
      "13:58:45 - cmdstanpy - INFO - Chain [1] start processing\n",
      "13:58:45 - cmdstanpy - INFO - Chain [1] done processing\n",
      "13:58:45 - cmdstanpy - INFO - Chain [1] start processing\n",
      "13:58:45 - cmdstanpy - INFO - Chain [1] done processing\n",
      "13:58:45 - cmdstanpy - INFO - Chain [1] start processing\n",
      "13:58:45 - cmdstanpy - INFO - Chain [1] done processing\n"
     ]
    },
    {
     "name": "stdout",
     "output_type": "stream",
     "text": [
      "  horizon          mse      rmse       mae   mape  mdape  smape  coverage\n",
      "0  1 days 5836132.6239 2415.8089 2050.7721 0.7829 0.9773 0.9420    0.6667\n"
     ]
    },
    {
     "data": {
      "text/plain": "  0%|          | 0/3 [00:00<?, ?it/s]",
      "application/vnd.jupyter.widget-view+json": {
       "version_major": 2,
       "version_minor": 0,
       "model_id": "ac469ae4e42d4958803778cf5f916190"
      }
     },
     "metadata": {},
     "output_type": "display_data"
    },
    {
     "name": "stderr",
     "output_type": "stream",
     "text": [
      "13:58:45 - cmdstanpy - INFO - Chain [1] start processing\n",
      "13:58:46 - cmdstanpy - INFO - Chain [1] done processing\n",
      "13:58:46 - cmdstanpy - INFO - Chain [1] start processing\n",
      "13:58:46 - cmdstanpy - INFO - Chain [1] done processing\n",
      "13:58:46 - cmdstanpy - INFO - Chain [1] start processing\n",
      "13:58:46 - cmdstanpy - INFO - Chain [1] done processing\n",
      "13:58:46 - cmdstanpy - INFO - Chain [1] start processing\n",
      "13:58:46 - cmdstanpy - INFO - Chain [1] done processing\n",
      "Seasonality has period of 365.25 days which is larger than initial window. Consider increasing initial.\n"
     ]
    },
    {
     "name": "stdout",
     "output_type": "stream",
     "text": [
      "  horizon          mse      rmse       mae   mape  mdape  smape  coverage\n",
      "0  1 days 1530267.7968 1237.0399 1084.5061 0.4224 0.4849 0.5822    1.0000\n"
     ]
    },
    {
     "data": {
      "text/plain": "  0%|          | 0/3 [00:00<?, ?it/s]",
      "application/vnd.jupyter.widget-view+json": {
       "version_major": 2,
       "version_minor": 0,
       "model_id": "55d731e11211469d8e217980b0ff4d6d"
      }
     },
     "metadata": {},
     "output_type": "display_data"
    },
    {
     "name": "stderr",
     "output_type": "stream",
     "text": [
      "13:58:47 - cmdstanpy - INFO - Chain [1] start processing\n",
      "13:58:47 - cmdstanpy - INFO - Chain [1] done processing\n",
      "13:58:47 - cmdstanpy - INFO - Chain [1] start processing\n",
      "13:58:47 - cmdstanpy - INFO - Chain [1] done processing\n",
      "13:58:47 - cmdstanpy - INFO - Chain [1] start processing\n",
      "13:58:47 - cmdstanpy - INFO - Chain [1] done processing\n",
      "13:58:47 - cmdstanpy - INFO - Chain [1] start processing\n",
      "13:58:47 - cmdstanpy - INFO - Chain [1] done processing\n"
     ]
    },
    {
     "name": "stdout",
     "output_type": "stream",
     "text": [
      "  horizon          mse      rmse       mae   mape  mdape  smape  coverage\n",
      "0  1 days 3075469.3909 1753.7016 1503.2298 0.5396 0.6846 0.6122    0.6667\n"
     ]
    },
    {
     "data": {
      "text/plain": "  0%|          | 0/3 [00:00<?, ?it/s]",
      "application/vnd.jupyter.widget-view+json": {
       "version_major": 2,
       "version_minor": 0,
       "model_id": "06a95fb9ed044028b02d1c3feee2171d"
      }
     },
     "metadata": {},
     "output_type": "display_data"
    },
    {
     "name": "stderr",
     "output_type": "stream",
     "text": [
      "13:58:47 - cmdstanpy - INFO - Chain [1] start processing\n",
      "13:58:48 - cmdstanpy - INFO - Chain [1] done processing\n",
      "13:58:48 - cmdstanpy - INFO - Chain [1] start processing\n",
      "13:58:48 - cmdstanpy - INFO - Chain [1] done processing\n",
      "13:58:48 - cmdstanpy - INFO - Chain [1] start processing\n",
      "13:58:48 - cmdstanpy - INFO - Chain [1] done processing\n",
      "13:58:48 - cmdstanpy - INFO - Chain [1] start processing\n",
      "13:58:48 - cmdstanpy - INFO - Chain [1] done processing\n",
      "Seasonality has period of 365.25 days which is larger than initial window. Consider increasing initial.\n"
     ]
    },
    {
     "name": "stdout",
     "output_type": "stream",
     "text": [
      "  horizon          mse      rmse       mae   mape  mdape  smape  coverage\n",
      "0  1 days 1571135.0386 1253.4493 1110.7579 0.4308 0.4893 0.5928    0.6667\n"
     ]
    },
    {
     "data": {
      "text/plain": "  0%|          | 0/3 [00:00<?, ?it/s]",
      "application/vnd.jupyter.widget-view+json": {
       "version_major": 2,
       "version_minor": 0,
       "model_id": "8b28f033abaa49eba6f03b7cd132c06b"
      }
     },
     "metadata": {},
     "output_type": "display_data"
    },
    {
     "name": "stderr",
     "output_type": "stream",
     "text": [
      "13:58:48 - cmdstanpy - INFO - Chain [1] start processing\n",
      "13:58:48 - cmdstanpy - INFO - Chain [1] done processing\n",
      "13:58:48 - cmdstanpy - INFO - Chain [1] start processing\n",
      "13:58:48 - cmdstanpy - INFO - Chain [1] done processing\n",
      "13:58:48 - cmdstanpy - INFO - Chain [1] start processing\n",
      "13:58:48 - cmdstanpy - INFO - Chain [1] done processing\n",
      "13:58:49 - cmdstanpy - INFO - Chain [1] start processing\n",
      "13:58:49 - cmdstanpy - INFO - Chain [1] done processing\n"
     ]
    },
    {
     "name": "stdout",
     "output_type": "stream",
     "text": [
      "  horizon          mse      rmse       mae   mape  mdape  smape  coverage\n",
      "0  1 days 4550163.8765 2133.1113 1633.3913 0.5784 0.7314 0.7741    0.6667\n"
     ]
    },
    {
     "data": {
      "text/plain": "  0%|          | 0/3 [00:00<?, ?it/s]",
      "application/vnd.jupyter.widget-view+json": {
       "version_major": 2,
       "version_minor": 0,
       "model_id": "d6b2f3dd3c5a4a7c8f4fdb27d44527df"
      }
     },
     "metadata": {},
     "output_type": "display_data"
    },
    {
     "name": "stderr",
     "output_type": "stream",
     "text": [
      "13:58:49 - cmdstanpy - INFO - Chain [1] start processing\n",
      "13:58:49 - cmdstanpy - INFO - Chain [1] done processing\n",
      "13:58:49 - cmdstanpy - INFO - Chain [1] start processing\n",
      "13:58:50 - cmdstanpy - INFO - Chain [1] done processing\n",
      "13:58:50 - cmdstanpy - INFO - Chain [1] start processing\n",
      "13:58:50 - cmdstanpy - INFO - Chain [1] done processing\n",
      "13:58:50 - cmdstanpy - INFO - Chain [1] start processing\n",
      "13:58:50 - cmdstanpy - INFO - Chain [1] done processing\n",
      "Seasonality has period of 365.25 days which is larger than initial window. Consider increasing initial.\n"
     ]
    },
    {
     "name": "stdout",
     "output_type": "stream",
     "text": [
      "  horizon          mse      rmse       mae   mape  mdape  smape  coverage\n",
      "0  1 days 1554316.5893 1246.7223 1102.9494 0.4257 0.4889 0.5814    0.6667\n"
     ]
    },
    {
     "data": {
      "text/plain": "  0%|          | 0/3 [00:00<?, ?it/s]",
      "application/vnd.jupyter.widget-view+json": {
       "version_major": 2,
       "version_minor": 0,
       "model_id": "0537d3529392416c8ae853916f85577b"
      }
     },
     "metadata": {},
     "output_type": "display_data"
    },
    {
     "name": "stderr",
     "output_type": "stream",
     "text": [
      "13:58:50 - cmdstanpy - INFO - Chain [1] start processing\n",
      "13:58:50 - cmdstanpy - INFO - Chain [1] done processing\n",
      "13:58:50 - cmdstanpy - INFO - Chain [1] start processing\n",
      "13:58:50 - cmdstanpy - INFO - Chain [1] done processing\n",
      "13:58:50 - cmdstanpy - INFO - Chain [1] start processing\n",
      "13:58:50 - cmdstanpy - INFO - Chain [1] done processing\n",
      "13:58:50 - cmdstanpy - INFO - Chain [1] start processing\n",
      "13:58:50 - cmdstanpy - INFO - Chain [1] done processing\n"
     ]
    },
    {
     "name": "stdout",
     "output_type": "stream",
     "text": [
      "  horizon          mse      rmse       mae   mape  mdape  smape  coverage\n",
      "0  1 days 5419089.5555 2327.8938 1733.0691 0.5835 0.6230 0.8581    0.6667\n"
     ]
    },
    {
     "data": {
      "text/plain": "  0%|          | 0/3 [00:00<?, ?it/s]",
      "application/vnd.jupyter.widget-view+json": {
       "version_major": 2,
       "version_minor": 0,
       "model_id": "adebdabcc9624130af887a25cb2ed5d9"
      }
     },
     "metadata": {},
     "output_type": "display_data"
    },
    {
     "name": "stderr",
     "output_type": "stream",
     "text": [
      "13:58:50 - cmdstanpy - INFO - Chain [1] start processing\n",
      "13:58:51 - cmdstanpy - INFO - Chain [1] done processing\n",
      "13:58:51 - cmdstanpy - INFO - Chain [1] start processing\n",
      "13:58:51 - cmdstanpy - INFO - Chain [1] done processing\n",
      "13:58:51 - cmdstanpy - INFO - Chain [1] start processing\n",
      "13:58:51 - cmdstanpy - INFO - Chain [1] done processing\n",
      "13:58:51 - cmdstanpy - INFO - Chain [1] start processing\n",
      "13:58:51 - cmdstanpy - INFO - Chain [1] done processing\n",
      "Seasonality has period of 365.25 days which is larger than initial window. Consider increasing initial.\n"
     ]
    },
    {
     "name": "stdout",
     "output_type": "stream",
     "text": [
      "  horizon          mse      rmse       mae   mape  mdape  smape  coverage\n",
      "0  1 days 1567125.0547 1251.8487 1112.6910 0.4301 0.4887 0.5888    1.0000\n"
     ]
    },
    {
     "data": {
      "text/plain": "  0%|          | 0/3 [00:00<?, ?it/s]",
      "application/vnd.jupyter.widget-view+json": {
       "version_major": 2,
       "version_minor": 0,
       "model_id": "fbc1cea3751142978c6c59fbdd2201b7"
      }
     },
     "metadata": {},
     "output_type": "display_data"
    },
    {
     "name": "stderr",
     "output_type": "stream",
     "text": [
      "13:58:52 - cmdstanpy - INFO - Chain [1] start processing\n",
      "13:58:52 - cmdstanpy - INFO - Chain [1] done processing\n",
      "13:58:52 - cmdstanpy - INFO - Chain [1] start processing\n",
      "13:58:52 - cmdstanpy - INFO - Chain [1] done processing\n",
      "13:58:52 - cmdstanpy - INFO - Chain [1] start processing\n",
      "13:58:52 - cmdstanpy - INFO - Chain [1] done processing\n",
      "13:58:52 - cmdstanpy - INFO - Chain [1] start processing\n",
      "13:58:52 - cmdstanpy - INFO - Chain [1] done processing\n"
     ]
    },
    {
     "name": "stdout",
     "output_type": "stream",
     "text": [
      "  horizon          mse      rmse       mae   mape  mdape  smape  coverage\n",
      "0  1 days 5101919.0231 2258.7428 1661.6852 0.5730 0.6719 0.8384    0.6667\n"
     ]
    },
    {
     "data": {
      "text/plain": "  0%|          | 0/3 [00:00<?, ?it/s]",
      "application/vnd.jupyter.widget-view+json": {
       "version_major": 2,
       "version_minor": 0,
       "model_id": "b5cb889438d842c2a22789a647aa753b"
      }
     },
     "metadata": {},
     "output_type": "display_data"
    },
    {
     "name": "stderr",
     "output_type": "stream",
     "text": [
      "13:58:52 - cmdstanpy - INFO - Chain [1] start processing\n",
      "13:58:53 - cmdstanpy - INFO - Chain [1] done processing\n",
      "13:58:53 - cmdstanpy - INFO - Chain [1] start processing\n",
      "13:58:53 - cmdstanpy - INFO - Chain [1] done processing\n",
      "13:58:53 - cmdstanpy - INFO - Chain [1] start processing\n",
      "13:58:53 - cmdstanpy - INFO - Chain [1] done processing\n",
      "13:58:53 - cmdstanpy - INFO - Chain [1] start processing\n",
      "13:58:53 - cmdstanpy - INFO - Chain [1] done processing\n",
      "Seasonality has period of 365.25 days which is larger than initial window. Consider increasing initial.\n"
     ]
    },
    {
     "name": "stdout",
     "output_type": "stream",
     "text": [
      "  horizon          mse      rmse       mae   mape  mdape  smape  coverage\n",
      "0  1 days 1530267.7968 1237.0399 1084.5061 0.4224 0.4849 0.5822    1.0000\n"
     ]
    },
    {
     "data": {
      "text/plain": "  0%|          | 0/3 [00:00<?, ?it/s]",
      "application/vnd.jupyter.widget-view+json": {
       "version_major": 2,
       "version_minor": 0,
       "model_id": "150063e0211944079885362a1ee51508"
      }
     },
     "metadata": {},
     "output_type": "display_data"
    },
    {
     "name": "stderr",
     "output_type": "stream",
     "text": [
      "13:58:53 - cmdstanpy - INFO - Chain [1] start processing\n",
      "13:58:54 - cmdstanpy - INFO - Chain [1] done processing\n",
      "13:58:54 - cmdstanpy - INFO - Chain [1] start processing\n",
      "13:58:54 - cmdstanpy - INFO - Chain [1] done processing\n",
      "13:58:54 - cmdstanpy - INFO - Chain [1] start processing\n",
      "13:58:54 - cmdstanpy - INFO - Chain [1] done processing\n",
      "13:58:54 - cmdstanpy - INFO - Chain [1] start processing\n",
      "13:58:54 - cmdstanpy - INFO - Chain [1] done processing\n"
     ]
    },
    {
     "name": "stdout",
     "output_type": "stream",
     "text": [
      "  horizon          mse      rmse       mae   mape  mdape  smape  coverage\n",
      "0  1 days 3075469.3909 1753.7016 1503.2298 0.5396 0.6846 0.6122    0.6667\n"
     ]
    },
    {
     "data": {
      "text/plain": "  0%|          | 0/3 [00:00<?, ?it/s]",
      "application/vnd.jupyter.widget-view+json": {
       "version_major": 2,
       "version_minor": 0,
       "model_id": "100c1688dfda4fedb1856afd05d9fb03"
      }
     },
     "metadata": {},
     "output_type": "display_data"
    },
    {
     "name": "stderr",
     "output_type": "stream",
     "text": [
      "13:58:54 - cmdstanpy - INFO - Chain [1] start processing\n",
      "13:58:55 - cmdstanpy - INFO - Chain [1] done processing\n",
      "13:58:55 - cmdstanpy - INFO - Chain [1] start processing\n",
      "13:58:55 - cmdstanpy - INFO - Chain [1] done processing\n",
      "13:58:55 - cmdstanpy - INFO - Chain [1] start processing\n",
      "13:58:55 - cmdstanpy - INFO - Chain [1] done processing\n",
      "13:58:55 - cmdstanpy - INFO - Chain [1] start processing\n",
      "13:58:55 - cmdstanpy - INFO - Chain [1] done processing\n",
      "Seasonality has period of 365.25 days which is larger than initial window. Consider increasing initial.\n"
     ]
    },
    {
     "name": "stdout",
     "output_type": "stream",
     "text": [
      "  horizon          mse      rmse       mae   mape  mdape  smape  coverage\n",
      "0  1 days 1571135.0386 1253.4493 1110.7579 0.4308 0.4893 0.5928    1.0000\n"
     ]
    },
    {
     "data": {
      "text/plain": "  0%|          | 0/3 [00:00<?, ?it/s]",
      "application/vnd.jupyter.widget-view+json": {
       "version_major": 2,
       "version_minor": 0,
       "model_id": "7c681a9c6b314dbfbeaf2fe37d64943b"
      }
     },
     "metadata": {},
     "output_type": "display_data"
    },
    {
     "name": "stderr",
     "output_type": "stream",
     "text": [
      "13:58:55 - cmdstanpy - INFO - Chain [1] start processing\n",
      "13:58:55 - cmdstanpy - INFO - Chain [1] done processing\n",
      "13:58:55 - cmdstanpy - INFO - Chain [1] start processing\n",
      "13:58:55 - cmdstanpy - INFO - Chain [1] done processing\n",
      "13:58:55 - cmdstanpy - INFO - Chain [1] start processing\n",
      "13:58:55 - cmdstanpy - INFO - Chain [1] done processing\n",
      "13:58:56 - cmdstanpy - INFO - Chain [1] start processing\n",
      "13:58:56 - cmdstanpy - INFO - Chain [1] done processing\n"
     ]
    },
    {
     "name": "stdout",
     "output_type": "stream",
     "text": [
      "  horizon          mse      rmse       mae   mape  mdape  smape  coverage\n",
      "0  1 days 4550163.8765 2133.1113 1633.3913 0.5784 0.7314 0.7741    0.6667\n"
     ]
    },
    {
     "data": {
      "text/plain": "  0%|          | 0/3 [00:00<?, ?it/s]",
      "application/vnd.jupyter.widget-view+json": {
       "version_major": 2,
       "version_minor": 0,
       "model_id": "91c3df8d2f204ff2801fb2c427addd1a"
      }
     },
     "metadata": {},
     "output_type": "display_data"
    },
    {
     "name": "stderr",
     "output_type": "stream",
     "text": [
      "13:58:56 - cmdstanpy - INFO - Chain [1] start processing\n",
      "13:58:56 - cmdstanpy - INFO - Chain [1] done processing\n",
      "13:58:56 - cmdstanpy - INFO - Chain [1] start processing\n",
      "13:58:57 - cmdstanpy - INFO - Chain [1] done processing\n",
      "13:58:57 - cmdstanpy - INFO - Chain [1] start processing\n",
      "13:58:57 - cmdstanpy - INFO - Chain [1] done processing\n",
      "13:58:57 - cmdstanpy - INFO - Chain [1] start processing\n",
      "13:58:57 - cmdstanpy - INFO - Chain [1] done processing\n",
      "Seasonality has period of 365.25 days which is larger than initial window. Consider increasing initial.\n"
     ]
    },
    {
     "name": "stdout",
     "output_type": "stream",
     "text": [
      "  horizon          mse      rmse       mae   mape  mdape  smape  coverage\n",
      "0  1 days 1554316.5893 1246.7223 1102.9494 0.4257 0.4889 0.5814    1.0000\n"
     ]
    },
    {
     "data": {
      "text/plain": "  0%|          | 0/3 [00:00<?, ?it/s]",
      "application/vnd.jupyter.widget-view+json": {
       "version_major": 2,
       "version_minor": 0,
       "model_id": "3a2dcf5f7a5a46e8afc849b85696e973"
      }
     },
     "metadata": {},
     "output_type": "display_data"
    },
    {
     "name": "stderr",
     "output_type": "stream",
     "text": [
      "13:58:57 - cmdstanpy - INFO - Chain [1] start processing\n",
      "13:58:57 - cmdstanpy - INFO - Chain [1] done processing\n",
      "13:58:57 - cmdstanpy - INFO - Chain [1] start processing\n",
      "13:58:57 - cmdstanpy - INFO - Chain [1] done processing\n",
      "13:58:57 - cmdstanpy - INFO - Chain [1] start processing\n",
      "13:58:57 - cmdstanpy - INFO - Chain [1] done processing\n",
      "13:58:57 - cmdstanpy - INFO - Chain [1] start processing\n",
      "13:58:58 - cmdstanpy - INFO - Chain [1] done processing\n"
     ]
    },
    {
     "name": "stdout",
     "output_type": "stream",
     "text": [
      "  horizon          mse      rmse       mae   mape  mdape  smape  coverage\n",
      "0  1 days 5419089.5555 2327.8938 1733.0691 0.5835 0.6230 0.8581    0.6667\n"
     ]
    },
    {
     "data": {
      "text/plain": "  0%|          | 0/3 [00:00<?, ?it/s]",
      "application/vnd.jupyter.widget-view+json": {
       "version_major": 2,
       "version_minor": 0,
       "model_id": "36f9de7040bb4946b48f69fbe1100c12"
      }
     },
     "metadata": {},
     "output_type": "display_data"
    },
    {
     "name": "stderr",
     "output_type": "stream",
     "text": [
      "13:58:58 - cmdstanpy - INFO - Chain [1] start processing\n",
      "13:58:58 - cmdstanpy - INFO - Chain [1] done processing\n",
      "13:58:58 - cmdstanpy - INFO - Chain [1] start processing\n",
      "13:58:58 - cmdstanpy - INFO - Chain [1] done processing\n",
      "13:58:58 - cmdstanpy - INFO - Chain [1] start processing\n",
      "13:58:58 - cmdstanpy - INFO - Chain [1] done processing\n",
      "13:58:58 - cmdstanpy - INFO - Chain [1] start processing\n",
      "13:58:58 - cmdstanpy - INFO - Chain [1] done processing\n",
      "Seasonality has period of 365.25 days which is larger than initial window. Consider increasing initial.\n"
     ]
    },
    {
     "name": "stdout",
     "output_type": "stream",
     "text": [
      "  horizon          mse      rmse       mae   mape  mdape  smape  coverage\n",
      "0  1 days 1567125.0547 1251.8487 1112.6910 0.4301 0.4887 0.5888    1.0000\n"
     ]
    },
    {
     "data": {
      "text/plain": "  0%|          | 0/3 [00:00<?, ?it/s]",
      "application/vnd.jupyter.widget-view+json": {
       "version_major": 2,
       "version_minor": 0,
       "model_id": "93dee94943ef484e9cc693e1a43e34f3"
      }
     },
     "metadata": {},
     "output_type": "display_data"
    },
    {
     "name": "stderr",
     "output_type": "stream",
     "text": [
      "13:58:58 - cmdstanpy - INFO - Chain [1] start processing\n",
      "13:58:59 - cmdstanpy - INFO - Chain [1] done processing\n",
      "13:58:59 - cmdstanpy - INFO - Chain [1] start processing\n",
      "13:58:59 - cmdstanpy - INFO - Chain [1] done processing\n",
      "13:58:59 - cmdstanpy - INFO - Chain [1] start processing\n",
      "13:58:59 - cmdstanpy - INFO - Chain [1] done processing\n",
      "13:58:59 - cmdstanpy - INFO - Chain [1] start processing\n",
      "13:58:59 - cmdstanpy - INFO - Chain [1] done processing\n"
     ]
    },
    {
     "name": "stdout",
     "output_type": "stream",
     "text": [
      "  horizon          mse      rmse       mae   mape  mdape  smape  coverage\n",
      "0  1 days 5101919.0231 2258.7428 1661.6852 0.5730 0.6719 0.8384    0.6667\n"
     ]
    },
    {
     "data": {
      "text/plain": "  0%|          | 0/3 [00:00<?, ?it/s]",
      "application/vnd.jupyter.widget-view+json": {
       "version_major": 2,
       "version_minor": 0,
       "model_id": "3841a18598fd40d487e7694e836c6292"
      }
     },
     "metadata": {},
     "output_type": "display_data"
    },
    {
     "name": "stderr",
     "output_type": "stream",
     "text": [
      "13:58:59 - cmdstanpy - INFO - Chain [1] start processing\n",
      "13:59:00 - cmdstanpy - INFO - Chain [1] done processing\n",
      "13:59:00 - cmdstanpy - INFO - Chain [1] start processing\n",
      "13:59:00 - cmdstanpy - INFO - Chain [1] done processing\n",
      "13:59:00 - cmdstanpy - INFO - Chain [1] start processing\n",
      "13:59:00 - cmdstanpy - INFO - Chain [1] done processing\n",
      "13:59:00 - cmdstanpy - INFO - Chain [1] start processing\n",
      "13:59:00 - cmdstanpy - INFO - Chain [1] done processing\n",
      "Seasonality has period of 365.25 days which is larger than initial window. Consider increasing initial.\n"
     ]
    },
    {
     "name": "stdout",
     "output_type": "stream",
     "text": [
      "  horizon          mse      rmse       mae   mape  mdape  smape  coverage\n",
      "0  1 days 1530267.7968 1237.0399 1084.5061 0.4224 0.4849 0.5822    1.0000\n"
     ]
    },
    {
     "data": {
      "text/plain": "  0%|          | 0/3 [00:00<?, ?it/s]",
      "application/vnd.jupyter.widget-view+json": {
       "version_major": 2,
       "version_minor": 0,
       "model_id": "25f45557b7424b30ac7cd12f95a580b5"
      }
     },
     "metadata": {},
     "output_type": "display_data"
    },
    {
     "name": "stderr",
     "output_type": "stream",
     "text": [
      "13:59:00 - cmdstanpy - INFO - Chain [1] start processing\n",
      "13:59:01 - cmdstanpy - INFO - Chain [1] done processing\n",
      "13:59:01 - cmdstanpy - INFO - Chain [1] start processing\n",
      "13:59:01 - cmdstanpy - INFO - Chain [1] done processing\n",
      "13:59:01 - cmdstanpy - INFO - Chain [1] start processing\n",
      "13:59:01 - cmdstanpy - INFO - Chain [1] done processing\n",
      "13:59:01 - cmdstanpy - INFO - Chain [1] start processing\n",
      "13:59:01 - cmdstanpy - INFO - Chain [1] done processing\n"
     ]
    },
    {
     "name": "stdout",
     "output_type": "stream",
     "text": [
      "  horizon          mse      rmse       mae   mape  mdape  smape  coverage\n",
      "0  1 days 3075469.3909 1753.7016 1503.2298 0.5396 0.6846 0.6122    1.0000\n"
     ]
    },
    {
     "data": {
      "text/plain": "  0%|          | 0/3 [00:00<?, ?it/s]",
      "application/vnd.jupyter.widget-view+json": {
       "version_major": 2,
       "version_minor": 0,
       "model_id": "2b73942624d04083be1882ae8aac1c20"
      }
     },
     "metadata": {},
     "output_type": "display_data"
    },
    {
     "name": "stderr",
     "output_type": "stream",
     "text": [
      "13:59:01 - cmdstanpy - INFO - Chain [1] start processing\n",
      "13:59:01 - cmdstanpy - INFO - Chain [1] done processing\n",
      "13:59:01 - cmdstanpy - INFO - Chain [1] start processing\n",
      "13:59:02 - cmdstanpy - INFO - Chain [1] done processing\n",
      "13:59:02 - cmdstanpy - INFO - Chain [1] start processing\n",
      "13:59:02 - cmdstanpy - INFO - Chain [1] done processing\n",
      "13:59:02 - cmdstanpy - INFO - Chain [1] start processing\n",
      "13:59:02 - cmdstanpy - INFO - Chain [1] done processing\n",
      "Seasonality has period of 365.25 days which is larger than initial window. Consider increasing initial.\n"
     ]
    },
    {
     "name": "stdout",
     "output_type": "stream",
     "text": [
      "  horizon          mse      rmse       mae   mape  mdape  smape  coverage\n",
      "0  1 days 1571135.0386 1253.4493 1110.7579 0.4308 0.4893 0.5928    1.0000\n"
     ]
    },
    {
     "data": {
      "text/plain": "  0%|          | 0/3 [00:00<?, ?it/s]",
      "application/vnd.jupyter.widget-view+json": {
       "version_major": 2,
       "version_minor": 0,
       "model_id": "d2e2c0f9c1e4445e9afc294976dbc948"
      }
     },
     "metadata": {},
     "output_type": "display_data"
    },
    {
     "name": "stderr",
     "output_type": "stream",
     "text": [
      "13:59:02 - cmdstanpy - INFO - Chain [1] start processing\n",
      "13:59:02 - cmdstanpy - INFO - Chain [1] done processing\n",
      "13:59:02 - cmdstanpy - INFO - Chain [1] start processing\n",
      "13:59:02 - cmdstanpy - INFO - Chain [1] done processing\n",
      "13:59:02 - cmdstanpy - INFO - Chain [1] start processing\n",
      "13:59:02 - cmdstanpy - INFO - Chain [1] done processing\n",
      "13:59:02 - cmdstanpy - INFO - Chain [1] start processing\n",
      "13:59:03 - cmdstanpy - INFO - Chain [1] done processing\n"
     ]
    },
    {
     "name": "stdout",
     "output_type": "stream",
     "text": [
      "  horizon          mse      rmse       mae   mape  mdape  smape  coverage\n",
      "0  1 days 4550163.8765 2133.1113 1633.3913 0.5784 0.7314 0.7741    0.6667\n"
     ]
    },
    {
     "data": {
      "text/plain": "  0%|          | 0/3 [00:00<?, ?it/s]",
      "application/vnd.jupyter.widget-view+json": {
       "version_major": 2,
       "version_minor": 0,
       "model_id": "4c49352891534b4987b7e025728cdc5f"
      }
     },
     "metadata": {},
     "output_type": "display_data"
    },
    {
     "name": "stderr",
     "output_type": "stream",
     "text": [
      "13:59:03 - cmdstanpy - INFO - Chain [1] start processing\n",
      "13:59:03 - cmdstanpy - INFO - Chain [1] done processing\n",
      "13:59:03 - cmdstanpy - INFO - Chain [1] start processing\n",
      "13:59:03 - cmdstanpy - INFO - Chain [1] done processing\n",
      "13:59:03 - cmdstanpy - INFO - Chain [1] start processing\n",
      "13:59:03 - cmdstanpy - INFO - Chain [1] done processing\n",
      "13:59:04 - cmdstanpy - INFO - Chain [1] start processing\n",
      "13:59:04 - cmdstanpy - INFO - Chain [1] done processing\n",
      "Seasonality has period of 365.25 days which is larger than initial window. Consider increasing initial.\n"
     ]
    },
    {
     "name": "stdout",
     "output_type": "stream",
     "text": [
      "  horizon          mse      rmse       mae   mape  mdape  smape  coverage\n",
      "0  1 days 1554316.5893 1246.7223 1102.9494 0.4257 0.4889 0.5814    1.0000\n"
     ]
    },
    {
     "data": {
      "text/plain": "  0%|          | 0/3 [00:00<?, ?it/s]",
      "application/vnd.jupyter.widget-view+json": {
       "version_major": 2,
       "version_minor": 0,
       "model_id": "1dd5dd428d3e41a8be214529a3d6d109"
      }
     },
     "metadata": {},
     "output_type": "display_data"
    },
    {
     "name": "stderr",
     "output_type": "stream",
     "text": [
      "13:59:04 - cmdstanpy - INFO - Chain [1] start processing\n",
      "13:59:04 - cmdstanpy - INFO - Chain [1] done processing\n",
      "13:59:04 - cmdstanpy - INFO - Chain [1] start processing\n",
      "13:59:04 - cmdstanpy - INFO - Chain [1] done processing\n",
      "13:59:04 - cmdstanpy - INFO - Chain [1] start processing\n",
      "13:59:04 - cmdstanpy - INFO - Chain [1] done processing\n",
      "13:59:04 - cmdstanpy - INFO - Chain [1] start processing\n",
      "13:59:04 - cmdstanpy - INFO - Chain [1] done processing\n"
     ]
    },
    {
     "name": "stdout",
     "output_type": "stream",
     "text": [
      "  horizon          mse      rmse       mae   mape  mdape  smape  coverage\n",
      "0  1 days 5419089.5555 2327.8938 1733.0691 0.5835 0.6230 0.8581    0.6667\n"
     ]
    },
    {
     "data": {
      "text/plain": "  0%|          | 0/3 [00:00<?, ?it/s]",
      "application/vnd.jupyter.widget-view+json": {
       "version_major": 2,
       "version_minor": 0,
       "model_id": "aed04092249741d69e91dacb5164c162"
      }
     },
     "metadata": {},
     "output_type": "display_data"
    },
    {
     "name": "stderr",
     "output_type": "stream",
     "text": [
      "13:59:04 - cmdstanpy - INFO - Chain [1] start processing\n",
      "13:59:05 - cmdstanpy - INFO - Chain [1] done processing\n",
      "13:59:05 - cmdstanpy - INFO - Chain [1] start processing\n",
      "13:59:05 - cmdstanpy - INFO - Chain [1] done processing\n",
      "13:59:05 - cmdstanpy - INFO - Chain [1] start processing\n",
      "13:59:05 - cmdstanpy - INFO - Chain [1] done processing\n",
      "13:59:05 - cmdstanpy - INFO - Chain [1] start processing\n",
      "13:59:05 - cmdstanpy - INFO - Chain [1] done processing\n",
      "Seasonality has period of 365.25 days which is larger than initial window. Consider increasing initial.\n"
     ]
    },
    {
     "name": "stdout",
     "output_type": "stream",
     "text": [
      "  horizon          mse      rmse       mae   mape  mdape  smape  coverage\n",
      "0  1 days 1567125.0547 1251.8487 1112.6910 0.4301 0.4887 0.5888    1.0000\n"
     ]
    },
    {
     "data": {
      "text/plain": "  0%|          | 0/3 [00:00<?, ?it/s]",
      "application/vnd.jupyter.widget-view+json": {
       "version_major": 2,
       "version_minor": 0,
       "model_id": "72711f5682904e08a647191f0b06b254"
      }
     },
     "metadata": {},
     "output_type": "display_data"
    },
    {
     "name": "stderr",
     "output_type": "stream",
     "text": [
      "13:59:05 - cmdstanpy - INFO - Chain [1] start processing\n",
      "13:59:06 - cmdstanpy - INFO - Chain [1] done processing\n",
      "13:59:06 - cmdstanpy - INFO - Chain [1] start processing\n",
      "13:59:06 - cmdstanpy - INFO - Chain [1] done processing\n",
      "13:59:06 - cmdstanpy - INFO - Chain [1] start processing\n",
      "13:59:06 - cmdstanpy - INFO - Chain [1] done processing\n",
      "13:59:06 - cmdstanpy - INFO - Chain [1] start processing\n",
      "13:59:06 - cmdstanpy - INFO - Chain [1] done processing\n"
     ]
    },
    {
     "name": "stdout",
     "output_type": "stream",
     "text": [
      "  horizon          mse      rmse       mae   mape  mdape  smape  coverage\n",
      "0  1 days 5101919.0231 2258.7428 1661.6852 0.5730 0.6719 0.8384    0.6667\n"
     ]
    },
    {
     "data": {
      "text/plain": "  0%|          | 0/3 [00:00<?, ?it/s]",
      "application/vnd.jupyter.widget-view+json": {
       "version_major": 2,
       "version_minor": 0,
       "model_id": "fe371388c4cd4e189c2894c1b41cd325"
      }
     },
     "metadata": {},
     "output_type": "display_data"
    },
    {
     "name": "stderr",
     "output_type": "stream",
     "text": [
      "13:59:06 - cmdstanpy - INFO - Chain [1] start processing\n",
      "13:59:07 - cmdstanpy - INFO - Chain [1] done processing\n",
      "13:59:07 - cmdstanpy - INFO - Chain [1] start processing\n",
      "13:59:07 - cmdstanpy - INFO - Chain [1] done processing\n",
      "13:59:07 - cmdstanpy - INFO - Chain [1] start processing\n",
      "13:59:07 - cmdstanpy - INFO - Chain [1] done processing\n",
      "13:59:07 - cmdstanpy - INFO - Chain [1] start processing\n",
      "13:59:07 - cmdstanpy - INFO - Chain [1] done processing\n",
      "Seasonality has period of 365.25 days which is larger than initial window. Consider increasing initial.\n"
     ]
    },
    {
     "name": "stdout",
     "output_type": "stream",
     "text": [
      "  horizon          mse      rmse       mae   mape  mdape  smape  coverage\n",
      "0  1 days 1569014.2648 1252.6030 1100.1310 0.4268 0.4919 0.5884    0.6667\n"
     ]
    },
    {
     "data": {
      "text/plain": "  0%|          | 0/3 [00:00<?, ?it/s]",
      "application/vnd.jupyter.widget-view+json": {
       "version_major": 2,
       "version_minor": 0,
       "model_id": "fbd48f1fe1b7434cae260006471d43d7"
      }
     },
     "metadata": {},
     "output_type": "display_data"
    },
    {
     "name": "stderr",
     "output_type": "stream",
     "text": [
      "13:59:07 - cmdstanpy - INFO - Chain [1] start processing\n",
      "13:59:08 - cmdstanpy - INFO - Chain [1] done processing\n",
      "13:59:08 - cmdstanpy - INFO - Chain [1] start processing\n",
      "13:59:08 - cmdstanpy - INFO - Chain [1] done processing\n",
      "13:59:08 - cmdstanpy - INFO - Chain [1] start processing\n",
      "13:59:08 - cmdstanpy - INFO - Chain [1] done processing\n",
      "13:59:08 - cmdstanpy - INFO - Chain [1] start processing\n",
      "13:59:08 - cmdstanpy - INFO - Chain [1] done processing\n"
     ]
    },
    {
     "name": "stdout",
     "output_type": "stream",
     "text": [
      "  horizon          mse      rmse       mae   mape  mdape  smape  coverage\n",
      "0  1 days 3042536.0065 1744.2867 1433.4286 0.5325 0.7257 0.5988    0.6667\n"
     ]
    },
    {
     "data": {
      "text/plain": "  0%|          | 0/3 [00:00<?, ?it/s]",
      "application/vnd.jupyter.widget-view+json": {
       "version_major": 2,
       "version_minor": 0,
       "model_id": "df9e39efc72949b383b0593e952d3f06"
      }
     },
     "metadata": {},
     "output_type": "display_data"
    },
    {
     "name": "stderr",
     "output_type": "stream",
     "text": [
      "13:59:08 - cmdstanpy - INFO - Chain [1] start processing\n",
      "13:59:10 - cmdstanpy - INFO - Chain [1] done processing\n",
      "13:59:10 - cmdstanpy - INFO - Chain [1] start processing\n",
      "13:59:10 - cmdstanpy - INFO - Chain [1] done processing\n",
      "13:59:10 - cmdstanpy - INFO - Chain [1] start processing\n",
      "13:59:10 - cmdstanpy - INFO - Chain [1] done processing\n",
      "13:59:10 - cmdstanpy - INFO - Chain [1] start processing\n",
      "13:59:10 - cmdstanpy - INFO - Chain [1] done processing\n",
      "Seasonality has period of 365.25 days which is larger than initial window. Consider increasing initial.\n"
     ]
    },
    {
     "name": "stdout",
     "output_type": "stream",
     "text": [
      "  horizon          mse      rmse       mae   mape  mdape  smape  coverage\n",
      "0  1 days 1546822.7526 1243.7133 1090.5614 0.4196 0.4917 0.5715    1.0000\n"
     ]
    },
    {
     "data": {
      "text/plain": "  0%|          | 0/3 [00:00<?, ?it/s]",
      "application/vnd.jupyter.widget-view+json": {
       "version_major": 2,
       "version_minor": 0,
       "model_id": "8f62b853fd104a6a8cf182157742cde8"
      }
     },
     "metadata": {},
     "output_type": "display_data"
    },
    {
     "name": "stderr",
     "output_type": "stream",
     "text": [
      "13:59:10 - cmdstanpy - INFO - Chain [1] start processing\n",
      "13:59:11 - cmdstanpy - INFO - Chain [1] done processing\n",
      "13:59:11 - cmdstanpy - INFO - Chain [1] start processing\n",
      "13:59:11 - cmdstanpy - INFO - Chain [1] done processing\n",
      "13:59:11 - cmdstanpy - INFO - Chain [1] start processing\n",
      "13:59:11 - cmdstanpy - INFO - Chain [1] done processing\n",
      "13:59:11 - cmdstanpy - INFO - Chain [1] start processing\n",
      "13:59:11 - cmdstanpy - INFO - Chain [1] done processing\n"
     ]
    },
    {
     "name": "stdout",
     "output_type": "stream",
     "text": [
      "  horizon          mse      rmse       mae   mape  mdape  smape  coverage\n",
      "0  1 days 4733840.8657 2175.7392 1795.1163 0.6281 0.7422 0.8171    0.6667\n"
     ]
    },
    {
     "data": {
      "text/plain": "  0%|          | 0/3 [00:00<?, ?it/s]",
      "application/vnd.jupyter.widget-view+json": {
       "version_major": 2,
       "version_minor": 0,
       "model_id": "e1da82c397f747249cfc9ee07073636e"
      }
     },
     "metadata": {},
     "output_type": "display_data"
    },
    {
     "name": "stderr",
     "output_type": "stream",
     "text": [
      "13:59:11 - cmdstanpy - INFO - Chain [1] start processing\n",
      "13:59:12 - cmdstanpy - INFO - Chain [1] done processing\n",
      "13:59:12 - cmdstanpy - INFO - Chain [1] start processing\n",
      "13:59:12 - cmdstanpy - INFO - Chain [1] done processing\n",
      "13:59:12 - cmdstanpy - INFO - Chain [1] start processing\n",
      "13:59:12 - cmdstanpy - INFO - Chain [1] done processing\n",
      "13:59:13 - cmdstanpy - INFO - Chain [1] start processing\n",
      "13:59:13 - cmdstanpy - INFO - Chain [1] done processing\n",
      "Seasonality has period of 365.25 days which is larger than initial window. Consider increasing initial.\n"
     ]
    },
    {
     "name": "stdout",
     "output_type": "stream",
     "text": [
      "  horizon          mse      rmse       mae   mape  mdape  smape  coverage\n",
      "0  1 days 1565015.0060 1251.0056 1094.0762 0.4196 0.4964 0.5710    1.0000\n"
     ]
    },
    {
     "data": {
      "text/plain": "  0%|          | 0/3 [00:00<?, ?it/s]",
      "application/vnd.jupyter.widget-view+json": {
       "version_major": 2,
       "version_minor": 0,
       "model_id": "2dcfb876df274c06bf77a865fddaa38a"
      }
     },
     "metadata": {},
     "output_type": "display_data"
    },
    {
     "name": "stderr",
     "output_type": "stream",
     "text": [
      "13:59:13 - cmdstanpy - INFO - Chain [1] start processing\n",
      "13:59:13 - cmdstanpy - INFO - Chain [1] done processing\n",
      "13:59:13 - cmdstanpy - INFO - Chain [1] start processing\n",
      "13:59:13 - cmdstanpy - INFO - Chain [1] done processing\n",
      "13:59:13 - cmdstanpy - INFO - Chain [1] start processing\n",
      "13:59:13 - cmdstanpy - INFO - Chain [1] done processing\n",
      "13:59:13 - cmdstanpy - INFO - Chain [1] start processing\n",
      "13:59:14 - cmdstanpy - INFO - Chain [1] done processing\n"
     ]
    },
    {
     "name": "stdout",
     "output_type": "stream",
     "text": [
      "  horizon          mse      rmse       mae   mape  mdape  smape  coverage\n",
      "0  1 days 5450236.2426 2334.5741 1797.5914 0.5979 0.5976 0.8737    0.6667\n"
     ]
    },
    {
     "data": {
      "text/plain": "  0%|          | 0/3 [00:00<?, ?it/s]",
      "application/vnd.jupyter.widget-view+json": {
       "version_major": 2,
       "version_minor": 0,
       "model_id": "b22903313b1a46ffaf8c8975b018b2b3"
      }
     },
     "metadata": {},
     "output_type": "display_data"
    },
    {
     "name": "stderr",
     "output_type": "stream",
     "text": [
      "13:59:14 - cmdstanpy - INFO - Chain [1] start processing\n",
      "13:59:14 - cmdstanpy - INFO - Chain [1] done processing\n",
      "13:59:15 - cmdstanpy - INFO - Chain [1] start processing\n",
      "13:59:15 - cmdstanpy - INFO - Chain [1] done processing\n",
      "13:59:15 - cmdstanpy - INFO - Chain [1] start processing\n",
      "13:59:15 - cmdstanpy - INFO - Chain [1] done processing\n",
      "13:59:15 - cmdstanpy - INFO - Chain [1] start processing\n",
      "13:59:15 - cmdstanpy - INFO - Chain [1] done processing\n",
      "Seasonality has period of 365.25 days which is larger than initial window. Consider increasing initial.\n"
     ]
    },
    {
     "name": "stdout",
     "output_type": "stream",
     "text": [
      "  horizon          mse      rmse       mae   mape  mdape  smape  coverage\n",
      "0  1 days 1540786.5882 1241.2842 1090.2360 0.4206 0.4893 0.5739    1.0000\n"
     ]
    },
    {
     "data": {
      "text/plain": "  0%|          | 0/3 [00:00<?, ?it/s]",
      "application/vnd.jupyter.widget-view+json": {
       "version_major": 2,
       "version_minor": 0,
       "model_id": "e7f2dc1ee14c4954b3f0c6c3f72595ae"
      }
     },
     "metadata": {},
     "output_type": "display_data"
    },
    {
     "name": "stderr",
     "output_type": "stream",
     "text": [
      "13:59:15 - cmdstanpy - INFO - Chain [1] start processing\n",
      "13:59:16 - cmdstanpy - INFO - Chain [1] done processing\n",
      "13:59:16 - cmdstanpy - INFO - Chain [1] start processing\n",
      "13:59:16 - cmdstanpy - INFO - Chain [1] done processing\n",
      "13:59:16 - cmdstanpy - INFO - Chain [1] start processing\n",
      "13:59:16 - cmdstanpy - INFO - Chain [1] done processing\n",
      "13:59:16 - cmdstanpy - INFO - Chain [1] start processing\n",
      "13:59:16 - cmdstanpy - INFO - Chain [1] done processing\n"
     ]
    },
    {
     "name": "stdout",
     "output_type": "stream",
     "text": [
      "  horizon          mse      rmse       mae   mape  mdape  smape  coverage\n",
      "0  1 days 5215235.1250 2283.6889 1813.9081 0.6422 0.8014 0.8746    0.6667\n"
     ]
    },
    {
     "data": {
      "text/plain": "  0%|          | 0/3 [00:00<?, ?it/s]",
      "application/vnd.jupyter.widget-view+json": {
       "version_major": 2,
       "version_minor": 0,
       "model_id": "55beef92785f407ea186d0723d569229"
      }
     },
     "metadata": {},
     "output_type": "display_data"
    },
    {
     "name": "stderr",
     "output_type": "stream",
     "text": [
      "13:59:16 - cmdstanpy - INFO - Chain [1] start processing\n",
      "13:59:17 - cmdstanpy - INFO - Chain [1] done processing\n",
      "13:59:17 - cmdstanpy - INFO - Chain [1] start processing\n",
      "13:59:17 - cmdstanpy - INFO - Chain [1] done processing\n",
      "13:59:17 - cmdstanpy - INFO - Chain [1] start processing\n",
      "13:59:17 - cmdstanpy - INFO - Chain [1] done processing\n",
      "13:59:17 - cmdstanpy - INFO - Chain [1] start processing\n",
      "13:59:17 - cmdstanpy - INFO - Chain [1] done processing\n",
      "Seasonality has period of 365.25 days which is larger than initial window. Consider increasing initial.\n"
     ]
    },
    {
     "name": "stdout",
     "output_type": "stream",
     "text": [
      "  horizon          mse      rmse       mae   mape  mdape  smape  coverage\n",
      "0  1 days 1569014.2648 1252.6030 1100.1310 0.4268 0.4919 0.5884    1.0000\n"
     ]
    },
    {
     "data": {
      "text/plain": "  0%|          | 0/3 [00:00<?, ?it/s]",
      "application/vnd.jupyter.widget-view+json": {
       "version_major": 2,
       "version_minor": 0,
       "model_id": "5194f321a0834c5599d5e4336bd8f134"
      }
     },
     "metadata": {},
     "output_type": "display_data"
    },
    {
     "name": "stderr",
     "output_type": "stream",
     "text": [
      "13:59:17 - cmdstanpy - INFO - Chain [1] start processing\n",
      "13:59:18 - cmdstanpy - INFO - Chain [1] done processing\n",
      "13:59:18 - cmdstanpy - INFO - Chain [1] start processing\n",
      "13:59:18 - cmdstanpy - INFO - Chain [1] done processing\n",
      "13:59:18 - cmdstanpy - INFO - Chain [1] start processing\n",
      "13:59:18 - cmdstanpy - INFO - Chain [1] done processing\n",
      "13:59:18 - cmdstanpy - INFO - Chain [1] start processing\n",
      "13:59:18 - cmdstanpy - INFO - Chain [1] done processing\n"
     ]
    },
    {
     "name": "stdout",
     "output_type": "stream",
     "text": [
      "  horizon          mse      rmse       mae   mape  mdape  smape  coverage\n",
      "0  1 days 3042536.0065 1744.2867 1433.4286 0.5325 0.7257 0.5988    0.6667\n"
     ]
    },
    {
     "data": {
      "text/plain": "  0%|          | 0/3 [00:00<?, ?it/s]",
      "application/vnd.jupyter.widget-view+json": {
       "version_major": 2,
       "version_minor": 0,
       "model_id": "81511fcf2ac6423bb99ab657d091b8a8"
      }
     },
     "metadata": {},
     "output_type": "display_data"
    },
    {
     "name": "stderr",
     "output_type": "stream",
     "text": [
      "13:59:19 - cmdstanpy - INFO - Chain [1] start processing\n",
      "13:59:20 - cmdstanpy - INFO - Chain [1] done processing\n",
      "13:59:20 - cmdstanpy - INFO - Chain [1] start processing\n",
      "13:59:20 - cmdstanpy - INFO - Chain [1] done processing\n",
      "13:59:20 - cmdstanpy - INFO - Chain [1] start processing\n",
      "13:59:20 - cmdstanpy - INFO - Chain [1] done processing\n",
      "13:59:20 - cmdstanpy - INFO - Chain [1] start processing\n",
      "13:59:20 - cmdstanpy - INFO - Chain [1] done processing\n",
      "Seasonality has period of 365.25 days which is larger than initial window. Consider increasing initial.\n"
     ]
    },
    {
     "name": "stdout",
     "output_type": "stream",
     "text": [
      "  horizon          mse      rmse       mae   mape  mdape  smape  coverage\n",
      "0  1 days 1546822.7526 1243.7133 1090.5614 0.4196 0.4917 0.5715    1.0000\n"
     ]
    },
    {
     "data": {
      "text/plain": "  0%|          | 0/3 [00:00<?, ?it/s]",
      "application/vnd.jupyter.widget-view+json": {
       "version_major": 2,
       "version_minor": 0,
       "model_id": "c6766fd223b841ac9441987a14e940d6"
      }
     },
     "metadata": {},
     "output_type": "display_data"
    },
    {
     "name": "stderr",
     "output_type": "stream",
     "text": [
      "13:59:20 - cmdstanpy - INFO - Chain [1] start processing\n",
      "13:59:20 - cmdstanpy - INFO - Chain [1] done processing\n",
      "13:59:20 - cmdstanpy - INFO - Chain [1] start processing\n",
      "13:59:21 - cmdstanpy - INFO - Chain [1] done processing\n",
      "13:59:21 - cmdstanpy - INFO - Chain [1] start processing\n",
      "13:59:21 - cmdstanpy - INFO - Chain [1] done processing\n",
      "13:59:21 - cmdstanpy - INFO - Chain [1] start processing\n",
      "13:59:21 - cmdstanpy - INFO - Chain [1] done processing\n"
     ]
    },
    {
     "name": "stdout",
     "output_type": "stream",
     "text": [
      "  horizon          mse      rmse       mae   mape  mdape  smape  coverage\n",
      "0  1 days 4733840.8657 2175.7392 1795.1163 0.6281 0.7422 0.8171    0.6667\n"
     ]
    },
    {
     "data": {
      "text/plain": "  0%|          | 0/3 [00:00<?, ?it/s]",
      "application/vnd.jupyter.widget-view+json": {
       "version_major": 2,
       "version_minor": 0,
       "model_id": "04ffdd26339745dda0aaa4959f2b7eef"
      }
     },
     "metadata": {},
     "output_type": "display_data"
    },
    {
     "name": "stderr",
     "output_type": "stream",
     "text": [
      "13:59:21 - cmdstanpy - INFO - Chain [1] start processing\n",
      "13:59:22 - cmdstanpy - INFO - Chain [1] done processing\n",
      "13:59:22 - cmdstanpy - INFO - Chain [1] start processing\n",
      "13:59:22 - cmdstanpy - INFO - Chain [1] done processing\n",
      "13:59:22 - cmdstanpy - INFO - Chain [1] start processing\n",
      "13:59:22 - cmdstanpy - INFO - Chain [1] done processing\n",
      "13:59:22 - cmdstanpy - INFO - Chain [1] start processing\n",
      "13:59:22 - cmdstanpy - INFO - Chain [1] done processing\n",
      "Seasonality has period of 365.25 days which is larger than initial window. Consider increasing initial.\n"
     ]
    },
    {
     "name": "stdout",
     "output_type": "stream",
     "text": [
      "  horizon          mse      rmse       mae   mape  mdape  smape  coverage\n",
      "0  1 days 1565015.0060 1251.0056 1094.0762 0.4196 0.4964 0.5710    1.0000\n"
     ]
    },
    {
     "data": {
      "text/plain": "  0%|          | 0/3 [00:00<?, ?it/s]",
      "application/vnd.jupyter.widget-view+json": {
       "version_major": 2,
       "version_minor": 0,
       "model_id": "40bcd5b2b6c2491097e88cb44a706152"
      }
     },
     "metadata": {},
     "output_type": "display_data"
    },
    {
     "name": "stderr",
     "output_type": "stream",
     "text": [
      "13:59:23 - cmdstanpy - INFO - Chain [1] start processing\n",
      "13:59:23 - cmdstanpy - INFO - Chain [1] done processing\n",
      "13:59:23 - cmdstanpy - INFO - Chain [1] start processing\n",
      "13:59:23 - cmdstanpy - INFO - Chain [1] done processing\n",
      "13:59:23 - cmdstanpy - INFO - Chain [1] start processing\n",
      "13:59:23 - cmdstanpy - INFO - Chain [1] done processing\n",
      "13:59:23 - cmdstanpy - INFO - Chain [1] start processing\n",
      "13:59:23 - cmdstanpy - INFO - Chain [1] done processing\n"
     ]
    },
    {
     "name": "stdout",
     "output_type": "stream",
     "text": [
      "  horizon          mse      rmse       mae   mape  mdape  smape  coverage\n",
      "0  1 days 5450236.2426 2334.5741 1797.5914 0.5979 0.5976 0.8737    0.6667\n"
     ]
    },
    {
     "data": {
      "text/plain": "  0%|          | 0/3 [00:00<?, ?it/s]",
      "application/vnd.jupyter.widget-view+json": {
       "version_major": 2,
       "version_minor": 0,
       "model_id": "f188c5858c3141cebdeb0bf1d12db7b5"
      }
     },
     "metadata": {},
     "output_type": "display_data"
    },
    {
     "name": "stderr",
     "output_type": "stream",
     "text": [
      "13:59:23 - cmdstanpy - INFO - Chain [1] start processing\n",
      "13:59:24 - cmdstanpy - INFO - Chain [1] done processing\n",
      "13:59:25 - cmdstanpy - INFO - Chain [1] start processing\n",
      "13:59:25 - cmdstanpy - INFO - Chain [1] done processing\n",
      "13:59:25 - cmdstanpy - INFO - Chain [1] start processing\n",
      "13:59:25 - cmdstanpy - INFO - Chain [1] done processing\n",
      "13:59:25 - cmdstanpy - INFO - Chain [1] start processing\n",
      "13:59:25 - cmdstanpy - INFO - Chain [1] done processing\n",
      "Seasonality has period of 365.25 days which is larger than initial window. Consider increasing initial.\n"
     ]
    },
    {
     "name": "stdout",
     "output_type": "stream",
     "text": [
      "  horizon          mse      rmse       mae   mape  mdape  smape  coverage\n",
      "0  1 days 1540786.5882 1241.2842 1090.2360 0.4206 0.4893 0.5739    1.0000\n"
     ]
    },
    {
     "data": {
      "text/plain": "  0%|          | 0/3 [00:00<?, ?it/s]",
      "application/vnd.jupyter.widget-view+json": {
       "version_major": 2,
       "version_minor": 0,
       "model_id": "293dd36b8d3a4b9394c88ef3461ba945"
      }
     },
     "metadata": {},
     "output_type": "display_data"
    },
    {
     "name": "stderr",
     "output_type": "stream",
     "text": [
      "13:59:25 - cmdstanpy - INFO - Chain [1] start processing\n",
      "13:59:25 - cmdstanpy - INFO - Chain [1] done processing\n",
      "13:59:25 - cmdstanpy - INFO - Chain [1] start processing\n",
      "13:59:25 - cmdstanpy - INFO - Chain [1] done processing\n",
      "13:59:26 - cmdstanpy - INFO - Chain [1] start processing\n",
      "13:59:26 - cmdstanpy - INFO - Chain [1] done processing\n",
      "13:59:26 - cmdstanpy - INFO - Chain [1] start processing\n",
      "13:59:26 - cmdstanpy - INFO - Chain [1] done processing\n"
     ]
    },
    {
     "name": "stdout",
     "output_type": "stream",
     "text": [
      "  horizon          mse      rmse       mae   mape  mdape  smape  coverage\n",
      "0  1 days 5215235.1250 2283.6889 1813.9081 0.6422 0.8014 0.8746    0.6667\n"
     ]
    },
    {
     "data": {
      "text/plain": "  0%|          | 0/3 [00:00<?, ?it/s]",
      "application/vnd.jupyter.widget-view+json": {
       "version_major": 2,
       "version_minor": 0,
       "model_id": "9c4ca16a6d4446e98b229f609a319cff"
      }
     },
     "metadata": {},
     "output_type": "display_data"
    },
    {
     "name": "stderr",
     "output_type": "stream",
     "text": [
      "13:59:26 - cmdstanpy - INFO - Chain [1] start processing\n",
      "13:59:26 - cmdstanpy - INFO - Chain [1] done processing\n",
      "13:59:26 - cmdstanpy - INFO - Chain [1] start processing\n",
      "13:59:26 - cmdstanpy - INFO - Chain [1] done processing\n",
      "13:59:26 - cmdstanpy - INFO - Chain [1] start processing\n",
      "13:59:27 - cmdstanpy - INFO - Chain [1] done processing\n",
      "13:59:27 - cmdstanpy - INFO - Chain [1] start processing\n",
      "13:59:27 - cmdstanpy - INFO - Chain [1] done processing\n",
      "Seasonality has period of 365.25 days which is larger than initial window. Consider increasing initial.\n"
     ]
    },
    {
     "name": "stdout",
     "output_type": "stream",
     "text": [
      "  horizon          mse      rmse       mae   mape  mdape  smape  coverage\n",
      "0  1 days 1569014.2648 1252.6030 1100.1310 0.4268 0.4919 0.5884    1.0000\n"
     ]
    },
    {
     "data": {
      "text/plain": "  0%|          | 0/3 [00:00<?, ?it/s]",
      "application/vnd.jupyter.widget-view+json": {
       "version_major": 2,
       "version_minor": 0,
       "model_id": "0aa4a54098c04225b2c7e339de7bbe3f"
      }
     },
     "metadata": {},
     "output_type": "display_data"
    },
    {
     "name": "stderr",
     "output_type": "stream",
     "text": [
      "13:59:27 - cmdstanpy - INFO - Chain [1] start processing\n",
      "13:59:28 - cmdstanpy - INFO - Chain [1] done processing\n",
      "13:59:28 - cmdstanpy - INFO - Chain [1] start processing\n",
      "13:59:28 - cmdstanpy - INFO - Chain [1] done processing\n",
      "13:59:28 - cmdstanpy - INFO - Chain [1] start processing\n",
      "13:59:28 - cmdstanpy - INFO - Chain [1] done processing\n",
      "13:59:28 - cmdstanpy - INFO - Chain [1] start processing\n",
      "13:59:28 - cmdstanpy - INFO - Chain [1] done processing\n"
     ]
    },
    {
     "name": "stdout",
     "output_type": "stream",
     "text": [
      "  horizon          mse      rmse       mae   mape  mdape  smape  coverage\n",
      "0  1 days 3042536.0065 1744.2867 1433.4286 0.5325 0.7257 0.5988    1.0000\n"
     ]
    },
    {
     "data": {
      "text/plain": "  0%|          | 0/3 [00:00<?, ?it/s]",
      "application/vnd.jupyter.widget-view+json": {
       "version_major": 2,
       "version_minor": 0,
       "model_id": "1eb18c1dd1184ababb85579f9dd461c2"
      }
     },
     "metadata": {},
     "output_type": "display_data"
    },
    {
     "name": "stderr",
     "output_type": "stream",
     "text": [
      "13:59:28 - cmdstanpy - INFO - Chain [1] start processing\n",
      "13:59:30 - cmdstanpy - INFO - Chain [1] done processing\n",
      "13:59:30 - cmdstanpy - INFO - Chain [1] start processing\n",
      "13:59:30 - cmdstanpy - INFO - Chain [1] done processing\n",
      "13:59:30 - cmdstanpy - INFO - Chain [1] start processing\n",
      "13:59:30 - cmdstanpy - INFO - Chain [1] done processing\n",
      "13:59:30 - cmdstanpy - INFO - Chain [1] start processing\n",
      "13:59:30 - cmdstanpy - INFO - Chain [1] done processing\n",
      "Seasonality has period of 365.25 days which is larger than initial window. Consider increasing initial.\n"
     ]
    },
    {
     "name": "stdout",
     "output_type": "stream",
     "text": [
      "  horizon          mse      rmse       mae   mape  mdape  smape  coverage\n",
      "0  1 days 1546822.7526 1243.7133 1090.5614 0.4196 0.4917 0.5715    1.0000\n"
     ]
    },
    {
     "data": {
      "text/plain": "  0%|          | 0/3 [00:00<?, ?it/s]",
      "application/vnd.jupyter.widget-view+json": {
       "version_major": 2,
       "version_minor": 0,
       "model_id": "c6c048ac9a5247fda77bec343e84dbaf"
      }
     },
     "metadata": {},
     "output_type": "display_data"
    },
    {
     "name": "stderr",
     "output_type": "stream",
     "text": [
      "13:59:30 - cmdstanpy - INFO - Chain [1] start processing\n",
      "13:59:31 - cmdstanpy - INFO - Chain [1] done processing\n",
      "13:59:31 - cmdstanpy - INFO - Chain [1] start processing\n",
      "13:59:31 - cmdstanpy - INFO - Chain [1] done processing\n",
      "13:59:31 - cmdstanpy - INFO - Chain [1] start processing\n",
      "13:59:31 - cmdstanpy - INFO - Chain [1] done processing\n",
      "13:59:31 - cmdstanpy - INFO - Chain [1] start processing\n",
      "13:59:31 - cmdstanpy - INFO - Chain [1] done processing\n"
     ]
    },
    {
     "name": "stdout",
     "output_type": "stream",
     "text": [
      "  horizon          mse      rmse       mae   mape  mdape  smape  coverage\n",
      "0  1 days 4733840.8657 2175.7392 1795.1163 0.6281 0.7422 0.8171    0.6667\n"
     ]
    },
    {
     "data": {
      "text/plain": "  0%|          | 0/3 [00:00<?, ?it/s]",
      "application/vnd.jupyter.widget-view+json": {
       "version_major": 2,
       "version_minor": 0,
       "model_id": "2fb31f8779cb4b81a2a14f9d0392ec86"
      }
     },
     "metadata": {},
     "output_type": "display_data"
    },
    {
     "name": "stderr",
     "output_type": "stream",
     "text": [
      "13:59:31 - cmdstanpy - INFO - Chain [1] start processing\n",
      "13:59:32 - cmdstanpy - INFO - Chain [1] done processing\n",
      "13:59:32 - cmdstanpy - INFO - Chain [1] start processing\n",
      "13:59:32 - cmdstanpy - INFO - Chain [1] done processing\n",
      "13:59:32 - cmdstanpy - INFO - Chain [1] start processing\n",
      "13:59:32 - cmdstanpy - INFO - Chain [1] done processing\n",
      "13:59:32 - cmdstanpy - INFO - Chain [1] start processing\n",
      "13:59:32 - cmdstanpy - INFO - Chain [1] done processing\n",
      "Seasonality has period of 365.25 days which is larger than initial window. Consider increasing initial.\n"
     ]
    },
    {
     "name": "stdout",
     "output_type": "stream",
     "text": [
      "  horizon          mse      rmse       mae   mape  mdape  smape  coverage\n",
      "0  1 days 1565015.0060 1251.0056 1094.0762 0.4196 0.4964 0.5710    1.0000\n"
     ]
    },
    {
     "data": {
      "text/plain": "  0%|          | 0/3 [00:00<?, ?it/s]",
      "application/vnd.jupyter.widget-view+json": {
       "version_major": 2,
       "version_minor": 0,
       "model_id": "26b3c79ca7da431d83d40274ca4b4edf"
      }
     },
     "metadata": {},
     "output_type": "display_data"
    },
    {
     "name": "stderr",
     "output_type": "stream",
     "text": [
      "13:59:32 - cmdstanpy - INFO - Chain [1] start processing\n",
      "13:59:33 - cmdstanpy - INFO - Chain [1] done processing\n",
      "13:59:33 - cmdstanpy - INFO - Chain [1] start processing\n",
      "13:59:33 - cmdstanpy - INFO - Chain [1] done processing\n",
      "13:59:33 - cmdstanpy - INFO - Chain [1] start processing\n",
      "13:59:33 - cmdstanpy - INFO - Chain [1] done processing\n",
      "13:59:33 - cmdstanpy - INFO - Chain [1] start processing\n",
      "13:59:33 - cmdstanpy - INFO - Chain [1] done processing\n"
     ]
    },
    {
     "name": "stdout",
     "output_type": "stream",
     "text": [
      "  horizon          mse      rmse       mae   mape  mdape  smape  coverage\n",
      "0  1 days 5450236.2426 2334.5741 1797.5914 0.5979 0.5976 0.8737    0.6667\n"
     ]
    },
    {
     "data": {
      "text/plain": "  0%|          | 0/3 [00:00<?, ?it/s]",
      "application/vnd.jupyter.widget-view+json": {
       "version_major": 2,
       "version_minor": 0,
       "model_id": "ad357b7abe034d33a7ed1b9113ce6c62"
      }
     },
     "metadata": {},
     "output_type": "display_data"
    },
    {
     "name": "stderr",
     "output_type": "stream",
     "text": [
      "13:59:33 - cmdstanpy - INFO - Chain [1] start processing\n",
      "13:59:34 - cmdstanpy - INFO - Chain [1] done processing\n",
      "13:59:34 - cmdstanpy - INFO - Chain [1] start processing\n",
      "13:59:34 - cmdstanpy - INFO - Chain [1] done processing\n",
      "13:59:35 - cmdstanpy - INFO - Chain [1] start processing\n",
      "13:59:35 - cmdstanpy - INFO - Chain [1] done processing\n",
      "13:59:35 - cmdstanpy - INFO - Chain [1] start processing\n",
      "13:59:35 - cmdstanpy - INFO - Chain [1] done processing\n",
      "Seasonality has period of 365.25 days which is larger than initial window. Consider increasing initial.\n"
     ]
    },
    {
     "name": "stdout",
     "output_type": "stream",
     "text": [
      "  horizon          mse      rmse       mae   mape  mdape  smape  coverage\n",
      "0  1 days 1540786.5882 1241.2842 1090.2360 0.4206 0.4893 0.5739    1.0000\n"
     ]
    },
    {
     "data": {
      "text/plain": "  0%|          | 0/3 [00:00<?, ?it/s]",
      "application/vnd.jupyter.widget-view+json": {
       "version_major": 2,
       "version_minor": 0,
       "model_id": "21a618f6687d4da988291bc2aea235d9"
      }
     },
     "metadata": {},
     "output_type": "display_data"
    },
    {
     "name": "stderr",
     "output_type": "stream",
     "text": [
      "13:59:35 - cmdstanpy - INFO - Chain [1] start processing\n",
      "13:59:35 - cmdstanpy - INFO - Chain [1] done processing\n",
      "13:59:35 - cmdstanpy - INFO - Chain [1] start processing\n",
      "13:59:35 - cmdstanpy - INFO - Chain [1] done processing\n",
      "13:59:36 - cmdstanpy - INFO - Chain [1] start processing\n",
      "13:59:36 - cmdstanpy - INFO - Chain [1] done processing\n",
      "13:59:36 - cmdstanpy - INFO - Chain [1] start processing\n",
      "13:59:36 - cmdstanpy - INFO - Chain [1] done processing\n"
     ]
    },
    {
     "name": "stdout",
     "output_type": "stream",
     "text": [
      "  horizon          mse      rmse       mae   mape  mdape  smape  coverage\n",
      "0  1 days 5215235.1250 2283.6889 1813.9081 0.6422 0.8014 0.8746    0.6667\n"
     ]
    },
    {
     "data": {
      "text/plain": "  0%|          | 0/3 [00:00<?, ?it/s]",
      "application/vnd.jupyter.widget-view+json": {
       "version_major": 2,
       "version_minor": 0,
       "model_id": "cc7bfcc6e310418a9bc0b3c634038f1d"
      }
     },
     "metadata": {},
     "output_type": "display_data"
    },
    {
     "name": "stderr",
     "output_type": "stream",
     "text": [
      "13:59:36 - cmdstanpy - INFO - Chain [1] start processing\n",
      "13:59:37 - cmdstanpy - INFO - Chain [1] done processing\n",
      "13:59:37 - cmdstanpy - INFO - Chain [1] start processing\n",
      "13:59:37 - cmdstanpy - INFO - Chain [1] done processing\n",
      "13:59:37 - cmdstanpy - INFO - Chain [1] start processing\n",
      "13:59:37 - cmdstanpy - INFO - Chain [1] done processing\n",
      "13:59:37 - cmdstanpy - INFO - Chain [1] start processing\n"
     ]
    },
    {
     "name": "stdout",
     "output_type": "stream",
     "text": [
      "  horizon          mse      rmse      mae   mape  mdape  smape  coverage\n",
      "0  1 days 1112901.7729 1054.9416 942.3528 0.3625 0.4116 0.4652    1.0000\n"
     ]
    },
    {
     "name": "stderr",
     "output_type": "stream",
     "text": [
      "13:59:37 - cmdstanpy - INFO - Chain [1] done processing\n",
      "Seasonality has period of 365.25 days which is larger than initial window. Consider increasing initial.\n"
     ]
    },
    {
     "data": {
      "text/plain": "  0%|          | 0/3 [00:00<?, ?it/s]",
      "application/vnd.jupyter.widget-view+json": {
       "version_major": 2,
       "version_minor": 0,
       "model_id": "5270cb51e59045838b2406106a2a9156"
      }
     },
     "metadata": {},
     "output_type": "display_data"
    },
    {
     "name": "stderr",
     "output_type": "stream",
     "text": [
      "13:59:37 - cmdstanpy - INFO - Chain [1] start processing\n",
      "13:59:37 - cmdstanpy - INFO - Chain [1] done processing\n",
      "13:59:38 - cmdstanpy - INFO - Chain [1] start processing\n",
      "13:59:38 - cmdstanpy - INFO - Chain [1] done processing\n",
      "13:59:38 - cmdstanpy - INFO - Chain [1] start processing\n",
      "13:59:38 - cmdstanpy - INFO - Chain [1] done processing\n",
      "13:59:38 - cmdstanpy - INFO - Chain [1] start processing\n",
      "13:59:38 - cmdstanpy - INFO - Chain [1] done processing\n"
     ]
    },
    {
     "name": "stdout",
     "output_type": "stream",
     "text": [
      "  horizon          mse      rmse       mae   mape  mdape  smape  coverage\n",
      "0  1 days 3206274.7096 1790.6074 1563.9338 0.5767 0.7255 0.6330    0.6667\n"
     ]
    },
    {
     "data": {
      "text/plain": "  0%|          | 0/3 [00:00<?, ?it/s]",
      "application/vnd.jupyter.widget-view+json": {
       "version_major": 2,
       "version_minor": 0,
       "model_id": "dbf64c7ea1e64a78bb9f9fb5d5c0ad01"
      }
     },
     "metadata": {},
     "output_type": "display_data"
    },
    {
     "name": "stderr",
     "output_type": "stream",
     "text": [
      "13:59:38 - cmdstanpy - INFO - Chain [1] start processing\n",
      "13:59:39 - cmdstanpy - INFO - Chain [1] done processing\n",
      "13:59:39 - cmdstanpy - INFO - Chain [1] start processing\n",
      "13:59:39 - cmdstanpy - INFO - Chain [1] done processing\n",
      "13:59:39 - cmdstanpy - INFO - Chain [1] start processing\n",
      "13:59:39 - cmdstanpy - INFO - Chain [1] done processing\n",
      "13:59:39 - cmdstanpy - INFO - Chain [1] start processing\n",
      "13:59:39 - cmdstanpy - INFO - Chain [1] done processing\n",
      "Seasonality has period of 365.25 days which is larger than initial window. Consider increasing initial.\n"
     ]
    },
    {
     "name": "stdout",
     "output_type": "stream",
     "text": [
      "  horizon          mse      rmse      mae   mape  mdape  smape  coverage\n",
      "0  1 days 1130754.7766 1063.3695 956.8147 0.3689 0.4118 0.4749    1.0000\n"
     ]
    },
    {
     "data": {
      "text/plain": "  0%|          | 0/3 [00:00<?, ?it/s]",
      "application/vnd.jupyter.widget-view+json": {
       "version_major": 2,
       "version_minor": 0,
       "model_id": "325a0cdb1e244c3e955c64b7a8825795"
      }
     },
     "metadata": {},
     "output_type": "display_data"
    },
    {
     "name": "stderr",
     "output_type": "stream",
     "text": [
      "13:59:39 - cmdstanpy - INFO - Chain [1] start processing\n",
      "13:59:40 - cmdstanpy - INFO - Chain [1] done processing\n",
      "13:59:40 - cmdstanpy - INFO - Chain [1] start processing\n",
      "13:59:40 - cmdstanpy - INFO - Chain [1] done processing\n",
      "13:59:40 - cmdstanpy - INFO - Chain [1] start processing\n",
      "13:59:40 - cmdstanpy - INFO - Chain [1] done processing\n",
      "13:59:40 - cmdstanpy - INFO - Chain [1] start processing\n",
      "13:59:40 - cmdstanpy - INFO - Chain [1] done processing\n"
     ]
    },
    {
     "name": "stdout",
     "output_type": "stream",
     "text": [
      "  horizon          mse      rmse       mae   mape  mdape  smape  coverage\n",
      "0  1 days 4526043.8052 2127.4501 1635.3198 0.5731 0.6996 0.7731    0.6667\n"
     ]
    },
    {
     "data": {
      "text/plain": "  0%|          | 0/3 [00:00<?, ?it/s]",
      "application/vnd.jupyter.widget-view+json": {
       "version_major": 2,
       "version_minor": 0,
       "model_id": "b9146af53f954feaaf97779d3cb00696"
      }
     },
     "metadata": {},
     "output_type": "display_data"
    },
    {
     "name": "stderr",
     "output_type": "stream",
     "text": [
      "13:59:40 - cmdstanpy - INFO - Chain [1] start processing\n",
      "13:59:41 - cmdstanpy - INFO - Chain [1] done processing\n",
      "13:59:41 - cmdstanpy - INFO - Chain [1] start processing\n",
      "13:59:41 - cmdstanpy - INFO - Chain [1] done processing\n",
      "13:59:41 - cmdstanpy - INFO - Chain [1] start processing\n",
      "13:59:42 - cmdstanpy - INFO - Chain [1] done processing\n",
      "13:59:42 - cmdstanpy - INFO - Chain [1] start processing\n",
      "13:59:42 - cmdstanpy - INFO - Chain [1] done processing\n",
      "Seasonality has period of 365.25 days which is larger than initial window. Consider increasing initial.\n"
     ]
    },
    {
     "name": "stdout",
     "output_type": "stream",
     "text": [
      "  horizon          mse      rmse      mae   mape  mdape  smape  coverage\n",
      "0  1 days 1127628.1219 1061.8984 950.6738 0.3682 0.4116 0.4766    1.0000\n"
     ]
    },
    {
     "data": {
      "text/plain": "  0%|          | 0/3 [00:00<?, ?it/s]",
      "application/vnd.jupyter.widget-view+json": {
       "version_major": 2,
       "version_minor": 0,
       "model_id": "f4ec33f5aac645ac960a9c59541b99b1"
      }
     },
     "metadata": {},
     "output_type": "display_data"
    },
    {
     "name": "stderr",
     "output_type": "stream",
     "text": [
      "13:59:42 - cmdstanpy - INFO - Chain [1] start processing\n",
      "13:59:42 - cmdstanpy - INFO - Chain [1] done processing\n",
      "13:59:42 - cmdstanpy - INFO - Chain [1] start processing\n",
      "13:59:42 - cmdstanpy - INFO - Chain [1] done processing\n",
      "13:59:42 - cmdstanpy - INFO - Chain [1] start processing\n",
      "13:59:43 - cmdstanpy - INFO - Chain [1] done processing\n",
      "13:59:43 - cmdstanpy - INFO - Chain [1] start processing\n",
      "13:59:43 - cmdstanpy - INFO - Chain [1] done processing\n"
     ]
    },
    {
     "name": "stdout",
     "output_type": "stream",
     "text": [
      "  horizon          mse      rmse       mae   mape  mdape  smape  coverage\n",
      "0  1 days 5465416.6832 2337.8231 1717.2566 0.5911 0.6895 0.8569    0.6667\n"
     ]
    },
    {
     "data": {
      "text/plain": "  0%|          | 0/3 [00:00<?, ?it/s]",
      "application/vnd.jupyter.widget-view+json": {
       "version_major": 2,
       "version_minor": 0,
       "model_id": "da6458b5041b4e268c6d5099b5c0cba1"
      }
     },
     "metadata": {},
     "output_type": "display_data"
    },
    {
     "name": "stderr",
     "output_type": "stream",
     "text": [
      "13:59:43 - cmdstanpy - INFO - Chain [1] start processing\n",
      "13:59:44 - cmdstanpy - INFO - Chain [1] done processing\n",
      "13:59:44 - cmdstanpy - INFO - Chain [1] start processing\n",
      "13:59:44 - cmdstanpy - INFO - Chain [1] done processing\n",
      "13:59:44 - cmdstanpy - INFO - Chain [1] start processing\n",
      "13:59:44 - cmdstanpy - INFO - Chain [1] done processing\n",
      "13:59:44 - cmdstanpy - INFO - Chain [1] start processing\n",
      "13:59:44 - cmdstanpy - INFO - Chain [1] done processing\n",
      "Seasonality has period of 365.25 days which is larger than initial window. Consider increasing initial.\n"
     ]
    },
    {
     "name": "stdout",
     "output_type": "stream",
     "text": [
      "  horizon          mse      rmse      mae   mape  mdape  smape  coverage\n",
      "0  1 days 1121275.1551 1058.9028 951.0435 0.3653 0.4117 0.4683    1.0000\n"
     ]
    },
    {
     "data": {
      "text/plain": "  0%|          | 0/3 [00:00<?, ?it/s]",
      "application/vnd.jupyter.widget-view+json": {
       "version_major": 2,
       "version_minor": 0,
       "model_id": "a31ba8d40deb4012be93f1f2a31a8406"
      }
     },
     "metadata": {},
     "output_type": "display_data"
    },
    {
     "name": "stderr",
     "output_type": "stream",
     "text": [
      "13:59:44 - cmdstanpy - INFO - Chain [1] start processing\n",
      "13:59:44 - cmdstanpy - INFO - Chain [1] done processing\n",
      "13:59:44 - cmdstanpy - INFO - Chain [1] start processing\n",
      "13:59:44 - cmdstanpy - INFO - Chain [1] done processing\n",
      "13:59:45 - cmdstanpy - INFO - Chain [1] start processing\n",
      "13:59:45 - cmdstanpy - INFO - Chain [1] done processing\n",
      "13:59:45 - cmdstanpy - INFO - Chain [1] start processing\n",
      "13:59:45 - cmdstanpy - INFO - Chain [1] done processing\n"
     ]
    },
    {
     "name": "stdout",
     "output_type": "stream",
     "text": [
      "  horizon          mse      rmse       mae   mape  mdape  smape  coverage\n",
      "0  1 days 5115781.2026 2261.8093 1699.6793 0.5828 0.6648 0.8484    0.6667\n"
     ]
    },
    {
     "data": {
      "text/plain": "  0%|          | 0/3 [00:00<?, ?it/s]",
      "application/vnd.jupyter.widget-view+json": {
       "version_major": 2,
       "version_minor": 0,
       "model_id": "b41aa94cf6204d47a72ff3bfadb80058"
      }
     },
     "metadata": {},
     "output_type": "display_data"
    },
    {
     "name": "stderr",
     "output_type": "stream",
     "text": [
      "13:59:45 - cmdstanpy - INFO - Chain [1] start processing\n",
      "13:59:46 - cmdstanpy - INFO - Chain [1] done processing\n",
      "13:59:46 - cmdstanpy - INFO - Chain [1] start processing\n",
      "13:59:46 - cmdstanpy - INFO - Chain [1] done processing\n",
      "13:59:46 - cmdstanpy - INFO - Chain [1] start processing\n",
      "13:59:46 - cmdstanpy - INFO - Chain [1] done processing\n",
      "13:59:46 - cmdstanpy - INFO - Chain [1] start processing\n",
      "13:59:46 - cmdstanpy - INFO - Chain [1] done processing\n",
      "Seasonality has period of 365.25 days which is larger than initial window. Consider increasing initial.\n"
     ]
    },
    {
     "name": "stdout",
     "output_type": "stream",
     "text": [
      "  horizon          mse      rmse      mae   mape  mdape  smape  coverage\n",
      "0  1 days 1112901.7729 1054.9416 942.3528 0.3625 0.4116 0.4652    1.0000\n"
     ]
    },
    {
     "data": {
      "text/plain": "  0%|          | 0/3 [00:00<?, ?it/s]",
      "application/vnd.jupyter.widget-view+json": {
       "version_major": 2,
       "version_minor": 0,
       "model_id": "19801723856e401baa1fdeeb9f5de850"
      }
     },
     "metadata": {},
     "output_type": "display_data"
    },
    {
     "name": "stderr",
     "output_type": "stream",
     "text": [
      "13:59:46 - cmdstanpy - INFO - Chain [1] start processing\n",
      "13:59:46 - cmdstanpy - INFO - Chain [1] done processing\n",
      "13:59:46 - cmdstanpy - INFO - Chain [1] start processing\n",
      "13:59:47 - cmdstanpy - INFO - Chain [1] done processing\n",
      "13:59:47 - cmdstanpy - INFO - Chain [1] start processing\n",
      "13:59:47 - cmdstanpy - INFO - Chain [1] done processing\n",
      "13:59:47 - cmdstanpy - INFO - Chain [1] start processing\n",
      "13:59:47 - cmdstanpy - INFO - Chain [1] done processing\n"
     ]
    },
    {
     "name": "stdout",
     "output_type": "stream",
     "text": [
      "  horizon          mse      rmse       mae   mape  mdape  smape  coverage\n",
      "0  1 days 3206274.7096 1790.6074 1563.9338 0.5767 0.7255 0.6330    0.6667\n"
     ]
    },
    {
     "data": {
      "text/plain": "  0%|          | 0/3 [00:00<?, ?it/s]",
      "application/vnd.jupyter.widget-view+json": {
       "version_major": 2,
       "version_minor": 0,
       "model_id": "bdeb5c67543646e3961219f2eee892c8"
      }
     },
     "metadata": {},
     "output_type": "display_data"
    },
    {
     "name": "stderr",
     "output_type": "stream",
     "text": [
      "13:59:47 - cmdstanpy - INFO - Chain [1] start processing\n",
      "13:59:48 - cmdstanpy - INFO - Chain [1] done processing\n",
      "13:59:48 - cmdstanpy - INFO - Chain [1] start processing\n",
      "13:59:48 - cmdstanpy - INFO - Chain [1] done processing\n",
      "13:59:48 - cmdstanpy - INFO - Chain [1] start processing\n",
      "13:59:48 - cmdstanpy - INFO - Chain [1] done processing\n",
      "13:59:48 - cmdstanpy - INFO - Chain [1] start processing\n",
      "13:59:48 - cmdstanpy - INFO - Chain [1] done processing\n",
      "Seasonality has period of 365.25 days which is larger than initial window. Consider increasing initial.\n"
     ]
    },
    {
     "name": "stdout",
     "output_type": "stream",
     "text": [
      "  horizon          mse      rmse      mae   mape  mdape  smape  coverage\n",
      "0  1 days 1130754.7766 1063.3695 956.8147 0.3689 0.4118 0.4749    1.0000\n"
     ]
    },
    {
     "data": {
      "text/plain": "  0%|          | 0/3 [00:00<?, ?it/s]",
      "application/vnd.jupyter.widget-view+json": {
       "version_major": 2,
       "version_minor": 0,
       "model_id": "cd46da20ef224742bcf3bfa8acd9d3ef"
      }
     },
     "metadata": {},
     "output_type": "display_data"
    },
    {
     "name": "stderr",
     "output_type": "stream",
     "text": [
      "13:59:48 - cmdstanpy - INFO - Chain [1] start processing\n",
      "13:59:49 - cmdstanpy - INFO - Chain [1] done processing\n",
      "13:59:49 - cmdstanpy - INFO - Chain [1] start processing\n",
      "13:59:49 - cmdstanpy - INFO - Chain [1] done processing\n",
      "13:59:50 - cmdstanpy - INFO - Chain [1] start processing\n",
      "13:59:50 - cmdstanpy - INFO - Chain [1] done processing\n",
      "13:59:50 - cmdstanpy - INFO - Chain [1] start processing\n",
      "13:59:50 - cmdstanpy - INFO - Chain [1] done processing\n"
     ]
    },
    {
     "name": "stdout",
     "output_type": "stream",
     "text": [
      "  horizon          mse      rmse       mae   mape  mdape  smape  coverage\n",
      "0  1 days 4526043.8052 2127.4501 1635.3198 0.5731 0.6996 0.7731    0.6667\n"
     ]
    },
    {
     "data": {
      "text/plain": "  0%|          | 0/3 [00:00<?, ?it/s]",
      "application/vnd.jupyter.widget-view+json": {
       "version_major": 2,
       "version_minor": 0,
       "model_id": "9647ceb810a84b66b1998324147760a4"
      }
     },
     "metadata": {},
     "output_type": "display_data"
    },
    {
     "name": "stderr",
     "output_type": "stream",
     "text": [
      "13:59:50 - cmdstanpy - INFO - Chain [1] start processing\n",
      "13:59:51 - cmdstanpy - INFO - Chain [1] done processing\n",
      "13:59:51 - cmdstanpy - INFO - Chain [1] start processing\n",
      "13:59:51 - cmdstanpy - INFO - Chain [1] done processing\n",
      "13:59:51 - cmdstanpy - INFO - Chain [1] start processing\n",
      "13:59:51 - cmdstanpy - INFO - Chain [1] done processing\n",
      "13:59:51 - cmdstanpy - INFO - Chain [1] start processing\n",
      "13:59:51 - cmdstanpy - INFO - Chain [1] done processing\n",
      "Seasonality has period of 365.25 days which is larger than initial window. Consider increasing initial.\n"
     ]
    },
    {
     "name": "stdout",
     "output_type": "stream",
     "text": [
      "  horizon          mse      rmse      mae   mape  mdape  smape  coverage\n",
      "0  1 days 1127628.1219 1061.8984 950.6738 0.3682 0.4116 0.4766    1.0000\n"
     ]
    },
    {
     "data": {
      "text/plain": "  0%|          | 0/3 [00:00<?, ?it/s]",
      "application/vnd.jupyter.widget-view+json": {
       "version_major": 2,
       "version_minor": 0,
       "model_id": "fc5650090a1d4d919991669b2ecc49fb"
      }
     },
     "metadata": {},
     "output_type": "display_data"
    },
    {
     "name": "stderr",
     "output_type": "stream",
     "text": [
      "13:59:51 - cmdstanpy - INFO - Chain [1] start processing\n",
      "13:59:52 - cmdstanpy - INFO - Chain [1] done processing\n",
      "13:59:52 - cmdstanpy - INFO - Chain [1] start processing\n",
      "13:59:52 - cmdstanpy - INFO - Chain [1] done processing\n",
      "13:59:52 - cmdstanpy - INFO - Chain [1] start processing\n",
      "13:59:52 - cmdstanpy - INFO - Chain [1] done processing\n",
      "13:59:52 - cmdstanpy - INFO - Chain [1] start processing\n",
      "13:59:52 - cmdstanpy - INFO - Chain [1] done processing\n"
     ]
    },
    {
     "name": "stdout",
     "output_type": "stream",
     "text": [
      "  horizon          mse      rmse       mae   mape  mdape  smape  coverage\n",
      "0  1 days 5465416.6832 2337.8231 1717.2566 0.5911 0.6895 0.8569    0.6667\n"
     ]
    },
    {
     "data": {
      "text/plain": "  0%|          | 0/3 [00:00<?, ?it/s]",
      "application/vnd.jupyter.widget-view+json": {
       "version_major": 2,
       "version_minor": 0,
       "model_id": "cae8f9dd64104d8fb252acd45a839060"
      }
     },
     "metadata": {},
     "output_type": "display_data"
    },
    {
     "name": "stderr",
     "output_type": "stream",
     "text": [
      "13:59:52 - cmdstanpy - INFO - Chain [1] start processing\n",
      "13:59:53 - cmdstanpy - INFO - Chain [1] done processing\n",
      "13:59:53 - cmdstanpy - INFO - Chain [1] start processing\n",
      "13:59:53 - cmdstanpy - INFO - Chain [1] done processing\n",
      "13:59:53 - cmdstanpy - INFO - Chain [1] start processing\n",
      "13:59:53 - cmdstanpy - INFO - Chain [1] done processing\n",
      "13:59:53 - cmdstanpy - INFO - Chain [1] start processing\n",
      "13:59:53 - cmdstanpy - INFO - Chain [1] done processing\n",
      "Seasonality has period of 365.25 days which is larger than initial window. Consider increasing initial.\n"
     ]
    },
    {
     "name": "stdout",
     "output_type": "stream",
     "text": [
      "  horizon          mse      rmse      mae   mape  mdape  smape  coverage\n",
      "0  1 days 1121275.1551 1058.9028 951.0435 0.3653 0.4117 0.4683    1.0000\n"
     ]
    },
    {
     "data": {
      "text/plain": "  0%|          | 0/3 [00:00<?, ?it/s]",
      "application/vnd.jupyter.widget-view+json": {
       "version_major": 2,
       "version_minor": 0,
       "model_id": "a826a6e2b62e430aae3bc8059a3a4636"
      }
     },
     "metadata": {},
     "output_type": "display_data"
    },
    {
     "name": "stderr",
     "output_type": "stream",
     "text": [
      "13:59:53 - cmdstanpy - INFO - Chain [1] start processing\n",
      "13:59:54 - cmdstanpy - INFO - Chain [1] done processing\n",
      "13:59:54 - cmdstanpy - INFO - Chain [1] start processing\n",
      "13:59:54 - cmdstanpy - INFO - Chain [1] done processing\n",
      "13:59:54 - cmdstanpy - INFO - Chain [1] start processing\n",
      "13:59:54 - cmdstanpy - INFO - Chain [1] done processing\n",
      "13:59:55 - cmdstanpy - INFO - Chain [1] start processing\n",
      "13:59:55 - cmdstanpy - INFO - Chain [1] done processing\n"
     ]
    },
    {
     "name": "stdout",
     "output_type": "stream",
     "text": [
      "  horizon          mse      rmse       mae   mape  mdape  smape  coverage\n",
      "0  1 days 5115781.2026 2261.8093 1699.6793 0.5828 0.6648 0.8484    0.6667\n"
     ]
    },
    {
     "data": {
      "text/plain": "  0%|          | 0/3 [00:00<?, ?it/s]",
      "application/vnd.jupyter.widget-view+json": {
       "version_major": 2,
       "version_minor": 0,
       "model_id": "6538e8a43dc648f0b441d7b616c63117"
      }
     },
     "metadata": {},
     "output_type": "display_data"
    },
    {
     "name": "stderr",
     "output_type": "stream",
     "text": [
      "13:59:55 - cmdstanpy - INFO - Chain [1] start processing\n",
      "13:59:55 - cmdstanpy - INFO - Chain [1] done processing\n",
      "13:59:56 - cmdstanpy - INFO - Chain [1] start processing\n",
      "13:59:56 - cmdstanpy - INFO - Chain [1] done processing\n",
      "13:59:56 - cmdstanpy - INFO - Chain [1] start processing\n",
      "13:59:56 - cmdstanpy - INFO - Chain [1] done processing\n",
      "13:59:56 - cmdstanpy - INFO - Chain [1] start processing\n",
      "13:59:56 - cmdstanpy - INFO - Chain [1] done processing\n",
      "Seasonality has period of 365.25 days which is larger than initial window. Consider increasing initial.\n"
     ]
    },
    {
     "name": "stdout",
     "output_type": "stream",
     "text": [
      "  horizon          mse      rmse      mae   mape  mdape  smape  coverage\n",
      "0  1 days 1112901.7729 1054.9416 942.3528 0.3625 0.4116 0.4652    1.0000\n"
     ]
    },
    {
     "data": {
      "text/plain": "  0%|          | 0/3 [00:00<?, ?it/s]",
      "application/vnd.jupyter.widget-view+json": {
       "version_major": 2,
       "version_minor": 0,
       "model_id": "5a5bf314704647e08c15baab706b1130"
      }
     },
     "metadata": {},
     "output_type": "display_data"
    },
    {
     "name": "stderr",
     "output_type": "stream",
     "text": [
      "13:59:56 - cmdstanpy - INFO - Chain [1] start processing\n",
      "13:59:57 - cmdstanpy - INFO - Chain [1] done processing\n",
      "13:59:57 - cmdstanpy - INFO - Chain [1] start processing\n",
      "13:59:57 - cmdstanpy - INFO - Chain [1] done processing\n",
      "13:59:57 - cmdstanpy - INFO - Chain [1] start processing\n",
      "13:59:57 - cmdstanpy - INFO - Chain [1] done processing\n",
      "13:59:57 - cmdstanpy - INFO - Chain [1] start processing\n",
      "13:59:57 - cmdstanpy - INFO - Chain [1] done processing\n"
     ]
    },
    {
     "name": "stdout",
     "output_type": "stream",
     "text": [
      "  horizon          mse      rmse       mae   mape  mdape  smape  coverage\n",
      "0  1 days 3206274.7096 1790.6074 1563.9338 0.5767 0.7255 0.6330    0.6667\n"
     ]
    },
    {
     "data": {
      "text/plain": "  0%|          | 0/3 [00:00<?, ?it/s]",
      "application/vnd.jupyter.widget-view+json": {
       "version_major": 2,
       "version_minor": 0,
       "model_id": "e56ed72e188f4c04a87dd65561200c54"
      }
     },
     "metadata": {},
     "output_type": "display_data"
    },
    {
     "name": "stderr",
     "output_type": "stream",
     "text": [
      "13:59:57 - cmdstanpy - INFO - Chain [1] start processing\n",
      "13:59:58 - cmdstanpy - INFO - Chain [1] done processing\n",
      "13:59:58 - cmdstanpy - INFO - Chain [1] start processing\n",
      "13:59:58 - cmdstanpy - INFO - Chain [1] done processing\n",
      "13:59:58 - cmdstanpy - INFO - Chain [1] start processing\n",
      "13:59:58 - cmdstanpy - INFO - Chain [1] done processing\n",
      "13:59:58 - cmdstanpy - INFO - Chain [1] start processing\n",
      "13:59:58 - cmdstanpy - INFO - Chain [1] done processing\n",
      "Seasonality has period of 365.25 days which is larger than initial window. Consider increasing initial.\n"
     ]
    },
    {
     "name": "stdout",
     "output_type": "stream",
     "text": [
      "  horizon          mse      rmse      mae   mape  mdape  smape  coverage\n",
      "0  1 days 1130754.7766 1063.3695 956.8147 0.3689 0.4118 0.4749    1.0000\n"
     ]
    },
    {
     "data": {
      "text/plain": "  0%|          | 0/3 [00:00<?, ?it/s]",
      "application/vnd.jupyter.widget-view+json": {
       "version_major": 2,
       "version_minor": 0,
       "model_id": "e6dded36e8dc4b9889198d3e07f49d01"
      }
     },
     "metadata": {},
     "output_type": "display_data"
    },
    {
     "name": "stderr",
     "output_type": "stream",
     "text": [
      "13:59:58 - cmdstanpy - INFO - Chain [1] start processing\n",
      "13:59:59 - cmdstanpy - INFO - Chain [1] done processing\n",
      "13:59:59 - cmdstanpy - INFO - Chain [1] start processing\n",
      "13:59:59 - cmdstanpy - INFO - Chain [1] done processing\n",
      "13:59:59 - cmdstanpy - INFO - Chain [1] start processing\n",
      "13:59:59 - cmdstanpy - INFO - Chain [1] done processing\n",
      "13:59:59 - cmdstanpy - INFO - Chain [1] start processing\n",
      "13:59:59 - cmdstanpy - INFO - Chain [1] done processing\n"
     ]
    },
    {
     "name": "stdout",
     "output_type": "stream",
     "text": [
      "  horizon          mse      rmse       mae   mape  mdape  smape  coverage\n",
      "0  1 days 4526043.8052 2127.4501 1635.3198 0.5731 0.6996 0.7731    0.6667\n"
     ]
    },
    {
     "data": {
      "text/plain": "  0%|          | 0/3 [00:00<?, ?it/s]",
      "application/vnd.jupyter.widget-view+json": {
       "version_major": 2,
       "version_minor": 0,
       "model_id": "fbb95527434c4a658c3f086428bf1687"
      }
     },
     "metadata": {},
     "output_type": "display_data"
    },
    {
     "name": "stderr",
     "output_type": "stream",
     "text": [
      "13:59:59 - cmdstanpy - INFO - Chain [1] start processing\n",
      "14:00:01 - cmdstanpy - INFO - Chain [1] done processing\n",
      "14:00:01 - cmdstanpy - INFO - Chain [1] start processing\n",
      "14:00:01 - cmdstanpy - INFO - Chain [1] done processing\n",
      "14:00:01 - cmdstanpy - INFO - Chain [1] start processing\n",
      "14:00:01 - cmdstanpy - INFO - Chain [1] done processing\n",
      "14:00:01 - cmdstanpy - INFO - Chain [1] start processing\n",
      "14:00:01 - cmdstanpy - INFO - Chain [1] done processing\n",
      "Seasonality has period of 365.25 days which is larger than initial window. Consider increasing initial.\n"
     ]
    },
    {
     "name": "stdout",
     "output_type": "stream",
     "text": [
      "  horizon          mse      rmse      mae   mape  mdape  smape  coverage\n",
      "0  1 days 1127628.1219 1061.8984 950.6738 0.3682 0.4116 0.4766    1.0000\n"
     ]
    },
    {
     "data": {
      "text/plain": "  0%|          | 0/3 [00:00<?, ?it/s]",
      "application/vnd.jupyter.widget-view+json": {
       "version_major": 2,
       "version_minor": 0,
       "model_id": "36617253de944f23a7966274de4477d0"
      }
     },
     "metadata": {},
     "output_type": "display_data"
    },
    {
     "name": "stderr",
     "output_type": "stream",
     "text": [
      "14:00:01 - cmdstanpy - INFO - Chain [1] start processing\n",
      "14:00:02 - cmdstanpy - INFO - Chain [1] done processing\n",
      "14:00:02 - cmdstanpy - INFO - Chain [1] start processing\n",
      "14:00:02 - cmdstanpy - INFO - Chain [1] done processing\n",
      "14:00:02 - cmdstanpy - INFO - Chain [1] start processing\n",
      "14:00:02 - cmdstanpy - INFO - Chain [1] done processing\n",
      "14:00:02 - cmdstanpy - INFO - Chain [1] start processing\n",
      "14:00:02 - cmdstanpy - INFO - Chain [1] done processing\n"
     ]
    },
    {
     "name": "stdout",
     "output_type": "stream",
     "text": [
      "  horizon          mse      rmse       mae   mape  mdape  smape  coverage\n",
      "0  1 days 5465416.6832 2337.8231 1717.2566 0.5911 0.6895 0.8569    0.6667\n"
     ]
    },
    {
     "data": {
      "text/plain": "  0%|          | 0/3 [00:00<?, ?it/s]",
      "application/vnd.jupyter.widget-view+json": {
       "version_major": 2,
       "version_minor": 0,
       "model_id": "32f4a61d69f8446a939e64254c191883"
      }
     },
     "metadata": {},
     "output_type": "display_data"
    },
    {
     "name": "stderr",
     "output_type": "stream",
     "text": [
      "14:00:02 - cmdstanpy - INFO - Chain [1] start processing\n",
      "14:00:03 - cmdstanpy - INFO - Chain [1] done processing\n",
      "14:00:03 - cmdstanpy - INFO - Chain [1] start processing\n",
      "14:00:03 - cmdstanpy - INFO - Chain [1] done processing\n",
      "14:00:03 - cmdstanpy - INFO - Chain [1] start processing\n",
      "14:00:03 - cmdstanpy - INFO - Chain [1] done processing\n",
      "14:00:03 - cmdstanpy - INFO - Chain [1] start processing\n",
      "14:00:04 - cmdstanpy - INFO - Chain [1] done processing\n",
      "Seasonality has period of 365.25 days which is larger than initial window. Consider increasing initial.\n"
     ]
    },
    {
     "name": "stdout",
     "output_type": "stream",
     "text": [
      "  horizon          mse      rmse      mae   mape  mdape  smape  coverage\n",
      "0  1 days 1121275.1551 1058.9028 951.0435 0.3653 0.4117 0.4683    1.0000\n"
     ]
    },
    {
     "data": {
      "text/plain": "  0%|          | 0/3 [00:00<?, ?it/s]",
      "application/vnd.jupyter.widget-view+json": {
       "version_major": 2,
       "version_minor": 0,
       "model_id": "20ffa39b30424aa89b35ed7744cd5a1d"
      }
     },
     "metadata": {},
     "output_type": "display_data"
    },
    {
     "name": "stderr",
     "output_type": "stream",
     "text": [
      "14:00:04 - cmdstanpy - INFO - Chain [1] start processing\n",
      "14:00:04 - cmdstanpy - INFO - Chain [1] done processing\n",
      "14:00:04 - cmdstanpy - INFO - Chain [1] start processing\n",
      "14:00:04 - cmdstanpy - INFO - Chain [1] done processing\n",
      "14:00:04 - cmdstanpy - INFO - Chain [1] start processing\n",
      "14:00:04 - cmdstanpy - INFO - Chain [1] done processing\n",
      "14:00:04 - cmdstanpy - INFO - Chain [1] start processing\n",
      "14:00:04 - cmdstanpy - INFO - Chain [1] done processing\n"
     ]
    },
    {
     "name": "stdout",
     "output_type": "stream",
     "text": [
      "  horizon          mse      rmse       mae   mape  mdape  smape  coverage\n",
      "0  1 days 5115781.2026 2261.8093 1699.6793 0.5828 0.6648 0.8484    0.6667\n"
     ]
    },
    {
     "data": {
      "text/plain": "  0%|          | 0/3 [00:00<?, ?it/s]",
      "application/vnd.jupyter.widget-view+json": {
       "version_major": 2,
       "version_minor": 0,
       "model_id": "6d7682926ae747f8863f711d2d626fbe"
      }
     },
     "metadata": {},
     "output_type": "display_data"
    },
    {
     "name": "stderr",
     "output_type": "stream",
     "text": [
      "14:00:04 - cmdstanpy - INFO - Chain [1] start processing\n",
      "14:00:05 - cmdstanpy - INFO - Chain [1] done processing\n",
      "14:00:05 - cmdstanpy - INFO - Chain [1] start processing\n",
      "14:00:06 - cmdstanpy - INFO - Chain [1] done processing\n",
      "14:00:06 - cmdstanpy - INFO - Chain [1] start processing\n",
      "14:00:06 - cmdstanpy - INFO - Chain [1] done processing\n",
      "14:00:06 - cmdstanpy - INFO - Chain [1] start processing\n",
      "14:00:06 - cmdstanpy - INFO - Chain [1] done processing\n",
      "Seasonality has period of 365.25 days which is larger than initial window. Consider increasing initial.\n"
     ]
    },
    {
     "name": "stdout",
     "output_type": "stream",
     "text": [
      "  horizon          mse      rmse      mae   mape  mdape  smape  coverage\n",
      "0  1 days 1126942.2456 1061.5754 953.7257 0.3677 0.4117 0.4732    1.0000\n"
     ]
    },
    {
     "data": {
      "text/plain": "  0%|          | 0/3 [00:00<?, ?it/s]",
      "application/vnd.jupyter.widget-view+json": {
       "version_major": 2,
       "version_minor": 0,
       "model_id": "a4f952561cf6448eae7b4fd5874210ff"
      }
     },
     "metadata": {},
     "output_type": "display_data"
    },
    {
     "name": "stderr",
     "output_type": "stream",
     "text": [
      "14:00:06 - cmdstanpy - INFO - Chain [1] start processing\n",
      "14:00:06 - cmdstanpy - INFO - Chain [1] done processing\n",
      "14:00:06 - cmdstanpy - INFO - Chain [1] start processing\n",
      "14:00:06 - cmdstanpy - INFO - Chain [1] done processing\n",
      "14:00:07 - cmdstanpy - INFO - Chain [1] start processing\n",
      "14:00:07 - cmdstanpy - INFO - Chain [1] done processing\n",
      "14:00:07 - cmdstanpy - INFO - Chain [1] start processing\n",
      "14:00:07 - cmdstanpy - INFO - Chain [1] done processing\n"
     ]
    },
    {
     "name": "stdout",
     "output_type": "stream",
     "text": [
      "  horizon          mse      rmse       mae   mape  mdape  smape  coverage\n",
      "0  1 days 3198917.8808 1788.5519 1554.4683 0.5774 0.7248 0.6313    0.6667\n"
     ]
    },
    {
     "data": {
      "text/plain": "  0%|          | 0/3 [00:00<?, ?it/s]",
      "application/vnd.jupyter.widget-view+json": {
       "version_major": 2,
       "version_minor": 0,
       "model_id": "b489f65ba7814ed7abb83998dcfb5e94"
      }
     },
     "metadata": {},
     "output_type": "display_data"
    },
    {
     "name": "stderr",
     "output_type": "stream",
     "text": [
      "14:00:07 - cmdstanpy - INFO - Chain [1] start processing\n",
      "14:00:08 - cmdstanpy - INFO - Chain [1] done processing\n",
      "14:00:08 - cmdstanpy - INFO - Chain [1] start processing\n",
      "14:00:08 - cmdstanpy - INFO - Chain [1] done processing\n",
      "14:00:08 - cmdstanpy - INFO - Chain [1] start processing\n",
      "14:00:08 - cmdstanpy - INFO - Chain [1] done processing\n",
      "14:00:08 - cmdstanpy - INFO - Chain [1] start processing\n",
      "14:00:08 - cmdstanpy - INFO - Chain [1] done processing\n",
      "Seasonality has period of 365.25 days which is larger than initial window. Consider increasing initial.\n"
     ]
    },
    {
     "name": "stdout",
     "output_type": "stream",
     "text": [
      "  horizon          mse      rmse      mae   mape  mdape  smape  coverage\n",
      "0  1 days 1110536.6168 1053.8200 941.3584 0.3618 0.4114 0.4638    1.0000\n"
     ]
    },
    {
     "data": {
      "text/plain": "  0%|          | 0/3 [00:00<?, ?it/s]",
      "application/vnd.jupyter.widget-view+json": {
       "version_major": 2,
       "version_minor": 0,
       "model_id": "fab06bd9055045eb9591f08911b41197"
      }
     },
     "metadata": {},
     "output_type": "display_data"
    },
    {
     "name": "stderr",
     "output_type": "stream",
     "text": [
      "14:00:08 - cmdstanpy - INFO - Chain [1] start processing\n",
      "14:00:09 - cmdstanpy - INFO - Chain [1] done processing\n",
      "14:00:09 - cmdstanpy - INFO - Chain [1] start processing\n",
      "14:00:09 - cmdstanpy - INFO - Chain [1] done processing\n",
      "14:00:09 - cmdstanpy - INFO - Chain [1] start processing\n",
      "14:00:09 - cmdstanpy - INFO - Chain [1] done processing\n",
      "14:00:09 - cmdstanpy - INFO - Chain [1] start processing\n",
      "14:00:09 - cmdstanpy - INFO - Chain [1] done processing\n"
     ]
    },
    {
     "name": "stdout",
     "output_type": "stream",
     "text": [
      "  horizon          mse      rmse       mae   mape  mdape  smape  coverage\n",
      "0  1 days 4520333.1985 2126.1075 1646.5906 0.5711 0.6709 0.7751    0.6667\n"
     ]
    },
    {
     "data": {
      "text/plain": "  0%|          | 0/3 [00:00<?, ?it/s]",
      "application/vnd.jupyter.widget-view+json": {
       "version_major": 2,
       "version_minor": 0,
       "model_id": "5c3e60d38e7f4eca80c779a8fdb3fe3f"
      }
     },
     "metadata": {},
     "output_type": "display_data"
    },
    {
     "name": "stderr",
     "output_type": "stream",
     "text": [
      "14:00:09 - cmdstanpy - INFO - Chain [1] start processing\n",
      "14:00:10 - cmdstanpy - INFO - Chain [1] done processing\n",
      "14:00:10 - cmdstanpy - INFO - Chain [1] start processing\n",
      "14:00:10 - cmdstanpy - INFO - Chain [1] done processing\n",
      "14:00:10 - cmdstanpy - INFO - Chain [1] start processing\n",
      "14:00:10 - cmdstanpy - INFO - Chain [1] done processing\n",
      "14:00:10 - cmdstanpy - INFO - Chain [1] start processing\n",
      "14:00:10 - cmdstanpy - INFO - Chain [1] done processing\n",
      "Seasonality has period of 365.25 days which is larger than initial window. Consider increasing initial.\n"
     ]
    },
    {
     "name": "stdout",
     "output_type": "stream",
     "text": [
      "  horizon          mse      rmse      mae   mape  mdape  smape  coverage\n",
      "0  1 days 1114377.6525 1055.6409 942.4246 0.3631 0.4117 0.4668    1.0000\n"
     ]
    },
    {
     "data": {
      "text/plain": "  0%|          | 0/3 [00:00<?, ?it/s]",
      "application/vnd.jupyter.widget-view+json": {
       "version_major": 2,
       "version_minor": 0,
       "model_id": "fb9176362de04ee48ce924d7614883f2"
      }
     },
     "metadata": {},
     "output_type": "display_data"
    },
    {
     "name": "stderr",
     "output_type": "stream",
     "text": [
      "14:00:10 - cmdstanpy - INFO - Chain [1] start processing\n",
      "14:00:11 - cmdstanpy - INFO - Chain [1] done processing\n",
      "14:00:11 - cmdstanpy - INFO - Chain [1] start processing\n",
      "14:00:11 - cmdstanpy - INFO - Chain [1] done processing\n",
      "14:00:11 - cmdstanpy - INFO - Chain [1] start processing\n",
      "14:00:11 - cmdstanpy - INFO - Chain [1] done processing\n",
      "14:00:11 - cmdstanpy - INFO - Chain [1] start processing\n",
      "14:00:11 - cmdstanpy - INFO - Chain [1] done processing\n"
     ]
    },
    {
     "name": "stdout",
     "output_type": "stream",
     "text": [
      "  horizon          mse      rmse       mae   mape  mdape  smape  coverage\n",
      "0  1 days 5434395.6735 2331.1790 1755.4067 0.6038 0.6959 0.8698    0.6667\n"
     ]
    },
    {
     "data": {
      "text/plain": "  0%|          | 0/3 [00:00<?, ?it/s]",
      "application/vnd.jupyter.widget-view+json": {
       "version_major": 2,
       "version_minor": 0,
       "model_id": "e0fb503ca2804399ae71543f2cb6dbb3"
      }
     },
     "metadata": {},
     "output_type": "display_data"
    },
    {
     "name": "stderr",
     "output_type": "stream",
     "text": [
      "14:00:11 - cmdstanpy - INFO - Chain [1] start processing\n",
      "14:00:13 - cmdstanpy - INFO - Chain [1] done processing\n",
      "14:00:13 - cmdstanpy - INFO - Chain [1] start processing\n",
      "14:00:13 - cmdstanpy - INFO - Chain [1] done processing\n",
      "14:00:13 - cmdstanpy - INFO - Chain [1] start processing\n",
      "14:00:13 - cmdstanpy - INFO - Chain [1] done processing\n",
      "14:00:14 - cmdstanpy - INFO - Chain [1] start processing\n",
      "14:00:14 - cmdstanpy - INFO - Chain [1] done processing\n",
      "Seasonality has period of 365.25 days which is larger than initial window. Consider increasing initial.\n"
     ]
    },
    {
     "name": "stdout",
     "output_type": "stream",
     "text": [
      "  horizon          mse      rmse      mae   mape  mdape  smape  coverage\n",
      "0  1 days 1117406.5109 1057.0745 946.6007 0.3643 0.4115 0.4679    1.0000\n"
     ]
    },
    {
     "data": {
      "text/plain": "  0%|          | 0/3 [00:00<?, ?it/s]",
      "application/vnd.jupyter.widget-view+json": {
       "version_major": 2,
       "version_minor": 0,
       "model_id": "352dc35343a04b97bc19d5825f483951"
      }
     },
     "metadata": {},
     "output_type": "display_data"
    },
    {
     "name": "stderr",
     "output_type": "stream",
     "text": [
      "14:00:14 - cmdstanpy - INFO - Chain [1] start processing\n",
      "14:00:14 - cmdstanpy - INFO - Chain [1] done processing\n",
      "14:00:15 - cmdstanpy - INFO - Chain [1] start processing\n",
      "14:00:15 - cmdstanpy - INFO - Chain [1] done processing\n",
      "14:00:15 - cmdstanpy - INFO - Chain [1] start processing\n",
      "14:00:15 - cmdstanpy - INFO - Chain [1] done processing\n"
     ]
    },
    {
     "name": "stdout",
     "output_type": "stream",
     "text": [
      "  horizon          mse      rmse       mae   mape  mdape  smape  coverage\n",
      "0  1 days 5023613.1770 2241.3418 1680.5459 0.5861 0.7101 0.8330    0.6667\n"
     ]
    },
    {
     "name": "stderr",
     "output_type": "stream",
     "text": [
      "14:00:15 - cmdstanpy - INFO - Chain [1] start processing\n",
      "14:00:15 - cmdstanpy - INFO - Chain [1] done processing\n"
     ]
    },
    {
     "data": {
      "text/plain": "  0%|          | 0/3 [00:00<?, ?it/s]",
      "application/vnd.jupyter.widget-view+json": {
       "version_major": 2,
       "version_minor": 0,
       "model_id": "7192510cba59428c894ddcbc71691ddb"
      }
     },
     "metadata": {},
     "output_type": "display_data"
    },
    {
     "name": "stderr",
     "output_type": "stream",
     "text": [
      "14:00:15 - cmdstanpy - INFO - Chain [1] start processing\n",
      "14:00:17 - cmdstanpy - INFO - Chain [1] done processing\n",
      "14:00:17 - cmdstanpy - INFO - Chain [1] start processing\n",
      "14:00:17 - cmdstanpy - INFO - Chain [1] done processing\n",
      "14:00:17 - cmdstanpy - INFO - Chain [1] start processing\n",
      "14:00:17 - cmdstanpy - INFO - Chain [1] done processing\n",
      "14:00:17 - cmdstanpy - INFO - Chain [1] start processing\n",
      "14:00:17 - cmdstanpy - INFO - Chain [1] done processing\n",
      "Seasonality has period of 365.25 days which is larger than initial window. Consider increasing initial.\n"
     ]
    },
    {
     "name": "stdout",
     "output_type": "stream",
     "text": [
      "  horizon          mse      rmse      mae   mape  mdape  smape  coverage\n",
      "0  1 days 1126942.2456 1061.5754 953.7257 0.3677 0.4117 0.4732    1.0000\n"
     ]
    },
    {
     "data": {
      "text/plain": "  0%|          | 0/3 [00:00<?, ?it/s]",
      "application/vnd.jupyter.widget-view+json": {
       "version_major": 2,
       "version_minor": 0,
       "model_id": "69ef831c7aae4bb592804ee4c985d65b"
      }
     },
     "metadata": {},
     "output_type": "display_data"
    },
    {
     "name": "stderr",
     "output_type": "stream",
     "text": [
      "14:00:17 - cmdstanpy - INFO - Chain [1] start processing\n",
      "14:00:18 - cmdstanpy - INFO - Chain [1] done processing\n",
      "14:00:18 - cmdstanpy - INFO - Chain [1] start processing\n",
      "14:00:18 - cmdstanpy - INFO - Chain [1] done processing\n",
      "14:00:18 - cmdstanpy - INFO - Chain [1] start processing\n",
      "14:00:18 - cmdstanpy - INFO - Chain [1] done processing\n",
      "14:00:18 - cmdstanpy - INFO - Chain [1] start processing\n",
      "14:00:18 - cmdstanpy - INFO - Chain [1] done processing\n"
     ]
    },
    {
     "name": "stdout",
     "output_type": "stream",
     "text": [
      "  horizon          mse      rmse       mae   mape  mdape  smape  coverage\n",
      "0  1 days 3198917.8808 1788.5519 1554.4683 0.5774 0.7248 0.6313    0.6667\n"
     ]
    },
    {
     "data": {
      "text/plain": "  0%|          | 0/3 [00:00<?, ?it/s]",
      "application/vnd.jupyter.widget-view+json": {
       "version_major": 2,
       "version_minor": 0,
       "model_id": "f60a7af8962649d8b0302a6a49c4957b"
      }
     },
     "metadata": {},
     "output_type": "display_data"
    },
    {
     "name": "stderr",
     "output_type": "stream",
     "text": [
      "14:00:18 - cmdstanpy - INFO - Chain [1] start processing\n",
      "14:00:19 - cmdstanpy - INFO - Chain [1] done processing\n",
      "14:00:19 - cmdstanpy - INFO - Chain [1] start processing\n",
      "14:00:19 - cmdstanpy - INFO - Chain [1] done processing\n",
      "14:00:19 - cmdstanpy - INFO - Chain [1] start processing\n",
      "14:00:20 - cmdstanpy - INFO - Chain [1] done processing\n",
      "14:00:20 - cmdstanpy - INFO - Chain [1] start processing\n",
      "14:00:20 - cmdstanpy - INFO - Chain [1] done processing\n",
      "Seasonality has period of 365.25 days which is larger than initial window. Consider increasing initial.\n"
     ]
    },
    {
     "name": "stdout",
     "output_type": "stream",
     "text": [
      "  horizon          mse      rmse      mae   mape  mdape  smape  coverage\n",
      "0  1 days 1110536.6168 1053.8200 941.3584 0.3618 0.4114 0.4638    1.0000\n"
     ]
    },
    {
     "data": {
      "text/plain": "  0%|          | 0/3 [00:00<?, ?it/s]",
      "application/vnd.jupyter.widget-view+json": {
       "version_major": 2,
       "version_minor": 0,
       "model_id": "b49e9bd1f49444d7bf99446ec98ee446"
      }
     },
     "metadata": {},
     "output_type": "display_data"
    },
    {
     "name": "stderr",
     "output_type": "stream",
     "text": [
      "14:00:20 - cmdstanpy - INFO - Chain [1] start processing\n",
      "14:00:20 - cmdstanpy - INFO - Chain [1] done processing\n",
      "14:00:20 - cmdstanpy - INFO - Chain [1] start processing\n",
      "14:00:20 - cmdstanpy - INFO - Chain [1] done processing\n",
      "14:00:20 - cmdstanpy - INFO - Chain [1] start processing\n",
      "14:00:20 - cmdstanpy - INFO - Chain [1] done processing\n",
      "14:00:20 - cmdstanpy - INFO - Chain [1] start processing\n",
      "14:00:21 - cmdstanpy - INFO - Chain [1] done processing\n"
     ]
    },
    {
     "name": "stdout",
     "output_type": "stream",
     "text": [
      "  horizon          mse      rmse       mae   mape  mdape  smape  coverage\n",
      "0  1 days 4520333.1985 2126.1075 1646.5906 0.5711 0.6709 0.7751    0.6667\n"
     ]
    },
    {
     "data": {
      "text/plain": "  0%|          | 0/3 [00:00<?, ?it/s]",
      "application/vnd.jupyter.widget-view+json": {
       "version_major": 2,
       "version_minor": 0,
       "model_id": "a7078764dc8c4c03b3eb0223242cff03"
      }
     },
     "metadata": {},
     "output_type": "display_data"
    },
    {
     "name": "stderr",
     "output_type": "stream",
     "text": [
      "14:00:21 - cmdstanpy - INFO - Chain [1] start processing\n",
      "14:00:22 - cmdstanpy - INFO - Chain [1] done processing\n",
      "14:00:22 - cmdstanpy - INFO - Chain [1] start processing\n",
      "14:00:22 - cmdstanpy - INFO - Chain [1] done processing\n",
      "14:00:22 - cmdstanpy - INFO - Chain [1] start processing\n",
      "14:00:22 - cmdstanpy - INFO - Chain [1] done processing\n",
      "14:00:22 - cmdstanpy - INFO - Chain [1] start processing\n",
      "14:00:22 - cmdstanpy - INFO - Chain [1] done processing\n",
      "Seasonality has period of 365.25 days which is larger than initial window. Consider increasing initial.\n"
     ]
    },
    {
     "name": "stdout",
     "output_type": "stream",
     "text": [
      "  horizon          mse      rmse      mae   mape  mdape  smape  coverage\n",
      "0  1 days 1114377.6525 1055.6409 942.4246 0.3631 0.4117 0.4668    1.0000\n"
     ]
    },
    {
     "data": {
      "text/plain": "  0%|          | 0/3 [00:00<?, ?it/s]",
      "application/vnd.jupyter.widget-view+json": {
       "version_major": 2,
       "version_minor": 0,
       "model_id": "e1b24fb141574b9ea6ca8adb4750e591"
      }
     },
     "metadata": {},
     "output_type": "display_data"
    },
    {
     "name": "stderr",
     "output_type": "stream",
     "text": [
      "14:00:22 - cmdstanpy - INFO - Chain [1] start processing\n",
      "14:00:22 - cmdstanpy - INFO - Chain [1] done processing\n",
      "14:00:23 - cmdstanpy - INFO - Chain [1] start processing\n",
      "14:00:23 - cmdstanpy - INFO - Chain [1] done processing\n",
      "14:00:23 - cmdstanpy - INFO - Chain [1] start processing\n",
      "14:00:23 - cmdstanpy - INFO - Chain [1] done processing\n",
      "14:00:23 - cmdstanpy - INFO - Chain [1] start processing\n",
      "14:00:23 - cmdstanpy - INFO - Chain [1] done processing\n"
     ]
    },
    {
     "name": "stdout",
     "output_type": "stream",
     "text": [
      "  horizon          mse      rmse       mae   mape  mdape  smape  coverage\n",
      "0  1 days 5434395.6735 2331.1790 1755.4067 0.6038 0.6959 0.8698    0.6667\n"
     ]
    },
    {
     "data": {
      "text/plain": "  0%|          | 0/3 [00:00<?, ?it/s]",
      "application/vnd.jupyter.widget-view+json": {
       "version_major": 2,
       "version_minor": 0,
       "model_id": "4211f5a2bb5f45c89bbc87761933df47"
      }
     },
     "metadata": {},
     "output_type": "display_data"
    },
    {
     "name": "stderr",
     "output_type": "stream",
     "text": [
      "14:00:23 - cmdstanpy - INFO - Chain [1] start processing\n",
      "14:00:24 - cmdstanpy - INFO - Chain [1] done processing\n",
      "14:00:24 - cmdstanpy - INFO - Chain [1] start processing\n",
      "14:00:25 - cmdstanpy - INFO - Chain [1] done processing\n",
      "14:00:25 - cmdstanpy - INFO - Chain [1] start processing\n",
      "14:00:25 - cmdstanpy - INFO - Chain [1] done processing\n",
      "14:00:25 - cmdstanpy - INFO - Chain [1] start processing\n",
      "14:00:25 - cmdstanpy - INFO - Chain [1] done processing\n",
      "Seasonality has period of 365.25 days which is larger than initial window. Consider increasing initial.\n"
     ]
    },
    {
     "name": "stdout",
     "output_type": "stream",
     "text": [
      "  horizon          mse      rmse      mae   mape  mdape  smape  coverage\n",
      "0  1 days 1117406.5109 1057.0745 946.6007 0.3643 0.4115 0.4679    1.0000\n"
     ]
    },
    {
     "data": {
      "text/plain": "  0%|          | 0/3 [00:00<?, ?it/s]",
      "application/vnd.jupyter.widget-view+json": {
       "version_major": 2,
       "version_minor": 0,
       "model_id": "c7556068ed6447e6ba4aeb01faa28bf7"
      }
     },
     "metadata": {},
     "output_type": "display_data"
    },
    {
     "name": "stderr",
     "output_type": "stream",
     "text": [
      "14:00:25 - cmdstanpy - INFO - Chain [1] start processing\n",
      "14:00:26 - cmdstanpy - INFO - Chain [1] done processing\n",
      "14:00:26 - cmdstanpy - INFO - Chain [1] start processing\n",
      "14:00:26 - cmdstanpy - INFO - Chain [1] done processing\n",
      "14:00:26 - cmdstanpy - INFO - Chain [1] start processing\n",
      "14:00:26 - cmdstanpy - INFO - Chain [1] done processing\n",
      "14:00:26 - cmdstanpy - INFO - Chain [1] start processing\n",
      "14:00:27 - cmdstanpy - INFO - Chain [1] done processing\n"
     ]
    },
    {
     "name": "stdout",
     "output_type": "stream",
     "text": [
      "  horizon          mse      rmse       mae   mape  mdape  smape  coverage\n",
      "0  1 days 5023613.1770 2241.3418 1680.5459 0.5861 0.7101 0.8330    0.6667\n"
     ]
    },
    {
     "data": {
      "text/plain": "  0%|          | 0/3 [00:00<?, ?it/s]",
      "application/vnd.jupyter.widget-view+json": {
       "version_major": 2,
       "version_minor": 0,
       "model_id": "b4addfb236f3419e8d8557d89e4d8960"
      }
     },
     "metadata": {},
     "output_type": "display_data"
    },
    {
     "name": "stderr",
     "output_type": "stream",
     "text": [
      "14:00:27 - cmdstanpy - INFO - Chain [1] start processing\n",
      "14:00:28 - cmdstanpy - INFO - Chain [1] done processing\n",
      "14:00:28 - cmdstanpy - INFO - Chain [1] start processing\n",
      "14:00:28 - cmdstanpy - INFO - Chain [1] done processing\n",
      "14:00:28 - cmdstanpy - INFO - Chain [1] start processing\n",
      "14:00:28 - cmdstanpy - INFO - Chain [1] done processing\n",
      "14:00:28 - cmdstanpy - INFO - Chain [1] start processing\n",
      "14:00:28 - cmdstanpy - INFO - Chain [1] done processing\n",
      "Seasonality has period of 365.25 days which is larger than initial window. Consider increasing initial.\n"
     ]
    },
    {
     "name": "stdout",
     "output_type": "stream",
     "text": [
      "  horizon          mse      rmse      mae   mape  mdape  smape  coverage\n",
      "0  1 days 1126942.2456 1061.5754 953.7257 0.3677 0.4117 0.4732    1.0000\n"
     ]
    },
    {
     "data": {
      "text/plain": "  0%|          | 0/3 [00:00<?, ?it/s]",
      "application/vnd.jupyter.widget-view+json": {
       "version_major": 2,
       "version_minor": 0,
       "model_id": "0e178cc5d4e641438857dce8f5602a4c"
      }
     },
     "metadata": {},
     "output_type": "display_data"
    },
    {
     "name": "stderr",
     "output_type": "stream",
     "text": [
      "14:00:28 - cmdstanpy - INFO - Chain [1] start processing\n",
      "14:00:28 - cmdstanpy - INFO - Chain [1] done processing\n",
      "14:00:29 - cmdstanpy - INFO - Chain [1] start processing\n",
      "14:00:29 - cmdstanpy - INFO - Chain [1] done processing\n",
      "14:00:29 - cmdstanpy - INFO - Chain [1] start processing\n",
      "14:00:29 - cmdstanpy - INFO - Chain [1] done processing\n",
      "14:00:29 - cmdstanpy - INFO - Chain [1] start processing\n",
      "14:00:29 - cmdstanpy - INFO - Chain [1] done processing\n"
     ]
    },
    {
     "name": "stdout",
     "output_type": "stream",
     "text": [
      "  horizon          mse      rmse       mae   mape  mdape  smape  coverage\n",
      "0  1 days 3198917.8808 1788.5519 1554.4683 0.5774 0.7248 0.6313    1.0000\n"
     ]
    },
    {
     "data": {
      "text/plain": "  0%|          | 0/3 [00:00<?, ?it/s]",
      "application/vnd.jupyter.widget-view+json": {
       "version_major": 2,
       "version_minor": 0,
       "model_id": "08e864095a614b4b990c476ba0c92a53"
      }
     },
     "metadata": {},
     "output_type": "display_data"
    },
    {
     "name": "stderr",
     "output_type": "stream",
     "text": [
      "14:00:29 - cmdstanpy - INFO - Chain [1] start processing\n",
      "14:00:30 - cmdstanpy - INFO - Chain [1] done processing\n",
      "14:00:30 - cmdstanpy - INFO - Chain [1] start processing\n",
      "14:00:30 - cmdstanpy - INFO - Chain [1] done processing\n",
      "14:00:30 - cmdstanpy - INFO - Chain [1] start processing\n",
      "14:00:30 - cmdstanpy - INFO - Chain [1] done processing\n",
      "14:00:30 - cmdstanpy - INFO - Chain [1] start processing\n",
      "14:00:30 - cmdstanpy - INFO - Chain [1] done processing\n",
      "Seasonality has period of 365.25 days which is larger than initial window. Consider increasing initial.\n"
     ]
    },
    {
     "name": "stdout",
     "output_type": "stream",
     "text": [
      "  horizon          mse      rmse      mae   mape  mdape  smape  coverage\n",
      "0  1 days 1110536.6168 1053.8200 941.3584 0.3618 0.4114 0.4638    1.0000\n"
     ]
    },
    {
     "data": {
      "text/plain": "  0%|          | 0/3 [00:00<?, ?it/s]",
      "application/vnd.jupyter.widget-view+json": {
       "version_major": 2,
       "version_minor": 0,
       "model_id": "47c443ff3be64e04b323a0b53cec9df2"
      }
     },
     "metadata": {},
     "output_type": "display_data"
    },
    {
     "name": "stderr",
     "output_type": "stream",
     "text": [
      "14:00:30 - cmdstanpy - INFO - Chain [1] start processing\n",
      "14:00:31 - cmdstanpy - INFO - Chain [1] done processing\n",
      "14:00:31 - cmdstanpy - INFO - Chain [1] start processing\n",
      "14:00:31 - cmdstanpy - INFO - Chain [1] done processing\n",
      "14:00:31 - cmdstanpy - INFO - Chain [1] start processing\n",
      "14:00:31 - cmdstanpy - INFO - Chain [1] done processing\n",
      "14:00:31 - cmdstanpy - INFO - Chain [1] start processing\n",
      "14:00:31 - cmdstanpy - INFO - Chain [1] done processing\n"
     ]
    },
    {
     "name": "stdout",
     "output_type": "stream",
     "text": [
      "  horizon          mse      rmse       mae   mape  mdape  smape  coverage\n",
      "0  1 days 4520333.1985 2126.1075 1646.5906 0.5711 0.6709 0.7751    0.6667\n"
     ]
    },
    {
     "data": {
      "text/plain": "  0%|          | 0/3 [00:00<?, ?it/s]",
      "application/vnd.jupyter.widget-view+json": {
       "version_major": 2,
       "version_minor": 0,
       "model_id": "4ff64bc3d3bb4fa3bf83b14298385d77"
      }
     },
     "metadata": {},
     "output_type": "display_data"
    },
    {
     "name": "stderr",
     "output_type": "stream",
     "text": [
      "14:00:31 - cmdstanpy - INFO - Chain [1] start processing\n",
      "14:00:32 - cmdstanpy - INFO - Chain [1] done processing\n",
      "14:00:32 - cmdstanpy - INFO - Chain [1] start processing\n",
      "14:00:32 - cmdstanpy - INFO - Chain [1] done processing\n",
      "14:00:33 - cmdstanpy - INFO - Chain [1] start processing\n",
      "14:00:33 - cmdstanpy - INFO - Chain [1] done processing\n",
      "14:00:33 - cmdstanpy - INFO - Chain [1] start processing\n",
      "14:00:33 - cmdstanpy - INFO - Chain [1] done processing\n",
      "Seasonality has period of 365.25 days which is larger than initial window. Consider increasing initial.\n"
     ]
    },
    {
     "name": "stdout",
     "output_type": "stream",
     "text": [
      "  horizon          mse      rmse      mae   mape  mdape  smape  coverage\n",
      "0  1 days 1114377.6525 1055.6409 942.4246 0.3631 0.4117 0.4668    1.0000\n"
     ]
    },
    {
     "data": {
      "text/plain": "  0%|          | 0/3 [00:00<?, ?it/s]",
      "application/vnd.jupyter.widget-view+json": {
       "version_major": 2,
       "version_minor": 0,
       "model_id": "bc3cddff4e424a03a16dc98bbc28a2b8"
      }
     },
     "metadata": {},
     "output_type": "display_data"
    },
    {
     "name": "stderr",
     "output_type": "stream",
     "text": [
      "14:00:33 - cmdstanpy - INFO - Chain [1] start processing\n",
      "14:00:33 - cmdstanpy - INFO - Chain [1] done processing\n",
      "14:00:33 - cmdstanpy - INFO - Chain [1] start processing\n",
      "14:00:33 - cmdstanpy - INFO - Chain [1] done processing\n",
      "14:00:34 - cmdstanpy - INFO - Chain [1] start processing\n",
      "14:00:34 - cmdstanpy - INFO - Chain [1] done processing\n",
      "14:00:34 - cmdstanpy - INFO - Chain [1] start processing\n",
      "14:00:34 - cmdstanpy - INFO - Chain [1] done processing\n"
     ]
    },
    {
     "name": "stdout",
     "output_type": "stream",
     "text": [
      "  horizon          mse      rmse       mae   mape  mdape  smape  coverage\n",
      "0  1 days 5434395.6735 2331.1790 1755.4067 0.6038 0.6959 0.8698    0.6667\n"
     ]
    },
    {
     "data": {
      "text/plain": "  0%|          | 0/3 [00:00<?, ?it/s]",
      "application/vnd.jupyter.widget-view+json": {
       "version_major": 2,
       "version_minor": 0,
       "model_id": "451a2d0a64ae49388eba44400cb6f0f1"
      }
     },
     "metadata": {},
     "output_type": "display_data"
    },
    {
     "name": "stderr",
     "output_type": "stream",
     "text": [
      "14:00:34 - cmdstanpy - INFO - Chain [1] start processing\n",
      "14:00:35 - cmdstanpy - INFO - Chain [1] done processing\n",
      "14:00:35 - cmdstanpy - INFO - Chain [1] start processing\n",
      "14:00:35 - cmdstanpy - INFO - Chain [1] done processing\n",
      "14:00:35 - cmdstanpy - INFO - Chain [1] start processing\n",
      "14:00:35 - cmdstanpy - INFO - Chain [1] done processing\n",
      "14:00:35 - cmdstanpy - INFO - Chain [1] start processing\n",
      "14:00:35 - cmdstanpy - INFO - Chain [1] done processing\n",
      "Seasonality has period of 365.25 days which is larger than initial window. Consider increasing initial.\n"
     ]
    },
    {
     "name": "stdout",
     "output_type": "stream",
     "text": [
      "  horizon          mse      rmse      mae   mape  mdape  smape  coverage\n",
      "0  1 days 1117406.5109 1057.0745 946.6007 0.3643 0.4115 0.4679    1.0000\n"
     ]
    },
    {
     "data": {
      "text/plain": "  0%|          | 0/3 [00:00<?, ?it/s]",
      "application/vnd.jupyter.widget-view+json": {
       "version_major": 2,
       "version_minor": 0,
       "model_id": "b55634bd819a459a8f11938b61a0f53f"
      }
     },
     "metadata": {},
     "output_type": "display_data"
    },
    {
     "name": "stderr",
     "output_type": "stream",
     "text": [
      "14:00:35 - cmdstanpy - INFO - Chain [1] start processing\n",
      "14:00:36 - cmdstanpy - INFO - Chain [1] done processing\n",
      "14:00:36 - cmdstanpy - INFO - Chain [1] start processing\n",
      "14:00:36 - cmdstanpy - INFO - Chain [1] done processing\n",
      "14:00:36 - cmdstanpy - INFO - Chain [1] start processing\n",
      "14:00:36 - cmdstanpy - INFO - Chain [1] done processing\n"
     ]
    },
    {
     "name": "stdout",
     "output_type": "stream",
     "text": [
      "  horizon          mse      rmse       mae   mape  mdape  smape  coverage\n",
      "0  1 days 5023613.1770 2241.3418 1680.5459 0.5861 0.7101 0.8330    0.6667\n"
     ]
    }
   ],
   "source": [
    "# fine tune  Prophet  \n",
    "# runed parameters : changepoint_prior_scale, seasonality_prior_scale, interval_width，weekly_seasonality，daily_seasonality，yearly_seasonality，changepoint_range\n",
    "cv_tuned =  pd.DataFrame(columns=['changepoint_prior_scale', 'seasonality_prior_scale', 'interval_width','weekly_seasonality','daily_seasonality','yearly_seasonality','changepoint_range','mae','rmse','mse','mape','mdape','coverage'])\n",
    "# fine tune\n",
    "\"\"\"\n",
    "changepoint_prior_scale= [0.1,0.3, 0.5],\n",
    "                yearly_seasonality=[False,True],\n",
    "                weekly_seasonality=[False,True],\n",
    "                daily_seasonality=[False,True],\n",
    "                seasonality_prior_scale=[0.2,0.25, 0.5],\n",
    "                interval_width=[0.9,0.95,0.99],\n",
    "                changepoint_range=[0.8,0.9,0.95,0.99]\n",
    "\"\"\"\n",
    "# create cv for tuning\n",
    "params = {'changepoint_prior_scale': [0.2, 0.3, 0.5],\n",
    "                'yearly_seasonality':[False,True],\n",
    "                'weekly_seasonality':[True],\n",
    "                'daily_seasonality':[False,True],\n",
    "                'seasonality_prior_scale':[1, 2,5,8],\n",
    "                'interval_width':[0.9,0.95,0.99]}\n",
    "\n",
    "# tune over params\n",
    "model_search = Prophet()\n",
    "#grid search  over params\n",
    "from sklearn.model_selection import ParameterGrid\n",
    "grid = ParameterGrid(params)\n",
    "grid\n",
    "\n",
    "for p in grid:\n",
    "    model_search = Prophet(**p)\n",
    "    model_search.add_regressor('daily_state_test')\n",
    "    model_search.add_regressor('precipitation')\n",
    "    model_search.add_regressor('temperature')\n",
    "    model_search.fit(df_Prop)\n",
    "    df_cv = cross_validation(model_search, initial='60 days', period='30 days', horizon = '7 days')\n",
    "    df_p = performance_metrics(df_cv)\n",
    "    # print best performance\n",
    "    print(df_p.head(1))\n"
   ],
   "metadata": {
    "collapsed": false,
    "ExecuteTime": {
     "end_time": "2023-12-08T20:00:37.368748Z",
     "start_time": "2023-12-08T19:58:06.606175Z"
    }
   }
  },
  {
   "cell_type": "code",
   "execution_count": null,
   "outputs": [],
   "source": [
    "forecast = model.predict(future)\n",
    "display(forecast[['ds', 'yhat', 'yhat_lower', 'yhat_upper']].tail())\n",
    "predictions = forecast.tail(len(df_test_ne))['yhat'].values\n",
    "\n",
    "df_test_ne['Predictions'] = predictions\n",
    "\n",
    "mse = mean_squared_error(df_test_ne['confirmed'], predictions)\n",
    "r2 = r2_score(df_test_ne['confirmed'], predictions)\n",
    "# mae\n",
    "mae = mean_absolute_error(df_test_ne['confirmed'], predictions)\n",
    "# mse\n",
    "mse = mean_squared_error(df_test_ne['confirmed'], predictions)  #\n",
    "# rmse\n",
    "rmse = np.sqrt(mse)\n",
    "# r2\n",
    "r2 = r2_score(df_test_ne['confirmed'], predictions)"
   ],
   "metadata": {
    "collapsed": false,
    "ExecuteTime": {
     "end_time": "2023-12-08T19:51:37.158185Z",
     "start_time": "2023-12-08T19:51:37.152992Z"
    }
   }
  },
  {
   "cell_type": "code",
   "execution_count": 44,
   "outputs": [],
   "source": [
    "# best bcv\n",
    "model1 = Prophet(changepoint_prior_scale=0.1,\n",
    "                yearly_seasonality=False,\n",
    "                weekly_seasonality=True,\n",
    "                daily_seasonality=False,\n",
    "                seasonality_prior_scale=2.0,\n",
    "                interval_width=0.95)\n",
    "model2 = Prophet(changepoint_prior_scale=0.1,\n",
    "                yearly_seasonality=False,\n",
    "                weekly_seasonality=True,\n",
    "                daily_seasonality=False,\n",
    "                seasonality_prior_scale=4.0,\n",
    "                interval_width=0.95)"
   ],
   "metadata": {
    "collapsed": false,
    "ExecuteTime": {
     "end_time": "2023-12-08T20:07:18.532524Z",
     "start_time": "2023-12-08T20:07:18.441820Z"
    }
   }
  },
  {
   "cell_type": "code",
   "execution_count": 59,
   "outputs": [
    {
     "name": "stdout",
     "output_type": "stream",
     "text": [
      "501.9401937868218 417270.8974905643 -0.4649049364595117\n"
     ]
    }
   ],
   "source": [
    "# pred\n",
    "forcast1 = model1.predict(future)\n",
    "future = model1.make_future_dataframe(periods=48)\n",
    "forecast1 = model1.predict(future)\n",
    "predictions1 = forecast1.tail(len(df_test_ne))['yhat'].values\n",
    "df_test_ne['Predictions1'] = predictions1\n",
    "mae = mean_absolute_error(df_test_ne['confirmed'], predictions1)\n",
    "mse = mean_squared_error(df_test_ne['confirmed'], predictions1)\n",
    "mse = mean_squared_error(df_test_ne['confirmed'], predictions1)\n",
    "r2 = r2_score(df_test_ne['confirmed'], predictions1)\n",
    "print(mae, mse, r2)"
   ],
   "metadata": {
    "collapsed": false,
    "ExecuteTime": {
     "end_time": "2023-12-08T20:09:36.859644Z",
     "start_time": "2023-12-08T20:09:36.759963Z"
    }
   }
  },
  {
   "cell_type": "code",
   "execution_count": null,
   "outputs": [],
   "source": [
    "model1.fit(df_Prop)\n",
    "model2.fit(df_Prop)"
   ],
   "metadata": {
    "collapsed": false
   }
  },
  {
   "cell_type": "code",
   "execution_count": 61,
   "outputs": [
    {
     "name": "stdout",
     "output_type": "stream",
     "text": [
      "501.9401937868218 417270.8974905643 -0.4649049364595117\n"
     ]
    }
   ],
   "source": [
    "\n",
    "forecast2 = model2.predict(future)\n",
    "# pred\n",
    "predictions2 = forecast2.tail(len(df_test_ne))['yhat'].values\n",
    "df_test_ne['Predictions'] = predictions2\n",
    "mae = mean_absolute_error(df_test_ne['confirmed'], predictions1)\n",
    "mse = mean_squared_error(df_test_ne['confirmed'], predictions1)\n",
    "mse = mean_squared_error(df_test_ne['confirmed'], predictions1)\n",
    "r2 = r2_score(df_test_ne['confirmed'], predictions1)\n",
    "print(mae, mse, r2)"
   ],
   "metadata": {
    "collapsed": false,
    "ExecuteTime": {
     "end_time": "2023-12-08T20:09:45.053585Z",
     "start_time": "2023-12-08T20:09:44.998312Z"
    }
   }
  },
  {
   "cell_type": "code",
   "execution_count": 62,
   "outputs": [
    {
     "name": "stdout",
     "output_type": "stream",
     "text": [
      "Prophet Multivariate model does not have plot_diagnostics method\n"
     ]
    },
    {
     "data": {
      "text/plain": "        date  daily_state_test  precipitation  temperature  total_population  female_percent    area  population_density  latitude  longitude  ...  meat_plants  median_household_income  percent_insured  gdp_per_capita  immigrant_student_ratio  weekend  confirmed   death  Predictions  Predictions1\n0 2020-07-31       1.7296            0.4544         1.2957      -0.0000            0.0000    -0.0000       0.0000           0.0000     0.0000  ...       0.0000      -0.0000                   0.0000           0.0000         -0.0000              -0.6278  3056.0000 -0.0000    2920.2549    2838.0779 \n1 2020-08-01       1.6165           -0.5741         1.2906      -0.0000            0.0000    -0.0000       0.0000           0.0000     0.0000  ...       0.0000      -0.0000                   0.0000           0.0000         -0.0000               1.5928  2495.0000 -0.0000    2702.1520    2616.8773 \n2 2020-08-02       1.3099            0.2383         1.4505      -0.0000            0.0000    -0.0000       0.0000           0.0000     0.0000  ...       0.0000      -0.0000                   0.0000           0.0000         -0.0000               1.5928  1949.0000 -0.0000    1704.0214    1623.4709 \n3 2020-08-03       1.0575           -0.1046         1.4905      -0.0000            0.0000    -0.0000       0.0000           0.0000     0.0000  ...       0.0000      -0.0000                   0.0000           0.0000         -0.0000              -0.6278  1999.0000 -0.0000    1666.7940    1581.4197 \n4 2020-08-04       1.3862            1.6186         1.3582      -0.0000            0.0000    -0.0000       0.0000           0.0000     0.0000  ...       0.0000      -0.0000                   0.0000           0.0000         -0.0000              -0.6278  2093.0000 -0.0000    1416.2418    1326.1743 \n\n[5 rows x 31 columns]",
      "text/html": "<div>\n<style scoped>\n    .dataframe tbody tr th:only-of-type {\n        vertical-align: middle;\n    }\n\n    .dataframe tbody tr th {\n        vertical-align: top;\n    }\n\n    .dataframe thead th {\n        text-align: right;\n    }\n</style>\n<table border=\"1\" class=\"dataframe\">\n  <thead>\n    <tr style=\"text-align: right;\">\n      <th></th>\n      <th>date</th>\n      <th>daily_state_test</th>\n      <th>precipitation</th>\n      <th>temperature</th>\n      <th>total_population</th>\n      <th>female_percent</th>\n      <th>area</th>\n      <th>population_density</th>\n      <th>latitude</th>\n      <th>longitude</th>\n      <th>...</th>\n      <th>meat_plants</th>\n      <th>median_household_income</th>\n      <th>percent_insured</th>\n      <th>gdp_per_capita</th>\n      <th>immigrant_student_ratio</th>\n      <th>weekend</th>\n      <th>confirmed</th>\n      <th>death</th>\n      <th>Predictions</th>\n      <th>Predictions1</th>\n    </tr>\n  </thead>\n  <tbody>\n    <tr>\n      <th>0</th>\n      <td>2020-07-31</td>\n      <td>1.7296</td>\n      <td>0.4544</td>\n      <td>1.2957</td>\n      <td>-0.0000</td>\n      <td>0.0000</td>\n      <td>-0.0000</td>\n      <td>0.0000</td>\n      <td>0.0000</td>\n      <td>0.0000</td>\n      <td>...</td>\n      <td>0.0000</td>\n      <td>-0.0000</td>\n      <td>0.0000</td>\n      <td>0.0000</td>\n      <td>-0.0000</td>\n      <td>-0.6278</td>\n      <td>3056.0000</td>\n      <td>-0.0000</td>\n      <td>2920.2549</td>\n      <td>2838.0779</td>\n    </tr>\n    <tr>\n      <th>1</th>\n      <td>2020-08-01</td>\n      <td>1.6165</td>\n      <td>-0.5741</td>\n      <td>1.2906</td>\n      <td>-0.0000</td>\n      <td>0.0000</td>\n      <td>-0.0000</td>\n      <td>0.0000</td>\n      <td>0.0000</td>\n      <td>0.0000</td>\n      <td>...</td>\n      <td>0.0000</td>\n      <td>-0.0000</td>\n      <td>0.0000</td>\n      <td>0.0000</td>\n      <td>-0.0000</td>\n      <td>1.5928</td>\n      <td>2495.0000</td>\n      <td>-0.0000</td>\n      <td>2702.1520</td>\n      <td>2616.8773</td>\n    </tr>\n    <tr>\n      <th>2</th>\n      <td>2020-08-02</td>\n      <td>1.3099</td>\n      <td>0.2383</td>\n      <td>1.4505</td>\n      <td>-0.0000</td>\n      <td>0.0000</td>\n      <td>-0.0000</td>\n      <td>0.0000</td>\n      <td>0.0000</td>\n      <td>0.0000</td>\n      <td>...</td>\n      <td>0.0000</td>\n      <td>-0.0000</td>\n      <td>0.0000</td>\n      <td>0.0000</td>\n      <td>-0.0000</td>\n      <td>1.5928</td>\n      <td>1949.0000</td>\n      <td>-0.0000</td>\n      <td>1704.0214</td>\n      <td>1623.4709</td>\n    </tr>\n    <tr>\n      <th>3</th>\n      <td>2020-08-03</td>\n      <td>1.0575</td>\n      <td>-0.1046</td>\n      <td>1.4905</td>\n      <td>-0.0000</td>\n      <td>0.0000</td>\n      <td>-0.0000</td>\n      <td>0.0000</td>\n      <td>0.0000</td>\n      <td>0.0000</td>\n      <td>...</td>\n      <td>0.0000</td>\n      <td>-0.0000</td>\n      <td>0.0000</td>\n      <td>0.0000</td>\n      <td>-0.0000</td>\n      <td>-0.6278</td>\n      <td>1999.0000</td>\n      <td>-0.0000</td>\n      <td>1666.7940</td>\n      <td>1581.4197</td>\n    </tr>\n    <tr>\n      <th>4</th>\n      <td>2020-08-04</td>\n      <td>1.3862</td>\n      <td>1.6186</td>\n      <td>1.3582</td>\n      <td>-0.0000</td>\n      <td>0.0000</td>\n      <td>-0.0000</td>\n      <td>0.0000</td>\n      <td>0.0000</td>\n      <td>0.0000</td>\n      <td>...</td>\n      <td>0.0000</td>\n      <td>-0.0000</td>\n      <td>0.0000</td>\n      <td>0.0000</td>\n      <td>-0.0000</td>\n      <td>-0.6278</td>\n      <td>2093.0000</td>\n      <td>-0.0000</td>\n      <td>1416.2418</td>\n      <td>1326.1743</td>\n    </tr>\n  </tbody>\n</table>\n<p>5 rows × 31 columns</p>\n</div>"
     },
     "metadata": {},
     "output_type": "display_data"
    },
    {
     "data": {
      "text/plain": "<Figure size 1600x500 with 2 Axes>",
      "image/png": "[encoded data removed]"
     },
     "metadata": {},
     "output_type": "display_data"
    }
   ],
   "source": [
    "show_predictions('Prophet Multivariate')\n"
   ],
   "metadata": {
    "collapsed": false,
    "ExecuteTime": {
     "end_time": "2023-12-08T20:09:46.058456Z",
     "start_time": "2023-12-08T20:09:45.670636Z"
    }
   }
  },
  {
   "cell_type": "code",
   "execution_count": 63,
   "outputs": [
    {
     "data": {
      "text/plain": "<Figure size 640x480 with 1 Axes>",
      "image/png": "[encoded data removed]"
     },
     "metadata": {},
     "output_type": "display_data"
    }
   ],
   "source": [
    "\n",
    "plt.plot(df_train_ne['date'], df_train_ne['confirmed'], label='Train')\n",
    "hold = plt.plot(df_test_ne['date'], df_test_ne['confirmed'], label='Test')\n",
    "\n",
    "plt.show()"
   ],
   "metadata": {
    "collapsed": false,
    "ExecuteTime": {
     "end_time": "2023-12-08T20:09:46.442677Z",
     "start_time": "2023-12-08T20:09:46.293099Z"
    }
   }
  },
  {
   "cell_type": "code",
   "execution_count": 63,
   "outputs": [],
   "source": [],
   "metadata": {
    "collapsed": false,
    "ExecuteTime": {
     "end_time": "2023-12-08T20:09:47.444873Z",
     "start_time": "2023-12-08T20:09:47.400353Z"
    }
   }
  },
  {
   "cell_type": "code",
   "execution_count": 64,
   "outputs": [
    {
     "data": {
      "text/plain": "[<matplotlib.lines.Line2D at 0x147880d90>]"
     },
     "execution_count": 64,
     "metadata": {},
     "output_type": "execute_result"
    },
    {
     "data": {
      "text/plain": "<Figure size 640x480 with 1 Axes>",
      "image/png": "[encoded data removed]"
     },
     "metadata": {},
     "output_type": "display_data"
    }
   ],
   "source": [
    "plt.plot(df_test_ne['date'], df_test_ne['Predictions'], label='Predictions')"
   ],
   "metadata": {
    "collapsed": false,
    "ExecuteTime": {
     "end_time": "2023-12-08T20:09:53.482502Z",
     "start_time": "2023-12-08T20:09:53.238078Z"
    }
   }
  },
  {
   "cell_type": "code",
   "execution_count": 65,
   "outputs": [
    {
     "data": {
      "text/plain": "0    2020-07-31\n1    2020-08-01\n2    2020-08-02\n3    2020-08-03\n4    2020-08-04\n5    2020-08-05\n6    2020-08-06\n7    2020-08-07\n8    2020-08-08\n9    2020-08-09\n10   2020-08-10\n11   2020-08-11\n12   2020-08-12\n13   2020-08-13\n14   2020-08-14\n15   2020-08-15\n16   2020-08-16\n17   2020-08-17\n18   2020-08-18\n19   2020-08-19\n20   2020-08-20\n21   2020-08-21\n22   2020-08-22\n23   2020-08-23\n24   2020-08-24\n25   2020-08-25\n26   2020-08-26\n27   2020-08-27\n28   2020-08-28\n29   2020-08-29\n30   2020-08-30\n31   2020-08-31\n32   2020-09-01\n33   2020-09-02\n34   2020-09-03\n35   2020-09-04\n36   2020-09-05\n37   2020-09-06\n38   2020-09-07\n39   2020-09-08\n40   2020-09-09\n41   2020-09-10\n42   2020-09-11\n43   2020-09-12\n44   2020-09-13\n45   2020-09-14\n46   2020-09-15\n47   2020-09-16\nName: date, dtype: datetime64[ns]"
     },
     "execution_count": 65,
     "metadata": {},
     "output_type": "execute_result"
    }
   ],
   "source": [
    "df_test_ne['date']"
   ],
   "metadata": {
    "collapsed": false,
    "ExecuteTime": {
     "end_time": "2023-12-08T20:09:54.472638Z",
     "start_time": "2023-12-08T20:09:54.446769Z"
    }
   }
  },
  {
   "cell_type": "code",
   "execution_count": 66,
   "outputs": [
    {
     "data": {
      "text/plain": "0    2920.2549\n1    2702.1520\n2    1704.0214\n3    1666.7940\n4    1416.2418\n5    2209.2942\n6    2587.0754\n7    2927.4321\n8    2709.3291\n9    1711.1985\n10   1673.9711\n11   1423.4189\n12   2216.4714\n13   2594.2526\n14   2934.6092\n15   2716.5063\n16   1718.3756\n17   1681.1483\n18   1430.5961\n19   2223.6485\n20   2601.4297\n21   2941.7864\n22   2723.6834\n23   1725.5528\n24   1688.3254\n25   1437.7732\n26   2230.8257\n27   2608.6069\n28   2948.9635\n29   2730.8605\n30   1732.7299\n31   1695.5026\n32   1444.9504\n33   2238.0028\n34   2615.7840\n35   2956.1407\n36   2738.0377\n37   1739.9071\n38   1702.6797\n39   1452.1275\n40   2245.1799\n41   2622.9612\n42   2963.3178\n43   2745.2148\n44   1747.0842\n45   1709.8569\n46   1459.3047\n47   2252.3571\nName: Predictions, dtype: float64"
     },
     "execution_count": 66,
     "metadata": {},
     "output_type": "execute_result"
    }
   ],
   "source": [
    "df_test_ne.Predictions"
   ],
   "metadata": {
    "collapsed": false,
    "ExecuteTime": {
     "end_time": "2023-12-08T20:09:55.018559Z",
     "start_time": "2023-12-08T20:09:55.002766Z"
    }
   }
  },
  {
   "cell_type": "code",
   "execution_count": null,
   "outputs": [],
   "source": [],
   "metadata": {
    "collapsed": false,
    "ExecuteTime": {
     "end_time": "2023-12-08T19:47:02.517729Z",
     "start_time": "2023-12-08T19:47:02.482934Z"
    }
   }
  }
 ],
 "metadata": {
  "kaggle": {
   "accelerator": "gpu",
   "dataSources": [
    {
     "databundleVersionId": 3935619,
     "sourceId": 34349,
     "sourceType": "competition"
    }
   ],
   "dockerImageVersionId": 30588,
   "isGpuEnabled": true,
   "isInternetEnabled": true,
   "language": "python",
   "sourceType": "notebook"
  },
  "kernelspec": {
   "display_name": "Python 3 (ipykernel)",
   "language": "python",
   "name": "python3"
  },
  "language_info": {
   "codemirror_mode": {
    "name": "ipython",
    "version": 3
   },
   "file_extension": ".py",
   "mimetype": "text/x-python",
   "name": "python",
   "nbconvert_exporter": "python",
   "pygments_lexer": "ipython3",
   "version": "3.9.13"
  }
 },
 "nbformat": 4,
 "nbformat_minor": 4
}
