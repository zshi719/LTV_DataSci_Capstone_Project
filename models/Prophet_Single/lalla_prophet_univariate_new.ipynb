{
 "cells": [
  {
   "cell_type": "code",
   "execution_count": 1,
   "id": "23f4a7d2",
   "metadata": {},
   "outputs": [],
   "source": [
    "import pandas as pd\n",
    "from pandas import DataFrame\n",
    "import numpy as np\n",
    "import matplotlib.pyplot as plt\n",
    "import statsmodels.api as sm\n",
    "from statsmodels.tsa.stattools import adfuller, kpss\n",
    "from statsmodels.graphics import tsaplots\n",
    "from prophet import Prophet\n",
    "from sklearn.metrics import mean_absolute_error, mean_squared_error\n",
    "from sklearn.model_selection import ParameterGrid\n",
    "import random"
   ]
  },
  {
   "cell_type": "code",
   "execution_count": 2,
   "id": "856c0d6a",
   "metadata": {},
   "outputs": [],
   "source": [
    "ne_train = pd.read_csv(\"ne_train.csv\")\n",
    "south_train = pd.read_csv('south_train.csv')\n",
    "\n",
    "ne_test = pd.read_csv(\"ne_test.csv\")\n",
    "south_test = pd.read_csv('s_test.csv')"
   ]
  },
  {
   "cell_type": "code",
   "execution_count": 4,
   "id": "b368e4cf",
   "metadata": {
    "scrolled": true
   },
   "outputs": [],
   "source": [
    "columns = ['date', 'covid_19_confirmed_cases']\n",
    "columns2 = ['date', 'confirmed']\n",
    "ne_train = ne_train[columns]\n",
    "ne_test = ne_test[columns2]\n",
    "\n",
    "columns = ['date', 'covid_19_confirmed_cases']\n",
    "columns2 = ['date', 'confirmed']\n",
    "south_train = south_train[columns]\n",
    "south_test = south_test[columns]"
   ]
  },
  {
   "cell_type": "code",
   "execution_count": 5,
   "id": "2f5cd1d6",
   "metadata": {
    "scrolled": false
   },
   "outputs": [],
   "source": [
    "rename_mapping = {\n",
    "    'date': 'ds',\n",
    "    'covid_19_confirmed_cases': 'y',\n",
    "}\n",
    "\n",
    "ne_train.rename(columns=rename_mapping, inplace=True)\n",
    "\n",
    "south_train.rename(columns=rename_mapping, inplace=True)"
   ]
  },
  {
   "cell_type": "code",
   "execution_count": 23,
   "id": "20c449df",
   "metadata": {},
   "outputs": [
    {
     "name": "stderr",
     "output_type": "stream",
     "text": [
      "/var/folders/g7/jzp2y_x97yd3w1yf2x3s7wjc0000gn/T/ipykernel_51333/4162089809.py:7: SettingWithCopyWarning: \n",
      "A value is trying to be set on a copy of a slice from a DataFrame\n",
      "\n",
      "See the caveats in the documentation: https://pandas.pydata.org/pandas-docs/stable/user_guide/indexing.html#returning-a-view-versus-a-copy\n",
      "  south_test.rename(columns=rename_mapping, inplace=True)\n"
     ]
    }
   ],
   "source": [
    "rename_mapping = {\n",
    "    'date': 'ds',\n",
    "    'confirmed': 'y',\n",
    "}\n",
    "ne_test.rename(columns=rename_mapping, inplace=True)\n",
    "\n",
    "south_test.rename(columns=rename_mapping, inplace=True)"
   ]
  },
  {
   "cell_type": "markdown",
   "id": "54680338",
   "metadata": {},
   "source": [
    "## Model - NE\n"
   ]
  },
  {
   "cell_type": "markdown",
   "id": "3545a51c",
   "metadata": {},
   "source": [
    "### Prophet model tuning"
   ]
  },
  {
   "cell_type": "code",
   "execution_count": 7,
   "id": "7225d326",
   "metadata": {},
   "outputs": [],
   "source": [
    "params_grid = {'seasonality_mode':('multiplicative','additive'),\n",
    "               'changepoint_prior_scale':[0.1,0.15,0.2,0.25],\n",
    "              'n_changepoints' : [100,150,200]}\n",
    "grid = ParameterGrid(params_grid)"
   ]
  },
  {
   "cell_type": "code",
   "execution_count": 29,
   "id": "ae6062fb",
   "metadata": {},
   "outputs": [],
   "source": [
    "end_date = '2020-7-30'\n",
    "part1 = (ne_train['ds'] <= end_date)\n",
    "part2 = (ne_train['ds'] > end_date)\n",
    "\n",
    "X_train = ne_train.loc[part1]"
   ]
  },
  {
   "cell_type": "code",
   "execution_count": 36,
   "id": "f983a1f9",
   "metadata": {},
   "outputs": [],
   "source": [
    "start='2020-01-22'\n",
    "end='2020-07-30'"
   ]
  },
  {
   "cell_type": "code",
   "execution_count": 41,
   "id": "9163df7a",
   "metadata": {},
   "outputs": [
    {
     "name": "stderr",
     "output_type": "stream",
     "text": [
      "20:47:30 - cmdstanpy - INFO - Chain [1] start processing\n"
     ]
    },
    {
     "name": "stdout",
     "output_type": "stream",
     "text": [
      "{'changepoint_prior_scale': 0.1, 'holidays_prior_scale': 0.1, 'n_changepoints': 100, 'seasonality_mode': 'multiplicative'}\n"
     ]
    },
    {
     "name": "stderr",
     "output_type": "stream",
     "text": [
      "20:47:31 - cmdstanpy - INFO - Chain [1] done processing\n"
     ]
    },
    {
     "name": "stdout",
     "output_type": "stream",
     "text": [
      "Mean Absolute Error(MAE)------------------------------------ 4023.9511626033304\n"
     ]
    },
    {
     "name": "stderr",
     "output_type": "stream",
     "text": [
      "/var/folders/g7/jzp2y_x97yd3w1yf2x3s7wjc0000gn/T/ipykernel_16775/3669130598.py:21: FutureWarning: The frame.append method is deprecated and will be removed from pandas in a future version. Use pandas.concat instead.\n",
      "  model_parameters = model_parameters.append({'MAE':MAE,'Parameters':p},ignore_index=True)\n",
      "20:47:32 - cmdstanpy - INFO - Chain [1] start processing\n",
      "20:47:32 - cmdstanpy - INFO - Chain [1] done processing\n"
     ]
    },
    {
     "name": "stdout",
     "output_type": "stream",
     "text": [
      "{'changepoint_prior_scale': 0.1, 'holidays_prior_scale': 0.1, 'n_changepoints': 100, 'seasonality_mode': 'additive'}\n",
      "Mean Absolute Error(MAE)------------------------------------ 4898.094436749159\n"
     ]
    },
    {
     "name": "stderr",
     "output_type": "stream",
     "text": [
      "/var/folders/g7/jzp2y_x97yd3w1yf2x3s7wjc0000gn/T/ipykernel_16775/3669130598.py:21: FutureWarning: The frame.append method is deprecated and will be removed from pandas in a future version. Use pandas.concat instead.\n",
      "  model_parameters = model_parameters.append({'MAE':MAE,'Parameters':p},ignore_index=True)\n",
      "20:47:32 - cmdstanpy - INFO - Chain [1] start processing\n"
     ]
    },
    {
     "name": "stdout",
     "output_type": "stream",
     "text": [
      "{'changepoint_prior_scale': 0.1, 'holidays_prior_scale': 0.1, 'n_changepoints': 150, 'seasonality_mode': 'multiplicative'}\n"
     ]
    },
    {
     "name": "stderr",
     "output_type": "stream",
     "text": [
      "20:47:33 - cmdstanpy - INFO - Chain [1] done processing\n",
      "/var/folders/g7/jzp2y_x97yd3w1yf2x3s7wjc0000gn/T/ipykernel_16775/3669130598.py:21: FutureWarning: The frame.append method is deprecated and will be removed from pandas in a future version. Use pandas.concat instead.\n",
      "  model_parameters = model_parameters.append({'MAE':MAE,'Parameters':p},ignore_index=True)\n",
      "20:47:33 - cmdstanpy - INFO - Chain [1] start processing\n",
      "20:47:33 - cmdstanpy - INFO - Chain [1] done processing\n"
     ]
    },
    {
     "name": "stdout",
     "output_type": "stream",
     "text": [
      "Mean Absolute Error(MAE)------------------------------------ 4019.048777148588\n",
      "{'changepoint_prior_scale': 0.1, 'holidays_prior_scale': 0.1, 'n_changepoints': 150, 'seasonality_mode': 'additive'}\n"
     ]
    },
    {
     "name": "stderr",
     "output_type": "stream",
     "text": [
      "/var/folders/g7/jzp2y_x97yd3w1yf2x3s7wjc0000gn/T/ipykernel_16775/3669130598.py:21: FutureWarning: The frame.append method is deprecated and will be removed from pandas in a future version. Use pandas.concat instead.\n",
      "  model_parameters = model_parameters.append({'MAE':MAE,'Parameters':p},ignore_index=True)\n",
      "20:47:33 - cmdstanpy - INFO - Chain [1] start processing\n"
     ]
    },
    {
     "name": "stdout",
     "output_type": "stream",
     "text": [
      "Mean Absolute Error(MAE)------------------------------------ 5067.851565070377\n",
      "{'changepoint_prior_scale': 0.1, 'holidays_prior_scale': 0.1, 'n_changepoints': 200, 'seasonality_mode': 'multiplicative'}\n"
     ]
    },
    {
     "name": "stderr",
     "output_type": "stream",
     "text": [
      "20:47:34 - cmdstanpy - INFO - Chain [1] done processing\n",
      "/var/folders/g7/jzp2y_x97yd3w1yf2x3s7wjc0000gn/T/ipykernel_16775/3669130598.py:21: FutureWarning: The frame.append method is deprecated and will be removed from pandas in a future version. Use pandas.concat instead.\n",
      "  model_parameters = model_parameters.append({'MAE':MAE,'Parameters':p},ignore_index=True)\n",
      "20:47:34 - cmdstanpy - INFO - Chain [1] start processing\n",
      "20:47:34 - cmdstanpy - INFO - Chain [1] done processing\n"
     ]
    },
    {
     "name": "stdout",
     "output_type": "stream",
     "text": [
      "Mean Absolute Error(MAE)------------------------------------ 3979.3790938974917\n",
      "{'changepoint_prior_scale': 0.1, 'holidays_prior_scale': 0.1, 'n_changepoints': 200, 'seasonality_mode': 'additive'}\n"
     ]
    },
    {
     "name": "stderr",
     "output_type": "stream",
     "text": [
      "/var/folders/g7/jzp2y_x97yd3w1yf2x3s7wjc0000gn/T/ipykernel_16775/3669130598.py:21: FutureWarning: The frame.append method is deprecated and will be removed from pandas in a future version. Use pandas.concat instead.\n",
      "  model_parameters = model_parameters.append({'MAE':MAE,'Parameters':p},ignore_index=True)\n",
      "20:47:35 - cmdstanpy - INFO - Chain [1] start processing\n"
     ]
    },
    {
     "name": "stdout",
     "output_type": "stream",
     "text": [
      "Mean Absolute Error(MAE)------------------------------------ 4871.173563439349\n",
      "{'changepoint_prior_scale': 0.1, 'holidays_prior_scale': 0.15, 'n_changepoints': 100, 'seasonality_mode': 'multiplicative'}\n"
     ]
    },
    {
     "name": "stderr",
     "output_type": "stream",
     "text": [
      "20:47:35 - cmdstanpy - INFO - Chain [1] done processing\n",
      "/var/folders/g7/jzp2y_x97yd3w1yf2x3s7wjc0000gn/T/ipykernel_16775/3669130598.py:21: FutureWarning: The frame.append method is deprecated and will be removed from pandas in a future version. Use pandas.concat instead.\n",
      "  model_parameters = model_parameters.append({'MAE':MAE,'Parameters':p},ignore_index=True)\n",
      "20:47:35 - cmdstanpy - INFO - Chain [1] start processing\n",
      "20:47:35 - cmdstanpy - INFO - Chain [1] done processing\n"
     ]
    },
    {
     "name": "stdout",
     "output_type": "stream",
     "text": [
      "Mean Absolute Error(MAE)------------------------------------ 4023.9511626033304\n",
      "{'changepoint_prior_scale': 0.1, 'holidays_prior_scale': 0.15, 'n_changepoints': 100, 'seasonality_mode': 'additive'}\n",
      "Mean Absolute Error(MAE)------------------------------------ 4898.094436749159\n"
     ]
    },
    {
     "name": "stderr",
     "output_type": "stream",
     "text": [
      "/var/folders/g7/jzp2y_x97yd3w1yf2x3s7wjc0000gn/T/ipykernel_16775/3669130598.py:21: FutureWarning: The frame.append method is deprecated and will be removed from pandas in a future version. Use pandas.concat instead.\n",
      "  model_parameters = model_parameters.append({'MAE':MAE,'Parameters':p},ignore_index=True)\n",
      "20:47:35 - cmdstanpy - INFO - Chain [1] start processing\n"
     ]
    },
    {
     "name": "stdout",
     "output_type": "stream",
     "text": [
      "{'changepoint_prior_scale': 0.1, 'holidays_prior_scale': 0.15, 'n_changepoints': 150, 'seasonality_mode': 'multiplicative'}\n"
     ]
    },
    {
     "name": "stderr",
     "output_type": "stream",
     "text": [
      "20:47:36 - cmdstanpy - INFO - Chain [1] done processing\n",
      "/var/folders/g7/jzp2y_x97yd3w1yf2x3s7wjc0000gn/T/ipykernel_16775/3669130598.py:21: FutureWarning: The frame.append method is deprecated and will be removed from pandas in a future version. Use pandas.concat instead.\n",
      "  model_parameters = model_parameters.append({'MAE':MAE,'Parameters':p},ignore_index=True)\n",
      "20:47:36 - cmdstanpy - INFO - Chain [1] start processing\n",
      "20:47:36 - cmdstanpy - INFO - Chain [1] done processing\n"
     ]
    },
    {
     "name": "stdout",
     "output_type": "stream",
     "text": [
      "Mean Absolute Error(MAE)------------------------------------ 4019.048777148588\n",
      "{'changepoint_prior_scale': 0.1, 'holidays_prior_scale': 0.15, 'n_changepoints': 150, 'seasonality_mode': 'additive'}\n"
     ]
    },
    {
     "name": "stderr",
     "output_type": "stream",
     "text": [
      "/var/folders/g7/jzp2y_x97yd3w1yf2x3s7wjc0000gn/T/ipykernel_16775/3669130598.py:21: FutureWarning: The frame.append method is deprecated and will be removed from pandas in a future version. Use pandas.concat instead.\n",
      "  model_parameters = model_parameters.append({'MAE':MAE,'Parameters':p},ignore_index=True)\n",
      "20:47:36 - cmdstanpy - INFO - Chain [1] start processing\n"
     ]
    },
    {
     "name": "stdout",
     "output_type": "stream",
     "text": [
      "Mean Absolute Error(MAE)------------------------------------ 5067.851565070377\n",
      "{'changepoint_prior_scale': 0.1, 'holidays_prior_scale': 0.15, 'n_changepoints': 200, 'seasonality_mode': 'multiplicative'}\n"
     ]
    },
    {
     "name": "stderr",
     "output_type": "stream",
     "text": [
      "20:47:37 - cmdstanpy - INFO - Chain [1] done processing\n",
      "/var/folders/g7/jzp2y_x97yd3w1yf2x3s7wjc0000gn/T/ipykernel_16775/3669130598.py:21: FutureWarning: The frame.append method is deprecated and will be removed from pandas in a future version. Use pandas.concat instead.\n",
      "  model_parameters = model_parameters.append({'MAE':MAE,'Parameters':p},ignore_index=True)\n",
      "20:47:37 - cmdstanpy - INFO - Chain [1] start processing\n",
      "20:47:37 - cmdstanpy - INFO - Chain [1] done processing\n"
     ]
    },
    {
     "name": "stdout",
     "output_type": "stream",
     "text": [
      "Mean Absolute Error(MAE)------------------------------------ 3979.3790938974917\n",
      "{'changepoint_prior_scale': 0.1, 'holidays_prior_scale': 0.15, 'n_changepoints': 200, 'seasonality_mode': 'additive'}\n"
     ]
    },
    {
     "name": "stderr",
     "output_type": "stream",
     "text": [
      "/var/folders/g7/jzp2y_x97yd3w1yf2x3s7wjc0000gn/T/ipykernel_16775/3669130598.py:21: FutureWarning: The frame.append method is deprecated and will be removed from pandas in a future version. Use pandas.concat instead.\n",
      "  model_parameters = model_parameters.append({'MAE':MAE,'Parameters':p},ignore_index=True)\n",
      "20:47:38 - cmdstanpy - INFO - Chain [1] start processing\n"
     ]
    },
    {
     "name": "stdout",
     "output_type": "stream",
     "text": [
      "Mean Absolute Error(MAE)------------------------------------ 4871.173563439349\n",
      "{'changepoint_prior_scale': 0.1, 'holidays_prior_scale': 0.2, 'n_changepoints': 100, 'seasonality_mode': 'multiplicative'}\n"
     ]
    },
    {
     "name": "stderr",
     "output_type": "stream",
     "text": [
      "20:47:38 - cmdstanpy - INFO - Chain [1] done processing\n",
      "/var/folders/g7/jzp2y_x97yd3w1yf2x3s7wjc0000gn/T/ipykernel_16775/3669130598.py:21: FutureWarning: The frame.append method is deprecated and will be removed from pandas in a future version. Use pandas.concat instead.\n",
      "  model_parameters = model_parameters.append({'MAE':MAE,'Parameters':p},ignore_index=True)\n",
      "20:47:38 - cmdstanpy - INFO - Chain [1] start processing\n",
      "20:47:38 - cmdstanpy - INFO - Chain [1] done processing\n"
     ]
    },
    {
     "name": "stdout",
     "output_type": "stream",
     "text": [
      "Mean Absolute Error(MAE)------------------------------------ 4023.9511626033304\n",
      "{'changepoint_prior_scale': 0.1, 'holidays_prior_scale': 0.2, 'n_changepoints': 100, 'seasonality_mode': 'additive'}\n"
     ]
    },
    {
     "name": "stderr",
     "output_type": "stream",
     "text": [
      "/var/folders/g7/jzp2y_x97yd3w1yf2x3s7wjc0000gn/T/ipykernel_16775/3669130598.py:21: FutureWarning: The frame.append method is deprecated and will be removed from pandas in a future version. Use pandas.concat instead.\n",
      "  model_parameters = model_parameters.append({'MAE':MAE,'Parameters':p},ignore_index=True)\n",
      "20:47:38 - cmdstanpy - INFO - Chain [1] start processing\n"
     ]
    },
    {
     "name": "stdout",
     "output_type": "stream",
     "text": [
      "Mean Absolute Error(MAE)------------------------------------ 4898.094436749159\n",
      "{'changepoint_prior_scale': 0.1, 'holidays_prior_scale': 0.2, 'n_changepoints': 150, 'seasonality_mode': 'multiplicative'}\n"
     ]
    },
    {
     "name": "stderr",
     "output_type": "stream",
     "text": [
      "20:47:39 - cmdstanpy - INFO - Chain [1] done processing\n",
      "/var/folders/g7/jzp2y_x97yd3w1yf2x3s7wjc0000gn/T/ipykernel_16775/3669130598.py:21: FutureWarning: The frame.append method is deprecated and will be removed from pandas in a future version. Use pandas.concat instead.\n",
      "  model_parameters = model_parameters.append({'MAE':MAE,'Parameters':p},ignore_index=True)\n",
      "20:47:39 - cmdstanpy - INFO - Chain [1] start processing\n",
      "20:47:39 - cmdstanpy - INFO - Chain [1] done processing\n"
     ]
    },
    {
     "name": "stdout",
     "output_type": "stream",
     "text": [
      "Mean Absolute Error(MAE)------------------------------------ 4019.048777148588\n",
      "{'changepoint_prior_scale': 0.1, 'holidays_prior_scale': 0.2, 'n_changepoints': 150, 'seasonality_mode': 'additive'}\n",
      "Mean Absolute Error(MAE)------------------------------------ 5067.851565070377\n"
     ]
    },
    {
     "name": "stderr",
     "output_type": "stream",
     "text": [
      "/var/folders/g7/jzp2y_x97yd3w1yf2x3s7wjc0000gn/T/ipykernel_16775/3669130598.py:21: FutureWarning: The frame.append method is deprecated and will be removed from pandas in a future version. Use pandas.concat instead.\n",
      "  model_parameters = model_parameters.append({'MAE':MAE,'Parameters':p},ignore_index=True)\n",
      "20:47:39 - cmdstanpy - INFO - Chain [1] start processing\n"
     ]
    },
    {
     "name": "stdout",
     "output_type": "stream",
     "text": [
      "{'changepoint_prior_scale': 0.1, 'holidays_prior_scale': 0.2, 'n_changepoints': 200, 'seasonality_mode': 'multiplicative'}\n"
     ]
    },
    {
     "name": "stderr",
     "output_type": "stream",
     "text": [
      "20:47:40 - cmdstanpy - INFO - Chain [1] done processing\n",
      "/var/folders/g7/jzp2y_x97yd3w1yf2x3s7wjc0000gn/T/ipykernel_16775/3669130598.py:21: FutureWarning: The frame.append method is deprecated and will be removed from pandas in a future version. Use pandas.concat instead.\n",
      "  model_parameters = model_parameters.append({'MAE':MAE,'Parameters':p},ignore_index=True)\n",
      "20:47:40 - cmdstanpy - INFO - Chain [1] start processing\n",
      "20:47:40 - cmdstanpy - INFO - Chain [1] done processing\n"
     ]
    },
    {
     "name": "stdout",
     "output_type": "stream",
     "text": [
      "Mean Absolute Error(MAE)------------------------------------ 3979.3790938974917\n",
      "{'changepoint_prior_scale': 0.1, 'holidays_prior_scale': 0.2, 'n_changepoints': 200, 'seasonality_mode': 'additive'}\n"
     ]
    },
    {
     "name": "stderr",
     "output_type": "stream",
     "text": [
      "/var/folders/g7/jzp2y_x97yd3w1yf2x3s7wjc0000gn/T/ipykernel_16775/3669130598.py:21: FutureWarning: The frame.append method is deprecated and will be removed from pandas in a future version. Use pandas.concat instead.\n",
      "  model_parameters = model_parameters.append({'MAE':MAE,'Parameters':p},ignore_index=True)\n",
      "20:47:41 - cmdstanpy - INFO - Chain [1] start processing\n"
     ]
    },
    {
     "name": "stdout",
     "output_type": "stream",
     "text": [
      "Mean Absolute Error(MAE)------------------------------------ 4871.173563439349\n",
      "{'changepoint_prior_scale': 0.1, 'holidays_prior_scale': 0.24, 'n_changepoints': 100, 'seasonality_mode': 'multiplicative'}\n"
     ]
    },
    {
     "name": "stderr",
     "output_type": "stream",
     "text": [
      "20:47:41 - cmdstanpy - INFO - Chain [1] done processing\n",
      "/var/folders/g7/jzp2y_x97yd3w1yf2x3s7wjc0000gn/T/ipykernel_16775/3669130598.py:21: FutureWarning: The frame.append method is deprecated and will be removed from pandas in a future version. Use pandas.concat instead.\n",
      "  model_parameters = model_parameters.append({'MAE':MAE,'Parameters':p},ignore_index=True)\n",
      "20:47:41 - cmdstanpy - INFO - Chain [1] start processing\n",
      "20:47:41 - cmdstanpy - INFO - Chain [1] done processing\n"
     ]
    },
    {
     "name": "stdout",
     "output_type": "stream",
     "text": [
      "Mean Absolute Error(MAE)------------------------------------ 4023.9511626033304\n",
      "{'changepoint_prior_scale': 0.1, 'holidays_prior_scale': 0.24, 'n_changepoints': 100, 'seasonality_mode': 'additive'}\n",
      "Mean Absolute Error(MAE)------------------------------------ 4898.094436749159\n"
     ]
    },
    {
     "name": "stderr",
     "output_type": "stream",
     "text": [
      "/var/folders/g7/jzp2y_x97yd3w1yf2x3s7wjc0000gn/T/ipykernel_16775/3669130598.py:21: FutureWarning: The frame.append method is deprecated and will be removed from pandas in a future version. Use pandas.concat instead.\n",
      "  model_parameters = model_parameters.append({'MAE':MAE,'Parameters':p},ignore_index=True)\n",
      "20:47:41 - cmdstanpy - INFO - Chain [1] start processing\n"
     ]
    },
    {
     "name": "stdout",
     "output_type": "stream",
     "text": [
      "{'changepoint_prior_scale': 0.1, 'holidays_prior_scale': 0.24, 'n_changepoints': 150, 'seasonality_mode': 'multiplicative'}\n"
     ]
    },
    {
     "name": "stderr",
     "output_type": "stream",
     "text": [
      "20:47:42 - cmdstanpy - INFO - Chain [1] done processing\n",
      "/var/folders/g7/jzp2y_x97yd3w1yf2x3s7wjc0000gn/T/ipykernel_16775/3669130598.py:21: FutureWarning: The frame.append method is deprecated and will be removed from pandas in a future version. Use pandas.concat instead.\n",
      "  model_parameters = model_parameters.append({'MAE':MAE,'Parameters':p},ignore_index=True)\n",
      "20:47:42 - cmdstanpy - INFO - Chain [1] start processing\n",
      "20:47:42 - cmdstanpy - INFO - Chain [1] done processing\n"
     ]
    },
    {
     "name": "stdout",
     "output_type": "stream",
     "text": [
      "Mean Absolute Error(MAE)------------------------------------ 4019.048777148588\n",
      "{'changepoint_prior_scale': 0.1, 'holidays_prior_scale': 0.24, 'n_changepoints': 150, 'seasonality_mode': 'additive'}\n",
      "Mean Absolute Error(MAE)------------------------------------ 5067.851565070377\n"
     ]
    },
    {
     "name": "stderr",
     "output_type": "stream",
     "text": [
      "/var/folders/g7/jzp2y_x97yd3w1yf2x3s7wjc0000gn/T/ipykernel_16775/3669130598.py:21: FutureWarning: The frame.append method is deprecated and will be removed from pandas in a future version. Use pandas.concat instead.\n",
      "  model_parameters = model_parameters.append({'MAE':MAE,'Parameters':p},ignore_index=True)\n",
      "20:47:42 - cmdstanpy - INFO - Chain [1] start processing\n"
     ]
    },
    {
     "name": "stdout",
     "output_type": "stream",
     "text": [
      "{'changepoint_prior_scale': 0.1, 'holidays_prior_scale': 0.24, 'n_changepoints': 200, 'seasonality_mode': 'multiplicative'}\n"
     ]
    },
    {
     "name": "stderr",
     "output_type": "stream",
     "text": [
      "20:47:43 - cmdstanpy - INFO - Chain [1] done processing\n",
      "/var/folders/g7/jzp2y_x97yd3w1yf2x3s7wjc0000gn/T/ipykernel_16775/3669130598.py:21: FutureWarning: The frame.append method is deprecated and will be removed from pandas in a future version. Use pandas.concat instead.\n",
      "  model_parameters = model_parameters.append({'MAE':MAE,'Parameters':p},ignore_index=True)\n",
      "20:47:43 - cmdstanpy - INFO - Chain [1] start processing\n",
      "20:47:43 - cmdstanpy - INFO - Chain [1] done processing\n"
     ]
    },
    {
     "name": "stdout",
     "output_type": "stream",
     "text": [
      "Mean Absolute Error(MAE)------------------------------------ 3979.3790938974917\n",
      "{'changepoint_prior_scale': 0.1, 'holidays_prior_scale': 0.24, 'n_changepoints': 200, 'seasonality_mode': 'additive'}\n"
     ]
    },
    {
     "name": "stderr",
     "output_type": "stream",
     "text": [
      "/var/folders/g7/jzp2y_x97yd3w1yf2x3s7wjc0000gn/T/ipykernel_16775/3669130598.py:21: FutureWarning: The frame.append method is deprecated and will be removed from pandas in a future version. Use pandas.concat instead.\n",
      "  model_parameters = model_parameters.append({'MAE':MAE,'Parameters':p},ignore_index=True)\n",
      "20:47:44 - cmdstanpy - INFO - Chain [1] start processing\n"
     ]
    },
    {
     "name": "stdout",
     "output_type": "stream",
     "text": [
      "Mean Absolute Error(MAE)------------------------------------ 4871.173563439349\n",
      "{'changepoint_prior_scale': 0.15, 'holidays_prior_scale': 0.1, 'n_changepoints': 100, 'seasonality_mode': 'multiplicative'}\n"
     ]
    },
    {
     "name": "stderr",
     "output_type": "stream",
     "text": [
      "20:47:44 - cmdstanpy - INFO - Chain [1] done processing\n",
      "/var/folders/g7/jzp2y_x97yd3w1yf2x3s7wjc0000gn/T/ipykernel_16775/3669130598.py:21: FutureWarning: The frame.append method is deprecated and will be removed from pandas in a future version. Use pandas.concat instead.\n",
      "  model_parameters = model_parameters.append({'MAE':MAE,'Parameters':p},ignore_index=True)\n",
      "20:47:44 - cmdstanpy - INFO - Chain [1] start processing\n",
      "20:47:44 - cmdstanpy - INFO - Chain [1] done processing\n"
     ]
    },
    {
     "name": "stdout",
     "output_type": "stream",
     "text": [
      "Mean Absolute Error(MAE)------------------------------------ 4004.8255288619666\n",
      "{'changepoint_prior_scale': 0.15, 'holidays_prior_scale': 0.1, 'n_changepoints': 100, 'seasonality_mode': 'additive'}\n",
      "Mean Absolute Error(MAE)------------------------------------ 4942.852224640085\n"
     ]
    },
    {
     "name": "stderr",
     "output_type": "stream",
     "text": [
      "/var/folders/g7/jzp2y_x97yd3w1yf2x3s7wjc0000gn/T/ipykernel_16775/3669130598.py:21: FutureWarning: The frame.append method is deprecated and will be removed from pandas in a future version. Use pandas.concat instead.\n",
      "  model_parameters = model_parameters.append({'MAE':MAE,'Parameters':p},ignore_index=True)\n",
      "20:47:45 - cmdstanpy - INFO - Chain [1] start processing\n"
     ]
    },
    {
     "name": "stdout",
     "output_type": "stream",
     "text": [
      "{'changepoint_prior_scale': 0.15, 'holidays_prior_scale': 0.1, 'n_changepoints': 150, 'seasonality_mode': 'multiplicative'}\n"
     ]
    },
    {
     "name": "stderr",
     "output_type": "stream",
     "text": [
      "20:47:45 - cmdstanpy - INFO - Chain [1] done processing\n",
      "/var/folders/g7/jzp2y_x97yd3w1yf2x3s7wjc0000gn/T/ipykernel_16775/3669130598.py:21: FutureWarning: The frame.append method is deprecated and will be removed from pandas in a future version. Use pandas.concat instead.\n",
      "  model_parameters = model_parameters.append({'MAE':MAE,'Parameters':p},ignore_index=True)\n",
      "20:47:46 - cmdstanpy - INFO - Chain [1] start processing\n",
      "20:47:46 - cmdstanpy - INFO - Chain [1] done processing\n"
     ]
    },
    {
     "name": "stdout",
     "output_type": "stream",
     "text": [
      "Mean Absolute Error(MAE)------------------------------------ 4020.379389378024\n",
      "{'changepoint_prior_scale': 0.15, 'holidays_prior_scale': 0.1, 'n_changepoints': 150, 'seasonality_mode': 'additive'}\n",
      "Mean Absolute Error(MAE)------------------------------------ 4950.5328505288135\n",
      "{'changepoint_prior_scale': 0.15, 'holidays_prior_scale': 0.1, 'n_changepoints': 200, 'seasonality_mode': 'multiplicative'}\n"
     ]
    },
    {
     "name": "stderr",
     "output_type": "stream",
     "text": [
      "/var/folders/g7/jzp2y_x97yd3w1yf2x3s7wjc0000gn/T/ipykernel_16775/3669130598.py:21: FutureWarning: The frame.append method is deprecated and will be removed from pandas in a future version. Use pandas.concat instead.\n",
      "  model_parameters = model_parameters.append({'MAE':MAE,'Parameters':p},ignore_index=True)\n",
      "20:47:46 - cmdstanpy - INFO - Chain [1] start processing\n",
      "20:47:46 - cmdstanpy - INFO - Chain [1] done processing\n",
      "/var/folders/g7/jzp2y_x97yd3w1yf2x3s7wjc0000gn/T/ipykernel_16775/3669130598.py:21: FutureWarning: The frame.append method is deprecated and will be removed from pandas in a future version. Use pandas.concat instead.\n",
      "  model_parameters = model_parameters.append({'MAE':MAE,'Parameters':p},ignore_index=True)\n",
      "20:47:47 - cmdstanpy - INFO - Chain [1] start processing\n",
      "20:47:47 - cmdstanpy - INFO - Chain [1] done processing\n"
     ]
    },
    {
     "name": "stdout",
     "output_type": "stream",
     "text": [
      "Mean Absolute Error(MAE)------------------------------------ 3997.982392301496\n",
      "{'changepoint_prior_scale': 0.15, 'holidays_prior_scale': 0.1, 'n_changepoints': 200, 'seasonality_mode': 'additive'}\n"
     ]
    },
    {
     "name": "stderr",
     "output_type": "stream",
     "text": [
      "/var/folders/g7/jzp2y_x97yd3w1yf2x3s7wjc0000gn/T/ipykernel_16775/3669130598.py:21: FutureWarning: The frame.append method is deprecated and will be removed from pandas in a future version. Use pandas.concat instead.\n",
      "  model_parameters = model_parameters.append({'MAE':MAE,'Parameters':p},ignore_index=True)\n",
      "20:47:47 - cmdstanpy - INFO - Chain [1] start processing\n"
     ]
    },
    {
     "name": "stdout",
     "output_type": "stream",
     "text": [
      "Mean Absolute Error(MAE)------------------------------------ 4921.447414753172\n",
      "{'changepoint_prior_scale': 0.15, 'holidays_prior_scale': 0.15, 'n_changepoints': 100, 'seasonality_mode': 'multiplicative'}\n"
     ]
    },
    {
     "name": "stderr",
     "output_type": "stream",
     "text": [
      "20:47:47 - cmdstanpy - INFO - Chain [1] done processing\n",
      "/var/folders/g7/jzp2y_x97yd3w1yf2x3s7wjc0000gn/T/ipykernel_16775/3669130598.py:21: FutureWarning: The frame.append method is deprecated and will be removed from pandas in a future version. Use pandas.concat instead.\n",
      "  model_parameters = model_parameters.append({'MAE':MAE,'Parameters':p},ignore_index=True)\n",
      "20:47:48 - cmdstanpy - INFO - Chain [1] start processing\n",
      "20:47:48 - cmdstanpy - INFO - Chain [1] done processing\n"
     ]
    },
    {
     "name": "stdout",
     "output_type": "stream",
     "text": [
      "Mean Absolute Error(MAE)------------------------------------ 4004.8255288619666\n",
      "{'changepoint_prior_scale': 0.15, 'holidays_prior_scale': 0.15, 'n_changepoints': 100, 'seasonality_mode': 'additive'}\n",
      "Mean Absolute Error(MAE)------------------------------------ 4942.852224640085\n"
     ]
    },
    {
     "name": "stderr",
     "output_type": "stream",
     "text": [
      "/var/folders/g7/jzp2y_x97yd3w1yf2x3s7wjc0000gn/T/ipykernel_16775/3669130598.py:21: FutureWarning: The frame.append method is deprecated and will be removed from pandas in a future version. Use pandas.concat instead.\n",
      "  model_parameters = model_parameters.append({'MAE':MAE,'Parameters':p},ignore_index=True)\n",
      "20:47:48 - cmdstanpy - INFO - Chain [1] start processing\n"
     ]
    },
    {
     "name": "stdout",
     "output_type": "stream",
     "text": [
      "{'changepoint_prior_scale': 0.15, 'holidays_prior_scale': 0.15, 'n_changepoints': 150, 'seasonality_mode': 'multiplicative'}\n"
     ]
    },
    {
     "name": "stderr",
     "output_type": "stream",
     "text": [
      "20:47:49 - cmdstanpy - INFO - Chain [1] done processing\n",
      "/var/folders/g7/jzp2y_x97yd3w1yf2x3s7wjc0000gn/T/ipykernel_16775/3669130598.py:21: FutureWarning: The frame.append method is deprecated and will be removed from pandas in a future version. Use pandas.concat instead.\n",
      "  model_parameters = model_parameters.append({'MAE':MAE,'Parameters':p},ignore_index=True)\n",
      "20:47:49 - cmdstanpy - INFO - Chain [1] start processing\n",
      "20:47:49 - cmdstanpy - INFO - Chain [1] done processing\n"
     ]
    },
    {
     "name": "stdout",
     "output_type": "stream",
     "text": [
      "Mean Absolute Error(MAE)------------------------------------ 4020.379389378024\n",
      "{'changepoint_prior_scale': 0.15, 'holidays_prior_scale': 0.15, 'n_changepoints': 150, 'seasonality_mode': 'additive'}\n",
      "Mean Absolute Error(MAE)------------------------------------ 4950.5328505288135\n"
     ]
    },
    {
     "name": "stderr",
     "output_type": "stream",
     "text": [
      "/var/folders/g7/jzp2y_x97yd3w1yf2x3s7wjc0000gn/T/ipykernel_16775/3669130598.py:21: FutureWarning: The frame.append method is deprecated and will be removed from pandas in a future version. Use pandas.concat instead.\n",
      "  model_parameters = model_parameters.append({'MAE':MAE,'Parameters':p},ignore_index=True)\n",
      "20:47:49 - cmdstanpy - INFO - Chain [1] start processing\n"
     ]
    },
    {
     "name": "stdout",
     "output_type": "stream",
     "text": [
      "{'changepoint_prior_scale': 0.15, 'holidays_prior_scale': 0.15, 'n_changepoints': 200, 'seasonality_mode': 'multiplicative'}\n"
     ]
    },
    {
     "name": "stderr",
     "output_type": "stream",
     "text": [
      "20:47:50 - cmdstanpy - INFO - Chain [1] done processing\n",
      "/var/folders/g7/jzp2y_x97yd3w1yf2x3s7wjc0000gn/T/ipykernel_16775/3669130598.py:21: FutureWarning: The frame.append method is deprecated and will be removed from pandas in a future version. Use pandas.concat instead.\n",
      "  model_parameters = model_parameters.append({'MAE':MAE,'Parameters':p},ignore_index=True)\n",
      "20:47:50 - cmdstanpy - INFO - Chain [1] start processing\n",
      "20:47:50 - cmdstanpy - INFO - Chain [1] done processing\n"
     ]
    },
    {
     "name": "stdout",
     "output_type": "stream",
     "text": [
      "Mean Absolute Error(MAE)------------------------------------ 3997.982392301496\n",
      "{'changepoint_prior_scale': 0.15, 'holidays_prior_scale': 0.15, 'n_changepoints': 200, 'seasonality_mode': 'additive'}\n"
     ]
    },
    {
     "name": "stderr",
     "output_type": "stream",
     "text": [
      "/var/folders/g7/jzp2y_x97yd3w1yf2x3s7wjc0000gn/T/ipykernel_16775/3669130598.py:21: FutureWarning: The frame.append method is deprecated and will be removed from pandas in a future version. Use pandas.concat instead.\n",
      "  model_parameters = model_parameters.append({'MAE':MAE,'Parameters':p},ignore_index=True)\n",
      "20:47:50 - cmdstanpy - INFO - Chain [1] start processing\n"
     ]
    },
    {
     "name": "stdout",
     "output_type": "stream",
     "text": [
      "Mean Absolute Error(MAE)------------------------------------ 4921.447414753172\n",
      "{'changepoint_prior_scale': 0.15, 'holidays_prior_scale': 0.2, 'n_changepoints': 100, 'seasonality_mode': 'multiplicative'}\n"
     ]
    },
    {
     "name": "stderr",
     "output_type": "stream",
     "text": [
      "20:47:51 - cmdstanpy - INFO - Chain [1] done processing\n",
      "/var/folders/g7/jzp2y_x97yd3w1yf2x3s7wjc0000gn/T/ipykernel_16775/3669130598.py:21: FutureWarning: The frame.append method is deprecated and will be removed from pandas in a future version. Use pandas.concat instead.\n",
      "  model_parameters = model_parameters.append({'MAE':MAE,'Parameters':p},ignore_index=True)\n",
      "20:47:51 - cmdstanpy - INFO - Chain [1] start processing\n",
      "20:47:51 - cmdstanpy - INFO - Chain [1] done processing\n"
     ]
    },
    {
     "name": "stdout",
     "output_type": "stream",
     "text": [
      "Mean Absolute Error(MAE)------------------------------------ 4004.8255288619666\n",
      "{'changepoint_prior_scale': 0.15, 'holidays_prior_scale': 0.2, 'n_changepoints': 100, 'seasonality_mode': 'additive'}\n",
      "Mean Absolute Error(MAE)------------------------------------ 4942.852224640085\n"
     ]
    },
    {
     "name": "stderr",
     "output_type": "stream",
     "text": [
      "/var/folders/g7/jzp2y_x97yd3w1yf2x3s7wjc0000gn/T/ipykernel_16775/3669130598.py:21: FutureWarning: The frame.append method is deprecated and will be removed from pandas in a future version. Use pandas.concat instead.\n",
      "  model_parameters = model_parameters.append({'MAE':MAE,'Parameters':p},ignore_index=True)\n",
      "20:47:51 - cmdstanpy - INFO - Chain [1] start processing\n"
     ]
    },
    {
     "name": "stdout",
     "output_type": "stream",
     "text": [
      "{'changepoint_prior_scale': 0.15, 'holidays_prior_scale': 0.2, 'n_changepoints': 150, 'seasonality_mode': 'multiplicative'}\n"
     ]
    },
    {
     "name": "stderr",
     "output_type": "stream",
     "text": [
      "20:47:52 - cmdstanpy - INFO - Chain [1] done processing\n",
      "/var/folders/g7/jzp2y_x97yd3w1yf2x3s7wjc0000gn/T/ipykernel_16775/3669130598.py:21: FutureWarning: The frame.append method is deprecated and will be removed from pandas in a future version. Use pandas.concat instead.\n",
      "  model_parameters = model_parameters.append({'MAE':MAE,'Parameters':p},ignore_index=True)\n",
      "20:47:52 - cmdstanpy - INFO - Chain [1] start processing\n",
      "20:47:52 - cmdstanpy - INFO - Chain [1] done processing\n"
     ]
    },
    {
     "name": "stdout",
     "output_type": "stream",
     "text": [
      "Mean Absolute Error(MAE)------------------------------------ 4020.379389378024\n",
      "{'changepoint_prior_scale': 0.15, 'holidays_prior_scale': 0.2, 'n_changepoints': 150, 'seasonality_mode': 'additive'}\n",
      "Mean Absolute Error(MAE)------------------------------------ 4950.5328505288135\n"
     ]
    },
    {
     "name": "stderr",
     "output_type": "stream",
     "text": [
      "/var/folders/g7/jzp2y_x97yd3w1yf2x3s7wjc0000gn/T/ipykernel_16775/3669130598.py:21: FutureWarning: The frame.append method is deprecated and will be removed from pandas in a future version. Use pandas.concat instead.\n",
      "  model_parameters = model_parameters.append({'MAE':MAE,'Parameters':p},ignore_index=True)\n",
      "20:47:52 - cmdstanpy - INFO - Chain [1] start processing\n"
     ]
    },
    {
     "name": "stdout",
     "output_type": "stream",
     "text": [
      "{'changepoint_prior_scale': 0.15, 'holidays_prior_scale': 0.2, 'n_changepoints': 200, 'seasonality_mode': 'multiplicative'}\n"
     ]
    },
    {
     "name": "stderr",
     "output_type": "stream",
     "text": [
      "20:47:53 - cmdstanpy - INFO - Chain [1] done processing\n",
      "/var/folders/g7/jzp2y_x97yd3w1yf2x3s7wjc0000gn/T/ipykernel_16775/3669130598.py:21: FutureWarning: The frame.append method is deprecated and will be removed from pandas in a future version. Use pandas.concat instead.\n",
      "  model_parameters = model_parameters.append({'MAE':MAE,'Parameters':p},ignore_index=True)\n",
      "20:47:53 - cmdstanpy - INFO - Chain [1] start processing\n",
      "20:47:53 - cmdstanpy - INFO - Chain [1] done processing\n"
     ]
    },
    {
     "name": "stdout",
     "output_type": "stream",
     "text": [
      "Mean Absolute Error(MAE)------------------------------------ 3997.982392301496\n",
      "{'changepoint_prior_scale': 0.15, 'holidays_prior_scale': 0.2, 'n_changepoints': 200, 'seasonality_mode': 'additive'}\n"
     ]
    },
    {
     "name": "stderr",
     "output_type": "stream",
     "text": [
      "/var/folders/g7/jzp2y_x97yd3w1yf2x3s7wjc0000gn/T/ipykernel_16775/3669130598.py:21: FutureWarning: The frame.append method is deprecated and will be removed from pandas in a future version. Use pandas.concat instead.\n",
      "  model_parameters = model_parameters.append({'MAE':MAE,'Parameters':p},ignore_index=True)\n",
      "20:47:53 - cmdstanpy - INFO - Chain [1] start processing\n"
     ]
    },
    {
     "name": "stdout",
     "output_type": "stream",
     "text": [
      "Mean Absolute Error(MAE)------------------------------------ 4921.447414753172\n",
      "{'changepoint_prior_scale': 0.15, 'holidays_prior_scale': 0.24, 'n_changepoints': 100, 'seasonality_mode': 'multiplicative'}\n"
     ]
    },
    {
     "name": "stderr",
     "output_type": "stream",
     "text": [
      "20:47:54 - cmdstanpy - INFO - Chain [1] done processing\n",
      "/var/folders/g7/jzp2y_x97yd3w1yf2x3s7wjc0000gn/T/ipykernel_16775/3669130598.py:21: FutureWarning: The frame.append method is deprecated and will be removed from pandas in a future version. Use pandas.concat instead.\n",
      "  model_parameters = model_parameters.append({'MAE':MAE,'Parameters':p},ignore_index=True)\n",
      "20:47:54 - cmdstanpy - INFO - Chain [1] start processing\n",
      "20:47:54 - cmdstanpy - INFO - Chain [1] done processing\n"
     ]
    },
    {
     "name": "stdout",
     "output_type": "stream",
     "text": [
      "Mean Absolute Error(MAE)------------------------------------ 4004.8255288619666\n",
      "{'changepoint_prior_scale': 0.15, 'holidays_prior_scale': 0.24, 'n_changepoints': 100, 'seasonality_mode': 'additive'}\n",
      "Mean Absolute Error(MAE)------------------------------------ 4942.852224640085\n"
     ]
    },
    {
     "name": "stderr",
     "output_type": "stream",
     "text": [
      "/var/folders/g7/jzp2y_x97yd3w1yf2x3s7wjc0000gn/T/ipykernel_16775/3669130598.py:21: FutureWarning: The frame.append method is deprecated and will be removed from pandas in a future version. Use pandas.concat instead.\n",
      "  model_parameters = model_parameters.append({'MAE':MAE,'Parameters':p},ignore_index=True)\n",
      "20:47:54 - cmdstanpy - INFO - Chain [1] start processing\n"
     ]
    },
    {
     "name": "stdout",
     "output_type": "stream",
     "text": [
      "{'changepoint_prior_scale': 0.15, 'holidays_prior_scale': 0.24, 'n_changepoints': 150, 'seasonality_mode': 'multiplicative'}\n"
     ]
    },
    {
     "name": "stderr",
     "output_type": "stream",
     "text": [
      "20:47:55 - cmdstanpy - INFO - Chain [1] done processing\n",
      "/var/folders/g7/jzp2y_x97yd3w1yf2x3s7wjc0000gn/T/ipykernel_16775/3669130598.py:21: FutureWarning: The frame.append method is deprecated and will be removed from pandas in a future version. Use pandas.concat instead.\n",
      "  model_parameters = model_parameters.append({'MAE':MAE,'Parameters':p},ignore_index=True)\n",
      "20:47:55 - cmdstanpy - INFO - Chain [1] start processing\n",
      "20:47:55 - cmdstanpy - INFO - Chain [1] done processing\n"
     ]
    },
    {
     "name": "stdout",
     "output_type": "stream",
     "text": [
      "Mean Absolute Error(MAE)------------------------------------ 4020.379389378024\n",
      "{'changepoint_prior_scale': 0.15, 'holidays_prior_scale': 0.24, 'n_changepoints': 150, 'seasonality_mode': 'additive'}\n",
      "Mean Absolute Error(MAE)------------------------------------ 4950.5328505288135\n"
     ]
    },
    {
     "name": "stderr",
     "output_type": "stream",
     "text": [
      "/var/folders/g7/jzp2y_x97yd3w1yf2x3s7wjc0000gn/T/ipykernel_16775/3669130598.py:21: FutureWarning: The frame.append method is deprecated and will be removed from pandas in a future version. Use pandas.concat instead.\n",
      "  model_parameters = model_parameters.append({'MAE':MAE,'Parameters':p},ignore_index=True)\n",
      "20:47:55 - cmdstanpy - INFO - Chain [1] start processing\n"
     ]
    },
    {
     "name": "stdout",
     "output_type": "stream",
     "text": [
      "{'changepoint_prior_scale': 0.15, 'holidays_prior_scale': 0.24, 'n_changepoints': 200, 'seasonality_mode': 'multiplicative'}\n"
     ]
    },
    {
     "name": "stderr",
     "output_type": "stream",
     "text": [
      "20:47:56 - cmdstanpy - INFO - Chain [1] done processing\n",
      "/var/folders/g7/jzp2y_x97yd3w1yf2x3s7wjc0000gn/T/ipykernel_16775/3669130598.py:21: FutureWarning: The frame.append method is deprecated and will be removed from pandas in a future version. Use pandas.concat instead.\n",
      "  model_parameters = model_parameters.append({'MAE':MAE,'Parameters':p},ignore_index=True)\n",
      "20:47:56 - cmdstanpy - INFO - Chain [1] start processing\n",
      "20:47:56 - cmdstanpy - INFO - Chain [1] done processing\n"
     ]
    },
    {
     "name": "stdout",
     "output_type": "stream",
     "text": [
      "Mean Absolute Error(MAE)------------------------------------ 3997.982392301496\n",
      "{'changepoint_prior_scale': 0.15, 'holidays_prior_scale': 0.24, 'n_changepoints': 200, 'seasonality_mode': 'additive'}\n"
     ]
    },
    {
     "name": "stderr",
     "output_type": "stream",
     "text": [
      "/var/folders/g7/jzp2y_x97yd3w1yf2x3s7wjc0000gn/T/ipykernel_16775/3669130598.py:21: FutureWarning: The frame.append method is deprecated and will be removed from pandas in a future version. Use pandas.concat instead.\n",
      "  model_parameters = model_parameters.append({'MAE':MAE,'Parameters':p},ignore_index=True)\n",
      "20:47:56 - cmdstanpy - INFO - Chain [1] start processing\n"
     ]
    },
    {
     "name": "stdout",
     "output_type": "stream",
     "text": [
      "Mean Absolute Error(MAE)------------------------------------ 4921.447414753172\n",
      "{'changepoint_prior_scale': 0.2, 'holidays_prior_scale': 0.1, 'n_changepoints': 100, 'seasonality_mode': 'multiplicative'}\n"
     ]
    },
    {
     "name": "stderr",
     "output_type": "stream",
     "text": [
      "20:47:57 - cmdstanpy - INFO - Chain [1] done processing\n",
      "/var/folders/g7/jzp2y_x97yd3w1yf2x3s7wjc0000gn/T/ipykernel_16775/3669130598.py:21: FutureWarning: The frame.append method is deprecated and will be removed from pandas in a future version. Use pandas.concat instead.\n",
      "  model_parameters = model_parameters.append({'MAE':MAE,'Parameters':p},ignore_index=True)\n",
      "20:47:57 - cmdstanpy - INFO - Chain [1] start processing\n",
      "20:47:57 - cmdstanpy - INFO - Chain [1] done processing\n"
     ]
    },
    {
     "name": "stdout",
     "output_type": "stream",
     "text": [
      "Mean Absolute Error(MAE)------------------------------------ 3997.2328374461995\n",
      "{'changepoint_prior_scale': 0.2, 'holidays_prior_scale': 0.1, 'n_changepoints': 100, 'seasonality_mode': 'additive'}\n",
      "Mean Absolute Error(MAE)------------------------------------ 4884.096639578617\n",
      "{'changepoint_prior_scale': 0.2, 'holidays_prior_scale': 0.1, 'n_changepoints': 150, 'seasonality_mode': 'multiplicative'}\n"
     ]
    },
    {
     "name": "stderr",
     "output_type": "stream",
     "text": [
      "/var/folders/g7/jzp2y_x97yd3w1yf2x3s7wjc0000gn/T/ipykernel_16775/3669130598.py:21: FutureWarning: The frame.append method is deprecated and will be removed from pandas in a future version. Use pandas.concat instead.\n",
      "  model_parameters = model_parameters.append({'MAE':MAE,'Parameters':p},ignore_index=True)\n",
      "20:47:57 - cmdstanpy - INFO - Chain [1] start processing\n",
      "20:47:58 - cmdstanpy - INFO - Chain [1] done processing\n",
      "/var/folders/g7/jzp2y_x97yd3w1yf2x3s7wjc0000gn/T/ipykernel_16775/3669130598.py:21: FutureWarning: The frame.append method is deprecated and will be removed from pandas in a future version. Use pandas.concat instead.\n",
      "  model_parameters = model_parameters.append({'MAE':MAE,'Parameters':p},ignore_index=True)\n",
      "20:47:58 - cmdstanpy - INFO - Chain [1] start processing\n",
      "20:47:58 - cmdstanpy - INFO - Chain [1] done processing\n"
     ]
    },
    {
     "name": "stdout",
     "output_type": "stream",
     "text": [
      "Mean Absolute Error(MAE)------------------------------------ 4042.1006733750996\n",
      "{'changepoint_prior_scale': 0.2, 'holidays_prior_scale': 0.1, 'n_changepoints': 150, 'seasonality_mode': 'additive'}\n",
      "Mean Absolute Error(MAE)------------------------------------ 4832.117410532558\n"
     ]
    },
    {
     "name": "stderr",
     "output_type": "stream",
     "text": [
      "/var/folders/g7/jzp2y_x97yd3w1yf2x3s7wjc0000gn/T/ipykernel_16775/3669130598.py:21: FutureWarning: The frame.append method is deprecated and will be removed from pandas in a future version. Use pandas.concat instead.\n",
      "  model_parameters = model_parameters.append({'MAE':MAE,'Parameters':p},ignore_index=True)\n",
      "20:47:58 - cmdstanpy - INFO - Chain [1] start processing\n"
     ]
    },
    {
     "name": "stdout",
     "output_type": "stream",
     "text": [
      "{'changepoint_prior_scale': 0.2, 'holidays_prior_scale': 0.1, 'n_changepoints': 200, 'seasonality_mode': 'multiplicative'}\n"
     ]
    },
    {
     "name": "stderr",
     "output_type": "stream",
     "text": [
      "20:47:59 - cmdstanpy - INFO - Chain [1] done processing\n",
      "/var/folders/g7/jzp2y_x97yd3w1yf2x3s7wjc0000gn/T/ipykernel_16775/3669130598.py:21: FutureWarning: The frame.append method is deprecated and will be removed from pandas in a future version. Use pandas.concat instead.\n",
      "  model_parameters = model_parameters.append({'MAE':MAE,'Parameters':p},ignore_index=True)\n",
      "20:47:59 - cmdstanpy - INFO - Chain [1] start processing\n",
      "20:47:59 - cmdstanpy - INFO - Chain [1] done processing\n"
     ]
    },
    {
     "name": "stdout",
     "output_type": "stream",
     "text": [
      "Mean Absolute Error(MAE)------------------------------------ 3967.8621836613875\n",
      "{'changepoint_prior_scale': 0.2, 'holidays_prior_scale': 0.1, 'n_changepoints': 200, 'seasonality_mode': 'additive'}\n",
      "Mean Absolute Error(MAE)------------------------------------ 4910.916151679612\n"
     ]
    },
    {
     "name": "stderr",
     "output_type": "stream",
     "text": [
      "/var/folders/g7/jzp2y_x97yd3w1yf2x3s7wjc0000gn/T/ipykernel_16775/3669130598.py:21: FutureWarning: The frame.append method is deprecated and will be removed from pandas in a future version. Use pandas.concat instead.\n",
      "  model_parameters = model_parameters.append({'MAE':MAE,'Parameters':p},ignore_index=True)\n",
      "20:47:59 - cmdstanpy - INFO - Chain [1] start processing\n"
     ]
    },
    {
     "name": "stdout",
     "output_type": "stream",
     "text": [
      "{'changepoint_prior_scale': 0.2, 'holidays_prior_scale': 0.15, 'n_changepoints': 100, 'seasonality_mode': 'multiplicative'}\n"
     ]
    },
    {
     "name": "stderr",
     "output_type": "stream",
     "text": [
      "20:48:00 - cmdstanpy - INFO - Chain [1] done processing\n",
      "/var/folders/g7/jzp2y_x97yd3w1yf2x3s7wjc0000gn/T/ipykernel_16775/3669130598.py:21: FutureWarning: The frame.append method is deprecated and will be removed from pandas in a future version. Use pandas.concat instead.\n",
      "  model_parameters = model_parameters.append({'MAE':MAE,'Parameters':p},ignore_index=True)\n",
      "20:48:00 - cmdstanpy - INFO - Chain [1] start processing\n",
      "20:48:00 - cmdstanpy - INFO - Chain [1] done processing\n"
     ]
    },
    {
     "name": "stdout",
     "output_type": "stream",
     "text": [
      "Mean Absolute Error(MAE)------------------------------------ 3997.2328374461995\n",
      "{'changepoint_prior_scale': 0.2, 'holidays_prior_scale': 0.15, 'n_changepoints': 100, 'seasonality_mode': 'additive'}\n",
      "Mean Absolute Error(MAE)------------------------------------ 4884.096639578617\n"
     ]
    },
    {
     "name": "stderr",
     "output_type": "stream",
     "text": [
      "/var/folders/g7/jzp2y_x97yd3w1yf2x3s7wjc0000gn/T/ipykernel_16775/3669130598.py:21: FutureWarning: The frame.append method is deprecated and will be removed from pandas in a future version. Use pandas.concat instead.\n",
      "  model_parameters = model_parameters.append({'MAE':MAE,'Parameters':p},ignore_index=True)\n",
      "20:48:00 - cmdstanpy - INFO - Chain [1] start processing\n"
     ]
    },
    {
     "name": "stdout",
     "output_type": "stream",
     "text": [
      "{'changepoint_prior_scale': 0.2, 'holidays_prior_scale': 0.15, 'n_changepoints': 150, 'seasonality_mode': 'multiplicative'}\n"
     ]
    },
    {
     "name": "stderr",
     "output_type": "stream",
     "text": [
      "20:48:01 - cmdstanpy - INFO - Chain [1] done processing\n",
      "/var/folders/g7/jzp2y_x97yd3w1yf2x3s7wjc0000gn/T/ipykernel_16775/3669130598.py:21: FutureWarning: The frame.append method is deprecated and will be removed from pandas in a future version. Use pandas.concat instead.\n",
      "  model_parameters = model_parameters.append({'MAE':MAE,'Parameters':p},ignore_index=True)\n",
      "20:48:01 - cmdstanpy - INFO - Chain [1] start processing\n",
      "20:48:01 - cmdstanpy - INFO - Chain [1] done processing\n"
     ]
    },
    {
     "name": "stdout",
     "output_type": "stream",
     "text": [
      "Mean Absolute Error(MAE)------------------------------------ 4042.1006733750996\n",
      "{'changepoint_prior_scale': 0.2, 'holidays_prior_scale': 0.15, 'n_changepoints': 150, 'seasonality_mode': 'additive'}\n"
     ]
    },
    {
     "name": "stderr",
     "output_type": "stream",
     "text": [
      "/var/folders/g7/jzp2y_x97yd3w1yf2x3s7wjc0000gn/T/ipykernel_16775/3669130598.py:21: FutureWarning: The frame.append method is deprecated and will be removed from pandas in a future version. Use pandas.concat instead.\n",
      "  model_parameters = model_parameters.append({'MAE':MAE,'Parameters':p},ignore_index=True)\n",
      "20:48:02 - cmdstanpy - INFO - Chain [1] start processing\n"
     ]
    },
    {
     "name": "stdout",
     "output_type": "stream",
     "text": [
      "Mean Absolute Error(MAE)------------------------------------ 4832.117410532558\n",
      "{'changepoint_prior_scale': 0.2, 'holidays_prior_scale': 0.15, 'n_changepoints': 200, 'seasonality_mode': 'multiplicative'}\n"
     ]
    },
    {
     "name": "stderr",
     "output_type": "stream",
     "text": [
      "20:48:02 - cmdstanpy - INFO - Chain [1] done processing\n",
      "/var/folders/g7/jzp2y_x97yd3w1yf2x3s7wjc0000gn/T/ipykernel_16775/3669130598.py:21: FutureWarning: The frame.append method is deprecated and will be removed from pandas in a future version. Use pandas.concat instead.\n",
      "  model_parameters = model_parameters.append({'MAE':MAE,'Parameters':p},ignore_index=True)\n",
      "20:48:02 - cmdstanpy - INFO - Chain [1] start processing\n",
      "20:48:02 - cmdstanpy - INFO - Chain [1] done processing\n"
     ]
    },
    {
     "name": "stdout",
     "output_type": "stream",
     "text": [
      "Mean Absolute Error(MAE)------------------------------------ 3967.8621836613875\n",
      "{'changepoint_prior_scale': 0.2, 'holidays_prior_scale': 0.15, 'n_changepoints': 200, 'seasonality_mode': 'additive'}\n",
      "Mean Absolute Error(MAE)------------------------------------ 4910.916151679612\n"
     ]
    },
    {
     "name": "stderr",
     "output_type": "stream",
     "text": [
      "/var/folders/g7/jzp2y_x97yd3w1yf2x3s7wjc0000gn/T/ipykernel_16775/3669130598.py:21: FutureWarning: The frame.append method is deprecated and will be removed from pandas in a future version. Use pandas.concat instead.\n",
      "  model_parameters = model_parameters.append({'MAE':MAE,'Parameters':p},ignore_index=True)\n",
      "20:48:03 - cmdstanpy - INFO - Chain [1] start processing\n"
     ]
    },
    {
     "name": "stdout",
     "output_type": "stream",
     "text": [
      "{'changepoint_prior_scale': 0.2, 'holidays_prior_scale': 0.2, 'n_changepoints': 100, 'seasonality_mode': 'multiplicative'}\n"
     ]
    },
    {
     "name": "stderr",
     "output_type": "stream",
     "text": [
      "20:48:03 - cmdstanpy - INFO - Chain [1] done processing\n",
      "/var/folders/g7/jzp2y_x97yd3w1yf2x3s7wjc0000gn/T/ipykernel_16775/3669130598.py:21: FutureWarning: The frame.append method is deprecated and will be removed from pandas in a future version. Use pandas.concat instead.\n",
      "  model_parameters = model_parameters.append({'MAE':MAE,'Parameters':p},ignore_index=True)\n",
      "20:48:03 - cmdstanpy - INFO - Chain [1] start processing\n",
      "20:48:03 - cmdstanpy - INFO - Chain [1] done processing\n"
     ]
    },
    {
     "name": "stdout",
     "output_type": "stream",
     "text": [
      "Mean Absolute Error(MAE)------------------------------------ 3997.2328374461995\n",
      "{'changepoint_prior_scale': 0.2, 'holidays_prior_scale': 0.2, 'n_changepoints': 100, 'seasonality_mode': 'additive'}\n",
      "Mean Absolute Error(MAE)------------------------------------ 4884.096639578617\n",
      "{'changepoint_prior_scale': 0.2, 'holidays_prior_scale': 0.2, 'n_changepoints': 150, 'seasonality_mode': 'multiplicative'}\n"
     ]
    },
    {
     "name": "stderr",
     "output_type": "stream",
     "text": [
      "/var/folders/g7/jzp2y_x97yd3w1yf2x3s7wjc0000gn/T/ipykernel_16775/3669130598.py:21: FutureWarning: The frame.append method is deprecated and will be removed from pandas in a future version. Use pandas.concat instead.\n",
      "  model_parameters = model_parameters.append({'MAE':MAE,'Parameters':p},ignore_index=True)\n",
      "20:48:04 - cmdstanpy - INFO - Chain [1] start processing\n",
      "20:48:04 - cmdstanpy - INFO - Chain [1] done processing\n",
      "/var/folders/g7/jzp2y_x97yd3w1yf2x3s7wjc0000gn/T/ipykernel_16775/3669130598.py:21: FutureWarning: The frame.append method is deprecated and will be removed from pandas in a future version. Use pandas.concat instead.\n",
      "  model_parameters = model_parameters.append({'MAE':MAE,'Parameters':p},ignore_index=True)\n",
      "20:48:04 - cmdstanpy - INFO - Chain [1] start processing\n",
      "20:48:04 - cmdstanpy - INFO - Chain [1] done processing\n"
     ]
    },
    {
     "name": "stdout",
     "output_type": "stream",
     "text": [
      "Mean Absolute Error(MAE)------------------------------------ 4042.1006733750996\n",
      "{'changepoint_prior_scale': 0.2, 'holidays_prior_scale': 0.2, 'n_changepoints': 150, 'seasonality_mode': 'additive'}\n",
      "Mean Absolute Error(MAE)------------------------------------ 4832.117410532558\n"
     ]
    },
    {
     "name": "stderr",
     "output_type": "stream",
     "text": [
      "/var/folders/g7/jzp2y_x97yd3w1yf2x3s7wjc0000gn/T/ipykernel_16775/3669130598.py:21: FutureWarning: The frame.append method is deprecated and will be removed from pandas in a future version. Use pandas.concat instead.\n",
      "  model_parameters = model_parameters.append({'MAE':MAE,'Parameters':p},ignore_index=True)\n",
      "20:48:05 - cmdstanpy - INFO - Chain [1] start processing\n"
     ]
    },
    {
     "name": "stdout",
     "output_type": "stream",
     "text": [
      "{'changepoint_prior_scale': 0.2, 'holidays_prior_scale': 0.2, 'n_changepoints': 200, 'seasonality_mode': 'multiplicative'}\n"
     ]
    },
    {
     "name": "stderr",
     "output_type": "stream",
     "text": [
      "20:48:05 - cmdstanpy - INFO - Chain [1] done processing\n",
      "/var/folders/g7/jzp2y_x97yd3w1yf2x3s7wjc0000gn/T/ipykernel_16775/3669130598.py:21: FutureWarning: The frame.append method is deprecated and will be removed from pandas in a future version. Use pandas.concat instead.\n",
      "  model_parameters = model_parameters.append({'MAE':MAE,'Parameters':p},ignore_index=True)\n",
      "20:48:06 - cmdstanpy - INFO - Chain [1] start processing\n",
      "20:48:06 - cmdstanpy - INFO - Chain [1] done processing\n"
     ]
    },
    {
     "name": "stdout",
     "output_type": "stream",
     "text": [
      "Mean Absolute Error(MAE)------------------------------------ 3967.8621836613875\n",
      "{'changepoint_prior_scale': 0.2, 'holidays_prior_scale': 0.2, 'n_changepoints': 200, 'seasonality_mode': 'additive'}\n",
      "Mean Absolute Error(MAE)------------------------------------ 4910.916151679612\n"
     ]
    },
    {
     "name": "stderr",
     "output_type": "stream",
     "text": [
      "/var/folders/g7/jzp2y_x97yd3w1yf2x3s7wjc0000gn/T/ipykernel_16775/3669130598.py:21: FutureWarning: The frame.append method is deprecated and will be removed from pandas in a future version. Use pandas.concat instead.\n",
      "  model_parameters = model_parameters.append({'MAE':MAE,'Parameters':p},ignore_index=True)\n",
      "20:48:06 - cmdstanpy - INFO - Chain [1] start processing\n"
     ]
    },
    {
     "name": "stdout",
     "output_type": "stream",
     "text": [
      "{'changepoint_prior_scale': 0.2, 'holidays_prior_scale': 0.24, 'n_changepoints': 100, 'seasonality_mode': 'multiplicative'}\n"
     ]
    },
    {
     "name": "stderr",
     "output_type": "stream",
     "text": [
      "20:48:06 - cmdstanpy - INFO - Chain [1] done processing\n",
      "/var/folders/g7/jzp2y_x97yd3w1yf2x3s7wjc0000gn/T/ipykernel_16775/3669130598.py:21: FutureWarning: The frame.append method is deprecated and will be removed from pandas in a future version. Use pandas.concat instead.\n",
      "  model_parameters = model_parameters.append({'MAE':MAE,'Parameters':p},ignore_index=True)\n",
      "20:48:07 - cmdstanpy - INFO - Chain [1] start processing\n",
      "20:48:07 - cmdstanpy - INFO - Chain [1] done processing\n"
     ]
    },
    {
     "name": "stdout",
     "output_type": "stream",
     "text": [
      "Mean Absolute Error(MAE)------------------------------------ 3997.2328374461995\n",
      "{'changepoint_prior_scale': 0.2, 'holidays_prior_scale': 0.24, 'n_changepoints': 100, 'seasonality_mode': 'additive'}\n",
      "Mean Absolute Error(MAE)------------------------------------ 4884.096639578617\n"
     ]
    },
    {
     "name": "stderr",
     "output_type": "stream",
     "text": [
      "/var/folders/g7/jzp2y_x97yd3w1yf2x3s7wjc0000gn/T/ipykernel_16775/3669130598.py:21: FutureWarning: The frame.append method is deprecated and will be removed from pandas in a future version. Use pandas.concat instead.\n",
      "  model_parameters = model_parameters.append({'MAE':MAE,'Parameters':p},ignore_index=True)\n",
      "20:48:07 - cmdstanpy - INFO - Chain [1] start processing\n"
     ]
    },
    {
     "name": "stdout",
     "output_type": "stream",
     "text": [
      "{'changepoint_prior_scale': 0.2, 'holidays_prior_scale': 0.24, 'n_changepoints': 150, 'seasonality_mode': 'multiplicative'}\n"
     ]
    },
    {
     "name": "stderr",
     "output_type": "stream",
     "text": [
      "20:48:07 - cmdstanpy - INFO - Chain [1] done processing\n",
      "/var/folders/g7/jzp2y_x97yd3w1yf2x3s7wjc0000gn/T/ipykernel_16775/3669130598.py:21: FutureWarning: The frame.append method is deprecated and will be removed from pandas in a future version. Use pandas.concat instead.\n",
      "  model_parameters = model_parameters.append({'MAE':MAE,'Parameters':p},ignore_index=True)\n",
      "20:48:08 - cmdstanpy - INFO - Chain [1] start processing\n",
      "20:48:08 - cmdstanpy - INFO - Chain [1] done processing\n"
     ]
    },
    {
     "name": "stdout",
     "output_type": "stream",
     "text": [
      "Mean Absolute Error(MAE)------------------------------------ 4042.1006733750996\n",
      "{'changepoint_prior_scale': 0.2, 'holidays_prior_scale': 0.24, 'n_changepoints': 150, 'seasonality_mode': 'additive'}\n",
      "Mean Absolute Error(MAE)------------------------------------ 4832.117410532558\n"
     ]
    },
    {
     "name": "stderr",
     "output_type": "stream",
     "text": [
      "/var/folders/g7/jzp2y_x97yd3w1yf2x3s7wjc0000gn/T/ipykernel_16775/3669130598.py:21: FutureWarning: The frame.append method is deprecated and will be removed from pandas in a future version. Use pandas.concat instead.\n",
      "  model_parameters = model_parameters.append({'MAE':MAE,'Parameters':p},ignore_index=True)\n",
      "20:48:08 - cmdstanpy - INFO - Chain [1] start processing\n"
     ]
    },
    {
     "name": "stdout",
     "output_type": "stream",
     "text": [
      "{'changepoint_prior_scale': 0.2, 'holidays_prior_scale': 0.24, 'n_changepoints': 200, 'seasonality_mode': 'multiplicative'}\n"
     ]
    },
    {
     "name": "stderr",
     "output_type": "stream",
     "text": [
      "20:48:08 - cmdstanpy - INFO - Chain [1] done processing\n",
      "/var/folders/g7/jzp2y_x97yd3w1yf2x3s7wjc0000gn/T/ipykernel_16775/3669130598.py:21: FutureWarning: The frame.append method is deprecated and will be removed from pandas in a future version. Use pandas.concat instead.\n",
      "  model_parameters = model_parameters.append({'MAE':MAE,'Parameters':p},ignore_index=True)\n",
      "20:48:09 - cmdstanpy - INFO - Chain [1] start processing\n",
      "20:48:09 - cmdstanpy - INFO - Chain [1] done processing\n"
     ]
    },
    {
     "name": "stdout",
     "output_type": "stream",
     "text": [
      "Mean Absolute Error(MAE)------------------------------------ 3967.8621836613875\n",
      "{'changepoint_prior_scale': 0.2, 'holidays_prior_scale': 0.24, 'n_changepoints': 200, 'seasonality_mode': 'additive'}\n",
      "Mean Absolute Error(MAE)------------------------------------ 4910.916151679612\n"
     ]
    },
    {
     "name": "stderr",
     "output_type": "stream",
     "text": [
      "/var/folders/g7/jzp2y_x97yd3w1yf2x3s7wjc0000gn/T/ipykernel_16775/3669130598.py:21: FutureWarning: The frame.append method is deprecated and will be removed from pandas in a future version. Use pandas.concat instead.\n",
      "  model_parameters = model_parameters.append({'MAE':MAE,'Parameters':p},ignore_index=True)\n",
      "20:48:09 - cmdstanpy - INFO - Chain [1] start processing\n"
     ]
    },
    {
     "name": "stdout",
     "output_type": "stream",
     "text": [
      "{'changepoint_prior_scale': 0.25, 'holidays_prior_scale': 0.1, 'n_changepoints': 100, 'seasonality_mode': 'multiplicative'}\n"
     ]
    },
    {
     "name": "stderr",
     "output_type": "stream",
     "text": [
      "20:48:09 - cmdstanpy - INFO - Chain [1] done processing\n",
      "/var/folders/g7/jzp2y_x97yd3w1yf2x3s7wjc0000gn/T/ipykernel_16775/3669130598.py:21: FutureWarning: The frame.append method is deprecated and will be removed from pandas in a future version. Use pandas.concat instead.\n",
      "  model_parameters = model_parameters.append({'MAE':MAE,'Parameters':p},ignore_index=True)\n",
      "20:48:10 - cmdstanpy - INFO - Chain [1] start processing\n",
      "20:48:10 - cmdstanpy - INFO - Chain [1] done processing\n"
     ]
    },
    {
     "name": "stdout",
     "output_type": "stream",
     "text": [
      "Mean Absolute Error(MAE)------------------------------------ 3959.3444939141664\n",
      "{'changepoint_prior_scale': 0.25, 'holidays_prior_scale': 0.1, 'n_changepoints': 100, 'seasonality_mode': 'additive'}\n",
      "Mean Absolute Error(MAE)------------------------------------ 5225.709624387376\n"
     ]
    },
    {
     "name": "stderr",
     "output_type": "stream",
     "text": [
      "/var/folders/g7/jzp2y_x97yd3w1yf2x3s7wjc0000gn/T/ipykernel_16775/3669130598.py:21: FutureWarning: The frame.append method is deprecated and will be removed from pandas in a future version. Use pandas.concat instead.\n",
      "  model_parameters = model_parameters.append({'MAE':MAE,'Parameters':p},ignore_index=True)\n",
      "20:48:10 - cmdstanpy - INFO - Chain [1] start processing\n"
     ]
    },
    {
     "name": "stdout",
     "output_type": "stream",
     "text": [
      "{'changepoint_prior_scale': 0.25, 'holidays_prior_scale': 0.1, 'n_changepoints': 150, 'seasonality_mode': 'multiplicative'}\n"
     ]
    },
    {
     "name": "stderr",
     "output_type": "stream",
     "text": [
      "20:48:10 - cmdstanpy - INFO - Chain [1] done processing\n",
      "/var/folders/g7/jzp2y_x97yd3w1yf2x3s7wjc0000gn/T/ipykernel_16775/3669130598.py:21: FutureWarning: The frame.append method is deprecated and will be removed from pandas in a future version. Use pandas.concat instead.\n",
      "  model_parameters = model_parameters.append({'MAE':MAE,'Parameters':p},ignore_index=True)\n",
      "20:48:11 - cmdstanpy - INFO - Chain [1] start processing\n",
      "20:48:11 - cmdstanpy - INFO - Chain [1] done processing\n"
     ]
    },
    {
     "name": "stdout",
     "output_type": "stream",
     "text": [
      "Mean Absolute Error(MAE)------------------------------------ 3947.529261300235\n",
      "{'changepoint_prior_scale': 0.25, 'holidays_prior_scale': 0.1, 'n_changepoints': 150, 'seasonality_mode': 'additive'}\n",
      "Mean Absolute Error(MAE)------------------------------------ 5154.116020153862\n"
     ]
    },
    {
     "name": "stderr",
     "output_type": "stream",
     "text": [
      "/var/folders/g7/jzp2y_x97yd3w1yf2x3s7wjc0000gn/T/ipykernel_16775/3669130598.py:21: FutureWarning: The frame.append method is deprecated and will be removed from pandas in a future version. Use pandas.concat instead.\n",
      "  model_parameters = model_parameters.append({'MAE':MAE,'Parameters':p},ignore_index=True)\n",
      "20:48:11 - cmdstanpy - INFO - Chain [1] start processing\n"
     ]
    },
    {
     "name": "stdout",
     "output_type": "stream",
     "text": [
      "{'changepoint_prior_scale': 0.25, 'holidays_prior_scale': 0.1, 'n_changepoints': 200, 'seasonality_mode': 'multiplicative'}\n"
     ]
    },
    {
     "name": "stderr",
     "output_type": "stream",
     "text": [
      "20:48:12 - cmdstanpy - INFO - Chain [1] done processing\n",
      "/var/folders/g7/jzp2y_x97yd3w1yf2x3s7wjc0000gn/T/ipykernel_16775/3669130598.py:21: FutureWarning: The frame.append method is deprecated and will be removed from pandas in a future version. Use pandas.concat instead.\n",
      "  model_parameters = model_parameters.append({'MAE':MAE,'Parameters':p},ignore_index=True)\n",
      "20:48:12 - cmdstanpy - INFO - Chain [1] start processing\n",
      "20:48:12 - cmdstanpy - INFO - Chain [1] done processing\n"
     ]
    },
    {
     "name": "stdout",
     "output_type": "stream",
     "text": [
      "Mean Absolute Error(MAE)------------------------------------ 3964.9686823981765\n",
      "{'changepoint_prior_scale': 0.25, 'holidays_prior_scale': 0.1, 'n_changepoints': 200, 'seasonality_mode': 'additive'}\n",
      "Mean Absolute Error(MAE)------------------------------------ 4803.721059958455\n"
     ]
    },
    {
     "name": "stderr",
     "output_type": "stream",
     "text": [
      "/var/folders/g7/jzp2y_x97yd3w1yf2x3s7wjc0000gn/T/ipykernel_16775/3669130598.py:21: FutureWarning: The frame.append method is deprecated and will be removed from pandas in a future version. Use pandas.concat instead.\n",
      "  model_parameters = model_parameters.append({'MAE':MAE,'Parameters':p},ignore_index=True)\n",
      "20:48:12 - cmdstanpy - INFO - Chain [1] start processing\n"
     ]
    },
    {
     "name": "stdout",
     "output_type": "stream",
     "text": [
      "{'changepoint_prior_scale': 0.25, 'holidays_prior_scale': 0.15, 'n_changepoints': 100, 'seasonality_mode': 'multiplicative'}\n"
     ]
    },
    {
     "name": "stderr",
     "output_type": "stream",
     "text": [
      "20:48:12 - cmdstanpy - INFO - Chain [1] done processing\n",
      "/var/folders/g7/jzp2y_x97yd3w1yf2x3s7wjc0000gn/T/ipykernel_16775/3669130598.py:21: FutureWarning: The frame.append method is deprecated and will be removed from pandas in a future version. Use pandas.concat instead.\n",
      "  model_parameters = model_parameters.append({'MAE':MAE,'Parameters':p},ignore_index=True)\n",
      "20:48:13 - cmdstanpy - INFO - Chain [1] start processing\n",
      "20:48:13 - cmdstanpy - INFO - Chain [1] done processing\n"
     ]
    },
    {
     "name": "stdout",
     "output_type": "stream",
     "text": [
      "Mean Absolute Error(MAE)------------------------------------ 3959.3444939141664\n",
      "{'changepoint_prior_scale': 0.25, 'holidays_prior_scale': 0.15, 'n_changepoints': 100, 'seasonality_mode': 'additive'}\n"
     ]
    },
    {
     "name": "stderr",
     "output_type": "stream",
     "text": [
      "/var/folders/g7/jzp2y_x97yd3w1yf2x3s7wjc0000gn/T/ipykernel_16775/3669130598.py:21: FutureWarning: The frame.append method is deprecated and will be removed from pandas in a future version. Use pandas.concat instead.\n",
      "  model_parameters = model_parameters.append({'MAE':MAE,'Parameters':p},ignore_index=True)\n",
      "20:48:13 - cmdstanpy - INFO - Chain [1] start processing\n"
     ]
    },
    {
     "name": "stdout",
     "output_type": "stream",
     "text": [
      "Mean Absolute Error(MAE)------------------------------------ 5225.709624387376\n",
      "{'changepoint_prior_scale': 0.25, 'holidays_prior_scale': 0.15, 'n_changepoints': 150, 'seasonality_mode': 'multiplicative'}\n"
     ]
    },
    {
     "name": "stderr",
     "output_type": "stream",
     "text": [
      "20:48:14 - cmdstanpy - INFO - Chain [1] done processing\n",
      "/var/folders/g7/jzp2y_x97yd3w1yf2x3s7wjc0000gn/T/ipykernel_16775/3669130598.py:21: FutureWarning: The frame.append method is deprecated and will be removed from pandas in a future version. Use pandas.concat instead.\n",
      "  model_parameters = model_parameters.append({'MAE':MAE,'Parameters':p},ignore_index=True)\n",
      "20:48:14 - cmdstanpy - INFO - Chain [1] start processing\n",
      "20:48:14 - cmdstanpy - INFO - Chain [1] done processing\n"
     ]
    },
    {
     "name": "stdout",
     "output_type": "stream",
     "text": [
      "Mean Absolute Error(MAE)------------------------------------ 3947.529261300235\n",
      "{'changepoint_prior_scale': 0.25, 'holidays_prior_scale': 0.15, 'n_changepoints': 150, 'seasonality_mode': 'additive'}\n",
      "Mean Absolute Error(MAE)------------------------------------ 5154.116020153862\n"
     ]
    },
    {
     "name": "stderr",
     "output_type": "stream",
     "text": [
      "/var/folders/g7/jzp2y_x97yd3w1yf2x3s7wjc0000gn/T/ipykernel_16775/3669130598.py:21: FutureWarning: The frame.append method is deprecated and will be removed from pandas in a future version. Use pandas.concat instead.\n",
      "  model_parameters = model_parameters.append({'MAE':MAE,'Parameters':p},ignore_index=True)\n",
      "20:48:14 - cmdstanpy - INFO - Chain [1] start processing\n"
     ]
    },
    {
     "name": "stdout",
     "output_type": "stream",
     "text": [
      "{'changepoint_prior_scale': 0.25, 'holidays_prior_scale': 0.15, 'n_changepoints': 200, 'seasonality_mode': 'multiplicative'}\n"
     ]
    },
    {
     "name": "stderr",
     "output_type": "stream",
     "text": [
      "20:48:15 - cmdstanpy - INFO - Chain [1] done processing\n",
      "/var/folders/g7/jzp2y_x97yd3w1yf2x3s7wjc0000gn/T/ipykernel_16775/3669130598.py:21: FutureWarning: The frame.append method is deprecated and will be removed from pandas in a future version. Use pandas.concat instead.\n",
      "  model_parameters = model_parameters.append({'MAE':MAE,'Parameters':p},ignore_index=True)\n",
      "20:48:15 - cmdstanpy - INFO - Chain [1] start processing\n",
      "20:48:15 - cmdstanpy - INFO - Chain [1] done processing\n"
     ]
    },
    {
     "name": "stdout",
     "output_type": "stream",
     "text": [
      "Mean Absolute Error(MAE)------------------------------------ 3964.9686823981765\n",
      "{'changepoint_prior_scale': 0.25, 'holidays_prior_scale': 0.15, 'n_changepoints': 200, 'seasonality_mode': 'additive'}\n",
      "Mean Absolute Error(MAE)------------------------------------ 4803.721059958455\n"
     ]
    },
    {
     "name": "stderr",
     "output_type": "stream",
     "text": [
      "/var/folders/g7/jzp2y_x97yd3w1yf2x3s7wjc0000gn/T/ipykernel_16775/3669130598.py:21: FutureWarning: The frame.append method is deprecated and will be removed from pandas in a future version. Use pandas.concat instead.\n",
      "  model_parameters = model_parameters.append({'MAE':MAE,'Parameters':p},ignore_index=True)\n",
      "20:48:15 - cmdstanpy - INFO - Chain [1] start processing\n"
     ]
    },
    {
     "name": "stdout",
     "output_type": "stream",
     "text": [
      "{'changepoint_prior_scale': 0.25, 'holidays_prior_scale': 0.2, 'n_changepoints': 100, 'seasonality_mode': 'multiplicative'}\n"
     ]
    },
    {
     "name": "stderr",
     "output_type": "stream",
     "text": [
      "20:48:16 - cmdstanpy - INFO - Chain [1] done processing\n",
      "/var/folders/g7/jzp2y_x97yd3w1yf2x3s7wjc0000gn/T/ipykernel_16775/3669130598.py:21: FutureWarning: The frame.append method is deprecated and will be removed from pandas in a future version. Use pandas.concat instead.\n",
      "  model_parameters = model_parameters.append({'MAE':MAE,'Parameters':p},ignore_index=True)\n",
      "20:48:16 - cmdstanpy - INFO - Chain [1] start processing\n",
      "20:48:16 - cmdstanpy - INFO - Chain [1] done processing\n"
     ]
    },
    {
     "name": "stdout",
     "output_type": "stream",
     "text": [
      "Mean Absolute Error(MAE)------------------------------------ 3959.3444939141664\n",
      "{'changepoint_prior_scale': 0.25, 'holidays_prior_scale': 0.2, 'n_changepoints': 100, 'seasonality_mode': 'additive'}\n"
     ]
    },
    {
     "name": "stderr",
     "output_type": "stream",
     "text": [
      "/var/folders/g7/jzp2y_x97yd3w1yf2x3s7wjc0000gn/T/ipykernel_16775/3669130598.py:21: FutureWarning: The frame.append method is deprecated and will be removed from pandas in a future version. Use pandas.concat instead.\n",
      "  model_parameters = model_parameters.append({'MAE':MAE,'Parameters':p},ignore_index=True)\n",
      "20:48:16 - cmdstanpy - INFO - Chain [1] start processing\n"
     ]
    },
    {
     "name": "stdout",
     "output_type": "stream",
     "text": [
      "Mean Absolute Error(MAE)------------------------------------ 5225.709624387376\n",
      "{'changepoint_prior_scale': 0.25, 'holidays_prior_scale': 0.2, 'n_changepoints': 150, 'seasonality_mode': 'multiplicative'}\n"
     ]
    },
    {
     "name": "stderr",
     "output_type": "stream",
     "text": [
      "20:48:17 - cmdstanpy - INFO - Chain [1] done processing\n",
      "/var/folders/g7/jzp2y_x97yd3w1yf2x3s7wjc0000gn/T/ipykernel_16775/3669130598.py:21: FutureWarning: The frame.append method is deprecated and will be removed from pandas in a future version. Use pandas.concat instead.\n",
      "  model_parameters = model_parameters.append({'MAE':MAE,'Parameters':p},ignore_index=True)\n",
      "20:48:17 - cmdstanpy - INFO - Chain [1] start processing\n",
      "20:48:17 - cmdstanpy - INFO - Chain [1] done processing\n"
     ]
    },
    {
     "name": "stdout",
     "output_type": "stream",
     "text": [
      "Mean Absolute Error(MAE)------------------------------------ 3947.529261300235\n",
      "{'changepoint_prior_scale': 0.25, 'holidays_prior_scale': 0.2, 'n_changepoints': 150, 'seasonality_mode': 'additive'}\n"
     ]
    },
    {
     "name": "stderr",
     "output_type": "stream",
     "text": [
      "/var/folders/g7/jzp2y_x97yd3w1yf2x3s7wjc0000gn/T/ipykernel_16775/3669130598.py:21: FutureWarning: The frame.append method is deprecated and will be removed from pandas in a future version. Use pandas.concat instead.\n",
      "  model_parameters = model_parameters.append({'MAE':MAE,'Parameters':p},ignore_index=True)\n",
      "20:48:17 - cmdstanpy - INFO - Chain [1] start processing\n"
     ]
    },
    {
     "name": "stdout",
     "output_type": "stream",
     "text": [
      "Mean Absolute Error(MAE)------------------------------------ 5154.116020153862\n",
      "{'changepoint_prior_scale': 0.25, 'holidays_prior_scale': 0.2, 'n_changepoints': 200, 'seasonality_mode': 'multiplicative'}\n"
     ]
    },
    {
     "name": "stderr",
     "output_type": "stream",
     "text": [
      "20:48:18 - cmdstanpy - INFO - Chain [1] done processing\n",
      "/var/folders/g7/jzp2y_x97yd3w1yf2x3s7wjc0000gn/T/ipykernel_16775/3669130598.py:21: FutureWarning: The frame.append method is deprecated and will be removed from pandas in a future version. Use pandas.concat instead.\n",
      "  model_parameters = model_parameters.append({'MAE':MAE,'Parameters':p},ignore_index=True)\n",
      "20:48:18 - cmdstanpy - INFO - Chain [1] start processing\n",
      "20:48:18 - cmdstanpy - INFO - Chain [1] done processing\n"
     ]
    },
    {
     "name": "stdout",
     "output_type": "stream",
     "text": [
      "Mean Absolute Error(MAE)------------------------------------ 3964.9686823981765\n",
      "{'changepoint_prior_scale': 0.25, 'holidays_prior_scale': 0.2, 'n_changepoints': 200, 'seasonality_mode': 'additive'}\n",
      "Mean Absolute Error(MAE)------------------------------------ 4803.721059958455\n"
     ]
    },
    {
     "name": "stderr",
     "output_type": "stream",
     "text": [
      "/var/folders/g7/jzp2y_x97yd3w1yf2x3s7wjc0000gn/T/ipykernel_16775/3669130598.py:21: FutureWarning: The frame.append method is deprecated and will be removed from pandas in a future version. Use pandas.concat instead.\n",
      "  model_parameters = model_parameters.append({'MAE':MAE,'Parameters':p},ignore_index=True)\n",
      "20:48:18 - cmdstanpy - INFO - Chain [1] start processing\n"
     ]
    },
    {
     "name": "stdout",
     "output_type": "stream",
     "text": [
      "{'changepoint_prior_scale': 0.25, 'holidays_prior_scale': 0.24, 'n_changepoints': 100, 'seasonality_mode': 'multiplicative'}\n"
     ]
    },
    {
     "name": "stderr",
     "output_type": "stream",
     "text": [
      "20:48:19 - cmdstanpy - INFO - Chain [1] done processing\n",
      "/var/folders/g7/jzp2y_x97yd3w1yf2x3s7wjc0000gn/T/ipykernel_16775/3669130598.py:21: FutureWarning: The frame.append method is deprecated and will be removed from pandas in a future version. Use pandas.concat instead.\n",
      "  model_parameters = model_parameters.append({'MAE':MAE,'Parameters':p},ignore_index=True)\n",
      "20:48:19 - cmdstanpy - INFO - Chain [1] start processing\n",
      "20:48:19 - cmdstanpy - INFO - Chain [1] done processing\n"
     ]
    },
    {
     "name": "stdout",
     "output_type": "stream",
     "text": [
      "Mean Absolute Error(MAE)------------------------------------ 3959.3444939141664\n",
      "{'changepoint_prior_scale': 0.25, 'holidays_prior_scale': 0.24, 'n_changepoints': 100, 'seasonality_mode': 'additive'}\n"
     ]
    },
    {
     "name": "stderr",
     "output_type": "stream",
     "text": [
      "/var/folders/g7/jzp2y_x97yd3w1yf2x3s7wjc0000gn/T/ipykernel_16775/3669130598.py:21: FutureWarning: The frame.append method is deprecated and will be removed from pandas in a future version. Use pandas.concat instead.\n",
      "  model_parameters = model_parameters.append({'MAE':MAE,'Parameters':p},ignore_index=True)\n",
      "20:48:19 - cmdstanpy - INFO - Chain [1] start processing\n"
     ]
    },
    {
     "name": "stdout",
     "output_type": "stream",
     "text": [
      "Mean Absolute Error(MAE)------------------------------------ 5225.709624387376\n",
      "{'changepoint_prior_scale': 0.25, 'holidays_prior_scale': 0.24, 'n_changepoints': 150, 'seasonality_mode': 'multiplicative'}\n"
     ]
    },
    {
     "name": "stderr",
     "output_type": "stream",
     "text": [
      "20:48:20 - cmdstanpy - INFO - Chain [1] done processing\n",
      "/var/folders/g7/jzp2y_x97yd3w1yf2x3s7wjc0000gn/T/ipykernel_16775/3669130598.py:21: FutureWarning: The frame.append method is deprecated and will be removed from pandas in a future version. Use pandas.concat instead.\n",
      "  model_parameters = model_parameters.append({'MAE':MAE,'Parameters':p},ignore_index=True)\n",
      "20:48:20 - cmdstanpy - INFO - Chain [1] start processing\n",
      "20:48:20 - cmdstanpy - INFO - Chain [1] done processing\n"
     ]
    },
    {
     "name": "stdout",
     "output_type": "stream",
     "text": [
      "Mean Absolute Error(MAE)------------------------------------ 3947.529261300235\n",
      "{'changepoint_prior_scale': 0.25, 'holidays_prior_scale': 0.24, 'n_changepoints': 150, 'seasonality_mode': 'additive'}\n"
     ]
    },
    {
     "name": "stderr",
     "output_type": "stream",
     "text": [
      "/var/folders/g7/jzp2y_x97yd3w1yf2x3s7wjc0000gn/T/ipykernel_16775/3669130598.py:21: FutureWarning: The frame.append method is deprecated and will be removed from pandas in a future version. Use pandas.concat instead.\n",
      "  model_parameters = model_parameters.append({'MAE':MAE,'Parameters':p},ignore_index=True)\n",
      "20:48:20 - cmdstanpy - INFO - Chain [1] start processing\n"
     ]
    },
    {
     "name": "stdout",
     "output_type": "stream",
     "text": [
      "Mean Absolute Error(MAE)------------------------------------ 5154.116020153862\n",
      "{'changepoint_prior_scale': 0.25, 'holidays_prior_scale': 0.24, 'n_changepoints': 200, 'seasonality_mode': 'multiplicative'}\n"
     ]
    },
    {
     "name": "stderr",
     "output_type": "stream",
     "text": [
      "20:48:21 - cmdstanpy - INFO - Chain [1] done processing\n",
      "/var/folders/g7/jzp2y_x97yd3w1yf2x3s7wjc0000gn/T/ipykernel_16775/3669130598.py:21: FutureWarning: The frame.append method is deprecated and will be removed from pandas in a future version. Use pandas.concat instead.\n",
      "  model_parameters = model_parameters.append({'MAE':MAE,'Parameters':p},ignore_index=True)\n",
      "20:48:21 - cmdstanpy - INFO - Chain [1] start processing\n",
      "20:48:21 - cmdstanpy - INFO - Chain [1] done processing\n"
     ]
    },
    {
     "name": "stdout",
     "output_type": "stream",
     "text": [
      "Mean Absolute Error(MAE)------------------------------------ 3964.9686823981765\n",
      "{'changepoint_prior_scale': 0.25, 'holidays_prior_scale': 0.24, 'n_changepoints': 200, 'seasonality_mode': 'additive'}\n",
      "Mean Absolute Error(MAE)------------------------------------ 4803.721059958455\n"
     ]
    },
    {
     "name": "stderr",
     "output_type": "stream",
     "text": [
      "/var/folders/g7/jzp2y_x97yd3w1yf2x3s7wjc0000gn/T/ipykernel_16775/3669130598.py:21: FutureWarning: The frame.append method is deprecated and will be removed from pandas in a future version. Use pandas.concat instead.\n",
      "  model_parameters = model_parameters.append({'MAE':MAE,'Parameters':p},ignore_index=True)\n"
     ]
    }
   ],
   "source": [
    "model_df = pd.DataFrame(columns = ['MAE','Parameters'])\n",
    "\n",
    "for param in grid:\n",
    "    test = pd.DataFrame()\n",
    "    print(param)\n",
    "    \n",
    "    ne_model = Prophet(changepoint_prior_scale = param['changepoint_prior_scale'],n_changepoints = param['n_changepoints'],\n",
    "                         seasonality_mode = param['seasonality_mode'],weekly_seasonality = True,daily_seasonality = True,\n",
    "                         yearly_seasonality = True,interval_width = 0.95)\n",
    "    ne_model.fit(X_train)\n",
    "    \n",
    "    ne_forecast = ne_model.make_future_dataframe(periods = 190, freq = 'D',include_history = False)\n",
    "    ne_forecast = ne_model.predict(ne_forecast)\n",
    "    \n",
    "    test = ne_forecast[['ds','yhat']]\n",
    "    Actual = ne_train[(ne_train['ds'] > start) & (ne_train['ds'] <= end)]\n",
    "    \n",
    "    MAE = mean_absolute_error(Actual['y'],abs(test['yhat']))\n",
    "    \n",
    "    print('Mean Absolute Error(MAE)------------------------------------',MAE)\n",
    "    \n",
    "    model_parameters = model_df.append({'MAE':MAE,'Parameters':p},ignore_index = True)"
   ]
  },
  {
   "cell_type": "code",
   "execution_count": 44,
   "id": "ab9b9439",
   "metadata": {},
   "outputs": [
    {
     "data": {
      "text/html": [
       "<div>\n",
       "<style scoped>\n",
       "    .dataframe tbody tr th:only-of-type {\n",
       "        vertical-align: middle;\n",
       "    }\n",
       "\n",
       "    .dataframe tbody tr th {\n",
       "        vertical-align: top;\n",
       "    }\n",
       "\n",
       "    .dataframe thead th {\n",
       "        text-align: right;\n",
       "    }\n",
       "</style>\n",
       "<table border=\"1\" class=\"dataframe\">\n",
       "  <thead>\n",
       "    <tr style=\"text-align: right;\">\n",
       "      <th></th>\n",
       "      <th>MAE</th>\n",
       "      <th>Parameters</th>\n",
       "    </tr>\n",
       "  </thead>\n",
       "  <tbody>\n",
       "    <tr>\n",
       "      <th>0</th>\n",
       "      <td>3947.529261</td>\n",
       "      <td>{'changepoint_prior_scale': 0.25, 'holidays_pr...</td>\n",
       "    </tr>\n",
       "    <tr>\n",
       "      <th>1</th>\n",
       "      <td>3947.529261</td>\n",
       "      <td>{'changepoint_prior_scale': 0.25, 'holidays_pr...</td>\n",
       "    </tr>\n",
       "    <tr>\n",
       "      <th>2</th>\n",
       "      <td>3947.529261</td>\n",
       "      <td>{'changepoint_prior_scale': 0.25, 'holidays_pr...</td>\n",
       "    </tr>\n",
       "    <tr>\n",
       "      <th>3</th>\n",
       "      <td>3947.529261</td>\n",
       "      <td>{'changepoint_prior_scale': 0.25, 'holidays_pr...</td>\n",
       "    </tr>\n",
       "    <tr>\n",
       "      <th>4</th>\n",
       "      <td>3959.344494</td>\n",
       "      <td>{'changepoint_prior_scale': 0.25, 'holidays_pr...</td>\n",
       "    </tr>\n",
       "  </tbody>\n",
       "</table>\n",
       "</div>"
      ],
      "text/plain": [
       "           MAE                                         Parameters\n",
       "0  3947.529261  {'changepoint_prior_scale': 0.25, 'holidays_pr...\n",
       "1  3947.529261  {'changepoint_prior_scale': 0.25, 'holidays_pr...\n",
       "2  3947.529261  {'changepoint_prior_scale': 0.25, 'holidays_pr...\n",
       "3  3947.529261  {'changepoint_prior_scale': 0.25, 'holidays_pr...\n",
       "4  3959.344494  {'changepoint_prior_scale': 0.25, 'holidays_pr..."
      ]
     },
     "execution_count": 44,
     "metadata": {},
     "output_type": "execute_result"
    }
   ],
   "source": [
    "param_df = model_parameters.sort_values(by = ['MAE'])\n",
    "param_df = param.reset_index(drop = True)\n",
    "param_df.head()"
   ]
  },
  {
   "cell_type": "code",
   "execution_count": 47,
   "id": "64065eea",
   "metadata": {},
   "outputs": [
    {
     "name": "stdout",
     "output_type": "stream",
     "text": [
      "Best Parameters for Model: {'changepoint_prior_scale': 0.25, 'holidays_prior_scale': 0.1, 'n_changepoints': 150, 'seasonality_mode': 'multiplicative'}\n"
     ]
    }
   ],
   "source": [
    "print(\"Best Parameters for Model:\", param['Parameters'][0])"
   ]
  },
  {
   "cell_type": "code",
   "execution_count": 49,
   "id": "75554dad",
   "metadata": {},
   "outputs": [
    {
     "name": "stderr",
     "output_type": "stream",
     "text": [
      "20:52:18 - cmdstanpy - INFO - Chain [1] start processing\n",
      "20:52:19 - cmdstanpy - INFO - Chain [1] done processing\n"
     ]
    },
    {
     "data": {
      "text/plain": [
       "<prophet.forecaster.Prophet at 0x7fdd12541490>"
      ]
     },
     "execution_count": 49,
     "metadata": {},
     "output_type": "execute_result"
    }
   ],
   "source": [
    "ne_model = Prophet(changepoint_prior_scale= 0.25,\n",
    "                   holidays_prior_scale = 0.1,n_changepoints = 150,\n",
    "                   seasonality_mode = 'multiplicative', weekly_seasonality =T rue,\n",
    "                   daily_seasonality = True,yearly_seasonality = True,interval_width = 0.95)\n",
    "ne_model.fit(X_train)"
   ]
  },
  {
   "cell_type": "code",
   "execution_count": 50,
   "id": "34a8349f",
   "metadata": {},
   "outputs": [
    {
     "data": {
      "image/png": "[encoded data removed]",
      "text/plain": [
       "<Figure size 648x1080 with 5 Axes>"
      ]
     },
     "metadata": {},
     "output_type": "display_data"
    }
   ],
   "source": [
    "ne_future = ne_model.make_future_dataframe(periods = 190, freq = 'D')\n",
    "ne_forecast = ne_model.predict(ne_future)\n",
    "\n",
    "ne_plots = ne_model.plot_components(ne_forecast)"
   ]
  },
  {
   "cell_type": "code",
   "execution_count": 51,
   "id": "dd814a3c",
   "metadata": {
    "scrolled": true
   },
   "outputs": [
    {
     "data": {
      "image/png": "[encoded data removed]",
      "text/plain": [
       "<Figure size 432x288 with 1 Axes>"
      ]
     },
     "metadata": {
      "needs_background": "light"
     },
     "output_type": "display_data"
    }
   ],
   "source": [
    "f, ax = plt.subplots(1)\n",
    "fig = ne_model.plot(ne_forecast,ax=ax)\n",
    "plt.show()"
   ]
  },
  {
   "cell_type": "code",
   "execution_count": 64,
   "id": "30e2ee86",
   "metadata": {},
   "outputs": [],
   "source": [
    "ne_test_pred = ne_model.predict(ne_test)"
   ]
  },
  {
   "cell_type": "code",
   "execution_count": 81,
   "id": "db934da5",
   "metadata": {},
   "outputs": [
    {
     "data": {
      "text/plain": [
       "<matplotlib.legend.Legend at 0x7fdd1342abe0>"
      ]
     },
     "execution_count": 81,
     "metadata": {},
     "output_type": "execute_result"
    },
    {
     "data": {
      "image/png": "[encoded data removed]",
      "text/plain": [
       "<Figure size 432x288 with 1 Axes>"
      ]
     },
     "metadata": {
      "needs_background": "light"
     },
     "output_type": "display_data"
    }
   ],
   "source": [
    "plt.plot(ne_test['y'], label = 'Actual')\n",
    "plt.plot(ne_test_pred['yhat'], label = 'Predicted')\n",
    "plt.xlabel('Days From July 31, 2020')\n",
    "plt.ylabel('Cases')\n",
    "plt.title('Actual vs. Predicted')\n",
    "plt.legend()"
   ]
  },
  {
   "cell_type": "code",
   "execution_count": 66,
   "id": "1a7e1469",
   "metadata": {},
   "outputs": [
    {
     "data": {
      "text/plain": [
       "561.9979821584915"
      ]
     },
     "execution_count": 66,
     "metadata": {},
     "output_type": "execute_result"
    }
   ],
   "source": [
    "mean_absolute_error(ne_test['y'],abs(ne_test_pred['yhat']))"
   ]
  },
  {
   "cell_type": "markdown",
   "id": "d9f14c7f",
   "metadata": {},
   "source": [
    "### Model - South"
   ]
  },
  {
   "cell_type": "code",
   "execution_count": 8,
   "id": "0293ffac",
   "metadata": {},
   "outputs": [],
   "source": [
    "end_date = '2020-7-30'\n",
    "part1 = (south_train['ds'] <= end_date)\n",
    "part2 = (south_train['ds'] > end_date)\n",
    "\n",
    "X_train = south_train.loc[part1]"
   ]
  },
  {
   "cell_type": "code",
   "execution_count": 9,
   "id": "4768a267",
   "metadata": {},
   "outputs": [],
   "source": [
    "start='2020-01-22'\n",
    "end='2020-07-30'"
   ]
  },
  {
   "cell_type": "code",
   "execution_count": 10,
   "id": "4d4e6ec8",
   "metadata": {},
   "outputs": [],
   "source": [
    "params_grid = {'seasonality_mode':('multiplicative','additive'),\n",
    "               'changepoint_prior_scale':[0.1,0.01,0.001,0.2],\n",
    "               'holidays_prior_scale' : [0.24, 0.2, 0.1],\n",
    "              'n_changepoints' : [100,150,200]}\n",
    "grid = ParameterGrid(params_grid)"
   ]
  },
  {
   "cell_type": "code",
   "execution_count": 11,
   "id": "a8500094",
   "metadata": {},
   "outputs": [
    {
     "name": "stdout",
     "output_type": "stream",
     "text": [
      "{'changepoint_prior_scale': 0.1, 'holidays_prior_scale': 0.24, 'n_changepoints': 100, 'seasonality_mode': 'multiplicative'}\n"
     ]
    },
    {
     "name": "stderr",
     "output_type": "stream",
     "text": [
      "21:49:03 - cmdstanpy - INFO - Chain [1] start processing\n",
      "21:49:03 - cmdstanpy - INFO - Chain [1] done processing\n",
      "/var/folders/g7/jzp2y_x97yd3w1yf2x3s7wjc0000gn/T/ipykernel_51333/1474502826.py:20: FutureWarning: The frame.append method is deprecated and will be removed from pandas in a future version. Use pandas.concat instead.\n",
      "  model_parameters = model_parameters.append({'MAE':MAE,'Parameters':p},ignore_index=True)\n",
      "21:49:03 - cmdstanpy - INFO - Chain [1] start processing\n",
      "21:49:03 - cmdstanpy - INFO - Chain [1] done processing\n"
     ]
    },
    {
     "name": "stdout",
     "output_type": "stream",
     "text": [
      "Mean Absolute Error(MAE)------------------------------------ 18823.97515268745\n",
      "{'changepoint_prior_scale': 0.1, 'holidays_prior_scale': 0.24, 'n_changepoints': 100, 'seasonality_mode': 'additive'}\n"
     ]
    },
    {
     "name": "stderr",
     "output_type": "stream",
     "text": [
      "/var/folders/g7/jzp2y_x97yd3w1yf2x3s7wjc0000gn/T/ipykernel_51333/1474502826.py:20: FutureWarning: The frame.append method is deprecated and will be removed from pandas in a future version. Use pandas.concat instead.\n",
      "  model_parameters = model_parameters.append({'MAE':MAE,'Parameters':p},ignore_index=True)\n",
      "21:49:03 - cmdstanpy - INFO - Chain [1] start processing\n",
      "21:49:03 - cmdstanpy - INFO - Chain [1] done processing\n"
     ]
    },
    {
     "name": "stdout",
     "output_type": "stream",
     "text": [
      "Mean Absolute Error(MAE)------------------------------------ 32046.768660328657\n",
      "{'changepoint_prior_scale': 0.1, 'holidays_prior_scale': 0.24, 'n_changepoints': 150, 'seasonality_mode': 'multiplicative'}\n"
     ]
    },
    {
     "name": "stderr",
     "output_type": "stream",
     "text": [
      "/var/folders/g7/jzp2y_x97yd3w1yf2x3s7wjc0000gn/T/ipykernel_51333/1474502826.py:20: FutureWarning: The frame.append method is deprecated and will be removed from pandas in a future version. Use pandas.concat instead.\n",
      "  model_parameters = model_parameters.append({'MAE':MAE,'Parameters':p},ignore_index=True)\n",
      "21:49:03 - cmdstanpy - INFO - Chain [1] start processing\n",
      "21:49:04 - cmdstanpy - INFO - Chain [1] done processing\n"
     ]
    },
    {
     "name": "stdout",
     "output_type": "stream",
     "text": [
      "Mean Absolute Error(MAE)------------------------------------ 18677.973122341544\n",
      "{'changepoint_prior_scale': 0.1, 'holidays_prior_scale': 0.24, 'n_changepoints': 150, 'seasonality_mode': 'additive'}\n"
     ]
    },
    {
     "name": "stderr",
     "output_type": "stream",
     "text": [
      "/var/folders/g7/jzp2y_x97yd3w1yf2x3s7wjc0000gn/T/ipykernel_51333/1474502826.py:20: FutureWarning: The frame.append method is deprecated and will be removed from pandas in a future version. Use pandas.concat instead.\n",
      "  model_parameters = model_parameters.append({'MAE':MAE,'Parameters':p},ignore_index=True)\n",
      "21:49:04 - cmdstanpy - INFO - Chain [1] start processing\n",
      "21:49:04 - cmdstanpy - INFO - Chain [1] done processing\n"
     ]
    },
    {
     "name": "stdout",
     "output_type": "stream",
     "text": [
      "Mean Absolute Error(MAE)------------------------------------ 32032.43497816482\n",
      "{'changepoint_prior_scale': 0.1, 'holidays_prior_scale': 0.24, 'n_changepoints': 200, 'seasonality_mode': 'multiplicative'}\n"
     ]
    },
    {
     "name": "stderr",
     "output_type": "stream",
     "text": [
      "/var/folders/g7/jzp2y_x97yd3w1yf2x3s7wjc0000gn/T/ipykernel_51333/1474502826.py:20: FutureWarning: The frame.append method is deprecated and will be removed from pandas in a future version. Use pandas.concat instead.\n",
      "  model_parameters = model_parameters.append({'MAE':MAE,'Parameters':p},ignore_index=True)\n",
      "21:49:04 - cmdstanpy - INFO - Chain [1] start processing\n",
      "21:49:04 - cmdstanpy - INFO - Chain [1] done processing\n"
     ]
    },
    {
     "name": "stdout",
     "output_type": "stream",
     "text": [
      "Mean Absolute Error(MAE)------------------------------------ 18696.01855755469\n",
      "{'changepoint_prior_scale': 0.1, 'holidays_prior_scale': 0.24, 'n_changepoints': 200, 'seasonality_mode': 'additive'}\n"
     ]
    },
    {
     "name": "stderr",
     "output_type": "stream",
     "text": [
      "/var/folders/g7/jzp2y_x97yd3w1yf2x3s7wjc0000gn/T/ipykernel_51333/1474502826.py:20: FutureWarning: The frame.append method is deprecated and will be removed from pandas in a future version. Use pandas.concat instead.\n",
      "  model_parameters = model_parameters.append({'MAE':MAE,'Parameters':p},ignore_index=True)\n",
      "21:49:04 - cmdstanpy - INFO - Chain [1] start processing\n",
      "21:49:04 - cmdstanpy - INFO - Chain [1] done processing\n"
     ]
    },
    {
     "name": "stdout",
     "output_type": "stream",
     "text": [
      "Mean Absolute Error(MAE)------------------------------------ 32058.81171054095\n",
      "{'changepoint_prior_scale': 0.1, 'holidays_prior_scale': 0.2, 'n_changepoints': 100, 'seasonality_mode': 'multiplicative'}\n",
      "Mean Absolute Error(MAE)------------------------------------ 18823.97515268745\n"
     ]
    },
    {
     "name": "stderr",
     "output_type": "stream",
     "text": [
      "/var/folders/g7/jzp2y_x97yd3w1yf2x3s7wjc0000gn/T/ipykernel_51333/1474502826.py:20: FutureWarning: The frame.append method is deprecated and will be removed from pandas in a future version. Use pandas.concat instead.\n",
      "  model_parameters = model_parameters.append({'MAE':MAE,'Parameters':p},ignore_index=True)\n",
      "21:49:04 - cmdstanpy - INFO - Chain [1] start processing\n",
      "21:49:04 - cmdstanpy - INFO - Chain [1] done processing\n",
      "/var/folders/g7/jzp2y_x97yd3w1yf2x3s7wjc0000gn/T/ipykernel_51333/1474502826.py:20: FutureWarning: The frame.append method is deprecated and will be removed from pandas in a future version. Use pandas.concat instead.\n",
      "  model_parameters = model_parameters.append({'MAE':MAE,'Parameters':p},ignore_index=True)\n"
     ]
    },
    {
     "name": "stdout",
     "output_type": "stream",
     "text": [
      "{'changepoint_prior_scale': 0.1, 'holidays_prior_scale': 0.2, 'n_changepoints': 100, 'seasonality_mode': 'additive'}\n",
      "Mean Absolute Error(MAE)------------------------------------ 32046.768660328657\n",
      "{'changepoint_prior_scale': 0.1, 'holidays_prior_scale': 0.2, 'n_changepoints': 150, 'seasonality_mode': 'multiplicative'}\n"
     ]
    },
    {
     "name": "stderr",
     "output_type": "stream",
     "text": [
      "21:49:05 - cmdstanpy - INFO - Chain [1] start processing\n",
      "21:49:05 - cmdstanpy - INFO - Chain [1] done processing\n",
      "/var/folders/g7/jzp2y_x97yd3w1yf2x3s7wjc0000gn/T/ipykernel_51333/1474502826.py:20: FutureWarning: The frame.append method is deprecated and will be removed from pandas in a future version. Use pandas.concat instead.\n",
      "  model_parameters = model_parameters.append({'MAE':MAE,'Parameters':p},ignore_index=True)\n",
      "21:49:05 - cmdstanpy - INFO - Chain [1] start processing\n",
      "21:49:05 - cmdstanpy - INFO - Chain [1] done processing\n"
     ]
    },
    {
     "name": "stdout",
     "output_type": "stream",
     "text": [
      "Mean Absolute Error(MAE)------------------------------------ 18677.973122341544\n",
      "{'changepoint_prior_scale': 0.1, 'holidays_prior_scale': 0.2, 'n_changepoints': 150, 'seasonality_mode': 'additive'}\n",
      "Mean Absolute Error(MAE)------------------------------------ 32032.43497816482\n"
     ]
    },
    {
     "name": "stderr",
     "output_type": "stream",
     "text": [
      "/var/folders/g7/jzp2y_x97yd3w1yf2x3s7wjc0000gn/T/ipykernel_51333/1474502826.py:20: FutureWarning: The frame.append method is deprecated and will be removed from pandas in a future version. Use pandas.concat instead.\n",
      "  model_parameters = model_parameters.append({'MAE':MAE,'Parameters':p},ignore_index=True)\n",
      "21:49:05 - cmdstanpy - INFO - Chain [1] start processing\n",
      "21:49:05 - cmdstanpy - INFO - Chain [1] done processing\n"
     ]
    },
    {
     "name": "stdout",
     "output_type": "stream",
     "text": [
      "{'changepoint_prior_scale': 0.1, 'holidays_prior_scale': 0.2, 'n_changepoints': 200, 'seasonality_mode': 'multiplicative'}\n",
      "Mean Absolute Error(MAE)------------------------------------ 18696.01855755469\n"
     ]
    },
    {
     "name": "stderr",
     "output_type": "stream",
     "text": [
      "/var/folders/g7/jzp2y_x97yd3w1yf2x3s7wjc0000gn/T/ipykernel_51333/1474502826.py:20: FutureWarning: The frame.append method is deprecated and will be removed from pandas in a future version. Use pandas.concat instead.\n",
      "  model_parameters = model_parameters.append({'MAE':MAE,'Parameters':p},ignore_index=True)\n",
      "21:49:05 - cmdstanpy - INFO - Chain [1] start processing\n",
      "21:49:05 - cmdstanpy - INFO - Chain [1] done processing\n"
     ]
    },
    {
     "name": "stdout",
     "output_type": "stream",
     "text": [
      "{'changepoint_prior_scale': 0.1, 'holidays_prior_scale': 0.2, 'n_changepoints': 200, 'seasonality_mode': 'additive'}\n",
      "Mean Absolute Error(MAE)------------------------------------ 32058.81171054095\n"
     ]
    },
    {
     "name": "stderr",
     "output_type": "stream",
     "text": [
      "/var/folders/g7/jzp2y_x97yd3w1yf2x3s7wjc0000gn/T/ipykernel_51333/1474502826.py:20: FutureWarning: The frame.append method is deprecated and will be removed from pandas in a future version. Use pandas.concat instead.\n",
      "  model_parameters = model_parameters.append({'MAE':MAE,'Parameters':p},ignore_index=True)\n",
      "21:49:05 - cmdstanpy - INFO - Chain [1] start processing\n",
      "21:49:05 - cmdstanpy - INFO - Chain [1] done processing\n",
      "/var/folders/g7/jzp2y_x97yd3w1yf2x3s7wjc0000gn/T/ipykernel_51333/1474502826.py:20: FutureWarning: The frame.append method is deprecated and will be removed from pandas in a future version. Use pandas.concat instead.\n",
      "  model_parameters = model_parameters.append({'MAE':MAE,'Parameters':p},ignore_index=True)\n"
     ]
    },
    {
     "name": "stdout",
     "output_type": "stream",
     "text": [
      "{'changepoint_prior_scale': 0.1, 'holidays_prior_scale': 0.1, 'n_changepoints': 100, 'seasonality_mode': 'multiplicative'}\n",
      "Mean Absolute Error(MAE)------------------------------------ 18823.97515268745\n",
      "{'changepoint_prior_scale': 0.1, 'holidays_prior_scale': 0.1, 'n_changepoints': 100, 'seasonality_mode': 'additive'}\n"
     ]
    },
    {
     "name": "stderr",
     "output_type": "stream",
     "text": [
      "21:49:06 - cmdstanpy - INFO - Chain [1] start processing\n",
      "21:49:06 - cmdstanpy - INFO - Chain [1] done processing\n",
      "/var/folders/g7/jzp2y_x97yd3w1yf2x3s7wjc0000gn/T/ipykernel_51333/1474502826.py:20: FutureWarning: The frame.append method is deprecated and will be removed from pandas in a future version. Use pandas.concat instead.\n",
      "  model_parameters = model_parameters.append({'MAE':MAE,'Parameters':p},ignore_index=True)\n",
      "21:49:06 - cmdstanpy - INFO - Chain [1] start processing\n",
      "21:49:06 - cmdstanpy - INFO - Chain [1] done processing\n"
     ]
    },
    {
     "name": "stdout",
     "output_type": "stream",
     "text": [
      "Mean Absolute Error(MAE)------------------------------------ 32046.768660328657\n",
      "{'changepoint_prior_scale': 0.1, 'holidays_prior_scale': 0.1, 'n_changepoints': 150, 'seasonality_mode': 'multiplicative'}\n"
     ]
    },
    {
     "name": "stderr",
     "output_type": "stream",
     "text": [
      "/var/folders/g7/jzp2y_x97yd3w1yf2x3s7wjc0000gn/T/ipykernel_51333/1474502826.py:20: FutureWarning: The frame.append method is deprecated and will be removed from pandas in a future version. Use pandas.concat instead.\n",
      "  model_parameters = model_parameters.append({'MAE':MAE,'Parameters':p},ignore_index=True)\n",
      "21:49:06 - cmdstanpy - INFO - Chain [1] start processing\n",
      "21:49:06 - cmdstanpy - INFO - Chain [1] done processing\n"
     ]
    },
    {
     "name": "stdout",
     "output_type": "stream",
     "text": [
      "Mean Absolute Error(MAE)------------------------------------ 18677.973122341544\n",
      "{'changepoint_prior_scale': 0.1, 'holidays_prior_scale': 0.1, 'n_changepoints': 150, 'seasonality_mode': 'additive'}\n",
      "Mean Absolute Error(MAE)------------------------------------ 32032.43497816482\n"
     ]
    },
    {
     "name": "stderr",
     "output_type": "stream",
     "text": [
      "/var/folders/g7/jzp2y_x97yd3w1yf2x3s7wjc0000gn/T/ipykernel_51333/1474502826.py:20: FutureWarning: The frame.append method is deprecated and will be removed from pandas in a future version. Use pandas.concat instead.\n",
      "  model_parameters = model_parameters.append({'MAE':MAE,'Parameters':p},ignore_index=True)\n",
      "21:49:06 - cmdstanpy - INFO - Chain [1] start processing\n",
      "21:49:06 - cmdstanpy - INFO - Chain [1] done processing\n"
     ]
    },
    {
     "name": "stdout",
     "output_type": "stream",
     "text": [
      "{'changepoint_prior_scale': 0.1, 'holidays_prior_scale': 0.1, 'n_changepoints': 200, 'seasonality_mode': 'multiplicative'}\n",
      "Mean Absolute Error(MAE)------------------------------------ 18696.01855755469\n"
     ]
    },
    {
     "name": "stderr",
     "output_type": "stream",
     "text": [
      "/var/folders/g7/jzp2y_x97yd3w1yf2x3s7wjc0000gn/T/ipykernel_51333/1474502826.py:20: FutureWarning: The frame.append method is deprecated and will be removed from pandas in a future version. Use pandas.concat instead.\n",
      "  model_parameters = model_parameters.append({'MAE':MAE,'Parameters':p},ignore_index=True)\n",
      "21:49:06 - cmdstanpy - INFO - Chain [1] start processing\n",
      "21:49:06 - cmdstanpy - INFO - Chain [1] done processing\n",
      "/var/folders/g7/jzp2y_x97yd3w1yf2x3s7wjc0000gn/T/ipykernel_51333/1474502826.py:20: FutureWarning: The frame.append method is deprecated and will be removed from pandas in a future version. Use pandas.concat instead.\n",
      "  model_parameters = model_parameters.append({'MAE':MAE,'Parameters':p},ignore_index=True)\n"
     ]
    },
    {
     "name": "stdout",
     "output_type": "stream",
     "text": [
      "{'changepoint_prior_scale': 0.1, 'holidays_prior_scale': 0.1, 'n_changepoints': 200, 'seasonality_mode': 'additive'}\n",
      "Mean Absolute Error(MAE)------------------------------------ 32058.81171054095\n",
      "{'changepoint_prior_scale': 0.01, 'holidays_prior_scale': 0.24, 'n_changepoints': 100, 'seasonality_mode': 'multiplicative'}\n"
     ]
    },
    {
     "name": "stderr",
     "output_type": "stream",
     "text": [
      "21:49:07 - cmdstanpy - INFO - Chain [1] start processing\n",
      "21:49:07 - cmdstanpy - INFO - Chain [1] done processing\n",
      "21:49:07 - cmdstanpy - ERROR - Chain [1] error: error during processing Operation not permitted\n",
      "Optimization terminated abnormally. Falling back to Newton.\n",
      "21:49:07 - cmdstanpy - INFO - Chain [1] start processing\n",
      "21:49:12 - cmdstanpy - INFO - Chain [1] done processing\n",
      "/var/folders/g7/jzp2y_x97yd3w1yf2x3s7wjc0000gn/T/ipykernel_51333/1474502826.py:20: FutureWarning: The frame.append method is deprecated and will be removed from pandas in a future version. Use pandas.concat instead.\n",
      "  model_parameters = model_parameters.append({'MAE':MAE,'Parameters':p},ignore_index=True)\n",
      "21:49:12 - cmdstanpy - INFO - Chain [1] start processing\n",
      "21:49:12 - cmdstanpy - INFO - Chain [1] done processing\n",
      "21:49:12 - cmdstanpy - ERROR - Chain [1] error: error during processing Operation not permitted\n",
      "Optimization terminated abnormally. Falling back to Newton.\n",
      "21:49:13 - cmdstanpy - INFO - Chain [1] start processing\n"
     ]
    },
    {
     "name": "stdout",
     "output_type": "stream",
     "text": [
      "Mean Absolute Error(MAE)------------------------------------ 102796.95796746908\n",
      "{'changepoint_prior_scale': 0.01, 'holidays_prior_scale': 0.24, 'n_changepoints': 100, 'seasonality_mode': 'additive'}\n"
     ]
    },
    {
     "name": "stderr",
     "output_type": "stream",
     "text": [
      "21:49:21 - cmdstanpy - INFO - Chain [1] done processing\n",
      "/var/folders/g7/jzp2y_x97yd3w1yf2x3s7wjc0000gn/T/ipykernel_51333/1474502826.py:20: FutureWarning: The frame.append method is deprecated and will be removed from pandas in a future version. Use pandas.concat instead.\n",
      "  model_parameters = model_parameters.append({'MAE':MAE,'Parameters':p},ignore_index=True)\n",
      "21:49:21 - cmdstanpy - INFO - Chain [1] start processing\n",
      "21:49:21 - cmdstanpy - INFO - Chain [1] done processing\n",
      "21:49:21 - cmdstanpy - ERROR - Chain [1] error: error during processing Operation not permitted\n",
      "Optimization terminated abnormally. Falling back to Newton.\n",
      "21:49:21 - cmdstanpy - INFO - Chain [1] start processing\n"
     ]
    },
    {
     "name": "stdout",
     "output_type": "stream",
     "text": [
      "Mean Absolute Error(MAE)------------------------------------ 326137.338478006\n",
      "{'changepoint_prior_scale': 0.01, 'holidays_prior_scale': 0.24, 'n_changepoints': 150, 'seasonality_mode': 'multiplicative'}\n"
     ]
    },
    {
     "name": "stderr",
     "output_type": "stream",
     "text": [
      "21:49:28 - cmdstanpy - INFO - Chain [1] done processing\n",
      "/var/folders/g7/jzp2y_x97yd3w1yf2x3s7wjc0000gn/T/ipykernel_51333/1474502826.py:20: FutureWarning: The frame.append method is deprecated and will be removed from pandas in a future version. Use pandas.concat instead.\n",
      "  model_parameters = model_parameters.append({'MAE':MAE,'Parameters':p},ignore_index=True)\n",
      "21:49:28 - cmdstanpy - INFO - Chain [1] start processing\n",
      "21:49:28 - cmdstanpy - INFO - Chain [1] done processing\n",
      "21:49:28 - cmdstanpy - ERROR - Chain [1] error: error during processing Operation not permitted\n",
      "Optimization terminated abnormally. Falling back to Newton.\n",
      "21:49:28 - cmdstanpy - INFO - Chain [1] start processing\n"
     ]
    },
    {
     "name": "stdout",
     "output_type": "stream",
     "text": [
      "Mean Absolute Error(MAE)------------------------------------ 200315.3029671421\n",
      "{'changepoint_prior_scale': 0.01, 'holidays_prior_scale': 0.24, 'n_changepoints': 150, 'seasonality_mode': 'additive'}\n"
     ]
    },
    {
     "name": "stderr",
     "output_type": "stream",
     "text": [
      "21:49:30 - cmdstanpy - INFO - Chain [1] done processing\n",
      "/var/folders/g7/jzp2y_x97yd3w1yf2x3s7wjc0000gn/T/ipykernel_51333/1474502826.py:20: FutureWarning: The frame.append method is deprecated and will be removed from pandas in a future version. Use pandas.concat instead.\n",
      "  model_parameters = model_parameters.append({'MAE':MAE,'Parameters':p},ignore_index=True)\n",
      "21:49:30 - cmdstanpy - INFO - Chain [1] start processing\n",
      "21:49:30 - cmdstanpy - INFO - Chain [1] done processing\n",
      "21:49:30 - cmdstanpy - ERROR - Chain [1] error: error during processing Operation not permitted\n",
      "Optimization terminated abnormally. Falling back to Newton.\n",
      "21:49:30 - cmdstanpy - INFO - Chain [1] start processing\n"
     ]
    },
    {
     "name": "stdout",
     "output_type": "stream",
     "text": [
      "Mean Absolute Error(MAE)------------------------------------ 346868.52787720226\n",
      "{'changepoint_prior_scale': 0.01, 'holidays_prior_scale': 0.24, 'n_changepoints': 200, 'seasonality_mode': 'multiplicative'}\n"
     ]
    },
    {
     "name": "stderr",
     "output_type": "stream",
     "text": [
      "21:49:39 - cmdstanpy - INFO - Chain [1] done processing\n",
      "/var/folders/g7/jzp2y_x97yd3w1yf2x3s7wjc0000gn/T/ipykernel_51333/1474502826.py:20: FutureWarning: The frame.append method is deprecated and will be removed from pandas in a future version. Use pandas.concat instead.\n",
      "  model_parameters = model_parameters.append({'MAE':MAE,'Parameters':p},ignore_index=True)\n",
      "21:49:39 - cmdstanpy - INFO - Chain [1] start processing\n",
      "21:49:39 - cmdstanpy - INFO - Chain [1] done processing\n",
      "21:49:39 - cmdstanpy - ERROR - Chain [1] error: error during processing Operation not permitted\n",
      "Optimization terminated abnormally. Falling back to Newton.\n",
      "21:49:39 - cmdstanpy - INFO - Chain [1] start processing\n"
     ]
    },
    {
     "name": "stdout",
     "output_type": "stream",
     "text": [
      "Mean Absolute Error(MAE)------------------------------------ 198021.14255718942\n",
      "{'changepoint_prior_scale': 0.01, 'holidays_prior_scale': 0.24, 'n_changepoints': 200, 'seasonality_mode': 'additive'}\n"
     ]
    },
    {
     "name": "stderr",
     "output_type": "stream",
     "text": [
      "21:49:42 - cmdstanpy - INFO - Chain [1] done processing\n",
      "/var/folders/g7/jzp2y_x97yd3w1yf2x3s7wjc0000gn/T/ipykernel_51333/1474502826.py:20: FutureWarning: The frame.append method is deprecated and will be removed from pandas in a future version. Use pandas.concat instead.\n",
      "  model_parameters = model_parameters.append({'MAE':MAE,'Parameters':p},ignore_index=True)\n",
      "21:49:42 - cmdstanpy - INFO - Chain [1] start processing\n",
      "21:49:42 - cmdstanpy - INFO - Chain [1] done processing\n",
      "21:49:42 - cmdstanpy - ERROR - Chain [1] error: error during processing Operation not permitted\n",
      "Optimization terminated abnormally. Falling back to Newton.\n",
      "21:49:42 - cmdstanpy - INFO - Chain [1] start processing\n"
     ]
    },
    {
     "name": "stdout",
     "output_type": "stream",
     "text": [
      "Mean Absolute Error(MAE)------------------------------------ 347018.7835866408\n",
      "{'changepoint_prior_scale': 0.01, 'holidays_prior_scale': 0.2, 'n_changepoints': 100, 'seasonality_mode': 'multiplicative'}\n"
     ]
    },
    {
     "name": "stderr",
     "output_type": "stream",
     "text": [
      "21:49:47 - cmdstanpy - INFO - Chain [1] done processing\n",
      "/var/folders/g7/jzp2y_x97yd3w1yf2x3s7wjc0000gn/T/ipykernel_51333/1474502826.py:20: FutureWarning: The frame.append method is deprecated and will be removed from pandas in a future version. Use pandas.concat instead.\n",
      "  model_parameters = model_parameters.append({'MAE':MAE,'Parameters':p},ignore_index=True)\n",
      "21:49:47 - cmdstanpy - INFO - Chain [1] start processing\n",
      "21:49:47 - cmdstanpy - INFO - Chain [1] done processing\n",
      "21:49:47 - cmdstanpy - ERROR - Chain [1] error: error during processing Operation not permitted\n",
      "Optimization terminated abnormally. Falling back to Newton.\n",
      "21:49:47 - cmdstanpy - INFO - Chain [1] start processing\n"
     ]
    },
    {
     "name": "stdout",
     "output_type": "stream",
     "text": [
      "Mean Absolute Error(MAE)------------------------------------ 102796.95796746908\n",
      "{'changepoint_prior_scale': 0.01, 'holidays_prior_scale': 0.2, 'n_changepoints': 100, 'seasonality_mode': 'additive'}\n"
     ]
    },
    {
     "name": "stderr",
     "output_type": "stream",
     "text": [
      "21:49:57 - cmdstanpy - INFO - Chain [1] done processing\n",
      "/var/folders/g7/jzp2y_x97yd3w1yf2x3s7wjc0000gn/T/ipykernel_51333/1474502826.py:20: FutureWarning: The frame.append method is deprecated and will be removed from pandas in a future version. Use pandas.concat instead.\n",
      "  model_parameters = model_parameters.append({'MAE':MAE,'Parameters':p},ignore_index=True)\n",
      "21:49:57 - cmdstanpy - INFO - Chain [1] start processing\n",
      "21:49:57 - cmdstanpy - INFO - Chain [1] done processing\n",
      "21:49:57 - cmdstanpy - ERROR - Chain [1] error: error during processing Operation not permitted\n",
      "Optimization terminated abnormally. Falling back to Newton.\n",
      "21:49:57 - cmdstanpy - INFO - Chain [1] start processing\n"
     ]
    },
    {
     "name": "stdout",
     "output_type": "stream",
     "text": [
      "Mean Absolute Error(MAE)------------------------------------ 326137.338478006\n",
      "{'changepoint_prior_scale': 0.01, 'holidays_prior_scale': 0.2, 'n_changepoints': 150, 'seasonality_mode': 'multiplicative'}\n"
     ]
    },
    {
     "name": "stderr",
     "output_type": "stream",
     "text": [
      "21:50:03 - cmdstanpy - INFO - Chain [1] done processing\n",
      "/var/folders/g7/jzp2y_x97yd3w1yf2x3s7wjc0000gn/T/ipykernel_51333/1474502826.py:20: FutureWarning: The frame.append method is deprecated and will be removed from pandas in a future version. Use pandas.concat instead.\n",
      "  model_parameters = model_parameters.append({'MAE':MAE,'Parameters':p},ignore_index=True)\n",
      "21:50:04 - cmdstanpy - INFO - Chain [1] start processing\n",
      "21:50:04 - cmdstanpy - INFO - Chain [1] done processing\n",
      "21:50:04 - cmdstanpy - ERROR - Chain [1] error: error during processing Operation not permitted\n",
      "Optimization terminated abnormally. Falling back to Newton.\n",
      "21:50:04 - cmdstanpy - INFO - Chain [1] start processing\n"
     ]
    },
    {
     "name": "stdout",
     "output_type": "stream",
     "text": [
      "Mean Absolute Error(MAE)------------------------------------ 200315.3029671421\n",
      "{'changepoint_prior_scale': 0.01, 'holidays_prior_scale': 0.2, 'n_changepoints': 150, 'seasonality_mode': 'additive'}\n"
     ]
    },
    {
     "name": "stderr",
     "output_type": "stream",
     "text": [
      "21:50:06 - cmdstanpy - INFO - Chain [1] done processing\n",
      "/var/folders/g7/jzp2y_x97yd3w1yf2x3s7wjc0000gn/T/ipykernel_51333/1474502826.py:20: FutureWarning: The frame.append method is deprecated and will be removed from pandas in a future version. Use pandas.concat instead.\n",
      "  model_parameters = model_parameters.append({'MAE':MAE,'Parameters':p},ignore_index=True)\n",
      "21:50:06 - cmdstanpy - INFO - Chain [1] start processing\n",
      "21:50:06 - cmdstanpy - INFO - Chain [1] done processing\n",
      "21:50:06 - cmdstanpy - ERROR - Chain [1] error: error during processing Operation not permitted\n",
      "Optimization terminated abnormally. Falling back to Newton.\n",
      "21:50:06 - cmdstanpy - INFO - Chain [1] start processing\n"
     ]
    },
    {
     "name": "stdout",
     "output_type": "stream",
     "text": [
      "Mean Absolute Error(MAE)------------------------------------ 346868.52787720226\n",
      "{'changepoint_prior_scale': 0.01, 'holidays_prior_scale': 0.2, 'n_changepoints': 200, 'seasonality_mode': 'multiplicative'}\n"
     ]
    },
    {
     "name": "stderr",
     "output_type": "stream",
     "text": [
      "21:50:15 - cmdstanpy - INFO - Chain [1] done processing\n",
      "/var/folders/g7/jzp2y_x97yd3w1yf2x3s7wjc0000gn/T/ipykernel_51333/1474502826.py:20: FutureWarning: The frame.append method is deprecated and will be removed from pandas in a future version. Use pandas.concat instead.\n",
      "  model_parameters = model_parameters.append({'MAE':MAE,'Parameters':p},ignore_index=True)\n",
      "21:50:16 - cmdstanpy - INFO - Chain [1] start processing\n",
      "21:50:16 - cmdstanpy - INFO - Chain [1] done processing\n",
      "21:50:16 - cmdstanpy - ERROR - Chain [1] error: error during processing Operation not permitted\n",
      "Optimization terminated abnormally. Falling back to Newton.\n",
      "21:50:16 - cmdstanpy - INFO - Chain [1] start processing\n"
     ]
    },
    {
     "name": "stdout",
     "output_type": "stream",
     "text": [
      "Mean Absolute Error(MAE)------------------------------------ 198021.14255718942\n",
      "{'changepoint_prior_scale': 0.01, 'holidays_prior_scale': 0.2, 'n_changepoints': 200, 'seasonality_mode': 'additive'}\n"
     ]
    },
    {
     "name": "stderr",
     "output_type": "stream",
     "text": [
      "21:50:18 - cmdstanpy - INFO - Chain [1] done processing\n",
      "/var/folders/g7/jzp2y_x97yd3w1yf2x3s7wjc0000gn/T/ipykernel_51333/1474502826.py:20: FutureWarning: The frame.append method is deprecated and will be removed from pandas in a future version. Use pandas.concat instead.\n",
      "  model_parameters = model_parameters.append({'MAE':MAE,'Parameters':p},ignore_index=True)\n",
      "21:50:18 - cmdstanpy - INFO - Chain [1] start processing\n",
      "21:50:18 - cmdstanpy - INFO - Chain [1] done processing\n",
      "21:50:18 - cmdstanpy - ERROR - Chain [1] error: error during processing Operation not permitted\n",
      "Optimization terminated abnormally. Falling back to Newton.\n",
      "21:50:18 - cmdstanpy - INFO - Chain [1] start processing\n"
     ]
    },
    {
     "name": "stdout",
     "output_type": "stream",
     "text": [
      "Mean Absolute Error(MAE)------------------------------------ 347018.7835866408\n",
      "{'changepoint_prior_scale': 0.01, 'holidays_prior_scale': 0.1, 'n_changepoints': 100, 'seasonality_mode': 'multiplicative'}\n"
     ]
    },
    {
     "name": "stderr",
     "output_type": "stream",
     "text": [
      "21:50:23 - cmdstanpy - INFO - Chain [1] done processing\n",
      "/var/folders/g7/jzp2y_x97yd3w1yf2x3s7wjc0000gn/T/ipykernel_51333/1474502826.py:20: FutureWarning: The frame.append method is deprecated and will be removed from pandas in a future version. Use pandas.concat instead.\n",
      "  model_parameters = model_parameters.append({'MAE':MAE,'Parameters':p},ignore_index=True)\n",
      "21:50:23 - cmdstanpy - INFO - Chain [1] start processing\n",
      "21:50:23 - cmdstanpy - INFO - Chain [1] done processing\n",
      "21:50:23 - cmdstanpy - ERROR - Chain [1] error: error during processing Operation not permitted\n",
      "Optimization terminated abnormally. Falling back to Newton.\n",
      "21:50:24 - cmdstanpy - INFO - Chain [1] start processing\n"
     ]
    },
    {
     "name": "stdout",
     "output_type": "stream",
     "text": [
      "Mean Absolute Error(MAE)------------------------------------ 102796.95796746908\n",
      "{'changepoint_prior_scale': 0.01, 'holidays_prior_scale': 0.1, 'n_changepoints': 100, 'seasonality_mode': 'additive'}\n"
     ]
    },
    {
     "name": "stderr",
     "output_type": "stream",
     "text": [
      "21:50:32 - cmdstanpy - INFO - Chain [1] done processing\n",
      "/var/folders/g7/jzp2y_x97yd3w1yf2x3s7wjc0000gn/T/ipykernel_51333/1474502826.py:20: FutureWarning: The frame.append method is deprecated and will be removed from pandas in a future version. Use pandas.concat instead.\n",
      "  model_parameters = model_parameters.append({'MAE':MAE,'Parameters':p},ignore_index=True)\n",
      "21:50:32 - cmdstanpy - INFO - Chain [1] start processing\n",
      "21:50:32 - cmdstanpy - INFO - Chain [1] done processing\n",
      "21:50:32 - cmdstanpy - ERROR - Chain [1] error: error during processing Operation not permitted\n",
      "Optimization terminated abnormally. Falling back to Newton.\n",
      "21:50:32 - cmdstanpy - INFO - Chain [1] start processing\n"
     ]
    },
    {
     "name": "stdout",
     "output_type": "stream",
     "text": [
      "Mean Absolute Error(MAE)------------------------------------ 326137.338478006\n",
      "{'changepoint_prior_scale': 0.01, 'holidays_prior_scale': 0.1, 'n_changepoints': 150, 'seasonality_mode': 'multiplicative'}\n"
     ]
    },
    {
     "name": "stderr",
     "output_type": "stream",
     "text": [
      "21:50:38 - cmdstanpy - INFO - Chain [1] done processing\n",
      "/var/folders/g7/jzp2y_x97yd3w1yf2x3s7wjc0000gn/T/ipykernel_51333/1474502826.py:20: FutureWarning: The frame.append method is deprecated and will be removed from pandas in a future version. Use pandas.concat instead.\n",
      "  model_parameters = model_parameters.append({'MAE':MAE,'Parameters':p},ignore_index=True)\n",
      "21:50:39 - cmdstanpy - INFO - Chain [1] start processing\n",
      "21:50:39 - cmdstanpy - INFO - Chain [1] done processing\n",
      "21:50:39 - cmdstanpy - ERROR - Chain [1] error: error during processing Operation not permitted\n",
      "Optimization terminated abnormally. Falling back to Newton.\n",
      "21:50:39 - cmdstanpy - INFO - Chain [1] start processing\n"
     ]
    },
    {
     "name": "stdout",
     "output_type": "stream",
     "text": [
      "Mean Absolute Error(MAE)------------------------------------ 200315.3029671421\n",
      "{'changepoint_prior_scale': 0.01, 'holidays_prior_scale': 0.1, 'n_changepoints': 150, 'seasonality_mode': 'additive'}\n"
     ]
    },
    {
     "name": "stderr",
     "output_type": "stream",
     "text": [
      "21:50:41 - cmdstanpy - INFO - Chain [1] done processing\n",
      "/var/folders/g7/jzp2y_x97yd3w1yf2x3s7wjc0000gn/T/ipykernel_51333/1474502826.py:20: FutureWarning: The frame.append method is deprecated and will be removed from pandas in a future version. Use pandas.concat instead.\n",
      "  model_parameters = model_parameters.append({'MAE':MAE,'Parameters':p},ignore_index=True)\n",
      "21:50:41 - cmdstanpy - INFO - Chain [1] start processing\n",
      "21:50:41 - cmdstanpy - INFO - Chain [1] done processing\n",
      "21:50:41 - cmdstanpy - ERROR - Chain [1] error: error during processing Operation not permitted\n",
      "Optimization terminated abnormally. Falling back to Newton.\n",
      "21:50:41 - cmdstanpy - INFO - Chain [1] start processing\n"
     ]
    },
    {
     "name": "stdout",
     "output_type": "stream",
     "text": [
      "Mean Absolute Error(MAE)------------------------------------ 346868.52787720226\n",
      "{'changepoint_prior_scale': 0.01, 'holidays_prior_scale': 0.1, 'n_changepoints': 200, 'seasonality_mode': 'multiplicative'}\n"
     ]
    },
    {
     "name": "stderr",
     "output_type": "stream",
     "text": [
      "21:50:50 - cmdstanpy - INFO - Chain [1] done processing\n",
      "/var/folders/g7/jzp2y_x97yd3w1yf2x3s7wjc0000gn/T/ipykernel_51333/1474502826.py:20: FutureWarning: The frame.append method is deprecated and will be removed from pandas in a future version. Use pandas.concat instead.\n",
      "  model_parameters = model_parameters.append({'MAE':MAE,'Parameters':p},ignore_index=True)\n",
      "21:50:50 - cmdstanpy - INFO - Chain [1] start processing\n",
      "21:50:50 - cmdstanpy - INFO - Chain [1] done processing\n",
      "21:50:50 - cmdstanpy - ERROR - Chain [1] error: error during processing Operation not permitted\n",
      "Optimization terminated abnormally. Falling back to Newton.\n",
      "21:50:50 - cmdstanpy - INFO - Chain [1] start processing\n"
     ]
    },
    {
     "name": "stdout",
     "output_type": "stream",
     "text": [
      "Mean Absolute Error(MAE)------------------------------------ 198021.14255718942\n",
      "{'changepoint_prior_scale': 0.01, 'holidays_prior_scale': 0.1, 'n_changepoints': 200, 'seasonality_mode': 'additive'}\n"
     ]
    },
    {
     "name": "stderr",
     "output_type": "stream",
     "text": [
      "21:50:52 - cmdstanpy - INFO - Chain [1] done processing\n",
      "/var/folders/g7/jzp2y_x97yd3w1yf2x3s7wjc0000gn/T/ipykernel_51333/1474502826.py:20: FutureWarning: The frame.append method is deprecated and will be removed from pandas in a future version. Use pandas.concat instead.\n",
      "  model_parameters = model_parameters.append({'MAE':MAE,'Parameters':p},ignore_index=True)\n",
      "21:50:52 - cmdstanpy - INFO - Chain [1] start processing\n",
      "21:50:52 - cmdstanpy - INFO - Chain [1] done processing\n",
      "21:50:52 - cmdstanpy - ERROR - Chain [1] error: error during processing Operation not permitted\n",
      "Optimization terminated abnormally. Falling back to Newton.\n",
      "21:50:53 - cmdstanpy - INFO - Chain [1] start processing\n"
     ]
    },
    {
     "name": "stdout",
     "output_type": "stream",
     "text": [
      "Mean Absolute Error(MAE)------------------------------------ 347018.7835866408\n",
      "{'changepoint_prior_scale': 0.001, 'holidays_prior_scale': 0.24, 'n_changepoints': 100, 'seasonality_mode': 'multiplicative'}\n"
     ]
    },
    {
     "name": "stderr",
     "output_type": "stream",
     "text": [
      "21:50:56 - cmdstanpy - INFO - Chain [1] done processing\n",
      "/var/folders/g7/jzp2y_x97yd3w1yf2x3s7wjc0000gn/T/ipykernel_51333/1474502826.py:20: FutureWarning: The frame.append method is deprecated and will be removed from pandas in a future version. Use pandas.concat instead.\n",
      "  model_parameters = model_parameters.append({'MAE':MAE,'Parameters':p},ignore_index=True)\n",
      "21:50:56 - cmdstanpy - INFO - Chain [1] start processing\n",
      "21:50:56 - cmdstanpy - INFO - Chain [1] done processing\n",
      "21:50:56 - cmdstanpy - ERROR - Chain [1] error: error during processing Operation not permitted\n",
      "Optimization terminated abnormally. Falling back to Newton.\n",
      "21:50:56 - cmdstanpy - INFO - Chain [1] start processing\n"
     ]
    },
    {
     "name": "stdout",
     "output_type": "stream",
     "text": [
      "Mean Absolute Error(MAE)------------------------------------ 213530.7409920596\n",
      "{'changepoint_prior_scale': 0.001, 'holidays_prior_scale': 0.24, 'n_changepoints': 100, 'seasonality_mode': 'additive'}\n"
     ]
    },
    {
     "name": "stderr",
     "output_type": "stream",
     "text": [
      "21:51:30 - cmdstanpy - INFO - Chain [1] done processing\n",
      "/var/folders/g7/jzp2y_x97yd3w1yf2x3s7wjc0000gn/T/ipykernel_51333/1474502826.py:20: FutureWarning: The frame.append method is deprecated and will be removed from pandas in a future version. Use pandas.concat instead.\n",
      "  model_parameters = model_parameters.append({'MAE':MAE,'Parameters':p},ignore_index=True)\n",
      "21:51:30 - cmdstanpy - INFO - Chain [1] start processing\n",
      "21:51:30 - cmdstanpy - INFO - Chain [1] done processing\n",
      "21:51:30 - cmdstanpy - ERROR - Chain [1] error: error during processing Operation not permitted\n",
      "Optimization terminated abnormally. Falling back to Newton.\n",
      "21:51:30 - cmdstanpy - INFO - Chain [1] start processing\n"
     ]
    },
    {
     "name": "stdout",
     "output_type": "stream",
     "text": [
      "Mean Absolute Error(MAE)------------------------------------ 329916.3594565909\n",
      "{'changepoint_prior_scale': 0.001, 'holidays_prior_scale': 0.24, 'n_changepoints': 150, 'seasonality_mode': 'multiplicative'}\n"
     ]
    },
    {
     "name": "stderr",
     "output_type": "stream",
     "text": [
      "21:52:04 - cmdstanpy - INFO - Chain [1] done processing\n",
      "/var/folders/g7/jzp2y_x97yd3w1yf2x3s7wjc0000gn/T/ipykernel_51333/1474502826.py:20: FutureWarning: The frame.append method is deprecated and will be removed from pandas in a future version. Use pandas.concat instead.\n",
      "  model_parameters = model_parameters.append({'MAE':MAE,'Parameters':p},ignore_index=True)\n",
      "21:52:04 - cmdstanpy - INFO - Chain [1] start processing\n",
      "21:52:04 - cmdstanpy - INFO - Chain [1] done processing\n",
      "21:52:04 - cmdstanpy - ERROR - Chain [1] error: error during processing Operation not permitted\n",
      "Optimization terminated abnormally. Falling back to Newton.\n",
      "21:52:04 - cmdstanpy - INFO - Chain [1] start processing\n"
     ]
    },
    {
     "name": "stdout",
     "output_type": "stream",
     "text": [
      "Mean Absolute Error(MAE)------------------------------------ 244145.33159977105\n",
      "{'changepoint_prior_scale': 0.001, 'holidays_prior_scale': 0.24, 'n_changepoints': 150, 'seasonality_mode': 'additive'}\n"
     ]
    },
    {
     "name": "stderr",
     "output_type": "stream",
     "text": [
      "21:52:06 - cmdstanpy - INFO - Chain [1] done processing\n",
      "/var/folders/g7/jzp2y_x97yd3w1yf2x3s7wjc0000gn/T/ipykernel_51333/1474502826.py:20: FutureWarning: The frame.append method is deprecated and will be removed from pandas in a future version. Use pandas.concat instead.\n",
      "  model_parameters = model_parameters.append({'MAE':MAE,'Parameters':p},ignore_index=True)\n",
      "21:52:06 - cmdstanpy - INFO - Chain [1] start processing\n",
      "21:52:06 - cmdstanpy - INFO - Chain [1] done processing\n",
      "21:52:06 - cmdstanpy - ERROR - Chain [1] error: error during processing Operation not permitted\n",
      "Optimization terminated abnormally. Falling back to Newton.\n",
      "21:52:06 - cmdstanpy - INFO - Chain [1] start processing\n"
     ]
    },
    {
     "name": "stdout",
     "output_type": "stream",
     "text": [
      "Mean Absolute Error(MAE)------------------------------------ 294946.98319987394\n",
      "{'changepoint_prior_scale': 0.001, 'holidays_prior_scale': 0.24, 'n_changepoints': 200, 'seasonality_mode': 'multiplicative'}\n"
     ]
    },
    {
     "name": "stderr",
     "output_type": "stream",
     "text": [
      "21:52:15 - cmdstanpy - INFO - Chain [1] done processing\n",
      "/var/folders/g7/jzp2y_x97yd3w1yf2x3s7wjc0000gn/T/ipykernel_51333/1474502826.py:20: FutureWarning: The frame.append method is deprecated and will be removed from pandas in a future version. Use pandas.concat instead.\n",
      "  model_parameters = model_parameters.append({'MAE':MAE,'Parameters':p},ignore_index=True)\n",
      "21:52:15 - cmdstanpy - INFO - Chain [1] start processing\n",
      "21:52:15 - cmdstanpy - INFO - Chain [1] done processing\n",
      "21:52:15 - cmdstanpy - ERROR - Chain [1] error: error during processing Operation not permitted\n",
      "Optimization terminated abnormally. Falling back to Newton.\n",
      "21:52:15 - cmdstanpy - INFO - Chain [1] start processing\n"
     ]
    },
    {
     "name": "stdout",
     "output_type": "stream",
     "text": [
      "Mean Absolute Error(MAE)------------------------------------ 227837.88012691398\n",
      "{'changepoint_prior_scale': 0.001, 'holidays_prior_scale': 0.24, 'n_changepoints': 200, 'seasonality_mode': 'additive'}\n"
     ]
    },
    {
     "name": "stderr",
     "output_type": "stream",
     "text": [
      "21:52:17 - cmdstanpy - INFO - Chain [1] done processing\n",
      "/var/folders/g7/jzp2y_x97yd3w1yf2x3s7wjc0000gn/T/ipykernel_51333/1474502826.py:20: FutureWarning: The frame.append method is deprecated and will be removed from pandas in a future version. Use pandas.concat instead.\n",
      "  model_parameters = model_parameters.append({'MAE':MAE,'Parameters':p},ignore_index=True)\n",
      "21:52:17 - cmdstanpy - INFO - Chain [1] start processing\n",
      "21:52:17 - cmdstanpy - INFO - Chain [1] done processing\n",
      "21:52:17 - cmdstanpy - ERROR - Chain [1] error: error during processing Operation not permitted\n",
      "Optimization terminated abnormally. Falling back to Newton.\n",
      "21:52:17 - cmdstanpy - INFO - Chain [1] start processing\n"
     ]
    },
    {
     "name": "stdout",
     "output_type": "stream",
     "text": [
      "Mean Absolute Error(MAE)------------------------------------ 294821.9904722673\n",
      "{'changepoint_prior_scale': 0.001, 'holidays_prior_scale': 0.2, 'n_changepoints': 100, 'seasonality_mode': 'multiplicative'}\n"
     ]
    },
    {
     "name": "stderr",
     "output_type": "stream",
     "text": [
      "21:52:20 - cmdstanpy - INFO - Chain [1] done processing\n",
      "/var/folders/g7/jzp2y_x97yd3w1yf2x3s7wjc0000gn/T/ipykernel_51333/1474502826.py:20: FutureWarning: The frame.append method is deprecated and will be removed from pandas in a future version. Use pandas.concat instead.\n",
      "  model_parameters = model_parameters.append({'MAE':MAE,'Parameters':p},ignore_index=True)\n",
      "21:52:20 - cmdstanpy - INFO - Chain [1] start processing\n",
      "21:52:20 - cmdstanpy - INFO - Chain [1] done processing\n",
      "21:52:20 - cmdstanpy - ERROR - Chain [1] error: error during processing Operation not permitted\n",
      "Optimization terminated abnormally. Falling back to Newton.\n",
      "21:52:20 - cmdstanpy - INFO - Chain [1] start processing\n"
     ]
    },
    {
     "name": "stdout",
     "output_type": "stream",
     "text": [
      "Mean Absolute Error(MAE)------------------------------------ 213530.7409920596\n",
      "{'changepoint_prior_scale': 0.001, 'holidays_prior_scale': 0.2, 'n_changepoints': 100, 'seasonality_mode': 'additive'}\n"
     ]
    },
    {
     "name": "stderr",
     "output_type": "stream",
     "text": [
      "21:52:55 - cmdstanpy - INFO - Chain [1] done processing\n",
      "/var/folders/g7/jzp2y_x97yd3w1yf2x3s7wjc0000gn/T/ipykernel_51333/1474502826.py:20: FutureWarning: The frame.append method is deprecated and will be removed from pandas in a future version. Use pandas.concat instead.\n",
      "  model_parameters = model_parameters.append({'MAE':MAE,'Parameters':p},ignore_index=True)\n",
      "21:52:55 - cmdstanpy - INFO - Chain [1] start processing\n",
      "21:52:55 - cmdstanpy - INFO - Chain [1] done processing\n",
      "21:52:55 - cmdstanpy - ERROR - Chain [1] error: error during processing Operation not permitted\n",
      "Optimization terminated abnormally. Falling back to Newton.\n",
      "21:52:55 - cmdstanpy - INFO - Chain [1] start processing\n"
     ]
    },
    {
     "name": "stdout",
     "output_type": "stream",
     "text": [
      "Mean Absolute Error(MAE)------------------------------------ 329916.3594565909\n",
      "{'changepoint_prior_scale': 0.001, 'holidays_prior_scale': 0.2, 'n_changepoints': 150, 'seasonality_mode': 'multiplicative'}\n"
     ]
    },
    {
     "name": "stderr",
     "output_type": "stream",
     "text": [
      "21:53:26 - cmdstanpy - INFO - Chain [1] done processing\n",
      "/var/folders/g7/jzp2y_x97yd3w1yf2x3s7wjc0000gn/T/ipykernel_51333/1474502826.py:20: FutureWarning: The frame.append method is deprecated and will be removed from pandas in a future version. Use pandas.concat instead.\n",
      "  model_parameters = model_parameters.append({'MAE':MAE,'Parameters':p},ignore_index=True)\n",
      "21:53:26 - cmdstanpy - INFO - Chain [1] start processing\n",
      "21:53:26 - cmdstanpy - INFO - Chain [1] done processing\n",
      "21:53:26 - cmdstanpy - ERROR - Chain [1] error: error during processing Operation not permitted\n",
      "Optimization terminated abnormally. Falling back to Newton.\n",
      "21:53:26 - cmdstanpy - INFO - Chain [1] start processing\n"
     ]
    },
    {
     "name": "stdout",
     "output_type": "stream",
     "text": [
      "Mean Absolute Error(MAE)------------------------------------ 244145.33159977105\n",
      "{'changepoint_prior_scale': 0.001, 'holidays_prior_scale': 0.2, 'n_changepoints': 150, 'seasonality_mode': 'additive'}\n"
     ]
    },
    {
     "name": "stderr",
     "output_type": "stream",
     "text": [
      "21:53:29 - cmdstanpy - INFO - Chain [1] done processing\n",
      "/var/folders/g7/jzp2y_x97yd3w1yf2x3s7wjc0000gn/T/ipykernel_51333/1474502826.py:20: FutureWarning: The frame.append method is deprecated and will be removed from pandas in a future version. Use pandas.concat instead.\n",
      "  model_parameters = model_parameters.append({'MAE':MAE,'Parameters':p},ignore_index=True)\n",
      "21:53:29 - cmdstanpy - INFO - Chain [1] start processing\n",
      "21:53:29 - cmdstanpy - INFO - Chain [1] done processing\n",
      "21:53:29 - cmdstanpy - ERROR - Chain [1] error: error during processing Operation not permitted\n",
      "Optimization terminated abnormally. Falling back to Newton.\n",
      "21:53:29 - cmdstanpy - INFO - Chain [1] start processing\n"
     ]
    },
    {
     "name": "stdout",
     "output_type": "stream",
     "text": [
      "Mean Absolute Error(MAE)------------------------------------ 294946.98319987394\n",
      "{'changepoint_prior_scale': 0.001, 'holidays_prior_scale': 0.2, 'n_changepoints': 200, 'seasonality_mode': 'multiplicative'}\n"
     ]
    },
    {
     "name": "stderr",
     "output_type": "stream",
     "text": [
      "21:53:38 - cmdstanpy - INFO - Chain [1] done processing\n",
      "/var/folders/g7/jzp2y_x97yd3w1yf2x3s7wjc0000gn/T/ipykernel_51333/1474502826.py:20: FutureWarning: The frame.append method is deprecated and will be removed from pandas in a future version. Use pandas.concat instead.\n",
      "  model_parameters = model_parameters.append({'MAE':MAE,'Parameters':p},ignore_index=True)\n",
      "21:53:38 - cmdstanpy - INFO - Chain [1] start processing\n",
      "21:53:38 - cmdstanpy - INFO - Chain [1] done processing\n",
      "21:53:38 - cmdstanpy - ERROR - Chain [1] error: error during processing Operation not permitted\n",
      "Optimization terminated abnormally. Falling back to Newton.\n",
      "21:53:38 - cmdstanpy - INFO - Chain [1] start processing\n"
     ]
    },
    {
     "name": "stdout",
     "output_type": "stream",
     "text": [
      "Mean Absolute Error(MAE)------------------------------------ 227837.88012691398\n",
      "{'changepoint_prior_scale': 0.001, 'holidays_prior_scale': 0.2, 'n_changepoints': 200, 'seasonality_mode': 'additive'}\n"
     ]
    },
    {
     "name": "stderr",
     "output_type": "stream",
     "text": [
      "21:53:40 - cmdstanpy - INFO - Chain [1] done processing\n",
      "/var/folders/g7/jzp2y_x97yd3w1yf2x3s7wjc0000gn/T/ipykernel_51333/1474502826.py:20: FutureWarning: The frame.append method is deprecated and will be removed from pandas in a future version. Use pandas.concat instead.\n",
      "  model_parameters = model_parameters.append({'MAE':MAE,'Parameters':p},ignore_index=True)\n",
      "21:53:40 - cmdstanpy - INFO - Chain [1] start processing\n",
      "21:53:40 - cmdstanpy - INFO - Chain [1] done processing\n",
      "21:53:40 - cmdstanpy - ERROR - Chain [1] error: error during processing Operation not permitted\n",
      "Optimization terminated abnormally. Falling back to Newton.\n",
      "21:53:40 - cmdstanpy - INFO - Chain [1] start processing\n"
     ]
    },
    {
     "name": "stdout",
     "output_type": "stream",
     "text": [
      "Mean Absolute Error(MAE)------------------------------------ 294821.9904722673\n",
      "{'changepoint_prior_scale': 0.001, 'holidays_prior_scale': 0.1, 'n_changepoints': 100, 'seasonality_mode': 'multiplicative'}\n"
     ]
    },
    {
     "name": "stderr",
     "output_type": "stream",
     "text": [
      "21:53:43 - cmdstanpy - INFO - Chain [1] done processing\n",
      "/var/folders/g7/jzp2y_x97yd3w1yf2x3s7wjc0000gn/T/ipykernel_51333/1474502826.py:20: FutureWarning: The frame.append method is deprecated and will be removed from pandas in a future version. Use pandas.concat instead.\n",
      "  model_parameters = model_parameters.append({'MAE':MAE,'Parameters':p},ignore_index=True)\n",
      "21:53:44 - cmdstanpy - INFO - Chain [1] start processing\n",
      "21:53:44 - cmdstanpy - INFO - Chain [1] done processing\n",
      "21:53:44 - cmdstanpy - ERROR - Chain [1] error: error during processing Operation not permitted\n",
      "Optimization terminated abnormally. Falling back to Newton.\n",
      "21:53:44 - cmdstanpy - INFO - Chain [1] start processing\n"
     ]
    },
    {
     "name": "stdout",
     "output_type": "stream",
     "text": [
      "Mean Absolute Error(MAE)------------------------------------ 213530.7409920596\n",
      "{'changepoint_prior_scale': 0.001, 'holidays_prior_scale': 0.1, 'n_changepoints': 100, 'seasonality_mode': 'additive'}\n"
     ]
    },
    {
     "name": "stderr",
     "output_type": "stream",
     "text": [
      "21:54:17 - cmdstanpy - INFO - Chain [1] done processing\n",
      "/var/folders/g7/jzp2y_x97yd3w1yf2x3s7wjc0000gn/T/ipykernel_51333/1474502826.py:20: FutureWarning: The frame.append method is deprecated and will be removed from pandas in a future version. Use pandas.concat instead.\n",
      "  model_parameters = model_parameters.append({'MAE':MAE,'Parameters':p},ignore_index=True)\n",
      "21:54:17 - cmdstanpy - INFO - Chain [1] start processing\n",
      "21:54:17 - cmdstanpy - INFO - Chain [1] done processing\n",
      "21:54:17 - cmdstanpy - ERROR - Chain [1] error: error during processing Operation not permitted\n",
      "Optimization terminated abnormally. Falling back to Newton.\n",
      "21:54:17 - cmdstanpy - INFO - Chain [1] start processing\n"
     ]
    },
    {
     "name": "stdout",
     "output_type": "stream",
     "text": [
      "Mean Absolute Error(MAE)------------------------------------ 329916.3594565909\n",
      "{'changepoint_prior_scale': 0.001, 'holidays_prior_scale': 0.1, 'n_changepoints': 150, 'seasonality_mode': 'multiplicative'}\n"
     ]
    },
    {
     "name": "stderr",
     "output_type": "stream",
     "text": [
      "21:54:49 - cmdstanpy - INFO - Chain [1] done processing\n",
      "/var/folders/g7/jzp2y_x97yd3w1yf2x3s7wjc0000gn/T/ipykernel_51333/1474502826.py:20: FutureWarning: The frame.append method is deprecated and will be removed from pandas in a future version. Use pandas.concat instead.\n",
      "  model_parameters = model_parameters.append({'MAE':MAE,'Parameters':p},ignore_index=True)\n",
      "21:54:49 - cmdstanpy - INFO - Chain [1] start processing\n",
      "21:54:49 - cmdstanpy - INFO - Chain [1] done processing\n",
      "21:54:49 - cmdstanpy - ERROR - Chain [1] error: error during processing Operation not permitted\n",
      "Optimization terminated abnormally. Falling back to Newton.\n",
      "21:54:49 - cmdstanpy - INFO - Chain [1] start processing\n"
     ]
    },
    {
     "name": "stdout",
     "output_type": "stream",
     "text": [
      "Mean Absolute Error(MAE)------------------------------------ 244145.33159977105\n",
      "{'changepoint_prior_scale': 0.001, 'holidays_prior_scale': 0.1, 'n_changepoints': 150, 'seasonality_mode': 'additive'}\n"
     ]
    },
    {
     "name": "stderr",
     "output_type": "stream",
     "text": [
      "21:54:51 - cmdstanpy - INFO - Chain [1] done processing\n",
      "/var/folders/g7/jzp2y_x97yd3w1yf2x3s7wjc0000gn/T/ipykernel_51333/1474502826.py:20: FutureWarning: The frame.append method is deprecated and will be removed from pandas in a future version. Use pandas.concat instead.\n",
      "  model_parameters = model_parameters.append({'MAE':MAE,'Parameters':p},ignore_index=True)\n",
      "21:54:51 - cmdstanpy - INFO - Chain [1] start processing\n",
      "21:54:51 - cmdstanpy - INFO - Chain [1] done processing\n",
      "21:54:51 - cmdstanpy - ERROR - Chain [1] error: error during processing Operation not permitted\n",
      "Optimization terminated abnormally. Falling back to Newton.\n",
      "21:54:51 - cmdstanpy - INFO - Chain [1] start processing\n"
     ]
    },
    {
     "name": "stdout",
     "output_type": "stream",
     "text": [
      "Mean Absolute Error(MAE)------------------------------------ 294946.98319987394\n",
      "{'changepoint_prior_scale': 0.001, 'holidays_prior_scale': 0.1, 'n_changepoints': 200, 'seasonality_mode': 'multiplicative'}\n"
     ]
    },
    {
     "name": "stderr",
     "output_type": "stream",
     "text": [
      "21:54:59 - cmdstanpy - INFO - Chain [1] done processing\n",
      "/var/folders/g7/jzp2y_x97yd3w1yf2x3s7wjc0000gn/T/ipykernel_51333/1474502826.py:20: FutureWarning: The frame.append method is deprecated and will be removed from pandas in a future version. Use pandas.concat instead.\n",
      "  model_parameters = model_parameters.append({'MAE':MAE,'Parameters':p},ignore_index=True)\n",
      "21:55:00 - cmdstanpy - INFO - Chain [1] start processing\n",
      "21:55:00 - cmdstanpy - INFO - Chain [1] done processing\n",
      "21:55:00 - cmdstanpy - ERROR - Chain [1] error: error during processing Operation not permitted\n",
      "Optimization terminated abnormally. Falling back to Newton.\n",
      "21:55:00 - cmdstanpy - INFO - Chain [1] start processing\n"
     ]
    },
    {
     "name": "stdout",
     "output_type": "stream",
     "text": [
      "Mean Absolute Error(MAE)------------------------------------ 227837.88012691398\n",
      "{'changepoint_prior_scale': 0.001, 'holidays_prior_scale': 0.1, 'n_changepoints': 200, 'seasonality_mode': 'additive'}\n"
     ]
    },
    {
     "name": "stderr",
     "output_type": "stream",
     "text": [
      "21:55:02 - cmdstanpy - INFO - Chain [1] done processing\n",
      "/var/folders/g7/jzp2y_x97yd3w1yf2x3s7wjc0000gn/T/ipykernel_51333/1474502826.py:20: FutureWarning: The frame.append method is deprecated and will be removed from pandas in a future version. Use pandas.concat instead.\n",
      "  model_parameters = model_parameters.append({'MAE':MAE,'Parameters':p},ignore_index=True)\n",
      "21:55:02 - cmdstanpy - INFO - Chain [1] start processing\n",
      "21:55:02 - cmdstanpy - INFO - Chain [1] done processing\n"
     ]
    },
    {
     "name": "stdout",
     "output_type": "stream",
     "text": [
      "Mean Absolute Error(MAE)------------------------------------ 294821.9904722673\n",
      "{'changepoint_prior_scale': 0.2, 'holidays_prior_scale': 0.24, 'n_changepoints': 100, 'seasonality_mode': 'multiplicative'}\n"
     ]
    },
    {
     "name": "stderr",
     "output_type": "stream",
     "text": [
      "/var/folders/g7/jzp2y_x97yd3w1yf2x3s7wjc0000gn/T/ipykernel_51333/1474502826.py:20: FutureWarning: The frame.append method is deprecated and will be removed from pandas in a future version. Use pandas.concat instead.\n",
      "  model_parameters = model_parameters.append({'MAE':MAE,'Parameters':p},ignore_index=True)\n",
      "21:55:02 - cmdstanpy - INFO - Chain [1] start processing\n",
      "21:55:02 - cmdstanpy - INFO - Chain [1] done processing\n"
     ]
    },
    {
     "name": "stdout",
     "output_type": "stream",
     "text": [
      "Mean Absolute Error(MAE)------------------------------------ 23276.71454321386\n",
      "{'changepoint_prior_scale': 0.2, 'holidays_prior_scale': 0.24, 'n_changepoints': 100, 'seasonality_mode': 'additive'}\n",
      "Mean Absolute Error(MAE)------------------------------------ 31988.91767492965\n",
      "{'changepoint_prior_scale': 0.2, 'holidays_prior_scale': 0.24, 'n_changepoints': 150, 'seasonality_mode': 'multiplicative'}\n"
     ]
    },
    {
     "name": "stderr",
     "output_type": "stream",
     "text": [
      "/var/folders/g7/jzp2y_x97yd3w1yf2x3s7wjc0000gn/T/ipykernel_51333/1474502826.py:20: FutureWarning: The frame.append method is deprecated and will be removed from pandas in a future version. Use pandas.concat instead.\n",
      "  model_parameters = model_parameters.append({'MAE':MAE,'Parameters':p},ignore_index=True)\n",
      "21:55:02 - cmdstanpy - INFO - Chain [1] start processing\n",
      "21:55:03 - cmdstanpy - INFO - Chain [1] done processing\n",
      "/var/folders/g7/jzp2y_x97yd3w1yf2x3s7wjc0000gn/T/ipykernel_51333/1474502826.py:20: FutureWarning: The frame.append method is deprecated and will be removed from pandas in a future version. Use pandas.concat instead.\n",
      "  model_parameters = model_parameters.append({'MAE':MAE,'Parameters':p},ignore_index=True)\n",
      "21:55:03 - cmdstanpy - INFO - Chain [1] start processing\n",
      "21:55:03 - cmdstanpy - INFO - Chain [1] done processing\n"
     ]
    },
    {
     "name": "stdout",
     "output_type": "stream",
     "text": [
      "Mean Absolute Error(MAE)------------------------------------ 22926.147523971293\n",
      "{'changepoint_prior_scale': 0.2, 'holidays_prior_scale': 0.24, 'n_changepoints': 150, 'seasonality_mode': 'additive'}\n",
      "Mean Absolute Error(MAE)------------------------------------ 32077.3625950302\n",
      "{'changepoint_prior_scale': 0.2, 'holidays_prior_scale': 0.24, 'n_changepoints': 200, 'seasonality_mode': 'multiplicative'}\n"
     ]
    },
    {
     "name": "stderr",
     "output_type": "stream",
     "text": [
      "/var/folders/g7/jzp2y_x97yd3w1yf2x3s7wjc0000gn/T/ipykernel_51333/1474502826.py:20: FutureWarning: The frame.append method is deprecated and will be removed from pandas in a future version. Use pandas.concat instead.\n",
      "  model_parameters = model_parameters.append({'MAE':MAE,'Parameters':p},ignore_index=True)\n",
      "21:55:03 - cmdstanpy - INFO - Chain [1] start processing\n",
      "21:55:03 - cmdstanpy - INFO - Chain [1] done processing\n",
      "/var/folders/g7/jzp2y_x97yd3w1yf2x3s7wjc0000gn/T/ipykernel_51333/1474502826.py:20: FutureWarning: The frame.append method is deprecated and will be removed from pandas in a future version. Use pandas.concat instead.\n",
      "  model_parameters = model_parameters.append({'MAE':MAE,'Parameters':p},ignore_index=True)\n",
      "21:55:03 - cmdstanpy - INFO - Chain [1] start processing\n",
      "21:55:03 - cmdstanpy - INFO - Chain [1] done processing\n"
     ]
    },
    {
     "name": "stdout",
     "output_type": "stream",
     "text": [
      "Mean Absolute Error(MAE)------------------------------------ 21423.910143297435\n",
      "{'changepoint_prior_scale': 0.2, 'holidays_prior_scale': 0.24, 'n_changepoints': 200, 'seasonality_mode': 'additive'}\n",
      "Mean Absolute Error(MAE)------------------------------------ 32095.7162798818\n",
      "{'changepoint_prior_scale': 0.2, 'holidays_prior_scale': 0.2, 'n_changepoints': 100, 'seasonality_mode': 'multiplicative'}\n"
     ]
    },
    {
     "name": "stderr",
     "output_type": "stream",
     "text": [
      "/var/folders/g7/jzp2y_x97yd3w1yf2x3s7wjc0000gn/T/ipykernel_51333/1474502826.py:20: FutureWarning: The frame.append method is deprecated and will be removed from pandas in a future version. Use pandas.concat instead.\n",
      "  model_parameters = model_parameters.append({'MAE':MAE,'Parameters':p},ignore_index=True)\n",
      "21:55:03 - cmdstanpy - INFO - Chain [1] start processing\n",
      "21:55:03 - cmdstanpy - INFO - Chain [1] done processing\n",
      "/var/folders/g7/jzp2y_x97yd3w1yf2x3s7wjc0000gn/T/ipykernel_51333/1474502826.py:20: FutureWarning: The frame.append method is deprecated and will be removed from pandas in a future version. Use pandas.concat instead.\n",
      "  model_parameters = model_parameters.append({'MAE':MAE,'Parameters':p},ignore_index=True)\n",
      "21:55:03 - cmdstanpy - INFO - Chain [1] start processing\n",
      "21:55:03 - cmdstanpy - INFO - Chain [1] done processing\n"
     ]
    },
    {
     "name": "stdout",
     "output_type": "stream",
     "text": [
      "Mean Absolute Error(MAE)------------------------------------ 23276.71454321386\n",
      "{'changepoint_prior_scale': 0.2, 'holidays_prior_scale': 0.2, 'n_changepoints': 100, 'seasonality_mode': 'additive'}\n",
      "Mean Absolute Error(MAE)------------------------------------ 31988.91767492965\n",
      "{'changepoint_prior_scale': 0.2, 'holidays_prior_scale': 0.2, 'n_changepoints': 150, 'seasonality_mode': 'multiplicative'}\n"
     ]
    },
    {
     "name": "stderr",
     "output_type": "stream",
     "text": [
      "/var/folders/g7/jzp2y_x97yd3w1yf2x3s7wjc0000gn/T/ipykernel_51333/1474502826.py:20: FutureWarning: The frame.append method is deprecated and will be removed from pandas in a future version. Use pandas.concat instead.\n",
      "  model_parameters = model_parameters.append({'MAE':MAE,'Parameters':p},ignore_index=True)\n",
      "21:55:04 - cmdstanpy - INFO - Chain [1] start processing\n",
      "21:55:04 - cmdstanpy - INFO - Chain [1] done processing\n",
      "/var/folders/g7/jzp2y_x97yd3w1yf2x3s7wjc0000gn/T/ipykernel_51333/1474502826.py:20: FutureWarning: The frame.append method is deprecated and will be removed from pandas in a future version. Use pandas.concat instead.\n",
      "  model_parameters = model_parameters.append({'MAE':MAE,'Parameters':p},ignore_index=True)\n",
      "21:55:04 - cmdstanpy - INFO - Chain [1] start processing\n",
      "21:55:04 - cmdstanpy - INFO - Chain [1] done processing\n"
     ]
    },
    {
     "name": "stdout",
     "output_type": "stream",
     "text": [
      "Mean Absolute Error(MAE)------------------------------------ 22926.147523971293\n",
      "{'changepoint_prior_scale': 0.2, 'holidays_prior_scale': 0.2, 'n_changepoints': 150, 'seasonality_mode': 'additive'}\n",
      "Mean Absolute Error(MAE)------------------------------------ 32077.3625950302\n",
      "{'changepoint_prior_scale': 0.2, 'holidays_prior_scale': 0.2, 'n_changepoints': 200, 'seasonality_mode': 'multiplicative'}\n"
     ]
    },
    {
     "name": "stderr",
     "output_type": "stream",
     "text": [
      "/var/folders/g7/jzp2y_x97yd3w1yf2x3s7wjc0000gn/T/ipykernel_51333/1474502826.py:20: FutureWarning: The frame.append method is deprecated and will be removed from pandas in a future version. Use pandas.concat instead.\n",
      "  model_parameters = model_parameters.append({'MAE':MAE,'Parameters':p},ignore_index=True)\n",
      "21:55:04 - cmdstanpy - INFO - Chain [1] start processing\n",
      "21:55:04 - cmdstanpy - INFO - Chain [1] done processing\n",
      "/var/folders/g7/jzp2y_x97yd3w1yf2x3s7wjc0000gn/T/ipykernel_51333/1474502826.py:20: FutureWarning: The frame.append method is deprecated and will be removed from pandas in a future version. Use pandas.concat instead.\n",
      "  model_parameters = model_parameters.append({'MAE':MAE,'Parameters':p},ignore_index=True)\n",
      "21:55:04 - cmdstanpy - INFO - Chain [1] start processing\n",
      "21:55:04 - cmdstanpy - INFO - Chain [1] done processing\n"
     ]
    },
    {
     "name": "stdout",
     "output_type": "stream",
     "text": [
      "Mean Absolute Error(MAE)------------------------------------ 21423.910143297435\n",
      "{'changepoint_prior_scale': 0.2, 'holidays_prior_scale': 0.2, 'n_changepoints': 200, 'seasonality_mode': 'additive'}\n",
      "Mean Absolute Error(MAE)------------------------------------ 32095.7162798818\n",
      "{'changepoint_prior_scale': 0.2, 'holidays_prior_scale': 0.1, 'n_changepoints': 100, 'seasonality_mode': 'multiplicative'}\n"
     ]
    },
    {
     "name": "stderr",
     "output_type": "stream",
     "text": [
      "/var/folders/g7/jzp2y_x97yd3w1yf2x3s7wjc0000gn/T/ipykernel_51333/1474502826.py:20: FutureWarning: The frame.append method is deprecated and will be removed from pandas in a future version. Use pandas.concat instead.\n",
      "  model_parameters = model_parameters.append({'MAE':MAE,'Parameters':p},ignore_index=True)\n",
      "21:55:05 - cmdstanpy - INFO - Chain [1] start processing\n",
      "21:55:05 - cmdstanpy - INFO - Chain [1] done processing\n",
      "/var/folders/g7/jzp2y_x97yd3w1yf2x3s7wjc0000gn/T/ipykernel_51333/1474502826.py:20: FutureWarning: The frame.append method is deprecated and will be removed from pandas in a future version. Use pandas.concat instead.\n",
      "  model_parameters = model_parameters.append({'MAE':MAE,'Parameters':p},ignore_index=True)\n",
      "21:55:05 - cmdstanpy - INFO - Chain [1] start processing\n",
      "21:55:05 - cmdstanpy - INFO - Chain [1] done processing\n"
     ]
    },
    {
     "name": "stdout",
     "output_type": "stream",
     "text": [
      "Mean Absolute Error(MAE)------------------------------------ 23276.71454321386\n",
      "{'changepoint_prior_scale': 0.2, 'holidays_prior_scale': 0.1, 'n_changepoints': 100, 'seasonality_mode': 'additive'}\n",
      "Mean Absolute Error(MAE)------------------------------------ 31988.91767492965\n"
     ]
    },
    {
     "name": "stderr",
     "output_type": "stream",
     "text": [
      "/var/folders/g7/jzp2y_x97yd3w1yf2x3s7wjc0000gn/T/ipykernel_51333/1474502826.py:20: FutureWarning: The frame.append method is deprecated and will be removed from pandas in a future version. Use pandas.concat instead.\n",
      "  model_parameters = model_parameters.append({'MAE':MAE,'Parameters':p},ignore_index=True)\n",
      "21:55:05 - cmdstanpy - INFO - Chain [1] start processing\n"
     ]
    },
    {
     "name": "stdout",
     "output_type": "stream",
     "text": [
      "{'changepoint_prior_scale': 0.2, 'holidays_prior_scale': 0.1, 'n_changepoints': 150, 'seasonality_mode': 'multiplicative'}\n"
     ]
    },
    {
     "name": "stderr",
     "output_type": "stream",
     "text": [
      "21:55:05 - cmdstanpy - INFO - Chain [1] done processing\n",
      "/var/folders/g7/jzp2y_x97yd3w1yf2x3s7wjc0000gn/T/ipykernel_51333/1474502826.py:20: FutureWarning: The frame.append method is deprecated and will be removed from pandas in a future version. Use pandas.concat instead.\n",
      "  model_parameters = model_parameters.append({'MAE':MAE,'Parameters':p},ignore_index=True)\n",
      "21:55:05 - cmdstanpy - INFO - Chain [1] start processing\n",
      "21:55:05 - cmdstanpy - INFO - Chain [1] done processing\n"
     ]
    },
    {
     "name": "stdout",
     "output_type": "stream",
     "text": [
      "Mean Absolute Error(MAE)------------------------------------ 22926.147523971293\n",
      "{'changepoint_prior_scale': 0.2, 'holidays_prior_scale': 0.1, 'n_changepoints': 150, 'seasonality_mode': 'additive'}\n",
      "Mean Absolute Error(MAE)------------------------------------ 32077.3625950302\n"
     ]
    },
    {
     "name": "stderr",
     "output_type": "stream",
     "text": [
      "/var/folders/g7/jzp2y_x97yd3w1yf2x3s7wjc0000gn/T/ipykernel_51333/1474502826.py:20: FutureWarning: The frame.append method is deprecated and will be removed from pandas in a future version. Use pandas.concat instead.\n",
      "  model_parameters = model_parameters.append({'MAE':MAE,'Parameters':p},ignore_index=True)\n",
      "21:55:06 - cmdstanpy - INFO - Chain [1] start processing\n",
      "21:55:06 - cmdstanpy - INFO - Chain [1] done processing\n"
     ]
    },
    {
     "name": "stdout",
     "output_type": "stream",
     "text": [
      "{'changepoint_prior_scale': 0.2, 'holidays_prior_scale': 0.1, 'n_changepoints': 200, 'seasonality_mode': 'multiplicative'}\n"
     ]
    },
    {
     "name": "stderr",
     "output_type": "stream",
     "text": [
      "/var/folders/g7/jzp2y_x97yd3w1yf2x3s7wjc0000gn/T/ipykernel_51333/1474502826.py:20: FutureWarning: The frame.append method is deprecated and will be removed from pandas in a future version. Use pandas.concat instead.\n",
      "  model_parameters = model_parameters.append({'MAE':MAE,'Parameters':p},ignore_index=True)\n",
      "21:55:06 - cmdstanpy - INFO - Chain [1] start processing\n",
      "21:55:06 - cmdstanpy - INFO - Chain [1] done processing\n"
     ]
    },
    {
     "name": "stdout",
     "output_type": "stream",
     "text": [
      "Mean Absolute Error(MAE)------------------------------------ 21423.910143297435\n",
      "{'changepoint_prior_scale': 0.2, 'holidays_prior_scale': 0.1, 'n_changepoints': 200, 'seasonality_mode': 'additive'}\n",
      "Mean Absolute Error(MAE)------------------------------------ 32095.7162798818\n"
     ]
    },
    {
     "name": "stderr",
     "output_type": "stream",
     "text": [
      "/var/folders/g7/jzp2y_x97yd3w1yf2x3s7wjc0000gn/T/ipykernel_51333/1474502826.py:20: FutureWarning: The frame.append method is deprecated and will be removed from pandas in a future version. Use pandas.concat instead.\n",
      "  model_parameters = model_parameters.append({'MAE':MAE,'Parameters':p},ignore_index=True)\n"
     ]
    }
   ],
   "source": [
    "model_df = pd.DataFrame(columns = ['MAE','Parameters'])\n",
    "\n",
    "for param in grid:\n",
    "    test = pd.DataFrame()\n",
    "    print(param)\n",
    "    \n",
    "    south_model = Prophet(changepoint_prior_scale = p['changepoint_prior_scale'],\n",
    "                          n_changepoints = p['n_changepoints'],seasonality_mode = p['seasonality_mode'],weekly_seasonality = True,\n",
    "                          daily_seasonality = True,yearly_seasonality = True,interval_width = 0.95)\n",
    "    \n",
    "    south_model.fit(X_train)\n",
    "    \n",
    "    south_forecast = south_model.make_future_dataframe(periods = 190, freq = 'D',include_history = False)\n",
    "    south_forecast = south_model.predict(south_forecast)\n",
    "    \n",
    "    test = south_forecast[['ds','yhat']]\n",
    "    Actual = south_train[(south_train['ds'] > start) & (south_train['ds'] <= end)]\n",
    "    \n",
    "    MAE = mean_absolute_error(Actual['y'],abs(test['yhat']))\n",
    "    \n",
    "    print('Mean Absolute Error(MAE)------------------------------------',MAE)\n",
    "    \n",
    "    model_parameters = model_df.append({'MAE':MAE,'Parameters':p},ignore_index=True)"
   ]
  },
  {
   "cell_type": "code",
   "execution_count": 14,
   "id": "82f2d49f",
   "metadata": {},
   "outputs": [
    {
     "data": {
      "text/html": [
       "<div>\n",
       "<style scoped>\n",
       "    .dataframe tbody tr th:only-of-type {\n",
       "        vertical-align: middle;\n",
       "    }\n",
       "\n",
       "    .dataframe tbody tr th {\n",
       "        vertical-align: top;\n",
       "    }\n",
       "\n",
       "    .dataframe thead th {\n",
       "        text-align: right;\n",
       "    }\n",
       "</style>\n",
       "<table border=\"1\" class=\"dataframe\">\n",
       "  <thead>\n",
       "    <tr style=\"text-align: right;\">\n",
       "      <th></th>\n",
       "      <th>MAE</th>\n",
       "      <th>Parameters</th>\n",
       "    </tr>\n",
       "  </thead>\n",
       "  <tbody>\n",
       "    <tr>\n",
       "      <th>0</th>\n",
       "      <td>18677.973122</td>\n",
       "      <td>{'changepoint_prior_scale': 0.1, 'holidays_pri...</td>\n",
       "    </tr>\n",
       "    <tr>\n",
       "      <th>1</th>\n",
       "      <td>18677.973122</td>\n",
       "      <td>{'changepoint_prior_scale': 0.1, 'holidays_pri...</td>\n",
       "    </tr>\n",
       "    <tr>\n",
       "      <th>2</th>\n",
       "      <td>18677.973122</td>\n",
       "      <td>{'changepoint_prior_scale': 0.1, 'holidays_pri...</td>\n",
       "    </tr>\n",
       "    <tr>\n",
       "      <th>3</th>\n",
       "      <td>18696.018558</td>\n",
       "      <td>{'changepoint_prior_scale': 0.1, 'holidays_pri...</td>\n",
       "    </tr>\n",
       "    <tr>\n",
       "      <th>4</th>\n",
       "      <td>18696.018558</td>\n",
       "      <td>{'changepoint_prior_scale': 0.1, 'holidays_pri...</td>\n",
       "    </tr>\n",
       "  </tbody>\n",
       "</table>\n",
       "</div>"
      ],
      "text/plain": [
       "            MAE                                         Parameters\n",
       "0  18677.973122  {'changepoint_prior_scale': 0.1, 'holidays_pri...\n",
       "1  18677.973122  {'changepoint_prior_scale': 0.1, 'holidays_pri...\n",
       "2  18677.973122  {'changepoint_prior_scale': 0.1, 'holidays_pri...\n",
       "3  18696.018558  {'changepoint_prior_scale': 0.1, 'holidays_pri...\n",
       "4  18696.018558  {'changepoint_prior_scale': 0.1, 'holidays_pri..."
      ]
     },
     "execution_count": 14,
     "metadata": {},
     "output_type": "execute_result"
    }
   ],
   "source": [
    "param_df = model_parameters.sort_values(by = ['MAE'])\n",
    "param_df = param.reset_index(drop = True)\n",
    "param.head()"
   ]
  },
  {
   "cell_type": "code",
   "execution_count": 15,
   "id": "01054b19",
   "metadata": {},
   "outputs": [
    {
     "data": {
      "text/plain": [
       "{'changepoint_prior_scale': 0.1,\n",
       " 'holidays_prior_scale': 0.24,\n",
       " 'n_changepoints': 150,\n",
       " 'seasonality_mode': 'multiplicative'}"
      ]
     },
     "execution_count": 15,
     "metadata": {},
     "output_type": "execute_result"
    }
   ],
   "source": [
    "param['Parameters'][0]"
   ]
  },
  {
   "cell_type": "code",
   "execution_count": 16,
   "id": "f86f9f3a",
   "metadata": {},
   "outputs": [
    {
     "name": "stderr",
     "output_type": "stream",
     "text": [
      "22:00:33 - cmdstanpy - INFO - Chain [1] start processing\n",
      "22:00:33 - cmdstanpy - INFO - Chain [1] done processing\n"
     ]
    },
    {
     "data": {
      "text/plain": [
       "<prophet.forecaster.Prophet at 0x7f79ec29e7c0>"
      ]
     },
     "execution_count": 16,
     "metadata": {},
     "output_type": "execute_result"
    }
   ],
   "source": [
    "south_model = Prophet(changepoint_prior_scale= 0.1,\n",
    "                   holidays_prior_scale = 0.24,n_changepoints = 150,\n",
    "                   seasonality_mode = 'multiplicative', weekly_seasonality = True,\n",
    "                   daily_seasonality = True,yearly_seasonality = True,interval_width = 0.95)\n",
    "south_model.fit(X_train)"
   ]
  },
  {
   "cell_type": "code",
   "execution_count": 104,
   "id": "815a73b9",
   "metadata": {},
   "outputs": [
    {
     "data": {
      "image/png": "[encoded data removed]",
      "text/plain": [
       "<Figure size 648x1080 with 5 Axes>"
      ]
     },
     "metadata": {},
     "output_type": "display_data"
    }
   ],
   "source": [
    "south_future = south_model.make_future_dataframe(periods = 190, freq = 'D')\n",
    "south_forecast = south_model.predict(south_future)\n",
    "\n",
    "south_plots = south_model.plot_components(south_forecast)"
   ]
  },
  {
   "cell_type": "code",
   "execution_count": 105,
   "id": "d08e4e9a",
   "metadata": {},
   "outputs": [
    {
     "data": {
      "image/png": "[encoded data removed]",
      "text/plain": [
       "<Figure size 432x288 with 1 Axes>"
      ]
     },
     "metadata": {
      "needs_background": "light"
     },
     "output_type": "display_data"
    }
   ],
   "source": [
    "f, ax = plt.subplots(1)\n",
    "fig = south_model.plot(south_forecast,ax=ax)\n",
    "plt.show()"
   ]
  },
  {
   "cell_type": "code",
   "execution_count": 17,
   "id": "e69c161f",
   "metadata": {},
   "outputs": [],
   "source": [
    "south_test_pred = south_model.predict(south_test)"
   ]
  },
  {
   "cell_type": "code",
   "execution_count": 26,
   "id": "6533849e",
   "metadata": {},
   "outputs": [
    {
     "data": {
      "text/plain": [
       "<matplotlib.legend.Legend at 0x7f79edaea3a0>"
      ]
     },
     "execution_count": 26,
     "metadata": {},
     "output_type": "execute_result"
    },
    {
     "data": {
      "image/png": "[encoded data removed]",
      "text/plain": [
       "<Figure size 432x288 with 1 Axes>"
      ]
     },
     "metadata": {
      "needs_background": "light"
     },
     "output_type": "display_data"
    }
   ],
   "source": [
    "plt.plot(south_test['covid_19_confirmed_cases'], label = 'Actual')\n",
    "plt.plot(south_test_pred['yhat'], label = 'Predicted')\n",
    "plt.xlabel('Days From July 31, 2020')\n",
    "plt.ylabel('Cases')\n",
    "plt.title('Actual vs. Predicted')\n",
    "plt.legend()"
   ]
  },
  {
   "cell_type": "code",
   "execution_count": 25,
   "id": "76613614",
   "metadata": {},
   "outputs": [
    {
     "data": {
      "text/plain": [
       "3481.1043819114907"
      ]
     },
     "execution_count": 25,
     "metadata": {},
     "output_type": "execute_result"
    }
   ],
   "source": [
    "mean_absolute_error(south_test['covid_19_confirmed_cases'],abs(south_test_pred['yhat']))"
   ]
  },
  {
   "cell_type": "code",
   "execution_count": null,
   "id": "e6c32cd1",
   "metadata": {},
   "outputs": [],
   "source": []
  }
 ],
 "metadata": {
  "kernelspec": {
   "display_name": "Python 3 (ipykernel)",
   "language": "python",
   "name": "python3"
  },
  "language_info": {
   "codemirror_mode": {
    "name": "ipython",
    "version": 3
   },
   "file_extension": ".py",
   "mimetype": "text/x-python",
   "name": "python",
   "nbconvert_exporter": "python",
   "pygments_lexer": "ipython3",
   "version": "3.9.12"
  }
 },
 "nbformat": 4,
 "nbformat_minor": 5
}
