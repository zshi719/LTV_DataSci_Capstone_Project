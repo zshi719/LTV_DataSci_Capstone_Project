{
 "cells": [
  {
   "cell_type": "code",
   "execution_count": 1,
   "id": "94f41f45",
   "metadata": {},
   "outputs": [],
   "source": [
    "import pandas as pd\n",
    "from pandas import DataFrame\n",
    "import numpy as np\n",
    "import matplotlib.pyplot as plt\n",
    "from sklearn.metrics import mean_absolute_error"
   ]
  },
  {
   "cell_type": "code",
   "execution_count": 2,
   "id": "ba9aee8b",
   "metadata": {},
   "outputs": [],
   "source": [
    "# Import train data\n",
    "ne_train = pd.read_csv(\"/Users/Huey.ts/Desktop/STAT_390/data/ne_train.csv\")\n",
    "s_train = pd.read_csv(\"/Users/Huey.ts/Desktop/STAT_390/data/s_train.csv\")\n",
    "\n",
    "# Import test data\n",
    "ne_test = pd.read_csv(\"/Users/Huey.ts/Desktop/STAT_390/data/ne_test.csv\")\n",
    "s_test = pd.read_csv(\"/Users/Huey.ts/Desktop/STAT_390/data/s_test.csv\")"
   ]
  },
  {
   "cell_type": "markdown",
   "id": "d824a0e4",
   "metadata": {},
   "source": [
    "# Prophet Model\n",
    "- "
   ]
  }
 ],
 "metadata": {
  "kernelspec": {
   "display_name": "tf",
   "language": "python",
   "name": "tensorflow"
  },
  "language_info": {
   "codemirror_mode": {
    "name": "ipython",
    "version": 3
   },
   "file_extension": ".py",
   "mimetype": "text/x-python",
   "name": "python",
   "nbconvert_exporter": "python",
   "pygments_lexer": "ipython3",
   "version": "3.10.12"
  }
 },
 "nbformat": 4,
 "nbformat_minor": 5
}
